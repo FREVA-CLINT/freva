{
 "cells": [
  {
   "cell_type": "markdown",
   "id": "18d053a3",
   "metadata": {},
   "source": [
    "# The Freva command line interface\n",
    "\n",
    "This notebook introduces the usage of the Freva command line interface - cli. The tutorial assumes that you have already access to Freva either because you’ve setup an instance yourself or one has been setup by the Freva admin team. Hence it is assumed that you know how to access Freva. If this is not the case please contact one of your Freva admins for help.\n",
    "\n",
    "A general usage overview of the available Freva sub-commands is available via the --help option:"
   ]
  },
  {
   "cell_type": "code",
   "execution_count": 4,
   "id": "93f67623",
   "metadata": {},
   "outputs": [
    {
     "name": "stdout",
     "output_type": "stream",
     "text": [
      "usage: freva [-h] [-V] {databrowser,plugin,history,user-data,esgf} ...\n",
      "\n",
      "Free EVAluation system framework (freva)\n",
      "\n",
      "positional arguments:\n",
      "  {databrowser,plugin,history,user-data,esgf}\n",
      "                        Available sub-commands:\n",
      "    databrowser         Find data in the system.\n",
      "    plugin              Apply data analysis plugin.\n",
      "    history             Read the plugin application history.\n",
      "    user-data           Update users project data\n",
      "    esgf                Search/Download ESGF the data catalogue.\n",
      "\n",
      "optional arguments:\n",
      "  -h, --help            show this help message and exit\n",
      "  -V, --version         show program's version number and exit\n",
      "\n",
      "To get help for the individual sub-commands use: freva <sub-command> --help\n"
     ]
    }
   ],
   "source": [
    "freva --help"
   ]
  },
  {
   "cell_type": "markdown",
   "id": "076cd682",
   "metadata": {},
   "source": [
    "The most common sub-commands are `databrowser` and `plugin`. You can get more help on the actual commands using the sub-commands `--help` option, for example getting help on the databrowser usage:"
   ]
  },
  {
   "cell_type": "code",
   "execution_count": 6,
   "id": "2350ed67",
   "metadata": {},
   "outputs": [
    {
     "name": "stdout",
     "output_type": "stream",
     "text": [
      "usage: freva databrowser [-h] [--multiversion] [--relevant-only]\n",
      "                         [--batch-size BATCH_SIZE] [--count] [--attributes]\n",
      "                         [--all-facets] [--facet FACET]\n",
      "                         [--facet-limit FACET_LIMIT]\n",
      "                         [--time-select {flexible,strict,file}] [--debug]\n",
      "                         [facets ...]\n",
      "\n",
      "Find data in the system.\n",
      "\n",
      "positional arguments:\n",
      "  facets                Search facet(s) (default: None)\n",
      "\n",
      "optional arguments:\n",
      "  -h, --help            show this help message and exit\n",
      "  --multiversion        Select not only the latest version. (default: False)\n",
      "  --relevant-only       Show only search with results >1 possible values\n",
      "                        (default: False)\n",
      "  --batch-size BATCH_SIZE\n",
      "                        Number of files to retrieve (default: 5000)\n",
      "  --count               Show the number of files for each search result\n",
      "                        (default: False)\n",
      "  --attributes          Retrieve all possible attributes for the current\n",
      "                        search instead of the files. (default: False)\n",
      "  --all-facets          retrieve all facets (attributes & values) instead of\n",
      "                        the files (default: False)\n",
      "  --facet FACET         Retrieve values of given facet instead of files\n",
      "                        (default: None)\n",
      "  --facet-limit FACET_LIMIT\n",
      "                        Limit the number of output facets. (default:\n",
      "                        9223372036854775807)\n",
      "  --time-select {flexible,strict,file}\n",
      "                        Operator that specifies how the time period is\n",
      "                        selected. (default: flexible)\n",
      "  --debug, -v, -d, --verbose\n",
      "                        Use verbose output. (default: False)\n"
     ]
    }
   ],
   "source": [
    "freva databrowser --help"
   ]
  },
  {
   "cell_type": "markdown",
   "id": "6e083bea",
   "metadata": {},
   "source": [
    "__Note__: Instead of using sub-commands you have also the option to use commands. For example the command `freva-databrowser` is equivalent to `freva databrowser`, `freva-user-data` to `freva user-data` etc.\n",
    "\n",
    "## Searching for data: the freva-databrowser command\n",
    "\n",
    "All files available on in the project are scanned and indexed via a data search server. This allows you to query the server which responds almost immediately. To search for data you can either use the `freva-databrowser` command or the `freva databrowser` sub-command. Let’s inspect the help menu of the databrowser sub-command:"
   ]
  },
  {
   "cell_type": "code",
   "execution_count": 7,
   "id": "f933b3d8",
   "metadata": {},
   "outputs": [
    {
     "name": "stdout",
     "output_type": "stream",
     "text": [
      "usage: freva-databrowser [-h] [--multiversion] [--relevant-only]\n",
      "                         [--batch-size BATCH_SIZE] [--count] [--attributes]\n",
      "                         [--all-facets] [--facet FACET]\n",
      "                         [--facet-limit FACET_LIMIT]\n",
      "                         [--time-select {flexible,strict,file}] [--debug] [-V]\n",
      "                         [facets ...]\n",
      "\n",
      "Find data in the system.\n",
      "\n",
      "positional arguments:\n",
      "  facets                Search facet(s) (default: None)\n",
      "\n",
      "optional arguments:\n",
      "  -h, --help            show this help message and exit\n",
      "  --multiversion        Select not only the latest version. (default: False)\n",
      "  --relevant-only       Show only search with results >1 possible values\n",
      "                        (default: False)\n",
      "  --batch-size BATCH_SIZE\n",
      "                        Number of files to retrieve (default: 5000)\n",
      "  --count               Show the number of files for each search result\n",
      "                        (default: False)\n",
      "  --attributes          Retrieve all possible attributes for the current\n",
      "                        search instead of the files. (default: False)\n",
      "  --all-facets          retrieve all facets (attributes & values) instead of\n",
      "                        the files (default: False)\n",
      "  --facet FACET         Retrieve values of given facet instead of files\n",
      "                        (default: None)\n",
      "  --facet-limit FACET_LIMIT\n",
      "                        Limit the number of output facets. (default:\n",
      "                        9223372036854775807)\n",
      "  --time-select {flexible,strict,file}\n",
      "                        Operator that specifies how the time period is\n",
      "                        selected. (default: flexible)\n",
      "  --debug, -v, -d, --verbose\n",
      "                        Use verbose output. (default: False)\n",
      "  -V, --version         show program's version number and exit\n"
     ]
    }
   ],
   "source": [
    "freva-databrowser --help"
   ]
  },
  {
   "cell_type": "markdown",
   "id": "98583861",
   "metadata": {},
   "source": [
    "The databrowser expects a list of `key=value` pairs. The order of the pairs doesn’t really matter. Most important is that you don’t need to split the search according to the type of data you are searching for. You can search for any files, for example observations, reanalysis and model data at the same time. Also important is that all queries are case insensitive. You can also search for attributes themselves instead of file paths. For example you can search for the list of variables available that satisfies a certain constraint (e.g. sampled 6hr, from a certain model, etc)."
   ]
  },
  {
   "cell_type": "code",
   "execution_count": 8,
   "id": "2807f8ce",
   "metadata": {},
   "outputs": [
    {
     "name": "stdout",
     "output_type": "stream",
     "text": [
      "/home/wilfred/workspace/evaluation_system/.docker/data/observations/grid/CPC/CPC/cmorph/30min/atmos/30min/r1i1p1/v20210618/pr/pr_30min_CPC_cmorph_r1i1p1_201609022300-201609022330.nc\n",
      "/home/wilfred/workspace/evaluation_system/.docker/data/observations/grid/CPC/CPC/cmorph/30min/atmos/30min/r1i1p1/v20210618/pr/pr_30min_CPC_cmorph_r1i1p1_201609022200-201609022230.nc\n",
      "/home/wilfred/workspace/evaluation_system/.docker/data/observations/grid/CPC/CPC/cmorph/30min/atmos/30min/r1i1p1/v20210618/pr/pr_30min_CPC_cmorph_r1i1p1_201609022100-201609022130.nc\n",
      "/home/wilfred/workspace/evaluation_system/.docker/data/observations/grid/CPC/CPC/cmorph/30min/atmos/30min/r1i1p1/v20210618/pr/pr_30min_CPC_cmorph_r1i1p1_201609022000-201609022030.nc\n",
      "/home/wilfred/workspace/evaluation_system/.docker/data/observations/grid/CPC/CPC/cmorph/30min/atmos/30min/r1i1p1/v20210618/pr/pr_30min_CPC_cmorph_r1i1p1_201609021900-201609021930.nc\n",
      "/home/wilfred/workspace/evaluation_system/.docker/data/observations/grid/CPC/CPC/cmorph/30min/atmos/30min/r1i1p1/v20210618/pr/pr_30min_CPC_cmorph_r1i1p1_201609021800-201609021830.nc\n",
      "/home/wilfred/workspace/evaluation_system/.docker/data/observations/grid/CPC/CPC/cmorph/30min/atmos/30min/r1i1p1/v20210618/pr/pr_30min_CPC_cmorph_r1i1p1_201609021700-201609021730.nc\n",
      "/home/wilfred/workspace/evaluation_system/.docker/data/observations/grid/CPC/CPC/cmorph/30min/atmos/30min/r1i1p1/v20210618/pr/pr_30min_CPC_cmorph_r1i1p1_201609021600-201609021630.nc\n",
      "/home/wilfred/workspace/evaluation_system/.docker/data/observations/grid/CPC/CPC/cmorph/30min/atmos/30min/r1i1p1/v20210618/pr/pr_30min_CPC_cmorph_r1i1p1_201609021500-201609021530.nc\n",
      "/home/wilfred/workspace/evaluation_system/.docker/data/observations/grid/CPC/CPC/cmorph/30min/atmos/30min/r1i1p1/v20210618/pr/pr_30min_CPC_cmorph_r1i1p1_201609021400-201609021430.nc\n",
      "/home/wilfred/workspace/evaluation_system/.docker/data/observations/grid/CPC/CPC/cmorph/30min/atmos/30min/r1i1p1/v20210618/pr/pr_30min_CPC_cmorph_r1i1p1_201609021300-201609021330.nc\n",
      "/home/wilfred/workspace/evaluation_system/.docker/data/observations/grid/CPC/CPC/cmorph/30min/atmos/30min/r1i1p1/v20210618/pr/pr_30min_CPC_cmorph_r1i1p1_201609021200-201609021230.nc\n",
      "/home/wilfred/workspace/evaluation_system/.docker/data/observations/grid/CPC/CPC/cmorph/30min/atmos/30min/r1i1p1/v20210618/pr/pr_30min_CPC_cmorph_r1i1p1_201609021100-201609021130.nc\n",
      "/home/wilfred/workspace/evaluation_system/.docker/data/observations/grid/CPC/CPC/cmorph/30min/atmos/30min/r1i1p1/v20210618/pr/pr_30min_CPC_cmorph_r1i1p1_201609021000-201609021030.nc\n",
      "/home/wilfred/workspace/evaluation_system/.docker/data/observations/grid/CPC/CPC/cmorph/30min/atmos/30min/r1i1p1/v20210618/pr/pr_30min_CPC_cmorph_r1i1p1_201609020900-201609020930.nc\n",
      "/home/wilfred/workspace/evaluation_system/.docker/data/observations/grid/CPC/CPC/cmorph/30min/atmos/30min/r1i1p1/v20210618/pr/pr_30min_CPC_cmorph_r1i1p1_201609020800-201609020830.nc\n",
      "/home/wilfred/workspace/evaluation_system/.docker/data/observations/grid/CPC/CPC/cmorph/30min/atmos/30min/r1i1p1/v20210618/pr/pr_30min_CPC_cmorph_r1i1p1_201609020700-201609020730.nc\n",
      "/home/wilfred/workspace/evaluation_system/.docker/data/observations/grid/CPC/CPC/cmorph/30min/atmos/30min/r1i1p1/v20210618/pr/pr_30min_CPC_cmorph_r1i1p1_201609020600-201609020630.nc\n",
      "/home/wilfred/workspace/evaluation_system/.docker/data/observations/grid/CPC/CPC/cmorph/30min/atmos/30min/r1i1p1/v20210618/pr/pr_30min_CPC_cmorph_r1i1p1_201609020500-201609020530.nc\n",
      "/home/wilfred/workspace/evaluation_system/.docker/data/observations/grid/CPC/CPC/cmorph/30min/atmos/30min/r1i1p1/v20210618/pr/pr_30min_CPC_cmorph_r1i1p1_201609020400-201609020430.nc\n",
      "/home/wilfred/workspace/evaluation_system/.docker/data/observations/grid/CPC/CPC/cmorph/30min/atmos/30min/r1i1p1/v20210618/pr/pr_30min_CPC_cmorph_r1i1p1_201609020300-201609020330.nc\n",
      "/home/wilfred/workspace/evaluation_system/.docker/data/observations/grid/CPC/CPC/cmorph/30min/atmos/30min/r1i1p1/v20210618/pr/pr_30min_CPC_cmorph_r1i1p1_201609020200-201609020230.nc\n",
      "/home/wilfred/workspace/evaluation_system/.docker/data/observations/grid/CPC/CPC/cmorph/30min/atmos/30min/r1i1p1/v20210618/pr/pr_30min_CPC_cmorph_r1i1p1_201609020100-201609020130.nc\n",
      "/home/wilfred/workspace/evaluation_system/.docker/data/observations/grid/CPC/CPC/cmorph/30min/atmos/30min/r1i1p1/v20210618/pr/pr_30min_CPC_cmorph_r1i1p1_201609020000-201609020030.nc\n",
      "\u001b[0m"
     ]
    }
   ],
   "source": [
    "freva-databrowser project=observations variable=pr model=cp*"
   ]
  },
  {
   "cell_type": "markdown",
   "id": "c2044943",
   "metadata": {},
   "source": [
    "In some cases it might be useful to know how many files are found in the `databrowser` for certain search constraints. In such cases you can use the `count` flag to count the number of found files instead of getting the files themselves."
   ]
  },
  {
   "cell_type": "code",
   "execution_count": 9,
   "id": "926133a6",
   "metadata": {},
   "outputs": [
    {
     "name": "stdout",
     "output_type": "stream",
     "text": [
      "24\n",
      "\u001b[0m"
     ]
    }
   ],
   "source": [
    "freva-databrowser project=observations --count"
   ]
  },
  {
   "cell_type": "markdown",
   "id": "9229ee9f",
   "metadata": {},
   "source": [
    "Sometimes it might be useful to subset the data you’re interested in by time. To do so you can use the time search key to subset time steps and whole time ranges. For example let’s get the for certain time range:"
   ]
  },
  {
   "cell_type": "code",
   "execution_count": 11,
   "id": "ff276ec7",
   "metadata": {},
   "outputs": [
    {
     "name": "stdout",
     "output_type": "stream",
     "text": [
      "/home/wilfred/workspace/evaluation_system/.docker/data/observations/grid/CPC/CPC/cmorph/30min/atmos/30min/r1i1p1/v20210618/pr/pr_30min_CPC_cmorph_r1i1p1_201609022300-201609022330.nc\n",
      "/home/wilfred/workspace/evaluation_system/.docker/data/observations/grid/CPC/CPC/cmorph/30min/atmos/30min/r1i1p1/v20210618/pr/pr_30min_CPC_cmorph_r1i1p1_201609022200-201609022230.nc\n",
      "\u001b[0m"
     ]
    }
   ],
   "source": [
    "freva-databrowser project=observations time='2016-09-02T22:15 to 2016-10'"
   ]
  },
  {
   "cell_type": "markdown",
   "id": "bb6f962e",
   "metadata": {},
   "source": [
    "The default method for selecting time periods is `flexible`, which means all files are selected that cover at least start or end date. The `strict` method implies that the entire search time period has to be covered by the files. Using the `strict` method in the example above would only yield on file because the first file contains time steps prior to the start of the time period:"
   ]
  },
  {
   "cell_type": "code",
   "execution_count": 12,
   "id": "66569d44",
   "metadata": {},
   "outputs": [
    {
     "name": "stdout",
     "output_type": "stream",
     "text": [
      "/home/wilfred/workspace/evaluation_system/.docker/data/observations/grid/CPC/CPC/cmorph/30min/atmos/30min/r1i1p1/v20210618/pr/pr_30min_CPC_cmorph_r1i1p1_201609022300-201609022330.nc\n",
      "\u001b[0m"
     ]
    }
   ],
   "source": [
    "freva-databrowser project=observations time='2016-09-02T22:15 to 2016-10' --time-select strict"
   ]
  },
  {
   "cell_type": "markdown",
   "id": "d025caea",
   "metadata": {},
   "source": [
    "You might as well want to know about possible values that an attribute can take after a certain search is done. For this you use the `--facet` flag (facets are the attributes used to search for and sub set the data). For example to see all `facets` that are available in the observations project:"
   ]
  },
  {
   "cell_type": "code",
   "execution_count": 13,
   "id": "241249be",
   "metadata": {},
   "outputs": [
    {
     "name": "stdout",
     "output_type": "stream",
     "text": [
      "product: grid\n",
      "project: observations\n",
      "time_frequency: 30min\n",
      "institute: cpc\n",
      "dataset: observations\n",
      "model: cpc\n",
      "variable: pr\n",
      "cmor_table: 30min\n",
      "experiment: cmorph\n",
      "ensemble: r1i1p1\n",
      "realm: atmos\n",
      "\u001b[0m"
     ]
    }
   ],
   "source": [
    "freva-databrowser project=observations --all-facets"
   ]
  },
  {
   "cell_type": "code",
   "execution_count": 14,
   "id": "5fcc1243",
   "metadata": {},
   "outputs": [
    {
     "name": "stdout",
     "output_type": "stream",
     "text": [
      "time_frequency: 30min\n",
      "variable: pr\n",
      "\u001b[0m"
     ]
    }
   ],
   "source": [
    "freva-databrowser --facet time_frequency --facet variable project=observations"
   ]
  },
  {
   "cell_type": "markdown",
   "id": "91576c4b",
   "metadata": {},
   "source": [
    "You can also retrieve information on how many facets are found by the databrowser by giving the `count` flag"
   ]
  },
  {
   "cell_type": "code",
   "execution_count": 16,
   "id": "f8d810a7",
   "metadata": {},
   "outputs": [
    {
     "name": "stdout",
     "output_type": "stream",
     "text": [
      "time_frequency: 30min (24)\n",
      "variable: pr (24)\n",
      "\u001b[0m"
     ]
    }
   ],
   "source": [
    "freva-databrowser --facet time_frequency --facet variable project=observations --count"
   ]
  },
  {
   "cell_type": "markdown",
   "id": "321a9193",
   "metadata": {},
   "source": [
    "# Running data analysis plugins: the freva-plugin command\n",
    "\n",
    "Already defined data analysis tools can be started with the `freva-plugin` command or the `freva plugin` sub-command. Let’s inspect the help menu of the plugin command:"
   ]
  },
  {
   "cell_type": "code",
   "execution_count": 17,
   "id": "a38018e7",
   "metadata": {},
   "outputs": [
    {
     "name": "stdout",
     "output_type": "stream",
     "text": [
      "usage: freva-plugin [-h] [--repo-version] [--caption CAPTION] [--save]\n",
      "                    [--save-config SAVE_CONFIG] [--show-config] [--dry-run]\n",
      "                    [--batchmode] [--unique_output UNIQUE_OUTPUT]\n",
      "                    [--pull-request] [--tag TAG] [--debug] [--list-tools]\n",
      "                    [--doc] [-V]\n",
      "                    [plugin_name]\n",
      "\n",
      "Apply data analysis plugin.\n",
      "\n",
      "positional arguments:\n",
      "  plugin_name           Plugin name (default: None)\n",
      "\n",
      "optional arguments:\n",
      "  -h, --help            show this help message and exit\n",
      "  --repo-version        Show the version number from the repository (default:\n",
      "                        False)\n",
      "  --caption CAPTION     Set a caption for the results (default: )\n",
      "  --save                Save the plugin configuration to default destination.\n",
      "                        (default: False)\n",
      "  --save-config SAVE_CONFIG\n",
      "                        Save the plugin configuration. (default: None)\n",
      "  --show-config         Show the resulting configuration (implies dry-run).\n",
      "                        (default: False)\n",
      "  --dry-run             Perform no computation. Useful for development.\n",
      "                        (default: False)\n",
      "  --batchmode           Create a Batch job and submit it to the scheduling\n",
      "                        system. (default: False)\n",
      "  --unique_output UNIQUE_OUTPUT\n",
      "                        Append a freva run id to every output folder (default:\n",
      "                        True)\n",
      "  --pull-request        Issue a new pull request for the tool (default: False)\n",
      "  --tag TAG             Use git commit hash (default: None)\n",
      "  --debug, -v, -d, --verbose\n",
      "                        Use verbose output. (default: False)\n",
      "  --list-tools, --list, -l\n",
      "                        Only list the available tools. (default: False)\n",
      "  --doc, --plugin-doc   Display plugin documentation (default: False)\n",
      "  -V, --version         show program's version number and exit\n"
     ]
    }
   ],
   "source": [
    "freva-plugin --help"
   ]
  },
  {
   "cell_type": "markdown",
   "id": "cbcf421b",
   "metadata": {},
   "source": [
    "As the help menu suggests you can list all available tools using the `-l` option (or `--list`, `--list-tools`):"
   ]
  },
  {
   "cell_type": "code",
   "execution_count": 18,
   "id": "761fe8e8",
   "metadata": {},
   "outputs": [
    {
     "name": "stdout",
     "output_type": "stream",
     "text": [
      "INFO:numexpr.utils:NumExpr defaulting to 8 threads.\n",
      "WARNING:freva:Cannot load animator, directory missing: /tmp/animator\n",
      "DummyPlugin: A dummy plugin\n",
      "\u001b[0m"
     ]
    }
   ],
   "source": [
    "freva-plugin -l"
   ]
  },
  {
   "cell_type": "markdown",
   "id": "3f0e9883",
   "metadata": {},
   "source": [
    "This means currently we have two plugins available (animator and dummyplugin). The general syntax is freva-plugin `<plugin-name> [options]` for example to inspect the documentation of a certain plugin you can use the `--doc` option. Here we concentrate on the Animator plugin. A simple plugin that creates animations of geospatial data. The basic usage of that command can be retrieved by:"
   ]
  },
  {
   "cell_type": "code",
   "execution_count": 19,
   "id": "86bc4136",
   "metadata": {},
   "outputs": [
    {
     "name": "stdout",
     "output_type": "stream",
     "text": [
      "INFO:numexpr.utils:NumExpr defaulting to 8 threads.\n",
      "WARNING:freva:Cannot load animator, directory missing: /tmp/animator\n",
      "evaluation_system.misc.exceptions.PluginNotFoundError: \n",
      "animator plugin not found, did you mean:\n",
      "\n",
      "\u001b[0m"
     ]
    },
    {
     "ename": "",
     "evalue": "1",
     "output_type": "error",
     "traceback": []
    }
   ],
   "source": [
    "freva-plugin --doc animator"
   ]
  },
  {
   "cell_type": "markdown",
   "id": "a0d76f1e",
   "metadata": {},
   "source": [
    "The parameters are also given as `key=values` pairs. But not all of the above parameters are mandatory. Let’s use one project search key and animate its content."
   ]
  },
  {
   "cell_type": "code",
   "execution_count": 20,
   "id": "ff9c6cec",
   "metadata": {},
   "outputs": [
    {
     "name": "stdout",
     "output_type": "stream",
     "text": [
      "INFO:numexpr.utils:NumExpr defaulting to 8 threads.\n",
      "WARNING:freva:Cannot load animator, directory missing: /tmp/animator\n",
      "evaluation_system.misc.exceptions.PluginNotFoundError: \n",
      "animator plugin not found, did you mean:\n",
      "\n",
      "\u001b[0m"
     ]
    },
    {
     "ename": "",
     "evalue": "1",
     "output_type": "error",
     "traceback": []
    }
   ],
   "source": [
    "freva plugin animator project=observations variable=pr cmap=Blues fps=5 output_unit=mm/h vmin=0 vmax=5 suffix=gif"
   ]
  },
  {
   "cell_type": "markdown",
   "id": "e53b8d72",
   "metadata": {},
   "source": [
    "This plugin will run in so called interactive mode. That means that it will run on the login node and block your shell until the command is completed. This can be problematic if you have jobs that might take time to finish. An alternative is setting the `-–batchmode` flag. This flag tells the plugin to submit a job to the computing queue. The computing nodes are the core of any high performance computing system. Let’s submit the previous plugin job to the computing queue:"
   ]
  },
  {
   "cell_type": "code",
   "execution_count": 21,
   "id": "e2ccc53b",
   "metadata": {},
   "outputs": [
    {
     "name": "stdout",
     "output_type": "stream",
     "text": [
      "INFO:numexpr.utils:NumExpr defaulting to 8 threads.\n",
      "WARNING:freva:Cannot load animator, directory missing: /tmp/animator\n",
      "evaluation_system.misc.exceptions.PluginNotFoundError: \n",
      "animator plugin not found, did you mean:\n",
      "\n",
      "\u001b[0m"
     ]
    },
    {
     "ename": "",
     "evalue": "1",
     "output_type": "error",
     "traceback": []
    }
   ],
   "source": [
    "freva plugin animator project=observations variable=pr cmap=Blues fps=5 output_unit=mm/h vmin=0 vmax=5 suffix=gif --batchmode"
   ]
  },
  {
   "cell_type": "markdown",
   "id": "3f56b3c2",
   "metadata": {},
   "source": [
    "# Inspecting previous analysis jobs: the freva-history command\n",
    "\n",
    "Sometimes it can be useful to access the status of past plugin applications. The `freva-history` command or `freva history` sub-command can do that:"
   ]
  },
  {
   "cell_type": "code",
   "execution_count": 25,
   "id": "cf5938d6",
   "metadata": {},
   "outputs": [
    {
     "name": "stdout",
     "output_type": "stream",
     "text": [
      "INFO:freva:history, limit=1, since=None, until=None, entry_ids=None\n",
      "INFO:numexpr.utils:NumExpr defaulting to 8 threads.\n",
      "WARNING:freva:Cannot load animator, directory missing: /tmp/animator\n",
      "2111) animator [2022-09-29 19:04:29] broken {\"input_file\": null, \"variable\": \"pr\", \"project\": \"obs*\", \"product\"...\n",
      "\u001b[0m"
     ]
    }
   ],
   "source": [
    "freva-history --limit 1 --plugin dummyplugin"
   ]
  },
  {
   "cell_type": "code",
   "execution_count": 24,
   "id": "b2c1b3cf",
   "metadata": {},
   "outputs": [
    {
     "name": "stdout",
     "output_type": "stream",
     "text": [
      "INFO:freva:history, limit=10, since=None, until=None, entry_ids=['1']\n",
      "INFO:numexpr.utils:NumExpr defaulting to 8 threads.\n",
      "WARNING:freva:Cannot load animator, directory missing: /tmp/animator\n",
      "\u001b[0m"
     ]
    }
   ],
   "source": [
    "freva-history --entry-ids 1 --full-text"
   ]
  },
  {
   "cell_type": "markdown",
   "id": "78d07784",
   "metadata": {},
   "source": [
    "To re-run a command of a past configuration you can use the --return-command option to get the command that was used:"
   ]
  },
  {
   "cell_type": "code",
   "execution_count": 26,
   "id": "ed7b4ba7",
   "metadata": {},
   "outputs": [
    {
     "name": "stdout",
     "output_type": "stream",
     "text": [
      "INFO:numexpr.utils:NumExpr defaulting to 8 threads.\n",
      "WARNING:freva:Cannot load animator, directory missing: /tmp/animator\n",
      "\u001b[0m"
     ]
    }
   ],
   "source": [
    "freva-history  --entry-ids 136 --return-command"
   ]
  },
  {
   "cell_type": "markdown",
   "id": "0f66c049",
   "metadata": {},
   "source": [
    "# Managing your own datasets: the freva-user-data command\n",
    "\n",
    "Freva offers the possibility to share custom datasets with other users by making it searchable via `freva-databrowser`. With help of the `freva-user-data` command users can add their own data to the central data location, (re)-index or delete data in the databrowser.\n",
    "\n",
    "__Note__: Any data that has been added by users will be assigned a special project name: `project=user-$USER`.\n",
    "Let’s inspect the help menu of the freva-user-data or freva user-data command:"
   ]
  },
  {
   "cell_type": "code",
   "execution_count": 27,
   "id": "655895ff",
   "metadata": {},
   "outputs": [
    {
     "name": "stdout",
     "output_type": "stream",
     "text": [
      "usage: freva-user-data [-h] [-V] {index,add,delete} ...\n",
      "\n",
      "Update users project data\n",
      "\n",
      "positional arguments:\n",
      "  {index,add,delete}  Available sub-commands:\n",
      "    index             Index existing user project data to the databrowser\n",
      "    add               Add new user project data to the databrowser\n",
      "    delete            Delete existing user project data from the databrowser\n",
      "\n",
      "optional arguments:\n",
      "  -h, --help          show this help message and exit\n",
      "  -V, --version       show program's version number and exit\n"
     ]
    }
   ],
   "source": [
    "freva-user-data --help"
   ]
  },
  {
   "cell_type": "markdown",
   "id": "78cac543",
   "metadata": {},
   "source": [
    "## Add new data to the databrowser\n",
    "\n",
    "To be able to add data to the databrowser the file names must follow a strict standard and the files must reside in a specific location. The add sub command takes care about the correct file naming and location. No pre requirements other than the file has to be a valid netCDF or grib file are assumed. In other words this sub command places the user data with the correct naming structure to the correct location."
   ]
  },
  {
   "cell_type": "code",
   "execution_count": 28,
   "id": "5d9fd7ee",
   "metadata": {},
   "outputs": [
    {
     "name": "stdout",
     "output_type": "stream",
     "text": [
      "usage: freva-user-data add [-h] [--how {copy,move,symlink,link}] [--override]\n",
      "                           [--experiment EXPERIMENT] [--institute INSTITUTE]\n",
      "                           [--model MODEL] [--variable VARIABLE]\n",
      "                           [--time_frequency TIME_FREQUENCY]\n",
      "                           [--ensemble ENSEMBLE] [--debug]\n",
      "                           product paths [paths ...]\n",
      "\n",
      "Add new user project data to the databrowser\n",
      "\n",
      "positional arguments:\n",
      "  product               Product search key the newly added data can be found.\n",
      "  paths                 Filename(s) or Directories that are going to be added\n",
      "                        to thedatabrowser\n",
      "\n",
      "optional arguments:\n",
      "  -h, --help            show this help message and exit\n",
      "  --how {copy,move,symlink,link}\n",
      "                        Method of how the data is added into the central freva\n",
      "                        user directory. (default: copy)\n",
      "  --override, --overwrite\n",
      "                        Replace existing files in the user data structre\n",
      "                        (default: False)\n",
      "  --experiment EXPERIMENT\n",
      "                        Set the <experiment> information if they can't be\n",
      "                        found in the meta data (default: None)\n",
      "  --institute INSTITUTE\n",
      "                        Set the <institute> information if they can't be found\n",
      "                        in the meta data (default: None)\n",
      "  --model MODEL         Set the <model> information if they can't be found in\n",
      "                        the meta data (default: None)\n",
      "  --variable VARIABLE   Set the <variable> information if they can't be found\n",
      "                        in the meta data (default: None)\n",
      "  --time_frequency TIME_FREQUENCY\n",
      "                        Set the <time_frequency> information if they can't be\n",
      "                        found in the meta data (default: None)\n",
      "  --ensemble ENSEMBLE   Set the <ensemble> information if they can't be found\n",
      "                        in the meta data (default: None)\n",
      "  --debug, -v, -d, --verbose\n",
      "                        Use verbose output. (default: False)\n"
     ]
    }
   ],
   "source": [
    "freva-user-data add --help"
   ]
  },
  {
   "cell_type": "markdown",
   "id": "632ecb13",
   "metadata": {},
   "source": [
    "Suppose you’ve gotten data from somewhere and want to add this data into the databrowser to make it accessible to others. In this specific example we assume that you have stored your original data in the `/tmp/my_awesome_data` folder. E.g `/tmp/my_awesome_data/outfile_0.nc...tmp/my_awesome_data/outfile_9.nc` The routine will try to gather all necessary metadata from the files. You’ll have to provide additional metadata if mandatory keywords are missing. To make the routine work in this example we have to provide the institute, model and experiment keywords:\n",
    "\n"
   ]
  },
  {
   "cell_type": "code",
   "execution_count": 29,
   "id": "3b16a07f",
   "metadata": {},
   "outputs": [
    {
     "name": "stdout",
     "output_type": "stream",
     "text": [
      "INFO:numexpr.utils:NumExpr defaulting to 8 threads.\n",
      "Status: crawling ...ok\n",
      "\u001b[0m/tmp/user_data/user-wilfred/eur-11b/clex/UM-RA2T/Bias-correct/hr/user_data/hr/r0i0p0/v20220930/tas/tas_hr_UM-RA2T_Bias-correct_r0i0p0_197001041800-197001050300.nc\n",
      "/tmp/user_data/user-wilfred/eur-11b/clex/UM-RA2T/Bias-correct/hr/user_data/hr/r0i0p0/v20220930/tas/tas_hr_UM-RA2T_Bias-correct_r0i0p0_197001040800-197001041700.nc\n",
      "/tmp/user_data/user-wilfred/eur-11b/clex/UM-RA2T/Bias-correct/hr/user_data/hr/r0i0p0/v20220930/tas/tas_hr_UM-RA2T_Bias-correct_r0i0p0_197001032200-197001040700.nc\n",
      "/tmp/user_data/user-wilfred/eur-11b/clex/UM-RA2T/Bias-correct/hr/user_data/hr/r0i0p0/v20220930/tas/tas_hr_UM-RA2T_Bias-correct_r0i0p0_197001031200-197001032100.nc\n",
      "/tmp/user_data/user-wilfred/eur-11b/clex/UM-RA2T/Bias-correct/hr/user_data/hr/r0i0p0/v20220930/tas/tas_hr_UM-RA2T_Bias-correct_r0i0p0_197001030200-197001031100.nc\n",
      "/tmp/user_data/user-wilfred/eur-11b/clex/UM-RA2T/Bias-correct/hr/user_data/hr/r0i0p0/v20220930/tas/tas_hr_UM-RA2T_Bias-correct_r0i0p0_197001021600-197001030100.nc\n",
      "/tmp/user_data/user-wilfred/eur-11b/clex/UM-RA2T/Bias-correct/hr/user_data/hr/r0i0p0/v20220930/tas/tas_hr_UM-RA2T_Bias-correct_r0i0p0_197001020600-197001021500.nc\n",
      "/tmp/user_data/user-wilfred/eur-11b/clex/UM-RA2T/Bias-correct/hr/user_data/hr/r0i0p0/v20220930/tas/tas_hr_UM-RA2T_Bias-correct_r0i0p0_197001012000-197001020500.nc\n",
      "/tmp/user_data/user-wilfred/eur-11b/clex/UM-RA2T/Bias-correct/hr/user_data/hr/r0i0p0/v20220930/tas/tas_hr_UM-RA2T_Bias-correct_r0i0p0_197001011000-197001011900.nc\n",
      "/tmp/user_data/user-wilfred/eur-11b/clex/UM-RA2T/Bias-correct/hr/user_data/hr/r0i0p0/v20220930/tas/tas_hr_UM-RA2T_Bias-correct_r0i0p0_197001010000-197001010900.nc\n",
      "/tmp/user_data/user-wilfred/eur-11b/clex/UM-RA2T/Bias-correct/hr/user_data/hr/r0i0p0/v20220929/tas/tas_hr_UM-RA2T_Bias-correct_r0i0p0_197001041800-197001050300.nc\n",
      "/tmp/user_data/user-wilfred/eur-11b/clex/UM-RA2T/Bias-correct/hr/user_data/hr/r0i0p0/v20220929/tas/tas_hr_UM-RA2T_Bias-correct_r0i0p0_197001040800-197001041700.nc\n",
      "/tmp/user_data/user-wilfred/eur-11b/clex/UM-RA2T/Bias-correct/hr/user_data/hr/r0i0p0/v20220929/tas/tas_hr_UM-RA2T_Bias-correct_r0i0p0_197001032200-197001040700.nc\n",
      "/tmp/user_data/user-wilfred/eur-11b/clex/UM-RA2T/Bias-correct/hr/user_data/hr/r0i0p0/v20220929/tas/tas_hr_UM-RA2T_Bias-correct_r0i0p0_197001031200-197001032100.nc\n",
      "/tmp/user_data/user-wilfred/eur-11b/clex/UM-RA2T/Bias-correct/hr/user_data/hr/r0i0p0/v20220929/tas/tas_hr_UM-RA2T_Bias-correct_r0i0p0_197001030200-197001031100.nc\n",
      "/tmp/user_data/user-wilfred/eur-11b/clex/UM-RA2T/Bias-correct/hr/user_data/hr/r0i0p0/v20220929/tas/tas_hr_UM-RA2T_Bias-correct_r0i0p0_197001021600-197001030100.nc\n",
      "/tmp/user_data/user-wilfred/eur-11b/clex/UM-RA2T/Bias-correct/hr/user_data/hr/r0i0p0/v20220929/tas/tas_hr_UM-RA2T_Bias-correct_r0i0p0_197001020600-197001021500.nc\n",
      "/tmp/user_data/user-wilfred/eur-11b/clex/UM-RA2T/Bias-correct/hr/user_data/hr/r0i0p0/v20220929/tas/tas_hr_UM-RA2T_Bias-correct_r0i0p0_197001012000-197001020500.nc\n",
      "/tmp/user_data/user-wilfred/eur-11b/clex/UM-RA2T/Bias-correct/hr/user_data/hr/r0i0p0/v20220929/tas/tas_hr_UM-RA2T_Bias-correct_r0i0p0_197001011000-197001011900.nc\n",
      "/tmp/user_data/user-wilfred/eur-11b/clex/UM-RA2T/Bias-correct/hr/user_data/hr/r0i0p0/v20220929/tas/tas_hr_UM-RA2T_Bias-correct_r0i0p0_197001010000-197001010900.nc\n",
      "\u001b[0m"
     ]
    }
   ],
   "source": [
    "freva-user-data add eur-11b /tmp/my_awesome_data/outfile_?.nc \\\n",
    "--institute clex --model UM-RA2T --experiment Bias-correct\n",
    "freva-databrowser experiment=bias-correct"
   ]
  },
  {
   "cell_type": "markdown",
   "id": "ff481a21",
   "metadata": {},
   "source": [
    "## Remove your data from the databrowser\n",
    "\n",
    "The delete sub command removes entries from the databrowser and if necessary existing files from the central user data location."
   ]
  },
  {
   "cell_type": "code",
   "execution_count": 30,
   "id": "dc481dc3",
   "metadata": {},
   "outputs": [
    {
     "name": "stdout",
     "output_type": "stream",
     "text": [
      "usage: freva-user-data delete [-h] [--delete-from-fs] [--debug]\n",
      "                              paths [paths ...]\n",
      "\n",
      "Delete existing user project data from the databrowser\n",
      "\n",
      "positional arguments:\n",
      "  paths                 The user directory(s) that needs to be crawled\n",
      "\n",
      "optional arguments:\n",
      "  -h, --help            show this help message and exit\n",
      "  --delete-from-fs, --delete_from_fs, --delete\n",
      "                        Do not only delete the files from the databrowser but\n",
      "                        also from file system. (default: False)\n",
      "  --debug, -v, -d, --verbose\n",
      "                        Use verbose output. (default: False)\n"
     ]
    }
   ],
   "source": [
    "freva-user-data delete --help"
   ]
  },
  {
   "cell_type": "markdown",
   "id": "2b67464e",
   "metadata": {},
   "source": [
    "Any data in the central user directory that belongs to the user can be deleted from the databrowser and also from the central data location:"
   ]
  },
  {
   "cell_type": "code",
   "execution_count": 31,
   "id": "b2da0fdd",
   "metadata": {},
   "outputs": [
    {
     "name": "stdout",
     "output_type": "stream",
     "text": [
      "INFO:numexpr.utils:NumExpr defaulting to 8 threads.\n",
      "\u001b[0m\u001b[0m"
     ]
    }
   ],
   "source": [
    "freva-user-data delete /tmp/user_data/user-$USER\n",
    "freva-databrowser experiment=bias-correct"
   ]
  },
  {
   "cell_type": "markdown",
   "id": "344b013c",
   "metadata": {},
   "source": [
    "## (Re)-Index existing data to the databrowser\n",
    "\n",
    "The index subcommand can be used to update the databrowser for existing user data. For example, if data has been removed from the databrowser it can be re-added:"
   ]
  },
  {
   "cell_type": "code",
   "execution_count": 32,
   "id": "2ad41583",
   "metadata": {},
   "outputs": [
    {
     "name": "stdout",
     "output_type": "stream",
     "text": [
      "usage: freva-user-data index [-h] [--data-type {fs}] [--debug] [crawl_dir ...]\n",
      "\n",
      "Index existing user project data to the databrowser\n",
      "\n",
      "positional arguments:\n",
      "  crawl_dir             The user directory(s) that needs to be crawled\n",
      "                        (default: None)\n",
      "\n",
      "optional arguments:\n",
      "  -h, --help            show this help message and exit\n",
      "  --data-type {fs}, --dtype {fs}\n",
      "                        The data type of the data. (default: fs)\n",
      "  --debug, -v, -d, --verbose\n",
      "                        Use verbose output. (default: False)\n"
     ]
    }
   ],
   "source": [
    "freva-user-data index --help"
   ]
  },
  {
   "cell_type": "code",
   "execution_count": 33,
   "id": "a38bab6f",
   "metadata": {},
   "outputs": [
    {
     "name": "stdout",
     "output_type": "stream",
     "text": [
      "INFO:numexpr.utils:NumExpr defaulting to 8 threads.\n",
      "\u001b[0m\u001b[0m"
     ]
    }
   ],
   "source": [
    "freva-user-data delete /tmp/user_data/user-$USER\n",
    "freva-databrowser experiment=bias-correct\n"
   ]
  }
 ],
 "metadata": {
  "kernelspec": {
   "display_name": "Bash",
   "language": "bash",
   "name": "bash"
  },
  "language_info": {
   "codemirror_mode": "shell",
   "file_extension": ".sh",
   "mimetype": "text/x-sh",
   "name": "bash"
  }
 },
 "nbformat": 4,
 "nbformat_minor": 5
}
