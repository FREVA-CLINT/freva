{
 "cells": [
  {
   "cell_type": "markdown",
   "id": "18d053a3",
   "metadata": {},
   "source": [
    "# The Freva command line interface\n",
    "\n",
    "This notebook introduces the usage of the Freva command line interface - cli. The tutorial assumes that you have already access to Freva either because you’ve setup an instance yourself or one has been setup by the Freva admin team. Hence it is assumed that you know how to access Freva. If this is not the case please contact one of your Freva admins for help.\n",
    "\n",
    "A general usage overview of the available Freva sub-commands is available via the --help option:"
   ]
  },
  {
   "cell_type": "code",
   "execution_count": null,
   "id": "93f67623",
   "metadata": {},
   "outputs": [],
   "source": [
    "freva --help"
   ]
  },
  {
   "cell_type": "markdown",
   "id": "076cd682",
   "metadata": {},
   "source": [
    "The most common sub-commands are `databrowser` and `plugin`. You can get more help on the actual commands using the sub-commands `--help` option, for example getting help on the databrowser usage:"
   ]
  },
  {
   "cell_type": "code",
   "execution_count": null,
   "id": "2350ed67",
   "metadata": {},
   "outputs": [],
   "source": [
    "freva databrowser --help"
   ]
  },
  {
   "cell_type": "markdown",
   "id": "6e083bea",
   "metadata": {},
   "source": [
    "__Note__: Instead of using sub-commands you have also the option to use commands. For example the command `freva-databrowser` is equivalent to `freva databrowser`, `freva-user-data` to `freva user-data` etc.\n",
    "\n",
    "## Searching for data: the freva-databrowser command\n",
    "\n",
    "All files available on in the project are scanned and indexed via a data search server. This allows you to query the server which responds almost immediately. To search for data you can either use the `freva-databrowser` command or the `freva databrowser` sub-command. Let’s inspect the help menu of the databrowser sub-command:"
   ]
  },
  {
   "cell_type": "code",
   "execution_count": null,
   "id": "f933b3d8",
   "metadata": {},
   "outputs": [],
   "source": [
    "freva-databrowser --help"
   ]
  },
  {
   "cell_type": "markdown",
   "id": "98583861",
   "metadata": {},
   "source": [
    "The databrowser expects a list of `key=value` pairs. The order of the pairs doesn’t really matter. Most important is that you don’t need to split the search according to the type of data you are searching for. You can search for any files, for example observations, reanalysis and model data at the same time. Also important is that all queries are case insensitive. You can also search for attributes themselves instead of file paths. For example you can search for the list of variables available that satisfies a certain constraint (e.g. sampled 6hr, from a certain model, etc)."
   ]
  },
  {
   "cell_type": "code",
   "execution_count": null,
   "id": "2807f8ce",
   "metadata": {},
   "outputs": [],
   "source": [
    "freva-databrowser project=observations variable=pr model='cp*'"
   ]
  },
  {
   "cell_type": "markdown",
   "id": "c2044943",
   "metadata": {},
   "source": [
    "In some cases it might be useful to know how many files are found in the `databrowser` for certain search constraints. In such cases you can use the `count` flag to count the number of found files instead of getting the files themselves."
   ]
  },
  {
   "cell_type": "code",
   "execution_count": null,
   "id": "926133a6",
   "metadata": {},
   "outputs": [],
   "source": [
    "freva-databrowser project=observations --count"
   ]
  },
  {
   "cell_type": "markdown",
   "id": "9229ee9f",
   "metadata": {},
   "source": [
    "Sometimes it might be useful to subset the data you’re interested in by time. To do so you can use the time search key to subset time steps and whole time ranges. For example let’s get the for certain time range:"
   ]
  },
  {
   "cell_type": "code",
   "execution_count": null,
   "id": "ff276ec7",
   "metadata": {},
   "outputs": [],
   "source": [
    "freva-databrowser project=observations time='2016-09-02T22:15 to 2016-10'"
   ]
  },
  {
   "cell_type": "markdown",
   "id": "bb6f962e",
   "metadata": {},
   "source": [
    "The default method for selecting time periods is `flexible`, which means all files are selected that cover at least start or end date. The `strict` method implies that the entire search time period has to be covered by the files. Using the `strict` method in the example above would only yield on file because the first file contains time steps prior to the start of the time period:"
   ]
  },
  {
   "cell_type": "code",
   "execution_count": null,
   "id": "66569d44",
   "metadata": {},
   "outputs": [],
   "source": [
    "freva-databrowser project=observations time='2016-09-02T22:15 to 2016-10' --time-select strict"
   ]
  },
  {
   "cell_type": "markdown",
   "id": "d025caea",
   "metadata": {},
   "source": [
    "You might as well want to know about possible values that an attribute can take after a certain search is done. For this you use the `--facet` flag (facets are the attributes used to search for and sub set the data). For example to see all `facets` that are available in the observations project:"
   ]
  },
  {
   "cell_type": "code",
   "execution_count": null,
   "id": "241249be",
   "metadata": {},
   "outputs": [],
   "source": [
    "freva-databrowser project=observations --all-facets"
   ]
  },
  {
   "cell_type": "code",
   "execution_count": null,
   "id": "5fcc1243",
   "metadata": {},
   "outputs": [],
   "source": [
    "freva-databrowser --facet time_frequency --facet variable project=observations"
   ]
  },
  {
   "cell_type": "markdown",
   "id": "91576c4b",
   "metadata": {},
   "source": [
    "You can also retrieve information on how many facets are found by the databrowser by giving the `count` flag"
   ]
  },
  {
   "cell_type": "code",
   "execution_count": null,
   "id": "f8d810a7",
   "metadata": {},
   "outputs": [],
   "source": [
    "freva-databrowser --facet time_frequency --facet variable project=observations --count"
   ]
  },
  {
   "cell_type": "markdown",
   "id": "321a9193",
   "metadata": {},
   "source": [
    "# Running data analysis plugins: the freva-plugin command\n",
    "\n",
    "Already defined data analysis tools can be started with the `freva-plugin` command or the `freva plugin` sub-command. Let’s inspect the help menu of the plugin command:"
   ]
  },
  {
   "cell_type": "code",
   "execution_count": null,
   "id": "a38018e7",
   "metadata": {},
   "outputs": [],
   "source": [
    "freva-plugin --help"
   ]
  },
  {
   "cell_type": "markdown",
   "id": "cbcf421b",
   "metadata": {},
   "source": [
    "As the help menu suggests you can list all available tools using the `-l` option (or `--list`, `--list-tools`):"
   ]
  },
  {
   "cell_type": "code",
   "execution_count": null,
   "id": "761fe8e8",
   "metadata": {},
   "outputs": [],
   "source": [
    "freva-plugin -l"
   ]
  },
  {
   "cell_type": "markdown",
   "id": "3f0e9883",
   "metadata": {},
   "source": [
    "This means currently we have two plugins available (animator and dummyplugin). The general syntax is freva-plugin `<plugin-name> [options]` for example to inspect the documentation of a certain plugin you can use the `--doc` option. Here we concentrate on the Animator plugin. A simple plugin that creates animations of geospatial data. The basic usage of that command can be retrieved by:"
   ]
  },
  {
   "cell_type": "code",
   "execution_count": null,
   "id": "86bc4136",
   "metadata": {},
   "outputs": [],
   "source": [
    "freva-plugin --doc animator"
   ]
  },
  {
   "cell_type": "markdown",
   "id": "a0d76f1e",
   "metadata": {},
   "source": [
    "The parameters are also given as `key=values` pairs. But not all of the above parameters are mandatory. Let’s use one project search key and animate its content."
   ]
  },
  {
   "cell_type": "code",
   "execution_count": null,
   "id": "ff9c6cec",
   "metadata": {},
   "outputs": [],
   "source": [
    "freva plugin animator project=observations variable=pr cmap=Blues fps=5 output_unit=mm/h vmin=0 vmax=5 suffix=gif"
   ]
  },
  {
   "cell_type": "markdown",
   "id": "e53b8d72",
   "metadata": {},
   "source": [
    "This plugin will run in so called interactive mode. That means that it will run on the login node and block your shell until the command is completed. This can be problematic if you have jobs that might take time to finish. An alternative is setting the `-–batchmode` flag. This flag tells the plugin to submit a job to the computing queue. The computing nodes are the core of any high performance computing system. Let’s submit the previous plugin job to the computing queue:"
   ]
  },
  {
   "cell_type": "code",
   "execution_count": null,
   "id": "e2ccc53b",
   "metadata": {},
   "outputs": [],
   "source": [
    "freva plugin animator project=observations variable=pr cmap=Blues fps=5 output_unit=mm/h vmin=0 vmax=5 suffix=gif --batchmode"
   ]
  },
  {
   "cell_type": "markdown",
   "id": "3f56b3c2",
   "metadata": {},
   "source": [
    "# Inspecting previous analysis jobs: the freva-history command\n",
    "\n",
    "Sometimes it can be useful to access the status of past plugin applications. The `freva-history` command or `freva history` sub-command can do that:"
   ]
  },
  {
   "cell_type": "code",
   "execution_count": null,
   "id": "cf5938d6",
   "metadata": {},
   "outputs": [],
   "source": [
    "freva-history --limit 1 --plugin dummyplugin"
   ]
  },
  {
   "cell_type": "code",
   "execution_count": null,
   "id": "b2c1b3cf",
   "metadata": {},
   "outputs": [],
   "source": [
    "freva-history --entry-ids 1 --full-text"
   ]
  },
  {
   "cell_type": "markdown",
   "id": "78d07784",
   "metadata": {},
   "source": [
    "To re-run a command of a past configuration you can use the --return-command option to get the command that was used:"
   ]
  },
  {
   "cell_type": "code",
   "execution_count": null,
   "id": "ed7b4ba7",
   "metadata": {},
   "outputs": [],
   "source": [
    "freva-history  --entry-ids 136 --return-command"
   ]
  },
  {
   "cell_type": "markdown",
   "id": "0f66c049",
   "metadata": {},
   "source": [
    "# Managing your own datasets: the freva-user-data command\n",
    "\n",
    "Freva offers the possibility to share custom datasets with other users by making it searchable via `freva-databrowser`. With help of the `freva-user-data` command users can add their own data to the central data location, (re)-index or delete data in the databrowser.\n",
    "\n",
    "__Note__: Any data that has been added by users will be assigned a special project name: `project=user-$USER`.\n",
    "Let’s inspect the help menu of the freva-user-data or freva user-data command:"
   ]
  },
  {
   "cell_type": "code",
   "execution_count": null,
   "id": "655895ff",
   "metadata": {},
   "outputs": [],
   "source": [
    "freva-user-data --help"
   ]
  },
  {
   "cell_type": "markdown",
   "id": "78cac543",
   "metadata": {},
   "source": [
    "## Add new data to the databrowser\n",
    "\n",
    "To be able to add data to the databrowser the file names must follow a strict standard and the files must reside in a specific location. The add sub command takes care about the correct file naming and location. No pre requirements other than the file has to be a valid netCDF or grib file are assumed. In other words this sub command places the user data with the correct naming structure to the correct location."
   ]
  },
  {
   "cell_type": "code",
   "execution_count": null,
   "id": "5d9fd7ee",
   "metadata": {},
   "outputs": [],
   "source": [
    "freva-user-data add --help"
   ]
  },
  {
   "cell_type": "markdown",
   "id": "632ecb13",
   "metadata": {},
   "source": [
    "Suppose you’ve gotten data from somewhere and want to add this data into the databrowser to make it accessible to others. In this specific example we assume that you have stored your original data in the `/tmp/my_awesome_data` folder. E.g `/tmp/my_awesome_data/outfile_0.nc...tmp/my_awesome_data/outfile_9.nc` The routine will try to gather all necessary metadata from the files. You’ll have to provide additional metadata if mandatory keywords are missing. To make the routine work in this example we have to provide the institute, model and experiment keywords:\n",
    "\n"
   ]
  },
  {
   "cell_type": "code",
   "execution_count": null,
   "id": "3b16a07f",
   "metadata": {},
   "outputs": [],
   "source": [
    "freva-user-data add eur-11b /tmp/my_awesome_data/outfile_?.nc \\\n",
    "--institute clex --model UM-RA2T --experiment Bias-correct\n",
    "freva-databrowser experiment=bias-correct"
   ]
  },
  {
   "cell_type": "markdown",
   "id": "ff481a21",
   "metadata": {},
   "source": [
    "## Remove your data from the databrowser\n",
    "\n",
    "The delete sub command removes entries from the databrowser and if necessary existing files from the central user data location."
   ]
  },
  {
   "cell_type": "code",
   "execution_count": null,
   "id": "dc481dc3",
   "metadata": {},
   "outputs": [],
   "source": [
    "freva-user-data delete --help"
   ]
  },
  {
   "cell_type": "markdown",
   "id": "2b67464e",
   "metadata": {},
   "source": [
    "Any data in the central user directory that belongs to the user can be deleted from the databrowser and also from the central data location:"
   ]
  },
  {
   "cell_type": "code",
   "execution_count": null,
   "id": "b2da0fdd",
   "metadata": {},
   "outputs": [],
   "source": [
    "freva-user-data delete /tmp/user_data/user-$USER\n",
    "freva-databrowser experiment=bias-correct"
   ]
  },
  {
   "cell_type": "markdown",
   "id": "344b013c",
   "metadata": {},
   "source": [
    "## (Re)-Index existing data to the databrowser\n",
    "\n",
    "The index subcommand can be used to update the databrowser for existing user data. For example, if data has been removed from the databrowser it can be re-added:"
   ]
  },
  {
   "cell_type": "code",
   "execution_count": null,
   "id": "2ad41583",
   "metadata": {},
   "outputs": [],
   "source": [
    "freva-user-data index --help"
   ]
  },
  {
   "cell_type": "code",
   "execution_count": null,
   "id": "a38bab6f",
   "metadata": {},
   "outputs": [],
   "source": [
    "freva-user-data delete /tmp/user_data/user-$USER\n",
    "freva-databrowser experiment=bias-correct\n"
   ]
  }
 ],
 "metadata": {
  "kernelspec": {
   "display_name": "Bash",
   "language": "bash",
   "name": "bash"
  },
  "language_info": {
   "codemirror_mode": "shell",
   "file_extension": ".sh",
   "mimetype": "text/x-sh",
   "name": "bash"
  }
 },
 "nbformat": 4,
 "nbformat_minor": 5
}
