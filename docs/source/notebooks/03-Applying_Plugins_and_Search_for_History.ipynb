{
 "cells": [
  {
   "cell_type": "markdown",
   "id": "f2f2c517",
   "metadata": {},
   "source": [
    "# Applying data analysis Plugins\n",
    "Already defined data analysis tools can be started with the `freva.run_plugin` method. Besides the ``run_plugin`` method two more utility methods (``list_plugins`` and ``plugin_doc``) are available to get an overview over existing plugins and the documentation of each plugins. \n",
    "\n",
    "First let's get an overview of the plugins that are available in the system:"
   ]
  },
  {
   "cell_type": "code",
   "execution_count": 1,
   "id": "8bab19f3",
   "metadata": {},
   "outputs": [],
   "source": [
    "import freva"
   ]
  },
  {
   "cell_type": "code",
   "execution_count": 2,
   "id": "a48a24be",
   "metadata": {},
   "outputs": [
    {
     "name": "stderr",
     "output_type": "stream",
     "text": [
      "INFO:numexpr.utils:NumExpr defaulting to 8 threads.\n"
     ]
    },
    {
     "data": {
      "text/plain": [
       "['dummyplugin', 'animator']"
      ]
     },
     "execution_count": 2,
     "metadata": {},
     "output_type": "execute_result"
    }
   ],
   "source": [
    "freva.list_plugins()"
   ]
  },
  {
   "cell_type": "markdown",
   "id": "a770d9b2",
   "metadata": {},
   "source": [
    "The help menu of each plugin can be inspected by calling the `plugin_doc` method. For example the help of the `animator` plugin"
   ]
  },
  {
   "cell_type": "code",
   "execution_count": 4,
   "id": "dc553730",
   "metadata": {},
   "outputs": [
    {
     "name": "stdout",
     "output_type": "stream",
     "text": [
      "Animator (v2022.7.15): Create animations (in gif or mp4 format) This tool creates plots of solr facets and an animation.\n",
      "Options:\n",
      "input_file              (default: <undefined>)\n",
      "                        NetCDF input file(s), you can choose multiple files\n",
      "                        separated by a , or use a global pattern for multiple\n",
      "                        files chose this option only if you don't want Freva to\n",
      "                        find files by seach facets\n",
      "variable                (default: <undefined>) [mandatory]\n",
      "                        Variable name (only applicable if you didn't choose an\n",
      "                        input file)\n",
      "project                 (default: <undefined>)\n",
      "                        Project name (only applicable if you didn't choose an\n",
      "                        input file)\n",
      "product                 (default: <undefined>)\n",
      "                        Product name (only applicable if you didn't choose an\n",
      "                        input file)\n",
      "experiment              (default: <undefined>)\n",
      "                        Experiment name (only applicable if you didn't choose an\n",
      "                        input file)\n",
      "institute               (default: <undefined>)\n",
      "                        Institute name (only applicable if you didn't choose an\n",
      "                        input file)\n",
      "model                   (default: <undefined>)\n",
      "                        Model name (only applicable if you didn't choose an\n",
      "                        input file)\n",
      "time_frequency          (default: <undefined>)\n",
      "                        Time frequency name (only applicable if you didn't\n",
      "                        choose an input file)\n",
      "ensemble                (default: <undefined>)\n",
      "                        Ensemble name (only applicable if you didn't choose an\n",
      "                        input file)\n",
      "start                   (default: <undefined>)\n",
      "                        Define the first time step to be plotted, leave blank if\n",
      "                        taken from data\n",
      "end                     (default: <undefined>)\n",
      "                        Define the last time step to be plotted, leave blank if\n",
      "                        taken from data\n",
      "time_mean               (default: <undefined>)\n",
      "                        Select a time interval if time averaging/min/max/sum\n",
      "                        should be applied along the time axis. This can be D for\n",
      "                        daily, M for monthly 6H for 6 hours etc. Leave blank if\n",
      "                        the time axis should not be resampled (default) or set\n",
      "                        to <em>all</em> if you want to collapse the time axis.\n",
      "time_method             (default: mean)\n",
      "                        If resampling of the time axis is chosen (default: no)\n",
      "                        set the method: mean, max or min. <b>Note:</b> This has\n",
      "                        only an effect if the above parameter for\n",
      "                        <em>time_mean</em> is set.\n",
      "lonlatbox               (default: <undefined>)\n",
      "                        Set the extend of a rectangular lonlatbox (left_lon,\n",
      "                        right_lat, lower_lat, upper_lat)\n",
      "output_unit             (default: <undefined>)\n",
      "                        Set the output unit of the variable - leave blank for no\n",
      "                        conversion. This can be useful if the unit of the input\n",
      "                        files should be converted, for example for\n",
      "                        precipitation. Note: Although many conversions are\n",
      "                        supported, by using the `pint` conversion library.\n",
      "vmin                    (default: <undefined>)\n",
      "                        Set the minimum plotting range (leave blank to calculate\n",
      "                        from data 1st decile)\n",
      "vmax                    (default: <undefined>)\n",
      "                        Set the maximum plotting range (leave blank to calculate\n",
      "                        the 9th decile)\n",
      "cmap                    (default: RdYlBu_r)\n",
      "                        Set the colormap, more information on colormaps is\n",
      "                        available on the <a href=\"https://matplotlib.org/stable/\n",
      "                        tutorials/colors/colormaps.html\"\n",
      "                        target=_blank>matplotlib website</a>.\n",
      "linecolor               (default: k)\n",
      "                        Color of the coast lines in the map\n",
      "projection              (default: PlateCarree)\n",
      "                        Set the global map projection. Note: this should the\n",
      "                        name of the cartopy projection method (e.g PlatteCarree\n",
      "                        for Cylindrical Projection). Pleas refer to <a href=\"htt\n",
      "                        ps://scitools.org.uk/cartopy/docs/latest/crs/projections\n",
      "                        .html\"target=_blank>cartopy website</a> for details.\n",
      "proj_centre             (default: 50)\n",
      "                        Set center longitude of the global map projection.\n",
      "pic_size                (default: 1360,900)\n",
      "                        Set the size of the picture (in pixel)\n",
      "plot_title              (default: )\n",
      "                        Set plot title\n",
      "cbar_label              (default: )\n",
      "                        Overwrite default colorbar label by this value\n",
      "suffix                  (default: mp4)\n",
      "                        Filetype of the animation\n",
      "fps                     (default: 5)\n",
      "                        Set the frames per seceonds of the output animation.\n",
      "extra_scheduler_options (default: --qos=test, --array=20)\n",
      "                        Set additional options for the job submission to the\n",
      "                        workload manager (, seperated). Note: batchmode and web\n",
      "                        only.\n"
     ]
    }
   ],
   "source": [
    "print(freva.plugin_doc(\"animator\"))"
   ]
  },
  {
   "cell_type": "markdown",
   "id": "e062e768",
   "metadata": {},
   "source": [
    "Let's apply the plugin an create an animation of some observational data.\n",
    "\n",
    "__Note__: The plugin user interface allows us to also user `key=value` pair search queries to search for data in the system, just like the `databrowser`."
   ]
  },
  {
   "cell_type": "code",
   "execution_count": 5,
   "id": "b4e9f3e3",
   "metadata": {},
   "outputs": [
    {
     "name": "stdout",
     "output_type": "stream",
     "text": [
      "Traceback (most recent call last):\n",
      "  File \"/home/wilfred/workspace/animator/run.py\", line 27, in <module>\n",
      "    from mapfactory.MapFactory import plot_map, get_filenames, _pool_wrapper, Plotter\n",
      "  File \"/home/wilfred/workspace/animator/mapfactory/__init__.py\", line 39, in <module>\n",
      "    from .MapFactory import *\n",
      "  File \"/home/wilfred/workspace/animator/mapfactory/MapFactory.py\", line 2, in <module>\n",
      "    from cartopy import crs\n",
      "ModuleNotFoundError: No module named 'cartopy'\n"
     ]
    },
    {
     "name": "stderr",
     "output_type": "stream",
     "text": [
      "An error occured calling ['python3', '/home/wilfred/workspace/animator/run.py', '/tmp/tmp1nws65os.json']\n",
      "ERROR:freva:An error occured calling ['python3', '/home/wilfred/workspace/animator/run.py', '/tmp/tmp1nws65os.json']\n",
      "Check also /tmp/share/slurm/animator/Animator-81711.local\n",
      "ERROR:freva:Check also /tmp/share/slurm/animator/Animator-81711.local\n"
     ]
    },
    {
     "ename": "CalledProcessError",
     "evalue": "Command '['python3', '/home/wilfred/workspace/animator/run.py', '/tmp/tmp1nws65os.json']' returned non-zero exit status 1.",
     "output_type": "error",
     "traceback": [
      "\u001b[0;31m---------------------------------------------------------------------------\u001b[0m",
      "\u001b[0;31mCalledProcessError\u001b[0m                        Traceback (most recent call last)",
      "Input \u001b[0;32mIn [5]\u001b[0m, in \u001b[0;36m<cell line: 1>\u001b[0;34m()\u001b[0m\n\u001b[0;32m----> 1\u001b[0m \u001b[43mfreva\u001b[49m\u001b[38;5;241;43m.\u001b[39;49m\u001b[43mrun_plugin\u001b[49m\u001b[43m(\u001b[49m\u001b[38;5;124;43m\"\u001b[39;49m\u001b[38;5;124;43manimator\u001b[39;49m\u001b[38;5;124;43m\"\u001b[39;49m\u001b[43m,\u001b[49m\u001b[43m \u001b[49m\u001b[43mvariable\u001b[49m\u001b[38;5;241;43m=\u001b[39;49m\u001b[38;5;124;43m\"\u001b[39;49m\u001b[38;5;124;43mpr\u001b[39;49m\u001b[38;5;124;43m\"\u001b[39;49m\u001b[43m,\u001b[49m\u001b[43m \u001b[49m\u001b[43mproject\u001b[49m\u001b[38;5;241;43m=\u001b[39;49m\u001b[38;5;124;43m\"\u001b[39;49m\u001b[38;5;124;43mobs*\u001b[39;49m\u001b[38;5;124;43m\"\u001b[39;49m\u001b[43m)\u001b[49m\n",
      "File \u001b[0;32m~/workspace/evaluation_system/src/freva/_plugin.py:365\u001b[0m, in \u001b[0;36mrun_plugin\u001b[0;34m(tool_name, save, save_config, show_config, dry_run, scheduled_id, repo_version, unique_output, batchmode, pull_request, caption, tag, return_result, **options)\u001b[0m\n\u001b[1;32m    363\u001b[0m     \u001b[38;5;28mprint\u001b[39m(\u001b[38;5;124mf\u001b[39m\u001b[38;5;124m\"\u001b[39m\u001b[38;5;124mtail -f \u001b[39m\u001b[38;5;132;01m{\u001b[39;00mjob_file\u001b[38;5;132;01m}\u001b[39;00m\u001b[38;5;124m\"\u001b[39m)\n\u001b[1;32m    364\u001b[0m     \u001b[38;5;28;01mreturn\u001b[39;00m \u001b[38;5;241m0\u001b[39m, \u001b[38;5;124m\"\u001b[39m\u001b[38;5;124m\"\u001b[39m\n\u001b[0;32m--> 365\u001b[0m results \u001b[38;5;241m=\u001b[39m \u001b[43mpm\u001b[49m\u001b[38;5;241;43m.\u001b[39;49m\u001b[43mrun_tool\u001b[49m\u001b[43m(\u001b[49m\n\u001b[1;32m    366\u001b[0m \u001b[43m    \u001b[49m\u001b[43mtool_name\u001b[49m\u001b[43m,\u001b[49m\n\u001b[1;32m    367\u001b[0m \u001b[43m    \u001b[49m\u001b[43mconfig_dict\u001b[49m\u001b[38;5;241;43m=\u001b[39;49m\u001b[43mtool_dict\u001b[49m\u001b[43m,\u001b[49m\n\u001b[1;32m    368\u001b[0m \u001b[43m    \u001b[49m\u001b[43mcaption\u001b[49m\u001b[38;5;241;43m=\u001b[39;49m\u001b[43mcaption\u001b[49m\u001b[43m,\u001b[49m\n\u001b[1;32m    369\u001b[0m \u001b[43m    \u001b[49m\u001b[43munique_output\u001b[49m\u001b[38;5;241;43m=\u001b[39;49m\u001b[43munique_output\u001b[49m\u001b[43m,\u001b[49m\n\u001b[1;32m    370\u001b[0m \u001b[43m\u001b[49m\u001b[43m)\u001b[49m\n\u001b[1;32m    371\u001b[0m \u001b[38;5;66;03m# repeat the warning at the end of the run\u001b[39;00m\n\u001b[1;32m    372\u001b[0m \u001b[38;5;66;03m# for readability don't show the warning in debug mode\u001b[39;00m\n\u001b[1;32m    373\u001b[0m \u001b[38;5;28;01mif\u001b[39;00m warning:\n",
      "File \u001b[0;32m~/workspace/evaluation_system/src/evaluation_system/api/plugin_manager.py:791\u001b[0m, in \u001b[0;36mrun_tool\u001b[0;34m(plugin_name, config_dict, user, scheduled_id, caption, unique_output)\u001b[0m\n\u001b[1;32m    788\u001b[0m plugin_state\u001b[38;5;241m.\u001b[39mstatus \u001b[38;5;241m=\u001b[39m History\u001b[38;5;241m.\u001b[39mprocessStatus\u001b[38;5;241m.\u001b[39mbroken\n\u001b[1;32m    789\u001b[0m \u001b[38;5;66;03m# we want that the rowid to be visible to the tool\u001b[39;00m\n\u001b[1;32m    790\u001b[0m \u001b[38;5;66;03m# TODO: not sure if this is really optional, the docs don't say much\u001b[39;00m\n\u001b[0;32m--> 791\u001b[0m result: Optional[utils\u001b[38;5;241m.\u001b[39mmetadict] \u001b[38;5;241m=\u001b[39m \u001b[43mp\u001b[49m\u001b[38;5;241;43m.\u001b[39;49m\u001b[43m_run_tool\u001b[49m\u001b[43m(\u001b[49m\n\u001b[1;32m    792\u001b[0m \u001b[43m    \u001b[49m\u001b[43mconfig_dict\u001b[49m\u001b[38;5;241;43m=\u001b[39;49m\u001b[43mcomplete_conf\u001b[49m\u001b[43m,\u001b[49m\n\u001b[1;32m    793\u001b[0m \u001b[43m    \u001b[49m\u001b[43munique_output\u001b[49m\u001b[38;5;241;43m=\u001b[39;49m\u001b[43munique_output\u001b[49m\u001b[43m,\u001b[49m\n\u001b[1;32m    794\u001b[0m \u001b[43m    \u001b[49m\u001b[43mout_file\u001b[49m\u001b[38;5;241;43m=\u001b[39;49m\u001b[43mout_file\u001b[49m\u001b[43m,\u001b[49m\n\u001b[1;32m    795\u001b[0m \u001b[43m    \u001b[49m\u001b[43mrowid\u001b[49m\u001b[38;5;241;43m=\u001b[39;49m\u001b[43mrowid\u001b[49m\u001b[43m,\u001b[49m\n\u001b[1;32m    796\u001b[0m \u001b[43m\u001b[49m\u001b[43m)\u001b[49m\n\u001b[1;32m    797\u001b[0m \u001b[38;5;66;03m# save results when existing\u001b[39;00m\n\u001b[1;32m    798\u001b[0m \u001b[38;5;28;01mif\u001b[39;00m result \u001b[38;5;129;01mis\u001b[39;00m \u001b[38;5;28;01mNone\u001b[39;00m:\n",
      "File \u001b[0;32m~/workspace/evaluation_system/src/evaluation_system/api/plugin.py:442\u001b[0m, in \u001b[0;36mPluginAbstract._run_tool\u001b[0;34m(self, config_dict, unique_output, out_file, rowid)\u001b[0m\n\u001b[1;32m    440\u001b[0m \u001b[38;5;28;01mwith\u001b[39;00m \u001b[38;5;28mself\u001b[39m\u001b[38;5;241m.\u001b[39m_set_environment(rowid, is_interactive_job):\n\u001b[1;32m    441\u001b[0m     \u001b[38;5;28;01mtry\u001b[39;00m:\n\u001b[0;32m--> 442\u001b[0m         result \u001b[38;5;241m=\u001b[39m \u001b[38;5;28;43mself\u001b[39;49m\u001b[38;5;241;43m.\u001b[39;49m\u001b[43mrun_tool\u001b[49m\u001b[43m(\u001b[49m\u001b[43mconfig_dict\u001b[49m\u001b[38;5;241;43m=\u001b[39;49m\u001b[43mconfig_dict\u001b[49m\u001b[43m)\u001b[49m\n\u001b[1;32m    443\u001b[0m     \u001b[38;5;28;01mexcept\u001b[39;00m \u001b[38;5;167;01mNotImplementedError\u001b[39;00m:\n\u001b[1;32m    444\u001b[0m         result \u001b[38;5;241m=\u001b[39m deprecated_method(\u001b[38;5;124m\"\u001b[39m\u001b[38;5;124mPluginAbstract\u001b[39m\u001b[38;5;124m\"\u001b[39m, \u001b[38;5;124m\"\u001b[39m\u001b[38;5;124mrun_tool\u001b[39m\u001b[38;5;124m\"\u001b[39m)(\u001b[38;5;28mself\u001b[39m\u001b[38;5;241m.\u001b[39mrunTool)(config_dict\u001b[38;5;241m=\u001b[39mconfig_dict)  \u001b[38;5;66;03m# type: ignore\u001b[39;00m\n",
      "File \u001b[0;32m~/workspace/animator/animator.py:247\u001b[0m, in \u001b[0;36mAnimator.run_tool\u001b[0;34m(self, config_dict)\u001b[0m\n\u001b[1;32m    245\u001b[0m         json\u001b[38;5;241m.\u001b[39mdump(args, f)\n\u001b[1;32m    246\u001b[0m     cmd \u001b[38;5;241m=\u001b[39m \u001b[38;5;124m\"\u001b[39m\u001b[38;5;124mpython3 \u001b[39m\u001b[38;5;132;01m{}\u001b[39;00m\u001b[38;5;124m \u001b[39m\u001b[38;5;132;01m{}\u001b[39;00m\u001b[38;5;124m\"\u001b[39m\u001b[38;5;241m.\u001b[39mformat(tool_path, tf\u001b[38;5;241m.\u001b[39mname)\n\u001b[0;32m--> 247\u001b[0m     \u001b[38;5;28;43mself\u001b[39;49m\u001b[38;5;241;43m.\u001b[39;49m\u001b[43mcall\u001b[49m\u001b[43m(\u001b[49m\u001b[43mcmd\u001b[49m\u001b[43m)\u001b[49m\n\u001b[1;32m    248\u001b[0m \u001b[38;5;28;01mreturn\u001b[39;00m \u001b[38;5;28mself\u001b[39m\u001b[38;5;241m.\u001b[39mprepare_output(config_dict[\u001b[38;5;124m\"\u001b[39m\u001b[38;5;124moutput_directory\u001b[39m\u001b[38;5;124m\"\u001b[39m])\n",
      "File \u001b[0;32m~/workspace/evaluation_system/src/evaluation_system/api/plugin.py:1272\u001b[0m, in \u001b[0;36mPluginAbstract.call\u001b[0;34m(self, cmd_string, check, **kwargs)\u001b[0m\n\u001b[1;32m   1270\u001b[0m \u001b[38;5;28;01mexcept\u001b[39;00m sub\u001b[38;5;241m.\u001b[39mCalledProcessError \u001b[38;5;28;01mas\u001b[39;00m cmd_error:\n\u001b[1;32m   1271\u001b[0m     \u001b[38;5;28;01mwith\u001b[39;00m hide_exception():\n\u001b[0;32m-> 1272\u001b[0m         \u001b[38;5;28;01mraise\u001b[39;00m cmd_error\n\u001b[1;32m   1273\u001b[0m \u001b[38;5;28;01mreturn\u001b[39;00m res\n",
      "File \u001b[0;32m~/workspace/evaluation_system/src/evaluation_system/api/plugin.py:1269\u001b[0m, in \u001b[0;36mPluginAbstract.call\u001b[0;34m(self, cmd_string, check, **kwargs)\u001b[0m\n\u001b[1;32m   1267\u001b[0m log\u001b[38;5;241m.\u001b[39mdebug(\u001b[38;5;124m\"\u001b[39m\u001b[38;5;124mCalling: \u001b[39m\u001b[38;5;132;01m%s\u001b[39;00m\u001b[38;5;124m\"\u001b[39m, \u001b[38;5;124m\"\u001b[39m\u001b[38;5;124m \u001b[39m\u001b[38;5;124m\"\u001b[39m\u001b[38;5;241m.\u001b[39mjoin(cmd))\n\u001b[1;32m   1268\u001b[0m \u001b[38;5;28;01mtry\u001b[39;00m:\n\u001b[0;32m-> 1269\u001b[0m     res \u001b[38;5;241m=\u001b[39m \u001b[38;5;28;43mself\u001b[39;49m\u001b[38;5;241;43m.\u001b[39;49m\u001b[43m_execute\u001b[49m\u001b[43m(\u001b[49m\u001b[43mcmd\u001b[49m\u001b[43m,\u001b[49m\u001b[43m \u001b[49m\u001b[43mcheck\u001b[49m\u001b[38;5;241;43m=\u001b[39;49m\u001b[43mcheck\u001b[49m\u001b[43m,\u001b[49m\u001b[43m \u001b[49m\u001b[38;5;241;43m*\u001b[39;49m\u001b[38;5;241;43m*\u001b[39;49m\u001b[43mkwargs\u001b[49m\u001b[43m)\u001b[49m\n\u001b[1;32m   1270\u001b[0m \u001b[38;5;28;01mexcept\u001b[39;00m sub\u001b[38;5;241m.\u001b[39mCalledProcessError \u001b[38;5;28;01mas\u001b[39;00m cmd_error:\n\u001b[1;32m   1271\u001b[0m     \u001b[38;5;28;01mwith\u001b[39;00m hide_exception():\n",
      "File \u001b[0;32m~/workspace/evaluation_system/src/evaluation_system/api/plugin.py:337\u001b[0m, in \u001b[0;36mPluginAbstract._execute\u001b[0;34m(self, cmd, check, **kwargs)\u001b[0m\n\u001b[1;32m    335\u001b[0m     log\u001b[38;5;241m.\u001b[39merror(\u001b[38;5;124m\"\u001b[39m\u001b[38;5;124mAn error occured calling \u001b[39m\u001b[38;5;132;01m%s\u001b[39;00m\u001b[38;5;124m\"\u001b[39m, cmd)\n\u001b[1;32m    336\u001b[0m     log\u001b[38;5;241m.\u001b[39merror(\u001b[38;5;124m\"\u001b[39m\u001b[38;5;124mCheck also \u001b[39m\u001b[38;5;132;01m%s\u001b[39;00m\u001b[38;5;124m\"\u001b[39m, \u001b[38;5;28mself\u001b[39m\u001b[38;5;241m.\u001b[39mplugin_output_file)\n\u001b[0;32m--> 337\u001b[0m     \u001b[38;5;28;01mraise\u001b[39;00m sub\u001b[38;5;241m.\u001b[39mCalledProcessError(\n\u001b[1;32m    338\u001b[0m         return_code,\n\u001b[1;32m    339\u001b[0m         cmd,\n\u001b[1;32m    340\u001b[0m     )\n\u001b[1;32m    341\u001b[0m \u001b[38;5;28;01mreturn\u001b[39;00m res\n",
      "\u001b[0;31mCalledProcessError\u001b[0m: Command '['python3', '/home/wilfred/workspace/animator/run.py', '/tmp/tmp1nws65os.json']' returned non-zero exit status 1."
     ]
    }
   ],
   "source": [
    "freva.run_plugin(\"animator\", variable=\"pr\", project=\"obs*\")"
   ]
  },
  {
   "cell_type": "markdown",
   "id": "d86dcfbf",
   "metadata": {},
   "source": [
    "# Search the histroy of previously applied plugins\n",
    "To access the configurations of previously applied freva plugins freva offers the `history` method which displays plugin entries with a one-line compact description. The first number you see is the entry id, which you might use to select single entries for further details. Again, let's inspect the help first:"
   ]
  },
  {
   "cell_type": "code",
   "execution_count": 8,
   "id": "47d1885b",
   "metadata": {
    "scrolled": false
   },
   "outputs": [
    {
     "name": "stdout",
     "output_type": "stream",
     "text": [
      "Help on function history in module freva._history:\n",
      "\n",
      "history(*args: 'str', limit: 'int' = 10, plugin: 'Optional[str]' = None, since: 'Optional[str]' = None, until: 'Optional[str]' = None, entry_ids: 'Union[int, list[int]]' = None, full_text: 'bool' = False, return_command: 'bool' = False, _return_dict: 'bool' = True) -> 'Union[list[Any], dict[str, Any]]'\n",
      "    Get access to the configurations of previously applied freva plugins.\n",
      "    \n",
      "    The `.history` method displays the entries with a one-line compact description.\n",
      "    The first number you see is the entry id, which you might use to select\n",
      "    single entries.\n",
      "    \n",
      "    Parameters\n",
      "    ----------\n",
      "    full_text: bool, default: False\n",
      "      Get the full configuration.\n",
      "    return_command: bool, default: False\n",
      "      Show Freva commands belonging to the history entries instead\n",
      "      of the entries themself.\n",
      "    limit: int, default: 10\n",
      "      Limit the number of entires to be displayed.\n",
      "    plugin: str, default: None\n",
      "      Display only entries from a given plugin name.\n",
      "    since: str, datetime.datetime, default: None\n",
      "      Retrieve entries older than date, see hint on date format below.\n",
      "    until: str, datetime.datetime, default: None\n",
      "      Retrieve entries younger than date, see hint on date format below.\n",
      "    entry_ids: list, default: None\n",
      "       Select entries whose ids are in \"ids\",\n",
      "    full_text: bool, default: False\n",
      "      Show the complete configuration.\n",
      "    return_command: bool, default: False\n",
      "      Return the commands instead of history objects\n",
      "    _return_dict: bool, default: True\n",
      "      Return a dictionary representation, this is only for internal use\n",
      "    \n",
      "    Returns\n",
      "    -------\n",
      "      list:\n",
      "        freva plugin history\n",
      "    \n",
      "    Example\n",
      "    -------\n",
      "    \n",
      "    Get the last three history entries\n",
      "    \n",
      "    .. execute_code::\n",
      "    \n",
      "        import freva\n",
      "        hist = freva.history(limit=3)\n",
      "        print(type(hist), len(hist))\n",
      "        print(hist[-1].keys())\n",
      "        config = hist[-1]['configuration']\n",
      "        print(config)\n",
      "    \n",
      "    \n",
      "    .. hint:: Date Format\n",
      "        Dates are given in the ISO-8601 fromat and can be \"YYYY-MM-DDTHH:mm:ss.n\"\n",
      "        or any less accurate subset. These are all valid: \"2012-02-01T10:08:32.1233431\",\n",
      "        \"2012-02-01T10:08:32\", \"2012-02-01T10:08\", \"2012-02-01T10\", \"2012-02-01\",\n",
      "        \"2012-02\", \"2012\". Missing values are assumed to be the minimal allowed value.\n",
      "        For example: \"2012\" = \"2012-01-01T00:00:00.0\"\n",
      "\n"
     ]
    }
   ],
   "source": [
    "help(freva.history)"
   ]
  },
  {
   "cell_type": "markdown",
   "id": "bd095452",
   "metadata": {},
   "source": [
    "The configuration of last entry of the `animator` plugin history can be accessed by:"
   ]
  },
  {
   "cell_type": "code",
   "execution_count": 20,
   "id": "b7cc8730",
   "metadata": {},
   "outputs": [
    {
     "name": "stderr",
     "output_type": "stream",
     "text": [
      "INFO:freva:history, limit=10, since=None, until=None, entry_ids=None\n"
     ]
    },
    {
     "data": {
      "text/plain": [
       "{'status_dict': {2: 'broken',\n",
       "  0: 'finished',\n",
       "  1: 'finished_no_output',\n",
       "  5: 'not_scheduled',\n",
       "  3: 'running',\n",
       "  4: 'scheduled'},\n",
       " '_state': <django.db.models.base.ModelState at 0x7f7632fd5550>,\n",
       " 'id': 2111,\n",
       " 'timestamp': datetime.datetime(2022, 9, 29, 19, 4, 29),\n",
       " 'tool': 'animator',\n",
       " 'version': '(2022, 7, 15)',\n",
       " 'version_details_id': 123,\n",
       " 'configuration': {'input_file': None,\n",
       "  'variable': 'pr',\n",
       "  'project': 'obs*',\n",
       "  'product': None,\n",
       "  'experiment': None,\n",
       "  'institute': None,\n",
       "  'model': None,\n",
       "  'time_frequency': None,\n",
       "  'ensemble': None,\n",
       "  'start': None,\n",
       "  'end': None,\n",
       "  'time_mean': None,\n",
       "  'time_method': 'mean',\n",
       "  'lonlatbox': None,\n",
       "  'output_unit': None,\n",
       "  'vmin': None,\n",
       "  'vmax': None,\n",
       "  'cmap': 'RdYlBu_r',\n",
       "  'linecolor': 'k',\n",
       "  'projection': 'PlateCarree',\n",
       "  'proj_centre': 50,\n",
       "  'pic_size': '1360,900',\n",
       "  'plot_title': '',\n",
       "  'cbar_label': '',\n",
       "  'suffix': 'mp4',\n",
       "  'fps': 5},\n",
       " 'slurm_output': '/tmp/share/slurm/animator/Animator-81711.local',\n",
       " 'host': 'thinkpad',\n",
       " 'uid_id': 'wilfred',\n",
       " 'status': 2,\n",
       " 'flag': 0,\n",
       " 'caption': ''}"
      ]
     },
     "execution_count": 20,
     "metadata": {},
     "output_type": "execute_result"
    }
   ],
   "source": [
    "animator_history = freva.history(\"animator\")[-1]\n",
    "animator_history"
   ]
  },
  {
   "cell_type": "code",
   "execution_count": 21,
   "id": "5674287d",
   "metadata": {},
   "outputs": [
    {
     "data": {
      "text/plain": [
       "{'input_file': None,\n",
       " 'variable': 'pr',\n",
       " 'project': 'obs*',\n",
       " 'product': None,\n",
       " 'experiment': None,\n",
       " 'institute': None,\n",
       " 'model': None,\n",
       " 'time_frequency': None,\n",
       " 'ensemble': None,\n",
       " 'start': None,\n",
       " 'end': None,\n",
       " 'time_mean': None,\n",
       " 'time_method': 'mean',\n",
       " 'lonlatbox': None,\n",
       " 'output_unit': None,\n",
       " 'vmin': None,\n",
       " 'vmax': None,\n",
       " 'cmap': 'RdYlBu_r',\n",
       " 'linecolor': 'k',\n",
       " 'projection': 'PlateCarree',\n",
       " 'proj_centre': 50,\n",
       " 'pic_size': '1360,900',\n",
       " 'plot_title': '',\n",
       " 'cbar_label': '',\n",
       " 'suffix': 'mp4',\n",
       " 'fps': 5}"
      ]
     },
     "execution_count": 21,
     "metadata": {},
     "output_type": "execute_result"
    }
   ],
   "source": [
    "animator_history[\"configuration\"]"
   ]
  },
  {
   "cell_type": "markdown",
   "id": "58048077",
   "metadata": {},
   "source": [
    "The same goes for the status of the tool"
   ]
  },
  {
   "cell_type": "code",
   "execution_count": 22,
   "id": "a3bff847",
   "metadata": {},
   "outputs": [
    {
     "data": {
      "text/plain": [
       "'broken'"
      ]
     },
     "execution_count": 22,
     "metadata": {},
     "output_type": "execute_result"
    },
    {
     "name": "stderr",
     "output_type": "stream",
     "text": [
      "Recieved termination signal: exiting\n"
     ]
    }
   ],
   "source": [
    "animator_history[\"status_dict\"][animator_history[\"status\"]]"
   ]
  }
 ],
 "metadata": {
  "kernelspec": {
   "display_name": "freva",
   "language": "python",
   "name": "freva"
  },
  "language_info": {
   "codemirror_mode": {
    "name": "ipython",
    "version": 3
   },
   "file_extension": ".py",
   "mimetype": "text/x-python",
   "name": "python",
   "nbconvert_exporter": "python",
   "pygments_lexer": "ipython3",
   "version": "3.9.13"
  }
 },
 "nbformat": 4,
 "nbformat_minor": 5
}
