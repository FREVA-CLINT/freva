{
 "cells": [
  {
   "cell_type": "markdown",
   "id": "f2f2c517",
   "metadata": {},
   "source": [
    "# Applying data analysis Plugins\n",
    "Already defined data analysis tools can be started with the `freva.run_plugin` method. Besides the ``run_plugin`` method two more utility methods (``list_plugins`` and ``plugin_doc``) are available to get an overview over existing plugins and the documentation of each plugins. \n",
    "\n",
    "First let's get an overview of the plugins that are available in the system:"
   ]
  },
  {
   "cell_type": "code",
   "execution_count": null,
   "id": "8bab19f3",
   "metadata": {},
   "outputs": [],
   "source": [
    "import freva"
   ]
  },
  {
   "cell_type": "code",
   "execution_count": null,
   "id": "a48a24be",
   "metadata": {},
   "outputs": [],
   "source": [
    "freva.list_plugins()"
   ]
  },
  {
   "cell_type": "markdown",
   "id": "a770d9b2",
   "metadata": {},
   "source": [
    "The help menu of each plugin can be inspected by calling the `plugin_doc` method. For example the help of the `animator` plugin"
   ]
  },
  {
   "cell_type": "code",
   "execution_count": null,
   "id": "dc553730",
   "metadata": {},
   "outputs": [],
   "source": [
    "print(freva.plugin_doc(\"animator\"))"
   ]
  },
  {
   "cell_type": "markdown",
   "id": "e062e768",
   "metadata": {},
   "source": [
    "Let's apply the plugin an create an animation of some observational data.\n",
    "\n",
    "__Note__: The plugin user interface allows us to also use `key=value` pair search queries to search for data in the system, just like the `databrowser`."
   ]
  },
  {
   "cell_type": "code",
   "execution_count": null,
   "id": "b4e9f3e3",
   "metadata": {},
   "outputs": [],
   "source": [
    "freva.run_plugin(\"animator\", variable=\"pr\", project=\"obs*\")"
   ]
  },
  {
   "cell_type": "markdown",
   "id": "d86dcfbf",
   "metadata": {},
   "source": [
    "# Search the history of previously applied plugins\n",
    "To access the configurations of previously applied freva plugins freva offers the `history` method which displays plugin entries with a one-line compact description. The first number you see is the entry id, which you might use to select single entries for further details. Again, let's inspect the help first:"
   ]
  },
  {
   "cell_type": "code",
   "execution_count": null,
   "id": "47d1885b",
   "metadata": {
    "scrolled": false
   },
   "outputs": [],
   "source": [
    "help(freva.history)"
   ]
  },
  {
   "cell_type": "markdown",
   "id": "bd095452",
   "metadata": {},
   "source": [
    "The configuration of last entry of the `animator` plugin history can be accessed by:"
   ]
  },
  {
   "cell_type": "code",
   "execution_count": null,
   "id": "b7cc8730",
   "metadata": {},
   "outputs": [],
   "source": [
    "animator_history = freva.history(\"animator\")[-1]\n",
    "animator_history"
   ]
  },
  {
   "cell_type": "code",
   "execution_count": null,
   "id": "5674287d",
   "metadata": {},
   "outputs": [],
   "source": [
    "animator_history[\"configuration\"]"
   ]
  },
  {
   "cell_type": "markdown",
   "id": "58048077",
   "metadata": {},
   "source": [
    "The same goes for the status of the tool"
   ]
  },
  {
   "cell_type": "code",
   "execution_count": null,
   "id": "a3bff847",
   "metadata": {},
   "outputs": [],
   "source": [
    "animator_history[\"status_dict\"][animator_history[\"status\"]]"
   ]
  }
 ],
 "metadata": {
  "kernelspec": {
   "display_name": "freva",
   "language": "python",
   "name": "freva"
  },
  "language_info": {
   "codemirror_mode": {
    "name": "ipython",
    "version": 3
   },
   "file_extension": ".py",
   "mimetype": "text/x-python",
   "name": "python",
   "nbconvert_exporter": "python",
   "pygments_lexer": "ipython3",
   "version": "3.9.13"
  }
 },
 "nbformat": 4,
 "nbformat_minor": 5
}
