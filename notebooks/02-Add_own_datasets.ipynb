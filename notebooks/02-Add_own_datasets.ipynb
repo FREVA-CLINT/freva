{
 "cells": [
  {
   "cell_type": "markdown",
   "id": "b9c6fc29",
   "metadata": {},
   "source": [
    "# Managing your own datasets: the UserData class\n",
    "\n",
    "Freva offers the possibility to share custom datasets with other users by making it searchable via `freva.databrowser`. With help of the `UserData` class users can add their own data to the central data location, (re)-index or delete data in the databrowser.\n",
    "\n",
    "__Note__: Any data that has been added by users will be assigned a special project name: `project=user-$USER`."
   ]
  },
  {
   "cell_type": "markdown",
   "id": "f0aaffd0",
   "metadata": {},
   "source": [
    "## Add new data to the databrowser\n",
    "To be able to add data to the databrowser the file names must follow a strict standard and the files must reside in a specific location. This add method takes care about the correct file naming and location. No pre-requirements other than the file has to be a valid `netCDF` or `grib` file are assumed. In other words this method places the user data with the correct naming structure to the correct location.\n",
    "\n",
    "Suppose you’ve gotten data from somewhere and want to add this data into the databrowser to make it accessible to others. In this specific example we assume that you have stored your original data in the /tmp/my_awesome_data folder. E.g `/tmp/my_awesome_data/outfile_0.nc...tmp/my_awesome_data/outfile_9.nc` The routine will try to gather all necessary metadata from the files. You’ll have to provide additional metadata if mandatory keywords are missing. To make the routine work you’ll have to provide the institute, model and experiment keywords:"
   ]
  },
  {
   "cell_type": "code",
   "execution_count": 1,
   "id": "9debb4b8",
   "metadata": {
    "execution": {
     "iopub.execute_input": "2025-06-26T15:24:00.113521Z",
     "iopub.status.busy": "2025-06-26T15:24:00.113324Z",
     "iopub.status.idle": "2025-06-26T15:24:00.761720Z",
     "shell.execute_reply": "2025-06-26T15:24:00.761125Z"
    }
   },
   "outputs": [],
   "source": [
    "from freva import UserData, databrowser"
   ]
  },
  {
   "cell_type": "markdown",
   "id": "98936fa7",
   "metadata": {},
   "source": [
    "Let's create an instance of the `UserData` class. "
   ]
  },
  {
   "cell_type": "code",
   "execution_count": 2,
   "id": "5c9308c5",
   "metadata": {
    "execution": {
     "iopub.execute_input": "2025-06-26T15:24:00.764198Z",
     "iopub.status.busy": "2025-06-26T15:24:00.763676Z",
     "iopub.status.idle": "2025-06-26T15:24:00.766852Z",
     "shell.execute_reply": "2025-06-26T15:24:00.766191Z"
    }
   },
   "outputs": [],
   "source": [
    "user_data = UserData()"
   ]
  },
  {
   "cell_type": "markdown",
   "id": "72912c33",
   "metadata": {},
   "source": [
    "The `add` method can add data into the users data directory. The location of this data directory is given by the system and can be queried by accessing the `user_dir` property:"
   ]
  },
  {
   "cell_type": "code",
   "execution_count": 3,
   "id": "bf820eaf",
   "metadata": {
    "execution": {
     "iopub.execute_input": "2025-06-26T15:24:00.768519Z",
     "iopub.status.busy": "2025-06-26T15:24:00.768354Z",
     "iopub.status.idle": "2025-06-26T15:24:00.788049Z",
     "shell.execute_reply": "2025-06-26T15:24:00.787491Z"
    }
   },
   "outputs": [
    {
     "name": "stdout",
     "output_type": "stream",
     "text": [
      "/tmp/user_data/user-runner\n"
     ]
    }
   ],
   "source": [
    "# Get the location of the user data\n",
    "print(user_data.user_dir)"
   ]
  },
  {
   "cell_type": "markdown",
   "id": "4145b879",
   "metadata": {},
   "source": [
    "Let's inspect the help of the `add` method:"
   ]
  },
  {
   "cell_type": "code",
   "execution_count": 4,
   "id": "c0312496",
   "metadata": {
    "execution": {
     "iopub.execute_input": "2025-06-26T15:24:00.789974Z",
     "iopub.status.busy": "2025-06-26T15:24:00.789769Z",
     "iopub.status.idle": "2025-06-26T15:24:00.793612Z",
     "shell.execute_reply": "2025-06-26T15:24:00.793002Z"
    }
   },
   "outputs": [
    {
     "name": "stdout",
     "output_type": "stream",
     "text": [
      "Help on method add in module freva._user_data:\n",
      "\n",
      "add(product: 'str', *paths: 'os.PathLike', how: 'str' = 'copy', override: 'bool' = False, **defaults: 'str') -> 'None' method of freva._user_data.UserData instance\n",
      "    Add custom user files to the databrowser.\n",
      "\n",
      "    To be able to add data to the databrowser the file names must\n",
      "    follow a strict standard and the files must reside in a\n",
      "    specific location. This ``add`` method takes care about the correct\n",
      "    file naming and location. No pre requirements other than the file has\n",
      "    to be a valid ``netCDF`` or ``grib`` file are assumed. In other words\n",
      "    this method places the user data with the correct naming structure to\n",
      "    the correct location.\n",
      "\n",
      "    Parameters\n",
      "    ----------\n",
      "    product: str\n",
      "        Product search key the newly added data can be found.\n",
      "    *paths: os.PathLike\n",
      "        Filename(s) or Directories that are going to be added to the\n",
      "        databrowser. The files will be added into the central user\n",
      "        directory and named according the CMOR standard. This ensures\n",
      "        that the data can be added into the databrowser.\n",
      "        **Note:** Once the data has been added into the databrowser it can\n",
      "        be found via the ``user-<username>`` project.\n",
      "    how: str, default: copy\n",
      "        Method of how the data is added into the central freva user directory.\n",
      "        Default is copy, which means your data files will be replicated.\n",
      "        To avoid a this redundancy you can set the ``how`` keyword to\n",
      "        ``symlink`` for symbolic links or ``link`` for creating hard links\n",
      "        to create symbolic links or ``move`` to move the data into the central\n",
      "        user directory entirely.\n",
      "    override: bool, default: False\n",
      "        Replace existing files in the user data structure.\n",
      "    experiment: str, default: None\n",
      "        By default the method tries to deduce the *experiment* information from\n",
      "        the metadata. To overwrite this information the *experiment* keyword\n",
      "        should be set.\n",
      "    institute: str, default: None\n",
      "        By default the method tries to deduce the *institute* information from\n",
      "        the metadata. To overwrite this information the *institute* keyword\n",
      "        should be set.\n",
      "    model: str, default: None\n",
      "        By default the method tries to deduce the *model* information from\n",
      "        the metadata. To overwrite this information the *model* keyword\n",
      "        should be set.\n",
      "    variable: str, default: None\n",
      "        By default the method tries to deduce the *variable* information from\n",
      "        the metadata. To overwrite this information the *variable* keyword\n",
      "        should be set.\n",
      "    time_frequency: str, default: None\n",
      "        By default the method tries to deduce the *time_frequency* information\n",
      "        from the metadata. To overwrite this information the *time_frequency*\n",
      "        keyword should be set.\n",
      "    ensemble: str, default: None\n",
      "        By default the method tries to deduce the *ensemble* information from\n",
      "        the metadata. To overwrite this information the *ensemble* keyword\n",
      "        should be set.\n",
      "\n",
      "    Raises\n",
      "    ------\n",
      "    ValueError: If metadata is insufficient, or product key is empty.\n",
      "\n",
      "\n",
      "    Example\n",
      "    -------\n",
      "\n",
      "    Suppose you've gotten data from somewhere and want to add this data into the\n",
      "    databrowser to make it accessible to others. In this specific\n",
      "    example we assume that you have stored your `original` data in the\n",
      "    ``/tmp/my_awesome_data`` folder.\n",
      "    E.g ``/tmp/my_awesome_data/outfile_0.nc...tmp/my_awesome_data/outfile_9.nc``\n",
      "    The routine will try to gather all necessary metadata from the files. You'll\n",
      "    have to provide additional metadata if mandatory keywords are missing.\n",
      "    To make the routine work you'll have to provide the ``institute``, ``model``\n",
      "    and ``experiment`` keywords:\n",
      "\n",
      "    .. execute_code::\n",
      "\n",
      "        from freva import UserData, databrowser\n",
      "        user_data = UserData()\n",
      "        # You can also provide wild cards to search for data\n",
      "        user_data.add(\"eur-11b\", \"/tmp/my_awesome_data/outfile_?.nc\",\n",
      "                          institute=\"clex\", model=\"UM-RA2T\",\n",
      "                          experiment=\"Bias-correct\")\n",
      "        # Check the databrowser if the data has been added\n",
      "        for file in databrowser(experiment=\"bias*\"):\n",
      "            print(file)\n",
      "\n",
      "    By default the data is copied. By using the ``how`` keyword you can\n",
      "    also link or move the data.\n",
      "\n"
     ]
    }
   ],
   "source": [
    "help(user_data.add)"
   ]
  },
  {
   "cell_type": "code",
   "execution_count": 5,
   "id": "819cb0f1",
   "metadata": {
    "execution": {
     "iopub.execute_input": "2025-06-26T15:24:00.795504Z",
     "iopub.status.busy": "2025-06-26T15:24:00.795328Z",
     "iopub.status.idle": "2025-06-26T15:24:01.589132Z",
     "shell.execute_reply": "2025-06-26T15:24:01.588482Z"
    }
   },
   "outputs": [
    {
     "name": "stdout",
     "output_type": "stream",
     "text": [
      "Status: crawling ..."
     ]
    },
    {
     "name": "stdout",
     "output_type": "stream",
     "text": [
      "ok\n"
     ]
    }
   ],
   "source": [
    "# You can also provide wild cards to search for data\n",
    "user_data.add(\"eur-11b\", \"/tmp/my_awesome_data/outfile_?.nc\",\n",
    "                  institute=\"clex\", model=\"UM-RA2T\",\n",
    "                  experiment=\"Bias-correct\")\n",
    "# Check the databrowser if the data has been added"
   ]
  },
  {
   "cell_type": "markdown",
   "id": "401651c0",
   "metadata": {},
   "source": [
    "Let's check if the data has been added to the data browser"
   ]
  },
  {
   "cell_type": "code",
   "execution_count": 6,
   "id": "e2a7d8c8",
   "metadata": {
    "execution": {
     "iopub.execute_input": "2025-06-26T15:24:01.591701Z",
     "iopub.status.busy": "2025-06-26T15:24:01.591087Z",
     "iopub.status.idle": "2025-06-26T15:24:01.620147Z",
     "shell.execute_reply": "2025-06-26T15:24:01.619477Z"
    }
   },
   "outputs": [
    {
     "data": {
      "text/html": [
       "<pre style=\"white-space:pre;overflow-x:auto;line-height:normal;font-family:Menlo,'DejaVu Sans Mono',consolas,'Courier New',monospace\"><span style=\"color: #800000; text-decoration-color: #800000; font-weight: bold\">⚠ CRITICAL: ⚠  CRITICAL: freva.databrowser is deprecated in favour of the </span>\n",
       "<span style=\"color: #800000; text-decoration-color: #800000; font-weight: bold\">newer and improved freva-client library.</span>\n",
       "<span style=\"color: #800000; text-decoration-color: #800000; font-weight: bold\">Please refer to the documentation: </span><span style=\"color: #800000; text-decoration-color: #800000; font-weight: bold; text-decoration: underline\">https://freva-org.github.io/freva-nextgen/databrowser/index.html</span>\n",
       "</pre>\n"
      ],
      "text/plain": [
       "\u001b[1;31m⚠ CRITICAL: ⚠  CRITICAL: freva.databrowser is deprecated in favour of the \u001b[0m\n",
       "\u001b[1;31mnewer and improved freva-client library.\u001b[0m\n",
       "\u001b[1;31mPlease refer to the documentation: \u001b[0m\u001b[1;4;31mhttps://freva-org.github.io/freva-nextgen/databrowser/index.html\u001b[0m\n"
      ]
     },
     "metadata": {},
     "output_type": "display_data"
    },
    {
     "name": "stdout",
     "output_type": "stream",
     "text": [
      "/tmp/user_data/user-runner/eur-11b/clex/UM-RA2T/Bias-correct/hr/user_data/hr/r0i0p0/v20250626/tas/tas_hr_UM-RA2T_Bias-correct_r0i0p0_197001041800-197001050300.nc\n",
      "/tmp/user_data/user-runner/eur-11b/clex/UM-RA2T/Bias-correct/hr/user_data/hr/r0i0p0/v20250626/tas/tas_hr_UM-RA2T_Bias-correct_r0i0p0_197001040800-197001041700.nc\n",
      "/tmp/user_data/user-runner/eur-11b/clex/UM-RA2T/Bias-correct/hr/user_data/hr/r0i0p0/v20250626/tas/tas_hr_UM-RA2T_Bias-correct_r0i0p0_197001032200-197001040700.nc\n",
      "/tmp/user_data/user-runner/eur-11b/clex/UM-RA2T/Bias-correct/hr/user_data/hr/r0i0p0/v20250626/tas/tas_hr_UM-RA2T_Bias-correct_r0i0p0_197001031200-197001032100.nc\n",
      "/tmp/user_data/user-runner/eur-11b/clex/UM-RA2T/Bias-correct/hr/user_data/hr/r0i0p0/v20250626/tas/tas_hr_UM-RA2T_Bias-correct_r0i0p0_197001030200-197001031100.nc\n",
      "/tmp/user_data/user-runner/eur-11b/clex/UM-RA2T/Bias-correct/hr/user_data/hr/r0i0p0/v20250626/tas/tas_hr_UM-RA2T_Bias-correct_r0i0p0_197001021600-197001030100.nc\n",
      "/tmp/user_data/user-runner/eur-11b/clex/UM-RA2T/Bias-correct/hr/user_data/hr/r0i0p0/v20250626/tas/tas_hr_UM-RA2T_Bias-correct_r0i0p0_197001020600-197001021500.nc\n",
      "/tmp/user_data/user-runner/eur-11b/clex/UM-RA2T/Bias-correct/hr/user_data/hr/r0i0p0/v20250626/tas/tas_hr_UM-RA2T_Bias-correct_r0i0p0_197001012000-197001020500.nc\n",
      "/tmp/user_data/user-runner/eur-11b/clex/UM-RA2T/Bias-correct/hr/user_data/hr/r0i0p0/v20250626/tas/tas_hr_UM-RA2T_Bias-correct_r0i0p0_197001011000-197001011900.nc\n",
      "/tmp/user_data/user-runner/eur-11b/clex/UM-RA2T/Bias-correct/hr/user_data/hr/r0i0p0/v20250626/tas/tas_hr_UM-RA2T_Bias-correct_r0i0p0_197001010000-197001010900.nc\n"
     ]
    }
   ],
   "source": [
    "for file in databrowser(experiment=\"bias*\"):\n",
    "    print(file)"
   ]
  },
  {
   "cell_type": "markdown",
   "id": "7c572404",
   "metadata": {},
   "source": [
    "By default the data is copied. By using the how keyword you can also link or move the data."
   ]
  },
  {
   "cell_type": "markdown",
   "id": "72626b9d",
   "metadata": {},
   "source": [
    "## Remove your data from the databrowser\n",
    "\n",
    "The `delete` removes entries from the databrowser and if necessary existing files from the central user data location. Let's inspect the help of the user `delete` method first:"
   ]
  },
  {
   "cell_type": "code",
   "execution_count": 7,
   "id": "36f5c14a",
   "metadata": {
    "execution": {
     "iopub.execute_input": "2025-06-26T15:24:01.622294Z",
     "iopub.status.busy": "2025-06-26T15:24:01.622069Z",
     "iopub.status.idle": "2025-06-26T15:24:01.626047Z",
     "shell.execute_reply": "2025-06-26T15:24:01.625418Z"
    }
   },
   "outputs": [
    {
     "name": "stdout",
     "output_type": "stream",
     "text": [
      "Help on method delete in module freva._user_data:\n",
      "\n",
      "delete(*paths: 'os.PathLike', delete_from_fs: 'bool' = False) -> 'None' method of freva._user_data.UserData instance\n",
      "    Delete data from the databrowser.\n",
      "\n",
      "    The methods deletes user data from the databrowser.\n",
      "\n",
      "    Parameters\n",
      "    ----------\n",
      "\n",
      "    *paths: os.PathLike\n",
      "        Filename(s) or Directories that are going to be from  the\n",
      "        databrowser.\n",
      "    delete_from_fs: bool, default : False\n",
      "        Do not only delete the files from the databrowser but also from their\n",
      "        central location where they have been added to.\n",
      "\n",
      "    Raises\n",
      "    ------\n",
      "    ValidationError:\n",
      "        If crawl_dirs do not belong to current user.\n",
      "\n",
      "    Example\n",
      "    -------\n",
      "\n",
      "    Any data in the central user directory that belongs to the user can\n",
      "    be deleted from the databrowser and also from the central data location:\n",
      "\n",
      "    .. execute_code::\n",
      "\n",
      "        from freva import UserData\n",
      "        user_data = UserData()\n",
      "        user_data.delete(user_data.user_dir)\n",
      "\n"
     ]
    }
   ],
   "source": [
    "help(user_data.delete)"
   ]
  },
  {
   "cell_type": "code",
   "execution_count": 8,
   "id": "9eadc3b3",
   "metadata": {
    "execution": {
     "iopub.execute_input": "2025-06-26T15:24:01.627948Z",
     "iopub.status.busy": "2025-06-26T15:24:01.627586Z",
     "iopub.status.idle": "2025-06-26T15:24:02.324085Z",
     "shell.execute_reply": "2025-06-26T15:24:02.323520Z"
    }
   },
   "outputs": [],
   "source": [
    "user_data.delete(user_data.user_dir)"
   ]
  },
  {
   "cell_type": "markdown",
   "id": "6d4af8b6",
   "metadata": {},
   "source": [
    "Check the databrowser if the data has been removed:"
   ]
  },
  {
   "cell_type": "code",
   "execution_count": 9,
   "id": "c1335145",
   "metadata": {
    "execution": {
     "iopub.execute_input": "2025-06-26T15:24:02.326406Z",
     "iopub.status.busy": "2025-06-26T15:24:02.326002Z",
     "iopub.status.idle": "2025-06-26T15:24:02.332810Z",
     "shell.execute_reply": "2025-06-26T15:24:02.332233Z"
    }
   },
   "outputs": [
    {
     "data": {
      "text/html": [
       "<pre style=\"white-space:pre;overflow-x:auto;line-height:normal;font-family:Menlo,'DejaVu Sans Mono',consolas,'Courier New',monospace\"><span style=\"color: #800000; text-decoration-color: #800000; font-weight: bold\">⚠ CRITICAL: ⚠  CRITICAL: freva.databrowser is deprecated in favour of the </span>\n",
       "<span style=\"color: #800000; text-decoration-color: #800000; font-weight: bold\">newer and improved freva-client library.</span>\n",
       "<span style=\"color: #800000; text-decoration-color: #800000; font-weight: bold\">Please refer to the documentation: </span><span style=\"color: #800000; text-decoration-color: #800000; font-weight: bold; text-decoration: underline\">https://freva-org.github.io/freva-nextgen/databrowser/index.html</span>\n",
       "</pre>\n"
      ],
      "text/plain": [
       "\u001b[1;31m⚠ CRITICAL: ⚠  CRITICAL: freva.databrowser is deprecated in favour of the \u001b[0m\n",
       "\u001b[1;31mnewer and improved freva-client library.\u001b[0m\n",
       "\u001b[1;31mPlease refer to the documentation: \u001b[0m\u001b[1;4;31mhttps://freva-org.github.io/freva-nextgen/databrowser/index.html\u001b[0m\n"
      ]
     },
     "metadata": {},
     "output_type": "display_data"
    },
    {
     "data": {
      "text/plain": [
       "<generator object SolrFindFiles._search at 0x7fc538e08040>"
      ]
     },
     "execution_count": 9,
     "metadata": {},
     "output_type": "execute_result"
    }
   ],
   "source": [
    " databrowser(experiment=\"bias*\", count=True)"
   ]
  },
  {
   "cell_type": "markdown",
   "id": "cb7cde92",
   "metadata": {},
   "source": [
    "## (Re)-Index existing data to the databrowser\n",
    "\n",
    "Using the `index` method the `databrowser` can be updated with existing user data. For example, if data has been removed from the `databrowser` it can be re-added. Again, inspect the help first:"
   ]
  },
  {
   "cell_type": "code",
   "execution_count": 10,
   "id": "f7737037",
   "metadata": {
    "execution": {
     "iopub.execute_input": "2025-06-26T15:24:02.334657Z",
     "iopub.status.busy": "2025-06-26T15:24:02.334478Z",
     "iopub.status.idle": "2025-06-26T15:24:02.338157Z",
     "shell.execute_reply": "2025-06-26T15:24:02.337625Z"
    }
   },
   "outputs": [
    {
     "name": "stdout",
     "output_type": "stream",
     "text": [
      "Help on method index in module freva._user_data:\n",
      "\n",
      "index(*crawl_dirs: 'os.PathLike', dtype: 'str' = 'fs', continue_on_errors: 'bool' = False, **kwargs: 'bool') -> 'None' method of freva._user_data.UserData instance\n",
      "    Index and add user output data to the databrowser.\n",
      "\n",
      "    This method can be used to update the databrowser for existing user data.\n",
      "\n",
      "    Parameters\n",
      "    ----------\n",
      "    crawl_dirs:\n",
      "        The data path(s) that needs to be crawled.\n",
      "    dtype:\n",
      "        The data type, currently only files on the file system are supported.\n",
      "    continue_on_errors:\n",
      "        Continue indexing on error.\n",
      "\n",
      "    Raises\n",
      "    ------\n",
      "    ValidationError:\n",
      "        If crawl_dirs do not belong to current user.\n",
      "\n",
      "    Example\n",
      "    -------\n",
      "\n",
      "    If data has been removed from the databrowser it can be re added using\n",
      "    the ``index`` method:\n",
      "\n",
      "    .. execute_code::\n",
      "\n",
      "        from freva import UserData\n",
      "        user_data = UserData()\n",
      "        user_data.index()\n",
      "\n"
     ]
    }
   ],
   "source": [
    "help(user_data.index)"
   ]
  },
  {
   "cell_type": "code",
   "execution_count": 11,
   "id": "808782fe",
   "metadata": {
    "execution": {
     "iopub.execute_input": "2025-06-26T15:24:02.340123Z",
     "iopub.status.busy": "2025-06-26T15:24:02.339933Z",
     "iopub.status.idle": "2025-06-26T15:24:02.498596Z",
     "shell.execute_reply": "2025-06-26T15:24:02.497974Z"
    }
   },
   "outputs": [
    {
     "name": "stdout",
     "output_type": "stream",
     "text": [
      "Status: crawling ..."
     ]
    },
    {
     "name": "stdout",
     "output_type": "stream",
     "text": [
      "ok\n"
     ]
    }
   ],
   "source": [
    "user_data.index()"
   ]
  }
 ],
 "metadata": {
  "kernelspec": {
   "display_name": "freva",
   "language": "python",
   "name": "freva"
  },
  "language_info": {
   "codemirror_mode": {
    "name": "ipython",
    "version": 3
   },
   "file_extension": ".py",
   "mimetype": "text/x-python",
   "name": "python",
   "nbconvert_exporter": "python",
   "pygments_lexer": "ipython3",
   "version": "3.12.11"
  }
 },
 "nbformat": 4,
 "nbformat_minor": 5
}
