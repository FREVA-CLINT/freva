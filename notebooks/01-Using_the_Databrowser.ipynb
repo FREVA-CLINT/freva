{
 "cells": [
  {
   "cell_type": "markdown",
   "id": "0f552b23",
   "metadata": {},
   "source": [
    "# Searching for data: the databrowser method\n",
    "\n",
    "All files available on in the project are scanned and indexed via a data search server. This allows you to query the server with almost immediate response time. To search for data you can either use the `databrowser` method of the, `freva` python module. Let's import the `freva` module first:"
   ]
  },
  {
   "cell_type": "code",
   "execution_count": 1,
   "id": "4452611e",
   "metadata": {
    "execution": {
     "iopub.execute_input": "2022-12-07T18:09:41.904022Z",
     "iopub.status.busy": "2022-12-07T18:09:41.903715Z",
     "iopub.status.idle": "2022-12-07T18:09:41.917353Z",
     "shell.execute_reply": "2022-12-07T18:09:41.916706Z"
    }
   },
   "outputs": [],
   "source": [
    "import freva"
   ]
  },
  {
   "cell_type": "markdown",
   "id": "c279c04c",
   "metadata": {},
   "source": [
    "Now inspect the help menu:"
   ]
  },
  {
   "cell_type": "code",
   "execution_count": 2,
   "id": "30b10d73",
   "metadata": {
    "execution": {
     "iopub.execute_input": "2022-12-07T18:09:41.920654Z",
     "iopub.status.busy": "2022-12-07T18:09:41.920252Z",
     "iopub.status.idle": "2022-12-07T18:09:41.928149Z",
     "shell.execute_reply": "2022-12-07T18:09:41.927494Z"
    }
   },
   "outputs": [
    {
     "name": "stdout",
     "output_type": "stream",
     "text": [
      "Help on function databrowser in module freva._databrowser:\n",
      "\n",
      "databrowser(*, attributes: 'bool' = False, all_facets: 'bool' = False, facet: 'Optional[Union[str, list[str]]]' = None, multiversion: 'bool' = False, relevant_only: 'bool' = False, batch_size: 'int' = 5000, count: 'bool' = False, time: 'str' = '', time_select: 'str' = 'flexible', **search_facets: 'Union[str, Path, int, list[str]]') -> 'Union[dict[Any, dict[Any, Any]], Iterator[str], int]'\n",
      "    Find data in the system.\n",
      "    \n",
      "    You can either search for files or data facets (variable, model, ...)\n",
      "    that are available. The query is of the form key=value. <value> might\n",
      "    use *, ? as wildcards or any regular expression.\n",
      "    \n",
      "    Parameters\n",
      "    ----------\n",
      "    **search_facets: Union[str, Path, in, list[str]]\n",
      "        The facets to be applied in the data search. If not given\n",
      "        the whole dataset will be queried.\n",
      "    time: str\n",
      "        Special search facet to refine/subset search results by time.\n",
      "        This can be a string representation of a time range or a single\n",
      "        time step. The time steps have to follow ISO-8601. Valid strings are\n",
      "        ``%Y-%m-%dT%H:%M`` to ``%Y-%m-%dT%H:%M`` for time ranges and\n",
      "        ``%Y-%m-%dT%H:%M``. **Note**: You don't have to give the full string\n",
      "        format to subset time steps ``%Y``, ``%Y-%m`` etc are also valid.\n",
      "    time_select: str, default: flexible\n",
      "        Operator that specifies how the time period is selected. Choose from\n",
      "        flexible (default), strict or file. ``strict`` returns only those files\n",
      "        that have the *entire* time period covered. The time search ``2000 to\n",
      "        2012`` will not select files containing data from 2010 to 2020 with\n",
      "        the ``strict`` method. ``flexible`` will select those files as\n",
      "        ``flexible`` returns those files that have either start or end period\n",
      "        covered. ``file`` will only return files where the entire time\n",
      "        period is contained within *one single* file.\n",
      "    all_facets: bool, default: False\n",
      "        Retrieve all facets (attributes & values) instead of the files.\n",
      "    facet: Union[str, list[str]], default: None\n",
      "        Retrieve these facets (attributes & values) instead of the files.\n",
      "    attributes: bool, default: False\n",
      "        Retrieve all possible attributes for the current search\n",
      "        instead of the files.\n",
      "    multiversion: bool, default: False\n",
      "        Select all versions and not just the latest version (default).\n",
      "    relevant_only: bool, default: False\n",
      "        Show only facets that filter more than one result.\n",
      "    batch_size: int, default: 10\n",
      "        Size of the search querey.\n",
      "    count: bool, default: False\n",
      "        Display only this amount for search results.\n",
      "    \n",
      "    Returns\n",
      "    -------\n",
      "    Iterator :\n",
      "        If ``all_facets`` is False and ``facet`` is None an\n",
      "        iterator with results.\n",
      "    int :\n",
      "        If ``all_facets`` is False and ``facet`` is None and ``count`` is True\n",
      "    dict[Any, dict[str, Any] :\n",
      "        dictionary for facet results, if ``all_facets`` is True or ``facet``\n",
      "        was given a value (str or list[str])\n",
      "    \n",
      "    \n",
      "    Example\n",
      "    -------\n",
      "    \n",
      "    Seach for files in the system:\n",
      "    \n",
      "    .. execute_code::\n",
      "    \n",
      "        import freva\n",
      "        files = freva.databrowser(project='obs*', institute='cpc',\n",
      "                                  time_frequency='??min',\n",
      "                                  variable='pr')\n",
      "        print(files)\n",
      "        print(next(files))\n",
      "        for file in files:\n",
      "            print(file)\n",
      "            break\n",
      "        facets = freva.databrowser(project='obs*', attributes=True)\n",
      "        print(list(facets))\n",
      "    \n",
      "    Search for files between a two given time steps:\n",
      "    \n",
      "    .. execute_code::\n",
      "    \n",
      "        import freva\n",
      "        file_range = freva.databrowser(project=\"obs*\", time=\"2016-09-02T22:15 to 2016-10\")\n",
      "        for file in file_range:\n",
      "            print(file)\n",
      "    \n",
      "    The default method for selecting time periods is ``flexible``, which means\n",
      "    all files are selected that cover at least start or end date. The\n",
      "    ``strict`` method implies that the *entire* search time period has to be\n",
      "    covered by the files. Using the ``strict`` method in the example above would\n",
      "    only yield one file because the first file contains time steps prior to the\n",
      "    start of the time period:\n",
      "    \n",
      "    .. execute_code::\n",
      "    \n",
      "        import freva\n",
      "        file_range = freva.databrowser(project=\"obs*\", time=\"2016-09-02T22:15 to 2016-10\", time_select=\"strict\")\n",
      "        for file in file_range:\n",
      "            print(file)\n",
      "    \n",
      "    \n",
      "    Search for facets in the system:\n",
      "    \n",
      "    .. execute_code::\n",
      "    \n",
      "        import freva\n",
      "        all_facets = freva.databrowser(project='obs*', all_facets=True)\n",
      "        print(all_facets)\n",
      "        spec_facets = freva.databrowser(project='obs*',\n",
      "                                        facet=[\"time_frequency\", \"variable\"])\n",
      "        print(spec_facets)\n",
      "    \n",
      "    Get all models that have a given time step:\n",
      "    \n",
      "    .. execute_code::\n",
      "    \n",
      "        import freva\n",
      "        model = list(freva.databrowser(project=\"obs*\", time=\"2016-09-02T22:10\"))\n",
      "        print(model)\n",
      "    \n",
      "    Reverse search: retrieving meta data from a known file\n",
      "    \n",
      "    .. execute_code::\n",
      "    \n",
      "        import freva\n",
      "        from pathlib import Path\n",
      "        file = \".docker/data/observations/grid/CPC/CPC/cmorph/30min/atmos/30min/r1i1p1/v20210618/pr/pr_30min_CPC_cmorph_r1i1p1_201609020000-201609020030.nc\"\n",
      "        res = freva.databrowser(file=file, all_facets=True)\n",
      "        print(res)\n",
      "    \n",
      "    Check the number of files in the system\n",
      "    \n",
      "    .. execute_code::\n",
      "    \n",
      "        import freva\n",
      "        num_files = freva.databrowser(experiment=\"cmorph\", count=True)\n",
      "        print(num_files)\n",
      "\n"
     ]
    }
   ],
   "source": [
    "help(freva.databrowser)"
   ]
  },
  {
   "cell_type": "markdown",
   "id": "ad14a13b",
   "metadata": {},
   "source": [
    "The databrowser expects a list of `key=value` pairs. The order of the pairs doesn’t really matter. Most important is that you don’t need to split the search according to the type of data you are searching for. You can search for any files, both observations, reanalysis, and model data, all at the same time. Also important is that all searches are case insensitive. You can also search for attributes themselves instead of file paths. For example you can search for the list of variables available that satisfies a certain constraint (e.g. sampled 6hr, from a certain model, etc)."
   ]
  },
  {
   "cell_type": "code",
   "execution_count": 3,
   "id": "8e658edf",
   "metadata": {
    "execution": {
     "iopub.execute_input": "2022-12-07T18:09:41.931336Z",
     "iopub.status.busy": "2022-12-07T18:09:41.930953Z",
     "iopub.status.idle": "2022-12-07T18:09:42.167884Z",
     "shell.execute_reply": "2022-12-07T18:09:42.167173Z"
    }
   },
   "outputs": [
    {
     "data": {
      "text/plain": [
       "<generator object SolrFindFiles._search at 0x7fc9e8185380>"
      ]
     },
     "execution_count": 3,
     "metadata": {},
     "output_type": "execute_result"
    }
   ],
   "source": [
    "files = freva.databrowser(project=\"observations\", variable=\"pr\", model=\"cp*\")\n",
    "files"
   ]
  },
  {
   "cell_type": "markdown",
   "id": "1b7dffb2",
   "metadata": {},
   "source": [
    "This will return a so called iterator. The advantage of an iterator is that the data can be loaded into memory if needed. Nothing is pre loaded. To access the files you can either loop through the Iterator or convert it to a list:"
   ]
  },
  {
   "cell_type": "code",
   "execution_count": 4,
   "id": "82e51de3",
   "metadata": {
    "execution": {
     "iopub.execute_input": "2022-12-07T18:09:42.171437Z",
     "iopub.status.busy": "2022-12-07T18:09:42.170941Z",
     "iopub.status.idle": "2022-12-07T18:09:42.205784Z",
     "shell.execute_reply": "2022-12-07T18:09:42.204975Z"
    }
   },
   "outputs": [
    {
     "data": {
      "text/plain": [
       "['/home/runner/work/freva/freva/.docker/data/observations/grid/CPC/CPC/cmorph/30min/atmos/30min/r1i1p1/v20210618/pr/pr_30min_CPC_cmorph_r1i1p1_201609022300-201609022330.nc',\n",
       " '/home/runner/work/freva/freva/.docker/data/observations/grid/CPC/CPC/cmorph/30min/atmos/30min/r1i1p1/v20210618/pr/pr_30min_CPC_cmorph_r1i1p1_201609022200-201609022230.nc',\n",
       " '/home/runner/work/freva/freva/.docker/data/observations/grid/CPC/CPC/cmorph/30min/atmos/30min/r1i1p1/v20210618/pr/pr_30min_CPC_cmorph_r1i1p1_201609022100-201609022130.nc',\n",
       " '/home/runner/work/freva/freva/.docker/data/observations/grid/CPC/CPC/cmorph/30min/atmos/30min/r1i1p1/v20210618/pr/pr_30min_CPC_cmorph_r1i1p1_201609022000-201609022030.nc',\n",
       " '/home/runner/work/freva/freva/.docker/data/observations/grid/CPC/CPC/cmorph/30min/atmos/30min/r1i1p1/v20210618/pr/pr_30min_CPC_cmorph_r1i1p1_201609021900-201609021930.nc',\n",
       " '/home/runner/work/freva/freva/.docker/data/observations/grid/CPC/CPC/cmorph/30min/atmos/30min/r1i1p1/v20210618/pr/pr_30min_CPC_cmorph_r1i1p1_201609021800-201609021830.nc',\n",
       " '/home/runner/work/freva/freva/.docker/data/observations/grid/CPC/CPC/cmorph/30min/atmos/30min/r1i1p1/v20210618/pr/pr_30min_CPC_cmorph_r1i1p1_201609021700-201609021730.nc',\n",
       " '/home/runner/work/freva/freva/.docker/data/observations/grid/CPC/CPC/cmorph/30min/atmos/30min/r1i1p1/v20210618/pr/pr_30min_CPC_cmorph_r1i1p1_201609021600-201609021630.nc',\n",
       " '/home/runner/work/freva/freva/.docker/data/observations/grid/CPC/CPC/cmorph/30min/atmos/30min/r1i1p1/v20210618/pr/pr_30min_CPC_cmorph_r1i1p1_201609021500-201609021530.nc',\n",
       " '/home/runner/work/freva/freva/.docker/data/observations/grid/CPC/CPC/cmorph/30min/atmos/30min/r1i1p1/v20210618/pr/pr_30min_CPC_cmorph_r1i1p1_201609021400-201609021430.nc',\n",
       " '/home/runner/work/freva/freva/.docker/data/observations/grid/CPC/CPC/cmorph/30min/atmos/30min/r1i1p1/v20210618/pr/pr_30min_CPC_cmorph_r1i1p1_201609021300-201609021330.nc',\n",
       " '/home/runner/work/freva/freva/.docker/data/observations/grid/CPC/CPC/cmorph/30min/atmos/30min/r1i1p1/v20210618/pr/pr_30min_CPC_cmorph_r1i1p1_201609021200-201609021230.nc',\n",
       " '/home/runner/work/freva/freva/.docker/data/observations/grid/CPC/CPC/cmorph/30min/atmos/30min/r1i1p1/v20210618/pr/pr_30min_CPC_cmorph_r1i1p1_201609021100-201609021130.nc',\n",
       " '/home/runner/work/freva/freva/.docker/data/observations/grid/CPC/CPC/cmorph/30min/atmos/30min/r1i1p1/v20210618/pr/pr_30min_CPC_cmorph_r1i1p1_201609021000-201609021030.nc',\n",
       " '/home/runner/work/freva/freva/.docker/data/observations/grid/CPC/CPC/cmorph/30min/atmos/30min/r1i1p1/v20210618/pr/pr_30min_CPC_cmorph_r1i1p1_201609020900-201609020930.nc',\n",
       " '/home/runner/work/freva/freva/.docker/data/observations/grid/CPC/CPC/cmorph/30min/atmos/30min/r1i1p1/v20210618/pr/pr_30min_CPC_cmorph_r1i1p1_201609020800-201609020830.nc',\n",
       " '/home/runner/work/freva/freva/.docker/data/observations/grid/CPC/CPC/cmorph/30min/atmos/30min/r1i1p1/v20210618/pr/pr_30min_CPC_cmorph_r1i1p1_201609020700-201609020730.nc',\n",
       " '/home/runner/work/freva/freva/.docker/data/observations/grid/CPC/CPC/cmorph/30min/atmos/30min/r1i1p1/v20210618/pr/pr_30min_CPC_cmorph_r1i1p1_201609020600-201609020630.nc',\n",
       " '/home/runner/work/freva/freva/.docker/data/observations/grid/CPC/CPC/cmorph/30min/atmos/30min/r1i1p1/v20210618/pr/pr_30min_CPC_cmorph_r1i1p1_201609020500-201609020530.nc',\n",
       " '/home/runner/work/freva/freva/.docker/data/observations/grid/CPC/CPC/cmorph/30min/atmos/30min/r1i1p1/v20210618/pr/pr_30min_CPC_cmorph_r1i1p1_201609020400-201609020430.nc',\n",
       " '/home/runner/work/freva/freva/.docker/data/observations/grid/CPC/CPC/cmorph/30min/atmos/30min/r1i1p1/v20210618/pr/pr_30min_CPC_cmorph_r1i1p1_201609020300-201609020330.nc',\n",
       " '/home/runner/work/freva/freva/.docker/data/observations/grid/CPC/CPC/cmorph/30min/atmos/30min/r1i1p1/v20210618/pr/pr_30min_CPC_cmorph_r1i1p1_201609020200-201609020230.nc',\n",
       " '/home/runner/work/freva/freva/.docker/data/observations/grid/CPC/CPC/cmorph/30min/atmos/30min/r1i1p1/v20210618/pr/pr_30min_CPC_cmorph_r1i1p1_201609020100-201609020130.nc',\n",
       " '/home/runner/work/freva/freva/.docker/data/observations/grid/CPC/CPC/cmorph/30min/atmos/30min/r1i1p1/v20210618/pr/pr_30min_CPC_cmorph_r1i1p1_201609020000-201609020030.nc']"
      ]
     },
     "execution_count": 4,
     "metadata": {},
     "output_type": "execute_result"
    }
   ],
   "source": [
    "list(files)"
   ]
  },
  {
   "cell_type": "markdown",
   "id": "8ac2c194",
   "metadata": {},
   "source": [
    "In some cases it might be useful to know how much files are found in the `databrowser` for certain search constraints. In such cases you can use the `count` flag to count the number of found files instead of getting the files themselves."
   ]
  },
  {
   "cell_type": "code",
   "execution_count": 5,
   "id": "3a6cf622",
   "metadata": {
    "execution": {
     "iopub.execute_input": "2022-12-07T18:09:42.209520Z",
     "iopub.status.busy": "2022-12-07T18:09:42.208908Z",
     "iopub.status.idle": "2022-12-07T18:09:42.221870Z",
     "shell.execute_reply": "2022-12-07T18:09:42.221133Z"
    }
   },
   "outputs": [
    {
     "data": {
      "text/plain": [
       "24"
      ]
     },
     "execution_count": 5,
     "metadata": {},
     "output_type": "execute_result"
    }
   ],
   "source": [
    "freva.databrowser(project=\"observations\", variable=\"pr\", model=\"cp*\", count=True)"
   ]
  },
  {
   "cell_type": "markdown",
   "id": "49db8913",
   "metadata": {},
   "source": [
    "Sometimes it might be useful to subset the data you’re interested in by time. To do so you can use the time search key to subset time steps and whole time ranges. For example let’s get the for certain time range:"
   ]
  },
  {
   "cell_type": "code",
   "execution_count": 6,
   "id": "3132274e",
   "metadata": {
    "execution": {
     "iopub.execute_input": "2022-12-07T18:09:42.225104Z",
     "iopub.status.busy": "2022-12-07T18:09:42.224697Z",
     "iopub.status.idle": "2022-12-07T18:09:42.252130Z",
     "shell.execute_reply": "2022-12-07T18:09:42.251399Z"
    }
   },
   "outputs": [
    {
     "data": {
      "text/plain": [
       "['/home/runner/work/freva/freva/.docker/data/observations/grid/CPC/CPC/cmorph/30min/atmos/30min/r1i1p1/v20210618/pr/pr_30min_CPC_cmorph_r1i1p1_201609022300-201609022330.nc',\n",
       " '/home/runner/work/freva/freva/.docker/data/observations/grid/CPC/CPC/cmorph/30min/atmos/30min/r1i1p1/v20210618/pr/pr_30min_CPC_cmorph_r1i1p1_201609022200-201609022230.nc']"
      ]
     },
     "execution_count": 6,
     "metadata": {},
     "output_type": "execute_result"
    }
   ],
   "source": [
    "list(freva.databrowser(project=\"observations\", time=\"2016-09-02T22:15 to 2016-10\"))"
   ]
  },
  {
   "cell_type": "markdown",
   "id": "10cc881b",
   "metadata": {},
   "source": [
    "The default method for selecting time periods is flexible, which means all files are selected that cover at least start or end date. The strict method implies that the entire search time period has to be covered by the files. Using the strict method in the example above would only yield on file because the first file contains time steps prior to the start of the time period:"
   ]
  },
  {
   "cell_type": "code",
   "execution_count": 7,
   "id": "96b67cb8",
   "metadata": {
    "execution": {
     "iopub.execute_input": "2022-12-07T18:09:42.255912Z",
     "iopub.status.busy": "2022-12-07T18:09:42.255636Z",
     "iopub.status.idle": "2022-12-07T18:09:42.282991Z",
     "shell.execute_reply": "2022-12-07T18:09:42.282092Z"
    }
   },
   "outputs": [
    {
     "data": {
      "text/plain": [
       "['/home/runner/work/freva/freva/.docker/data/observations/grid/CPC/CPC/cmorph/30min/atmos/30min/r1i1p1/v20210618/pr/pr_30min_CPC_cmorph_r1i1p1_201609022300-201609022330.nc']"
      ]
     },
     "execution_count": 7,
     "metadata": {},
     "output_type": "execute_result"
    }
   ],
   "source": [
    "list(freva.databrowser(project=\"observations\", time=\"2016-09-02T22:15 to 2016-10\", time_select=\"strict\"))"
   ]
  },
  {
   "cell_type": "markdown",
   "id": "377c7d75",
   "metadata": {},
   "source": [
    "The time format has to follow the ISO-8601 standard. Time ranges are indicated by the to keyword such as 2000 to 2100 or 2000-01 to 2100-12 and alike. Single time steps are given without the to keyword."
   ]
  },
  {
   "cell_type": "markdown",
   "id": "4b1a383c",
   "metadata": {},
   "source": [
    "You might as well want to know about possible values that an attribute can take after a certain search is done. For this you use the `facet` flag (facets are the attributes used to search for and sub set the data). For example to see all facets that are available in the observations project:"
   ]
  },
  {
   "cell_type": "code",
   "execution_count": 8,
   "id": "076c8f4b",
   "metadata": {
    "execution": {
     "iopub.execute_input": "2022-12-07T18:09:42.288581Z",
     "iopub.status.busy": "2022-12-07T18:09:42.288055Z",
     "iopub.status.idle": "2022-12-07T18:09:42.325239Z",
     "shell.execute_reply": "2022-12-07T18:09:42.324644Z"
    }
   },
   "outputs": [
    {
     "data": {
      "text/plain": [
       "{'variable': ['pr'],\n",
       " 'time_frequency': ['30min'],\n",
       " 'cmor_table': ['30min'],\n",
       " 'realm': ['atmos'],\n",
       " 'institute': ['cpc'],\n",
       " 'ensemble': ['r1i1p1'],\n",
       " 'experiment': ['cmorph'],\n",
       " 'dataset': ['testdata'],\n",
       " 'product': ['grid'],\n",
       " 'model': ['cpc'],\n",
       " 'project': ['observations']}"
      ]
     },
     "execution_count": 8,
     "metadata": {},
     "output_type": "execute_result"
    }
   ],
   "source": [
    "freva.databrowser(project=\"observations\", all_facets=True)"
   ]
  },
  {
   "cell_type": "markdown",
   "id": "aa7319d4",
   "metadata": {},
   "source": [
    "Likewise you can inspect all model `facet` flags in the databrowser:"
   ]
  },
  {
   "cell_type": "code",
   "execution_count": 9,
   "id": "c6ddf027",
   "metadata": {
    "execution": {
     "iopub.execute_input": "2022-12-07T18:09:42.330180Z",
     "iopub.status.busy": "2022-12-07T18:09:42.328839Z",
     "iopub.status.idle": "2022-12-07T18:09:42.345988Z",
     "shell.execute_reply": "2022-12-07T18:09:42.345246Z"
    }
   },
   "outputs": [
    {
     "data": {
      "text/plain": [
       "{'model': ['access-cm2',\n",
       "  'cpc',\n",
       "  'mpi-esm1-2-lr',\n",
       "  'mpi-m-mpi-esm-lr-clmcom-cclm4-8-17-v1',\n",
       "  'ncc-noresm1-m-gerics-remo2015-v1',\n",
       "  'nodc',\n",
       "  'um-ra2t']}"
      ]
     },
     "execution_count": 9,
     "metadata": {},
     "output_type": "execute_result"
    }
   ],
   "source": [
    "freva.databrowser(facet=\"model\")"
   ]
  },
  {
   "cell_type": "markdown",
   "id": "4c010777",
   "metadata": {},
   "source": [
    "__Note__: If you don't give a search constraints like in the case above the command will query the whole data server."
   ]
  },
  {
   "cell_type": "markdown",
   "id": "a5f33a36",
   "metadata": {},
   "source": [
    "You can also retrieve information on how many facets are found by the databrowser by giving the count flag"
   ]
  },
  {
   "cell_type": "code",
   "execution_count": 10,
   "id": "9a75e16a",
   "metadata": {
    "execution": {
     "iopub.execute_input": "2022-12-07T18:09:42.349307Z",
     "iopub.status.busy": "2022-12-07T18:09:42.348909Z",
     "iopub.status.idle": "2022-12-07T18:09:42.361709Z",
     "shell.execute_reply": "2022-12-07T18:09:42.361168Z"
    }
   },
   "outputs": [
    {
     "data": {
      "text/plain": [
       "{'model': {'access-cm2': 1,\n",
       "  'cpc': 24,\n",
       "  'mpi-esm1-2-lr': 1,\n",
       "  'mpi-m-mpi-esm-lr-clmcom-cclm4-8-17-v1': 10,\n",
       "  'ncc-noresm1-m-gerics-remo2015-v1': 2,\n",
       "  'nodc': 1,\n",
       "  'um-ra2t': 10}}"
      ]
     },
     "execution_count": 10,
     "metadata": {},
     "output_type": "execute_result"
    }
   ],
   "source": [
    "freva.databrowser(facet=\"model\", count=True)"
   ]
  },
  {
   "cell_type": "markdown",
   "id": "e4775b78",
   "metadata": {},
   "source": [
    "Reverse search is also be possible. You can query the metadata of a given file:"
   ]
  },
  {
   "cell_type": "code",
   "execution_count": 11,
   "id": "a920c003",
   "metadata": {
    "execution": {
     "iopub.execute_input": "2022-12-07T18:09:42.366360Z",
     "iopub.status.busy": "2022-12-07T18:09:42.365867Z",
     "iopub.status.idle": "2022-12-07T18:09:42.394870Z",
     "shell.execute_reply": "2022-12-07T18:09:42.394167Z"
    }
   },
   "outputs": [
    {
     "data": {
      "text/plain": [
       "'/tmp/user_data/user-runner/eur-11b/clex/UM-RA2T/Bias-correct/hr/user_data/hr/r0i0p0/v20221207/tas/tas_hr_UM-RA2T_Bias-correct_r0i0p0_197001041800-197001050300.nc'"
      ]
     },
     "execution_count": 11,
     "metadata": {},
     "output_type": "execute_result"
    }
   ],
   "source": [
    "file_to_query = next(freva.databrowser()) # Get a file\n",
    "file_to_query"
   ]
  },
  {
   "cell_type": "code",
   "execution_count": 12,
   "id": "febba8ed",
   "metadata": {
    "execution": {
     "iopub.execute_input": "2022-12-07T18:09:42.398206Z",
     "iopub.status.busy": "2022-12-07T18:09:42.397948Z",
     "iopub.status.idle": "2022-12-07T18:09:42.427235Z",
     "shell.execute_reply": "2022-12-07T18:09:42.426578Z"
    }
   },
   "outputs": [
    {
     "data": {
      "text/plain": [
       "{'variable': ['tas'],\n",
       " 'time_frequency': ['hr'],\n",
       " 'cmor_table': ['hr'],\n",
       " 'realm': ['user_data'],\n",
       " 'institute': ['clex'],\n",
       " 'ensemble': ['r0i0p0'],\n",
       " 'experiment': ['bias-correct'],\n",
       " 'dataset': ['crawl_my_data'],\n",
       " 'product': ['eur-11b'],\n",
       " 'model': ['um-ra2t'],\n",
       " 'project': ['user-runner']}"
      ]
     },
     "execution_count": 12,
     "metadata": {},
     "output_type": "execute_result"
    }
   ],
   "source": [
    "freva.databrowser(file=file_to_query, all_facets=True)"
   ]
  },
  {
   "cell_type": "markdown",
   "id": "d7158582",
   "metadata": {},
   "source": [
    "## Example: Using the databrowser to open datasets with xarray"
   ]
  },
  {
   "cell_type": "code",
   "execution_count": 13,
   "id": "29d23614",
   "metadata": {
    "execution": {
     "iopub.execute_input": "2022-12-07T18:09:42.430688Z",
     "iopub.status.busy": "2022-12-07T18:09:42.430231Z",
     "iopub.status.idle": "2022-12-07T18:09:43.395596Z",
     "shell.execute_reply": "2022-12-07T18:09:43.394912Z"
    }
   },
   "outputs": [
    {
     "data": {
      "text/html": [
       "<div><svg style=\"position: absolute; width: 0; height: 0; overflow: hidden\">\n",
       "<defs>\n",
       "<symbol id=\"icon-database\" viewBox=\"0 0 32 32\">\n",
       "<path d=\"M16 0c-8.837 0-16 2.239-16 5v4c0 2.761 7.163 5 16 5s16-2.239 16-5v-4c0-2.761-7.163-5-16-5z\"></path>\n",
       "<path d=\"M16 17c-8.837 0-16-2.239-16-5v6c0 2.761 7.163 5 16 5s16-2.239 16-5v-6c0 2.761-7.163 5-16 5z\"></path>\n",
       "<path d=\"M16 26c-8.837 0-16-2.239-16-5v6c0 2.761 7.163 5 16 5s16-2.239 16-5v-6c0 2.761-7.163 5-16 5z\"></path>\n",
       "</symbol>\n",
       "<symbol id=\"icon-file-text2\" viewBox=\"0 0 32 32\">\n",
       "<path d=\"M28.681 7.159c-0.694-0.947-1.662-2.053-2.724-3.116s-2.169-2.030-3.116-2.724c-1.612-1.182-2.393-1.319-2.841-1.319h-15.5c-1.378 0-2.5 1.121-2.5 2.5v27c0 1.378 1.122 2.5 2.5 2.5h23c1.378 0 2.5-1.122 2.5-2.5v-19.5c0-0.448-0.137-1.23-1.319-2.841zM24.543 5.457c0.959 0.959 1.712 1.825 2.268 2.543h-4.811v-4.811c0.718 0.556 1.584 1.309 2.543 2.268zM28 29.5c0 0.271-0.229 0.5-0.5 0.5h-23c-0.271 0-0.5-0.229-0.5-0.5v-27c0-0.271 0.229-0.5 0.5-0.5 0 0 15.499-0 15.5 0v7c0 0.552 0.448 1 1 1h7v19.5z\"></path>\n",
       "<path d=\"M23 26h-14c-0.552 0-1-0.448-1-1s0.448-1 1-1h14c0.552 0 1 0.448 1 1s-0.448 1-1 1z\"></path>\n",
       "<path d=\"M23 22h-14c-0.552 0-1-0.448-1-1s0.448-1 1-1h14c0.552 0 1 0.448 1 1s-0.448 1-1 1z\"></path>\n",
       "<path d=\"M23 18h-14c-0.552 0-1-0.448-1-1s0.448-1 1-1h14c0.552 0 1 0.448 1 1s-0.448 1-1 1z\"></path>\n",
       "</symbol>\n",
       "</defs>\n",
       "</svg>\n",
       "<style>/* CSS stylesheet for displaying xarray objects in jupyterlab.\n",
       " *\n",
       " */\n",
       "\n",
       ":root {\n",
       "  --xr-font-color0: var(--jp-content-font-color0, rgba(0, 0, 0, 1));\n",
       "  --xr-font-color2: var(--jp-content-font-color2, rgba(0, 0, 0, 0.54));\n",
       "  --xr-font-color3: var(--jp-content-font-color3, rgba(0, 0, 0, 0.38));\n",
       "  --xr-border-color: var(--jp-border-color2, #e0e0e0);\n",
       "  --xr-disabled-color: var(--jp-layout-color3, #bdbdbd);\n",
       "  --xr-background-color: var(--jp-layout-color0, white);\n",
       "  --xr-background-color-row-even: var(--jp-layout-color1, white);\n",
       "  --xr-background-color-row-odd: var(--jp-layout-color2, #eeeeee);\n",
       "}\n",
       "\n",
       "html[theme=dark],\n",
       "body[data-theme=dark],\n",
       "body.vscode-dark {\n",
       "  --xr-font-color0: rgba(255, 255, 255, 1);\n",
       "  --xr-font-color2: rgba(255, 255, 255, 0.54);\n",
       "  --xr-font-color3: rgba(255, 255, 255, 0.38);\n",
       "  --xr-border-color: #1F1F1F;\n",
       "  --xr-disabled-color: #515151;\n",
       "  --xr-background-color: #111111;\n",
       "  --xr-background-color-row-even: #111111;\n",
       "  --xr-background-color-row-odd: #313131;\n",
       "}\n",
       "\n",
       ".xr-wrap {\n",
       "  display: block !important;\n",
       "  min-width: 300px;\n",
       "  max-width: 700px;\n",
       "}\n",
       "\n",
       ".xr-text-repr-fallback {\n",
       "  /* fallback to plain text repr when CSS is not injected (untrusted notebook) */\n",
       "  display: none;\n",
       "}\n",
       "\n",
       ".xr-header {\n",
       "  padding-top: 6px;\n",
       "  padding-bottom: 6px;\n",
       "  margin-bottom: 4px;\n",
       "  border-bottom: solid 1px var(--xr-border-color);\n",
       "}\n",
       "\n",
       ".xr-header > div,\n",
       ".xr-header > ul {\n",
       "  display: inline;\n",
       "  margin-top: 0;\n",
       "  margin-bottom: 0;\n",
       "}\n",
       "\n",
       ".xr-obj-type,\n",
       ".xr-array-name {\n",
       "  margin-left: 2px;\n",
       "  margin-right: 10px;\n",
       "}\n",
       "\n",
       ".xr-obj-type {\n",
       "  color: var(--xr-font-color2);\n",
       "}\n",
       "\n",
       ".xr-sections {\n",
       "  padding-left: 0 !important;\n",
       "  display: grid;\n",
       "  grid-template-columns: 150px auto auto 1fr 20px 20px;\n",
       "}\n",
       "\n",
       ".xr-section-item {\n",
       "  display: contents;\n",
       "}\n",
       "\n",
       ".xr-section-item input {\n",
       "  display: none;\n",
       "}\n",
       "\n",
       ".xr-section-item input + label {\n",
       "  color: var(--xr-disabled-color);\n",
       "}\n",
       "\n",
       ".xr-section-item input:enabled + label {\n",
       "  cursor: pointer;\n",
       "  color: var(--xr-font-color2);\n",
       "}\n",
       "\n",
       ".xr-section-item input:enabled + label:hover {\n",
       "  color: var(--xr-font-color0);\n",
       "}\n",
       "\n",
       ".xr-section-summary {\n",
       "  grid-column: 1;\n",
       "  color: var(--xr-font-color2);\n",
       "  font-weight: 500;\n",
       "}\n",
       "\n",
       ".xr-section-summary > span {\n",
       "  display: inline-block;\n",
       "  padding-left: 0.5em;\n",
       "}\n",
       "\n",
       ".xr-section-summary-in:disabled + label {\n",
       "  color: var(--xr-font-color2);\n",
       "}\n",
       "\n",
       ".xr-section-summary-in + label:before {\n",
       "  display: inline-block;\n",
       "  content: '►';\n",
       "  font-size: 11px;\n",
       "  width: 15px;\n",
       "  text-align: center;\n",
       "}\n",
       "\n",
       ".xr-section-summary-in:disabled + label:before {\n",
       "  color: var(--xr-disabled-color);\n",
       "}\n",
       "\n",
       ".xr-section-summary-in:checked + label:before {\n",
       "  content: '▼';\n",
       "}\n",
       "\n",
       ".xr-section-summary-in:checked + label > span {\n",
       "  display: none;\n",
       "}\n",
       "\n",
       ".xr-section-summary,\n",
       ".xr-section-inline-details {\n",
       "  padding-top: 4px;\n",
       "  padding-bottom: 4px;\n",
       "}\n",
       "\n",
       ".xr-section-inline-details {\n",
       "  grid-column: 2 / -1;\n",
       "}\n",
       "\n",
       ".xr-section-details {\n",
       "  display: none;\n",
       "  grid-column: 1 / -1;\n",
       "  margin-bottom: 5px;\n",
       "}\n",
       "\n",
       ".xr-section-summary-in:checked ~ .xr-section-details {\n",
       "  display: contents;\n",
       "}\n",
       "\n",
       ".xr-array-wrap {\n",
       "  grid-column: 1 / -1;\n",
       "  display: grid;\n",
       "  grid-template-columns: 20px auto;\n",
       "}\n",
       "\n",
       ".xr-array-wrap > label {\n",
       "  grid-column: 1;\n",
       "  vertical-align: top;\n",
       "}\n",
       "\n",
       ".xr-preview {\n",
       "  color: var(--xr-font-color3);\n",
       "}\n",
       "\n",
       ".xr-array-preview,\n",
       ".xr-array-data {\n",
       "  padding: 0 5px !important;\n",
       "  grid-column: 2;\n",
       "}\n",
       "\n",
       ".xr-array-data,\n",
       ".xr-array-in:checked ~ .xr-array-preview {\n",
       "  display: none;\n",
       "}\n",
       "\n",
       ".xr-array-in:checked ~ .xr-array-data,\n",
       ".xr-array-preview {\n",
       "  display: inline-block;\n",
       "}\n",
       "\n",
       ".xr-dim-list {\n",
       "  display: inline-block !important;\n",
       "  list-style: none;\n",
       "  padding: 0 !important;\n",
       "  margin: 0;\n",
       "}\n",
       "\n",
       ".xr-dim-list li {\n",
       "  display: inline-block;\n",
       "  padding: 0;\n",
       "  margin: 0;\n",
       "}\n",
       "\n",
       ".xr-dim-list:before {\n",
       "  content: '(';\n",
       "}\n",
       "\n",
       ".xr-dim-list:after {\n",
       "  content: ')';\n",
       "}\n",
       "\n",
       ".xr-dim-list li:not(:last-child):after {\n",
       "  content: ',';\n",
       "  padding-right: 5px;\n",
       "}\n",
       "\n",
       ".xr-has-index {\n",
       "  font-weight: bold;\n",
       "}\n",
       "\n",
       ".xr-var-list,\n",
       ".xr-var-item {\n",
       "  display: contents;\n",
       "}\n",
       "\n",
       ".xr-var-item > div,\n",
       ".xr-var-item label,\n",
       ".xr-var-item > .xr-var-name span {\n",
       "  background-color: var(--xr-background-color-row-even);\n",
       "  margin-bottom: 0;\n",
       "}\n",
       "\n",
       ".xr-var-item > .xr-var-name:hover span {\n",
       "  padding-right: 5px;\n",
       "}\n",
       "\n",
       ".xr-var-list > li:nth-child(odd) > div,\n",
       ".xr-var-list > li:nth-child(odd) > label,\n",
       ".xr-var-list > li:nth-child(odd) > .xr-var-name span {\n",
       "  background-color: var(--xr-background-color-row-odd);\n",
       "}\n",
       "\n",
       ".xr-var-name {\n",
       "  grid-column: 1;\n",
       "}\n",
       "\n",
       ".xr-var-dims {\n",
       "  grid-column: 2;\n",
       "}\n",
       "\n",
       ".xr-var-dtype {\n",
       "  grid-column: 3;\n",
       "  text-align: right;\n",
       "  color: var(--xr-font-color2);\n",
       "}\n",
       "\n",
       ".xr-var-preview {\n",
       "  grid-column: 4;\n",
       "}\n",
       "\n",
       ".xr-index-preview {\n",
       "  grid-column: 2 / 5;\n",
       "  color: var(--xr-font-color2);\n",
       "}\n",
       "\n",
       ".xr-var-name,\n",
       ".xr-var-dims,\n",
       ".xr-var-dtype,\n",
       ".xr-preview,\n",
       ".xr-attrs dt {\n",
       "  white-space: nowrap;\n",
       "  overflow: hidden;\n",
       "  text-overflow: ellipsis;\n",
       "  padding-right: 10px;\n",
       "}\n",
       "\n",
       ".xr-var-name:hover,\n",
       ".xr-var-dims:hover,\n",
       ".xr-var-dtype:hover,\n",
       ".xr-attrs dt:hover {\n",
       "  overflow: visible;\n",
       "  width: auto;\n",
       "  z-index: 1;\n",
       "}\n",
       "\n",
       ".xr-var-attrs,\n",
       ".xr-var-data,\n",
       ".xr-index-data {\n",
       "  display: none;\n",
       "  background-color: var(--xr-background-color) !important;\n",
       "  padding-bottom: 5px !important;\n",
       "}\n",
       "\n",
       ".xr-var-attrs-in:checked ~ .xr-var-attrs,\n",
       ".xr-var-data-in:checked ~ .xr-var-data,\n",
       ".xr-index-data-in:checked ~ .xr-index-data {\n",
       "  display: block;\n",
       "}\n",
       "\n",
       ".xr-var-data > table {\n",
       "  float: right;\n",
       "}\n",
       "\n",
       ".xr-var-name span,\n",
       ".xr-var-data,\n",
       ".xr-index-name div,\n",
       ".xr-index-data,\n",
       ".xr-attrs {\n",
       "  padding-left: 25px !important;\n",
       "}\n",
       "\n",
       ".xr-attrs,\n",
       ".xr-var-attrs,\n",
       ".xr-var-data,\n",
       ".xr-index-data {\n",
       "  grid-column: 1 / -1;\n",
       "}\n",
       "\n",
       "dl.xr-attrs {\n",
       "  padding: 0;\n",
       "  margin: 0;\n",
       "  display: grid;\n",
       "  grid-template-columns: 125px auto;\n",
       "}\n",
       "\n",
       ".xr-attrs dt,\n",
       ".xr-attrs dd {\n",
       "  padding: 0;\n",
       "  margin: 0;\n",
       "  float: left;\n",
       "  padding-right: 10px;\n",
       "  width: auto;\n",
       "}\n",
       "\n",
       ".xr-attrs dt {\n",
       "  font-weight: normal;\n",
       "  grid-column: 1;\n",
       "}\n",
       "\n",
       ".xr-attrs dt:hover span {\n",
       "  display: inline-block;\n",
       "  background: var(--xr-background-color);\n",
       "  padding-right: 10px;\n",
       "}\n",
       "\n",
       ".xr-attrs dd {\n",
       "  grid-column: 2;\n",
       "  white-space: pre-wrap;\n",
       "  word-break: break-all;\n",
       "}\n",
       "\n",
       ".xr-icon-database,\n",
       ".xr-icon-file-text2,\n",
       ".xr-no-icon {\n",
       "  display: inline-block;\n",
       "  vertical-align: middle;\n",
       "  width: 1em;\n",
       "  height: 1.5em !important;\n",
       "  stroke-width: 0;\n",
       "  stroke: currentColor;\n",
       "  fill: currentColor;\n",
       "}\n",
       "</style><pre class='xr-text-repr-fallback'>&lt;xarray.Dataset&gt;\n",
       "Dimensions:  (time: 48, lon: 687, lat: 412)\n",
       "Coordinates:\n",
       "  * time     (time) datetime64[ns] 2016-09-02 ... 2016-09-02T23:30:00\n",
       "  * lon      (lon) float32 255.0 255.1 255.2 255.3 ... 304.7 304.8 304.9 305.0\n",
       "  * lat      (lat) float32 15.06 15.14 15.21 15.28 ... 44.75 44.83 44.9 44.97\n",
       "Data variables:\n",
       "    pr       (time, lat, lon) float32 dask.array&lt;chunksize=(2, 412, 687), meta=np.ndarray&gt;\n",
       "Attributes: (12/44)\n",
       "    CDI:                    Climate Data Interface version 1.9.8 (https://mpi...\n",
       "    history:                Fri Jun 18 18:30:24 2021: cdo -O -s -f nc4 -z zip...\n",
       "    Conventions:            CF-1.6\n",
       "    geospatial_bounds:      POLYGON ((-59.363 -180, 59.363 -180, 59.363 180, ...\n",
       "    time_coverage_end:      1998-01-31:00.00\n",
       "    time_coverage_start:    1998-01-01:00.00\n",
       "    ...                     ...\n",
       "    grid:                   8 x 8 km x km\n",
       "    grid_label:             gn\n",
       "    calendar:               gregorian\n",
       "    cmor_version:           2.9.1\n",
       "    initialization_method:  1\n",
       "    physics_version:        1</pre><div class='xr-wrap' style='display:none'><div class='xr-header'><div class='xr-obj-type'>xarray.Dataset</div></div><ul class='xr-sections'><li class='xr-section-item'><input id='section-24113853-5a4c-443c-902c-0d2e71f61c3b' class='xr-section-summary-in' type='checkbox' disabled ><label for='section-24113853-5a4c-443c-902c-0d2e71f61c3b' class='xr-section-summary'  title='Expand/collapse section'>Dimensions:</label><div class='xr-section-inline-details'><ul class='xr-dim-list'><li><span class='xr-has-index'>time</span>: 48</li><li><span class='xr-has-index'>lon</span>: 687</li><li><span class='xr-has-index'>lat</span>: 412</li></ul></div><div class='xr-section-details'></div></li><li class='xr-section-item'><input id='section-276cc582-5e3f-4c65-b245-3cd5bf268ee1' class='xr-section-summary-in' type='checkbox'  checked><label for='section-276cc582-5e3f-4c65-b245-3cd5bf268ee1' class='xr-section-summary' >Coordinates: <span>(3)</span></label><div class='xr-section-inline-details'></div><div class='xr-section-details'><ul class='xr-var-list'><li class='xr-var-item'><div class='xr-var-name'><span class='xr-has-index'>time</span></div><div class='xr-var-dims'>(time)</div><div class='xr-var-dtype'>datetime64[ns]</div><div class='xr-var-preview xr-preview'>2016-09-02 ... 2016-09-02T23:30:00</div><input id='attrs-ac5c7faf-c4c3-42cf-80c5-08cbfcf41764' class='xr-var-attrs-in' type='checkbox' ><label for='attrs-ac5c7faf-c4c3-42cf-80c5-08cbfcf41764' title='Show/Hide attributes'><svg class='icon xr-icon-file-text2'><use xlink:href='#icon-file-text2'></use></svg></label><input id='data-5928a6d9-9b65-413d-9d2d-369016f30215' class='xr-var-data-in' type='checkbox'><label for='data-5928a6d9-9b65-413d-9d2d-369016f30215' title='Show/Hide data repr'><svg class='icon xr-icon-database'><use xlink:href='#icon-database'></use></svg></label><div class='xr-var-attrs'><dl class='xr-attrs'><dt><span>standard_name :</span></dt><dd>time</dd><dt><span>long_name :</span></dt><dd>time</dd><dt><span>axis :</span></dt><dd>T</dd></dl></div><div class='xr-var-data'><pre>array([&#x27;2016-09-02T00:00:00.000000000&#x27;, &#x27;2016-09-02T00:30:00.000000000&#x27;,\n",
       "       &#x27;2016-09-02T01:00:00.000000000&#x27;, &#x27;2016-09-02T01:30:00.000000000&#x27;,\n",
       "       &#x27;2016-09-02T02:00:00.000000000&#x27;, &#x27;2016-09-02T02:30:00.000000000&#x27;,\n",
       "       &#x27;2016-09-02T03:00:00.000000000&#x27;, &#x27;2016-09-02T03:30:00.000000000&#x27;,\n",
       "       &#x27;2016-09-02T04:00:00.000000000&#x27;, &#x27;2016-09-02T04:30:00.000000000&#x27;,\n",
       "       &#x27;2016-09-02T05:00:00.000000000&#x27;, &#x27;2016-09-02T05:30:00.000000000&#x27;,\n",
       "       &#x27;2016-09-02T06:00:00.000000000&#x27;, &#x27;2016-09-02T06:30:00.000000000&#x27;,\n",
       "       &#x27;2016-09-02T07:00:00.000000000&#x27;, &#x27;2016-09-02T07:30:00.000000000&#x27;,\n",
       "       &#x27;2016-09-02T08:00:00.000000000&#x27;, &#x27;2016-09-02T08:30:00.000000000&#x27;,\n",
       "       &#x27;2016-09-02T09:00:00.000000000&#x27;, &#x27;2016-09-02T09:30:00.000000000&#x27;,\n",
       "       &#x27;2016-09-02T10:00:00.000000000&#x27;, &#x27;2016-09-02T10:30:00.000000000&#x27;,\n",
       "       &#x27;2016-09-02T11:00:00.000000000&#x27;, &#x27;2016-09-02T11:30:00.000000000&#x27;,\n",
       "       &#x27;2016-09-02T12:00:00.000000000&#x27;, &#x27;2016-09-02T12:30:00.000000000&#x27;,\n",
       "       &#x27;2016-09-02T13:00:00.000000000&#x27;, &#x27;2016-09-02T13:30:00.000000000&#x27;,\n",
       "       &#x27;2016-09-02T14:00:00.000000000&#x27;, &#x27;2016-09-02T14:30:00.000000000&#x27;,\n",
       "       &#x27;2016-09-02T15:00:00.000000000&#x27;, &#x27;2016-09-02T15:30:00.000000000&#x27;,\n",
       "       &#x27;2016-09-02T16:00:00.000000000&#x27;, &#x27;2016-09-02T16:30:00.000000000&#x27;,\n",
       "       &#x27;2016-09-02T17:00:00.000000000&#x27;, &#x27;2016-09-02T17:30:00.000000000&#x27;,\n",
       "       &#x27;2016-09-02T18:00:00.000000000&#x27;, &#x27;2016-09-02T18:30:00.000000000&#x27;,\n",
       "       &#x27;2016-09-02T19:00:00.000000000&#x27;, &#x27;2016-09-02T19:30:00.000000000&#x27;,\n",
       "       &#x27;2016-09-02T20:00:00.000000000&#x27;, &#x27;2016-09-02T20:30:00.000000000&#x27;,\n",
       "       &#x27;2016-09-02T21:00:00.000000000&#x27;, &#x27;2016-09-02T21:30:00.000000000&#x27;,\n",
       "       &#x27;2016-09-02T22:00:00.000000000&#x27;, &#x27;2016-09-02T22:30:00.000000000&#x27;,\n",
       "       &#x27;2016-09-02T23:00:00.000000000&#x27;, &#x27;2016-09-02T23:30:00.000000000&#x27;],\n",
       "      dtype=&#x27;datetime64[ns]&#x27;)</pre></div></li><li class='xr-var-item'><div class='xr-var-name'><span class='xr-has-index'>lon</span></div><div class='xr-var-dims'>(lon)</div><div class='xr-var-dtype'>float32</div><div class='xr-var-preview xr-preview'>255.0 255.1 255.2 ... 304.9 305.0</div><input id='attrs-97d4416e-4e45-4244-89ef-e2e8288b85b7' class='xr-var-attrs-in' type='checkbox' ><label for='attrs-97d4416e-4e45-4244-89ef-e2e8288b85b7' title='Show/Hide attributes'><svg class='icon xr-icon-file-text2'><use xlink:href='#icon-file-text2'></use></svg></label><input id='data-f7bde8a3-71e5-4994-8d3a-4cc78763075d' class='xr-var-data-in' type='checkbox'><label for='data-f7bde8a3-71e5-4994-8d3a-4cc78763075d' title='Show/Hide data repr'><svg class='icon xr-icon-database'><use xlink:href='#icon-database'></use></svg></label><div class='xr-var-attrs'><dl class='xr-attrs'><dt><span>standard_name :</span></dt><dd>longitude</dd><dt><span>long_name :</span></dt><dd>longitude</dd><dt><span>units :</span></dt><dd>degrees_east</dd><dt><span>axis :</span></dt><dd>X</dd></dl></div><div class='xr-var-data'><pre>array([255.04851, 255.12126, 255.19402, ..., 304.81406, 304.8868 , 304.9596 ],\n",
       "      dtype=float32)</pre></div></li><li class='xr-var-item'><div class='xr-var-name'><span class='xr-has-index'>lat</span></div><div class='xr-var-dims'>(lat)</div><div class='xr-var-dtype'>float32</div><div class='xr-var-preview xr-preview'>15.06 15.14 15.21 ... 44.9 44.97</div><input id='attrs-cde6f376-c36b-4898-90f1-b6a9e9b0d51e' class='xr-var-attrs-in' type='checkbox' ><label for='attrs-cde6f376-c36b-4898-90f1-b6a9e9b0d51e' title='Show/Hide attributes'><svg class='icon xr-icon-file-text2'><use xlink:href='#icon-file-text2'></use></svg></label><input id='data-8f1b19ba-247e-443b-8452-2c2332c7ab06' class='xr-var-data-in' type='checkbox'><label for='data-8f1b19ba-247e-443b-8452-2c2332c7ab06' title='Show/Hide data repr'><svg class='icon xr-icon-database'><use xlink:href='#icon-database'></use></svg></label><div class='xr-var-attrs'><dl class='xr-attrs'><dt><span>standard_name :</span></dt><dd>latitude</dd><dt><span>long_name :</span></dt><dd>latitude</dd><dt><span>units :</span></dt><dd>degrees_north</dd><dt><span>axis :</span></dt><dd>Y</dd></dl></div><div class='xr-var-data'><pre>array([15.063675, 15.136447, 15.209218, ..., 44.827168, 44.89994 , 44.97271 ],\n",
       "      dtype=float32)</pre></div></li></ul></div></li><li class='xr-section-item'><input id='section-16660d79-637e-4e1f-9960-c7938948cec3' class='xr-section-summary-in' type='checkbox'  checked><label for='section-16660d79-637e-4e1f-9960-c7938948cec3' class='xr-section-summary' >Data variables: <span>(1)</span></label><div class='xr-section-inline-details'></div><div class='xr-section-details'><ul class='xr-var-list'><li class='xr-var-item'><div class='xr-var-name'><span>pr</span></div><div class='xr-var-dims'>(time, lat, lon)</div><div class='xr-var-dtype'>float32</div><div class='xr-var-preview xr-preview'>dask.array&lt;chunksize=(2, 412, 687), meta=np.ndarray&gt;</div><input id='attrs-9e415e7d-123a-49a3-923b-94aeb8c1b700' class='xr-var-attrs-in' type='checkbox' ><label for='attrs-9e415e7d-123a-49a3-923b-94aeb8c1b700' title='Show/Hide attributes'><svg class='icon xr-icon-file-text2'><use xlink:href='#icon-file-text2'></use></svg></label><input id='data-c4493fbf-904b-4172-9719-cf7e101eaa20' class='xr-var-data-in' type='checkbox'><label for='data-c4493fbf-904b-4172-9719-cf7e101eaa20' title='Show/Hide data repr'><svg class='icon xr-icon-database'><use xlink:href='#icon-database'></use></svg></label><div class='xr-var-attrs'><dl class='xr-attrs'><dt><span>standard_name :</span></dt><dd>precipitation_flux</dd><dt><span>long_name :</span></dt><dd>Precipitation</dd><dt><span>units :</span></dt><dd>kg m-2 s-1</dd></dl></div><div class='xr-var-data'><table>\n",
       "    <tr>\n",
       "        <td>\n",
       "            <table style=\"border-collapse: collapse;\">\n",
       "                <thead>\n",
       "                    <tr>\n",
       "                        <td> </td>\n",
       "                        <th> Array </th>\n",
       "                        <th> Chunk </th>\n",
       "                    </tr>\n",
       "                </thead>\n",
       "                <tbody>\n",
       "                    \n",
       "                    <tr>\n",
       "                        <th> Bytes </th>\n",
       "                        <td> 51.83 MiB </td>\n",
       "                        <td> 2.16 MiB </td>\n",
       "                    </tr>\n",
       "                    \n",
       "                    <tr>\n",
       "                        <th> Shape </th>\n",
       "                        <td> (48, 412, 687) </td>\n",
       "                        <td> (2, 412, 687) </td>\n",
       "                    </tr>\n",
       "                    <tr>\n",
       "                        <th> Dask graph </th>\n",
       "                        <td colspan=\"2\"> 24 chunks in 49 graph layers </td>\n",
       "                    </tr>\n",
       "                    <tr>\n",
       "                        <th> Data type </th>\n",
       "                        <td colspan=\"2\"> float32 numpy.ndarray </td>\n",
       "                    </tr>\n",
       "                </tbody>\n",
       "            </table>\n",
       "        </td>\n",
       "        <td>\n",
       "        <svg width=\"201\" height=\"143\" style=\"stroke:rgb(0,0,0);stroke-width:1\" >\n",
       "\n",
       "  <!-- Horizontal lines -->\n",
       "  <line x1=\"10\" y1=\"0\" x2=\"31\" y2=\"21\" style=\"stroke-width:2\" />\n",
       "  <line x1=\"10\" y1=\"71\" x2=\"31\" y2=\"93\" style=\"stroke-width:2\" />\n",
       "\n",
       "  <!-- Vertical lines -->\n",
       "  <line x1=\"10\" y1=\"0\" x2=\"10\" y2=\"71\" style=\"stroke-width:2\" />\n",
       "  <line x1=\"10\" y1=\"0\" x2=\"10\" y2=\"72\" />\n",
       "  <line x1=\"11\" y1=\"1\" x2=\"11\" y2=\"73\" />\n",
       "  <line x1=\"12\" y1=\"2\" x2=\"12\" y2=\"74\" />\n",
       "  <line x1=\"14\" y1=\"4\" x2=\"14\" y2=\"76\" />\n",
       "  <line x1=\"15\" y1=\"5\" x2=\"15\" y2=\"77\" />\n",
       "  <line x1=\"16\" y1=\"6\" x2=\"16\" y2=\"78\" />\n",
       "  <line x1=\"17\" y1=\"7\" x2=\"17\" y2=\"79\" />\n",
       "  <line x1=\"18\" y1=\"8\" x2=\"18\" y2=\"80\" />\n",
       "  <line x1=\"19\" y1=\"9\" x2=\"19\" y2=\"81\" />\n",
       "  <line x1=\"20\" y1=\"10\" x2=\"20\" y2=\"82\" />\n",
       "  <line x1=\"21\" y1=\"11\" x2=\"21\" y2=\"83\" />\n",
       "  <line x1=\"23\" y1=\"13\" x2=\"23\" y2=\"85\" />\n",
       "  <line x1=\"24\" y1=\"14\" x2=\"24\" y2=\"86\" />\n",
       "  <line x1=\"25\" y1=\"15\" x2=\"25\" y2=\"87\" />\n",
       "  <line x1=\"26\" y1=\"16\" x2=\"26\" y2=\"88\" />\n",
       "  <line x1=\"27\" y1=\"17\" x2=\"27\" y2=\"89\" />\n",
       "  <line x1=\"28\" y1=\"18\" x2=\"28\" y2=\"90\" />\n",
       "  <line x1=\"29\" y1=\"19\" x2=\"29\" y2=\"91\" />\n",
       "  <line x1=\"31\" y1=\"21\" x2=\"31\" y2=\"93\" style=\"stroke-width:2\" />\n",
       "\n",
       "  <!-- Colored Rectangle -->\n",
       "  <polygon points=\"10.0,0.0 31.487186343009505,21.487186343009505 31.487186343009505,93.4522518451929 10.0,71.9650655021834\" style=\"fill:#8B4903A0;stroke-width:0\"/>\n",
       "\n",
       "  <!-- Horizontal lines -->\n",
       "  <line x1=\"10\" y1=\"0\" x2=\"130\" y2=\"0\" style=\"stroke-width:2\" />\n",
       "  <line x1=\"10\" y1=\"0\" x2=\"130\" y2=\"0\" />\n",
       "  <line x1=\"11\" y1=\"1\" x2=\"131\" y2=\"1\" />\n",
       "  <line x1=\"12\" y1=\"2\" x2=\"132\" y2=\"2\" />\n",
       "  <line x1=\"14\" y1=\"4\" x2=\"134\" y2=\"4\" />\n",
       "  <line x1=\"15\" y1=\"5\" x2=\"135\" y2=\"5\" />\n",
       "  <line x1=\"16\" y1=\"6\" x2=\"136\" y2=\"6\" />\n",
       "  <line x1=\"17\" y1=\"7\" x2=\"137\" y2=\"7\" />\n",
       "  <line x1=\"18\" y1=\"8\" x2=\"138\" y2=\"8\" />\n",
       "  <line x1=\"19\" y1=\"9\" x2=\"139\" y2=\"9\" />\n",
       "  <line x1=\"20\" y1=\"10\" x2=\"140\" y2=\"10\" />\n",
       "  <line x1=\"21\" y1=\"11\" x2=\"141\" y2=\"11\" />\n",
       "  <line x1=\"23\" y1=\"13\" x2=\"143\" y2=\"13\" />\n",
       "  <line x1=\"24\" y1=\"14\" x2=\"144\" y2=\"14\" />\n",
       "  <line x1=\"25\" y1=\"15\" x2=\"145\" y2=\"15\" />\n",
       "  <line x1=\"26\" y1=\"16\" x2=\"146\" y2=\"16\" />\n",
       "  <line x1=\"27\" y1=\"17\" x2=\"147\" y2=\"17\" />\n",
       "  <line x1=\"28\" y1=\"18\" x2=\"148\" y2=\"18\" />\n",
       "  <line x1=\"29\" y1=\"19\" x2=\"149\" y2=\"19\" />\n",
       "  <line x1=\"31\" y1=\"21\" x2=\"151\" y2=\"21\" style=\"stroke-width:2\" />\n",
       "\n",
       "  <!-- Vertical lines -->\n",
       "  <line x1=\"10\" y1=\"0\" x2=\"31\" y2=\"21\" style=\"stroke-width:2\" />\n",
       "  <line x1=\"130\" y1=\"0\" x2=\"151\" y2=\"21\" style=\"stroke-width:2\" />\n",
       "\n",
       "  <!-- Colored Rectangle -->\n",
       "  <polygon points=\"10.0,0.0 130.0,0.0 151.4871863430095,21.487186343009505 31.487186343009505,21.487186343009505\" style=\"fill:#8B4903A0;stroke-width:0\"/>\n",
       "\n",
       "  <!-- Horizontal lines -->\n",
       "  <line x1=\"31\" y1=\"21\" x2=\"151\" y2=\"21\" style=\"stroke-width:2\" />\n",
       "  <line x1=\"31\" y1=\"93\" x2=\"151\" y2=\"93\" style=\"stroke-width:2\" />\n",
       "\n",
       "  <!-- Vertical lines -->\n",
       "  <line x1=\"31\" y1=\"21\" x2=\"31\" y2=\"93\" style=\"stroke-width:2\" />\n",
       "  <line x1=\"151\" y1=\"21\" x2=\"151\" y2=\"93\" style=\"stroke-width:2\" />\n",
       "\n",
       "  <!-- Colored Rectangle -->\n",
       "  <polygon points=\"31.487186343009505,21.487186343009505 151.4871863430095,21.487186343009505 151.4871863430095,93.4522518451929 31.487186343009505,93.4522518451929\" style=\"fill:#ECB172A0;stroke-width:0\"/>\n",
       "\n",
       "  <!-- Text -->\n",
       "  <text x=\"91.487186\" y=\"113.452252\" font-size=\"1.0rem\" font-weight=\"100\" text-anchor=\"middle\" >687</text>\n",
       "  <text x=\"171.487186\" y=\"57.469719\" font-size=\"1.0rem\" font-weight=\"100\" text-anchor=\"middle\" transform=\"rotate(-90,171.487186,57.469719)\">412</text>\n",
       "  <text x=\"10.743593\" y=\"102.708659\" font-size=\"1.0rem\" font-weight=\"100\" text-anchor=\"middle\" transform=\"rotate(45,10.743593,102.708659)\">48</text>\n",
       "</svg>\n",
       "        </td>\n",
       "    </tr>\n",
       "</table></div></li></ul></div></li><li class='xr-section-item'><input id='section-4d6437f5-11e1-4aaa-9e66-de36f1819c34' class='xr-section-summary-in' type='checkbox'  ><label for='section-4d6437f5-11e1-4aaa-9e66-de36f1819c34' class='xr-section-summary' >Indexes: <span>(3)</span></label><div class='xr-section-inline-details'></div><div class='xr-section-details'><ul class='xr-var-list'><li class='xr-var-item'><div class='xr-index-name'><div>time</div></div><div class='xr-index-preview'>PandasIndex</div><div></div><input id='index-2754baa9-3b88-4afc-8005-7e83fa4dca2e' class='xr-index-data-in' type='checkbox'/><label for='index-2754baa9-3b88-4afc-8005-7e83fa4dca2e' title='Show/Hide index repr'><svg class='icon xr-icon-database'><use xlink:href='#icon-database'></use></svg></label><div class='xr-index-data'><pre>PandasIndex(DatetimeIndex([&#x27;2016-09-02 00:00:00&#x27;, &#x27;2016-09-02 00:30:00&#x27;,\n",
       "               &#x27;2016-09-02 01:00:00&#x27;, &#x27;2016-09-02 01:30:00&#x27;,\n",
       "               &#x27;2016-09-02 02:00:00&#x27;, &#x27;2016-09-02 02:30:00&#x27;,\n",
       "               &#x27;2016-09-02 03:00:00&#x27;, &#x27;2016-09-02 03:30:00&#x27;,\n",
       "               &#x27;2016-09-02 04:00:00&#x27;, &#x27;2016-09-02 04:30:00&#x27;,\n",
       "               &#x27;2016-09-02 05:00:00&#x27;, &#x27;2016-09-02 05:30:00&#x27;,\n",
       "               &#x27;2016-09-02 06:00:00&#x27;, &#x27;2016-09-02 06:30:00&#x27;,\n",
       "               &#x27;2016-09-02 07:00:00&#x27;, &#x27;2016-09-02 07:30:00&#x27;,\n",
       "               &#x27;2016-09-02 08:00:00&#x27;, &#x27;2016-09-02 08:30:00&#x27;,\n",
       "               &#x27;2016-09-02 09:00:00&#x27;, &#x27;2016-09-02 09:30:00&#x27;,\n",
       "               &#x27;2016-09-02 10:00:00&#x27;, &#x27;2016-09-02 10:30:00&#x27;,\n",
       "               &#x27;2016-09-02 11:00:00&#x27;, &#x27;2016-09-02 11:30:00&#x27;,\n",
       "               &#x27;2016-09-02 12:00:00&#x27;, &#x27;2016-09-02 12:30:00&#x27;,\n",
       "               &#x27;2016-09-02 13:00:00&#x27;, &#x27;2016-09-02 13:30:00&#x27;,\n",
       "               &#x27;2016-09-02 14:00:00&#x27;, &#x27;2016-09-02 14:30:00&#x27;,\n",
       "               &#x27;2016-09-02 15:00:00&#x27;, &#x27;2016-09-02 15:30:00&#x27;,\n",
       "               &#x27;2016-09-02 16:00:00&#x27;, &#x27;2016-09-02 16:30:00&#x27;,\n",
       "               &#x27;2016-09-02 17:00:00&#x27;, &#x27;2016-09-02 17:30:00&#x27;,\n",
       "               &#x27;2016-09-02 18:00:00&#x27;, &#x27;2016-09-02 18:30:00&#x27;,\n",
       "               &#x27;2016-09-02 19:00:00&#x27;, &#x27;2016-09-02 19:30:00&#x27;,\n",
       "               &#x27;2016-09-02 20:00:00&#x27;, &#x27;2016-09-02 20:30:00&#x27;,\n",
       "               &#x27;2016-09-02 21:00:00&#x27;, &#x27;2016-09-02 21:30:00&#x27;,\n",
       "               &#x27;2016-09-02 22:00:00&#x27;, &#x27;2016-09-02 22:30:00&#x27;,\n",
       "               &#x27;2016-09-02 23:00:00&#x27;, &#x27;2016-09-02 23:30:00&#x27;],\n",
       "              dtype=&#x27;datetime64[ns]&#x27;, name=&#x27;time&#x27;, freq=None))</pre></div></li><li class='xr-var-item'><div class='xr-index-name'><div>lon</div></div><div class='xr-index-preview'>PandasIndex</div><div></div><input id='index-b5b4c077-fe43-4481-8dae-e8b8df001a23' class='xr-index-data-in' type='checkbox'/><label for='index-b5b4c077-fe43-4481-8dae-e8b8df001a23' title='Show/Hide index repr'><svg class='icon xr-icon-database'><use xlink:href='#icon-database'></use></svg></label><div class='xr-index-data'><pre>PandasIndex(Float64Index([ 255.0485076904297,  255.1212615966797,  255.1940155029297,\n",
       "               255.2667694091797, 255.33953857421875, 255.41229248046875,\n",
       "              255.48504638671875, 255.55780029296875, 255.63055419921875,\n",
       "              255.70330810546875,\n",
       "              ...\n",
       "               304.3047790527344,  304.3775329589844,  304.4502868652344,\n",
       "               304.5230407714844,  304.5957946777344,  304.6685485839844,\n",
       "               304.7413024902344,  304.8140563964844,  304.8868103027344,\n",
       "               304.9595947265625],\n",
       "             dtype=&#x27;float64&#x27;, name=&#x27;lon&#x27;, length=687))</pre></div></li><li class='xr-var-item'><div class='xr-index-name'><div>lat</div></div><div class='xr-index-preview'>PandasIndex</div><div></div><input id='index-09eb9484-2a3b-4f79-9301-ce99c896ecef' class='xr-index-data-in' type='checkbox'/><label for='index-09eb9484-2a3b-4f79-9301-ce99c896ecef' title='Show/Hide index repr'><svg class='icon xr-icon-database'><use xlink:href='#icon-database'></use></svg></label><div class='xr-index-data'><pre>PandasIndex(Float64Index([15.063674926757812, 15.136446952819824,  15.20921802520752,\n",
       "              15.281989097595215, 15.354761123657227, 15.427532196044922,\n",
       "              15.500303268432617, 15.573075294494629, 15.645846366882324,\n",
       "               15.71861743927002,\n",
       "              ...\n",
       "               44.31776809692383, 44.390541076660156,  44.46331024169922,\n",
       "               44.53608322143555, 44.608856201171875,  44.68162536621094,\n",
       "              44.754398345947266,  44.82716751098633, 44.899940490722656,\n",
       "               44.97270965576172],\n",
       "             dtype=&#x27;float64&#x27;, name=&#x27;lat&#x27;, length=412))</pre></div></li></ul></div></li><li class='xr-section-item'><input id='section-89c3efad-8008-4f1c-87ac-c96c90c2e3a4' class='xr-section-summary-in' type='checkbox'  ><label for='section-89c3efad-8008-4f1c-87ac-c96c90c2e3a4' class='xr-section-summary' >Attributes: <span>(44)</span></label><div class='xr-section-inline-details'></div><div class='xr-section-details'><dl class='xr-attrs'><dt><span>CDI :</span></dt><dd>Climate Data Interface version 1.9.8 (https://mpimet.mpg.de/cdi)</dd><dt><span>history :</span></dt><dd>Fri Jun 18 18:30:24 2021: cdo -O -s -f nc4 -z zip_6 --cmor cmorlite,/tmp/tmp7hpo_y4a.txt /scratch/k/k204230/pycmorlite_c4z9vg89/process_ghpo3h3o/temp_file.nc tmp/py-cmorlite/observations/grid/CPC/CPC/cmorph/30min/atmos/30min/r1i1p1/v20210618/pr/pr_30min_CPC_cmorph_r1i1p1_201609020000-201609020030.nc\n",
       "Fri Jun 18 18:30:23 2021: cdo -f nc4 sellonlatbox,255,305,15,45 -selvar,pr bal/pr_30min_CMORPH_V1_2016090200.nc /scratch/k/k204230/pycmorlite_c4z9vg89/process_ghpo3h3o/temp_file.nc\n",
       "Fri Jun 18 18:18:11 2021: cdo splithour -selvar,pr /work/mh0731/m300765/CMORPH/2016/pr_30min_CMORPH_V1_20160902.nc bal/pr_30min_CMORPH_V1_20160902\n",
       "Original dataset is CMORPH V1 30min-8km downloaded from the &#x27;source&#x27; n binary format and converted to netcdf using NCL. Original data is precipitation rate in mm/hhr units, this version is precipitation flux obtained dividing by 3600, new units are kg m^-2 s^-1</dd><dt><span>Conventions :</span></dt><dd>CF-1.6</dd><dt><span>geospatial_bounds :</span></dt><dd>POLYGON ((-59.363 -180, 59.363 -180, 59.363 180, -59.363 180, -59.363 -180))</dd><dt><span>time_coverage_end :</span></dt><dd>1998-01-31:00.00</dd><dt><span>time_coverage_start :</span></dt><dd>1998-01-01:00.00</dd><dt><span>citation :</span></dt><dd>CMORPH 8 Km: A Method that Produces Global Precipitation Estimates from Passive Microwave and Infrared Data at High Spatial and Temporal Resolution</dd><dt><span>publisher_institution :</span></dt><dd>ARC Centre of excellence for Climate System Science</dd><dt><span>publisher_mail :</span></dt><dd>paola.petrelli@utas.edu.au</dd><dt><span>publisher_name :</span></dt><dd>Paola Petrelli</dd><dt><span>creator_type :</span></dt><dd>institution</dd><dt><span>creator_name :</span></dt><dd>US Climate Prediction Center</dd><dt><span>date_created :</span></dt><dd>Thu Aug 31 15:55:10 AEST 2017</dd><dt><span>Title :</span></dt><dd>CMORPH V1.0: Climate Prediction Center morphing method 30 minutes mean precipitation flux (kg m^-2 s^-1 converted from mm/hr) at 8km resolution</dd><dt><span>Comment :</span></dt><dd>netCDF version of 8km half-hourly file binary file(s)</dd><dt><span>summary :</span></dt><dd>CMORPH (CPC MORPHing technique) produces global precipitation analyses at very high spatial and temporal resolution. This technique uses precipitation estimates that have been derived from low orbiter satellite microwave observations exclusively, and whose features are transported via spatial propagation information that is obtained entirely from geostationary satellite IR data.</dd><dt><span>Readme :</span></dt><dd>ftp://ftp.cpc.ncep.noaa.gov/precip/global_CMORPH/README.cmorph.8km_30minute\n",
       "http://ftp.cpc.ncep.noaa.gov/precip/CMORPH_V1.0/CMORPH_V1.0_README.txt</dd><dt><span>use_constraints :</span></dt><dd>Acknowledgment of the Data Originator when using the data item as a source.</dd><dt><span>access_constraints :</span></dt><dd>None</dd><dt><span>metadata_link :</span></dt><dd>https://catalog.data.gov/harvest/object/6e01cb0e-5fb3-4432-8371-8cdab04149d0/html</dd><dt><span>Convention :</span></dt><dd>CF-1.6, ACDD-1.3</dd><dt><span>Conversion :</span></dt><dd>NCL: http://www.ncl.ucar.edu/</dd><dt><span>ref_2 :</span></dt><dd>\n",
       "Huffman, G. J., and Coauthors, 2007: \n",
       "https://catalog.data.gov/dataset/cmorph-8-km-a-method-that-produces-global-precipitation-estimates-from-passive-microwave-and-in \n",
       "Combined-Sensor Precipitation Estimates at Fine Scales. J. Hydrometeor., 8, 3855 \n",
       "</dd><dt><span>ref_1 :</span></dt><dd>\n",
       "Joyce, R. J., J. E. Janowiak, P. A. Arkin, and P. Xie, 2004:\n",
       "CMORPH: A method that produces global precipitation estimates from passive microwave and infrared data at high spatial and temporal resolution.. J. Hydromet., 5, 487-503\n",
       "Available online at  \n",
       "</dd><dt><span>tracking_id :</span></dt><dd>70f60fa5-d175-47b3-b830-b70822090b25</dd><dt><span>creation_date :</span></dt><dd>2021-06-18T18:30:24Z</dd><dt><span>CDO :</span></dt><dd>Climate Data Operators version 1.9.8 (https://mpimet.mpg.de/cdo)</dd><dt><span>institution_id :</span></dt><dd>CPC</dd><dt><span>institution :</span></dt><dd>Climate Prediction Center, 5830 University Research Ct, College Park, MD 20740, United States</dd><dt><span>contact :</span></dt><dd>adam.allgood@noaa.gov</dd><dt><span>experiment_id :</span></dt><dd>cmorph</dd><dt><span>ensemble :</span></dt><dd>r1i1p1</dd><dt><span>project_id :</span></dt><dd>observations</dd><dt><span>frequency :</span></dt><dd>sampled half hourly</dd><dt><span>frequency_id :</span></dt><dd>30min</dd><dt><span>modeling_realm :</span></dt><dd>atmos</dd><dt><span>nominal_resolution :</span></dt><dd>8 km</dd><dt><span>title :</span></dt><dd>CPC observational output </dd><dt><span>grid :</span></dt><dd>8 x 8 km x km</dd><dt><span>grid_label :</span></dt><dd>gn</dd><dt><span>calendar :</span></dt><dd>gregorian</dd><dt><span>cmor_version :</span></dt><dd>2.9.1</dd><dt><span>initialization_method :</span></dt><dd>1</dd><dt><span>physics_version :</span></dt><dd>1</dd></dl></div></li></ul></div></div>"
      ],
      "text/plain": [
       "<xarray.Dataset>\n",
       "Dimensions:  (time: 48, lon: 687, lat: 412)\n",
       "Coordinates:\n",
       "  * time     (time) datetime64[ns] 2016-09-02 ... 2016-09-02T23:30:00\n",
       "  * lon      (lon) float32 255.0 255.1 255.2 255.3 ... 304.7 304.8 304.9 305.0\n",
       "  * lat      (lat) float32 15.06 15.14 15.21 15.28 ... 44.75 44.83 44.9 44.97\n",
       "Data variables:\n",
       "    pr       (time, lat, lon) float32 dask.array<chunksize=(2, 412, 687), meta=np.ndarray>\n",
       "Attributes: (12/44)\n",
       "    CDI:                    Climate Data Interface version 1.9.8 (https://mpi...\n",
       "    history:                Fri Jun 18 18:30:24 2021: cdo -O -s -f nc4 -z zip...\n",
       "    Conventions:            CF-1.6\n",
       "    geospatial_bounds:      POLYGON ((-59.363 -180, 59.363 -180, 59.363 180, ...\n",
       "    time_coverage_end:      1998-01-31:00.00\n",
       "    time_coverage_start:    1998-01-01:00.00\n",
       "    ...                     ...\n",
       "    grid:                   8 x 8 km x km\n",
       "    grid_label:             gn\n",
       "    calendar:               gregorian\n",
       "    cmor_version:           2.9.1\n",
       "    initialization_method:  1\n",
       "    physics_version:        1"
      ]
     },
     "execution_count": 13,
     "metadata": {},
     "output_type": "execute_result"
    }
   ],
   "source": [
    "import xarray as xr\n",
    "dset = xr.open_mfdataset(freva.databrowser(variable=\"pr\", project=\"observations\"), combine=\"by_coords\")\n",
    "dset"
   ]
  }
 ],
 "metadata": {
  "kernelspec": {
   "display_name": "freva",
   "language": "python",
   "name": "freva"
  },
  "language_info": {
   "codemirror_mode": {
    "name": "ipython",
    "version": 3
   },
   "file_extension": ".py",
   "mimetype": "text/x-python",
   "name": "python",
   "nbconvert_exporter": "python",
   "pygments_lexer": "ipython3",
   "version": "3.10.8"
  }
 },
 "nbformat": 4,
 "nbformat_minor": 5
}
