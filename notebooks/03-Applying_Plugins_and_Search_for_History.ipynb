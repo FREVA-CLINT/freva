{
 "cells": [
  {
   "cell_type": "markdown",
   "id": "f2f2c517",
   "metadata": {},
   "source": [
    "# Applying data analysis Plugins\n",
    "Already defined data analysis tools can be started with the `freva.run_plugin` method. Besides the ``run_plugin`` method two more utility methods (``list_plugins`` and ``plugin_doc``) are available to get an overview over existing plugins and the documentation of each plugins. \n",
    "\n",
    "First let's get an overview of the plugins that are available in the system:"
   ]
  },
  {
   "cell_type": "code",
   "execution_count": 1,
   "id": "8bab19f3",
   "metadata": {
    "execution": {
     "iopub.execute_input": "2023-06-12T05:24:49.710134Z",
     "iopub.status.busy": "2023-06-12T05:24:49.709774Z",
     "iopub.status.idle": "2023-06-12T05:24:49.721909Z",
     "shell.execute_reply": "2023-06-12T05:24:49.721419Z"
    }
   },
   "outputs": [],
   "source": [
    "import freva"
   ]
  },
  {
   "cell_type": "code",
   "execution_count": 2,
   "id": "a48a24be",
   "metadata": {
    "execution": {
     "iopub.execute_input": "2023-06-12T05:24:49.724425Z",
     "iopub.status.busy": "2023-06-12T05:24:49.724185Z",
     "iopub.status.idle": "2023-06-12T05:24:50.309579Z",
     "shell.execute_reply": "2023-06-12T05:24:50.309025Z"
    }
   },
   "outputs": [
    {
     "name": "stderr",
     "output_type": "stream",
     "text": [
      "/home/runner/work/freva/freva/src/evaluation_system/model/file.py:30: PendingDeprecationWarning: The evaluation_system.model.file module will be removed from v2304.0.0\n",
      "  warnings.warn(\n",
      "/home/runner/work/freva/freva/src/evaluation_system/model/solr_core.py:29: PendingDeprecationWarning: The evaluation_system.model.solr_core module will be removed from v2304.0.0\n",
      "  warnings.warn(\n"
     ]
    },
    {
     "data": {
      "text/plain": [
       "['dummyplugin', 'animator']"
      ]
     },
     "execution_count": 2,
     "metadata": {},
     "output_type": "execute_result"
    }
   ],
   "source": [
    "freva.list_plugins()"
   ]
  },
  {
   "cell_type": "markdown",
   "id": "a770d9b2",
   "metadata": {},
   "source": [
    "The help menu of each plugin can be inspected by calling the `plugin_doc` method. For example the help of the `animator` plugin"
   ]
  },
  {
   "cell_type": "code",
   "execution_count": 3,
   "id": "dc553730",
   "metadata": {
    "execution": {
     "iopub.execute_input": "2023-06-12T05:24:50.312392Z",
     "iopub.status.busy": "2023-06-12T05:24:50.311895Z",
     "iopub.status.idle": "2023-06-12T05:24:50.329733Z",
     "shell.execute_reply": "2023-06-12T05:24:50.329215Z"
    }
   },
   "outputs": [
    {
     "name": "stdout",
     "output_type": "stream",
     "text": [
      "Animator (v2022.7.15): Create animations (in gif or mp4 format) This tool creates plots of solr facets and an animation.\n",
      "Options:\n",
      "input_file              (default: <undefined>)\n",
      "                        NetCDF input file(s), you can choose multiple files\n",
      "                        separated by a , or use a global pattern for multiple\n",
      "                        files chose this option only if you don't want Freva to\n",
      "                        find files by seach facets\n",
      "variable                (default: <undefined>) [mandatory]\n",
      "                        Variable name (only applicable if you didn't choose an\n",
      "                        input file)\n",
      "project                 (default: <undefined>)\n",
      "                        Project name (only applicable if you didn't choose an\n",
      "                        input file)\n",
      "product                 (default: <undefined>)\n",
      "                        Product name (only applicable if you didn't choose an\n",
      "                        input file)\n",
      "experiment              (default: <undefined>)\n",
      "                        Experiment name (only applicable if you didn't choose an\n",
      "                        input file)\n",
      "institute               (default: <undefined>)\n",
      "                        Institute name (only applicable if you didn't choose an\n",
      "                        input file)\n",
      "model                   (default: <undefined>)\n",
      "                        Model name (only applicable if you didn't choose an\n",
      "                        input file)\n",
      "time_frequency          (default: <undefined>)\n",
      "                        Time frequency name (only applicable if you didn't\n",
      "                        choose an input file)\n",
      "ensemble                (default: <undefined>)\n",
      "                        Ensemble name (only applicable if you didn't choose an\n",
      "                        input file)\n",
      "start                   (default: <undefined>)\n",
      "                        Define the first time step to be plotted, leave blank if\n",
      "                        taken from data\n",
      "end                     (default: <undefined>)\n",
      "                        Define the last time step to be plotted, leave blank if\n",
      "                        taken from data\n",
      "time_mean               (default: <undefined>)\n",
      "                        Select a time interval if time averaging/min/max/sum\n",
      "                        should be applied along the time axis. This can be D for\n",
      "                        daily, M for monthly 6H for 6 hours etc. Leave blank if\n",
      "                        the time axis should not be resampled (default) or set\n",
      "                        to <em>all</em> if you want to collapse the time axis.\n",
      "time_method             (default: mean)\n",
      "                        If resampling of the time axis is chosen (default: no)\n",
      "                        set the method: mean, max or min. <b>Note:</b> This has\n",
      "                        only an effect if the above parameter for\n",
      "                        <em>time_mean</em> is set.\n",
      "lonlatbox               (default: <undefined>)\n",
      "                        Set the extend of a rectangular lonlatbox (left_lon,\n",
      "                        right_lat, lower_lat, upper_lat)\n",
      "output_unit             (default: <undefined>)\n",
      "                        Set the output unit of the variable - leave blank for no\n",
      "                        conversion. This can be useful if the unit of the input\n",
      "                        files should be converted, for example for\n",
      "                        precipitation. Note: Although many conversions are\n",
      "                        supported, by using the `pint` conversion library.\n",
      "vmin                    (default: <undefined>)\n",
      "                        Set the minimum plotting range (leave blank to calculate\n",
      "                        from data 1st decile)\n",
      "vmax                    (default: <undefined>)\n",
      "                        Set the maximum plotting range (leave blank to calculate\n",
      "                        the 9th decile)\n",
      "cmap                    (default: RdYlBu_r)\n",
      "                        Set the colormap, more information on colormaps is\n",
      "                        available on the <a href=\"https://matplotlib.org/stable/\n",
      "                        tutorials/colors/colormaps.html\"\n",
      "                        target=_blank>matplotlib website</a>.\n",
      "linecolor               (default: k)\n",
      "                        Color of the coast lines in the map\n",
      "projection              (default: PlateCarree)\n",
      "                        Set the global map projection. Note: this should the\n",
      "                        name of the cartopy projection method (e.g PlatteCarree\n",
      "                        for Cylindrical Projection). Pleas refer to <a href=\"htt\n",
      "                        ps://scitools.org.uk/cartopy/docs/latest/crs/projections\n",
      "                        .html\"target=_blank>cartopy website</a> for details.\n",
      "proj_centre             (default: 50)\n",
      "                        Set center longitude of the global map projection.\n",
      "pic_size                (default: 1360,900)\n",
      "                        Set the size of the picture (in pixel)\n",
      "plot_title              (default: )\n",
      "                        Set plot title\n",
      "cbar_label              (default: )\n",
      "                        Overwrite default colorbar label by this value\n",
      "suffix                  (default: mp4)\n",
      "                        Filetype of the animation\n",
      "fps                     (default: 5)\n",
      "                        Set the frames per seceonds of the output animation.\n",
      "extra_scheduler_options (default: --qos=test, --array=20)\n",
      "                        Set additional options for the job submission to the\n",
      "                        workload manager (, seperated). Note: batchmode and web\n",
      "                        only.\n"
     ]
    }
   ],
   "source": [
    "print(freva.plugin_doc(\"animator\"))"
   ]
  },
  {
   "cell_type": "markdown",
   "id": "e062e768",
   "metadata": {},
   "source": [
    "Let's apply the plugin an create an animation of some observational data.\n",
    "\n",
    "__Note__: The plugin user interface allows us to also use `key=value` pair search queries to search for data in the system, just like the `databrowser`."
   ]
  },
  {
   "cell_type": "code",
   "execution_count": 4,
   "id": "b4e9f3e3",
   "metadata": {
    "execution": {
     "iopub.execute_input": "2023-06-12T05:24:50.332121Z",
     "iopub.status.busy": "2023-06-12T05:24:50.331747Z",
     "iopub.status.idle": "2023-06-12T05:25:31.740042Z",
     "shell.execute_reply": "2023-06-12T05:25:31.739326Z"
    }
   },
   "outputs": [
    {
     "name": "stderr",
     "output_type": "stream",
     "text": [
      "/home/runner/work/freva/freva/src/evaluation_system/model/solr.py:29: PendingDeprecationWarning: The evaluation_system.model.solr module will be removed from v2304.0.0\n",
      "  warnings.warn(\n"
     ]
    },
    {
     "name": "stdout",
     "output_type": "stream",
     "text": [
      "Setp 1: Collecting all files\n"
     ]
    },
    {
     "name": "stdout",
     "output_type": "stream",
     "text": [
      "Step 2: Opening the netcdf-files, collecting metadata\n"
     ]
    },
    {
     "name": "stdout",
     "output_type": "stream",
     "text": [
      "Step 3: Converting Units\n"
     ]
    },
    {
     "name": "stdout",
     "output_type": "stream",
     "text": [
      "Step 4: Loading the dataset, getting min/max values\n"
     ]
    },
    {
     "name": "stdout",
     "output_type": "stream",
     "text": [
      "Step 5: Creating the animation\n"
     ]
    },
    {
     "name": "stdout",
     "output_type": "stream",
     "text": [
      "Created animation /tmp/eval_conf/work/runner/freva-ces/output/animator/2121/pr_20160902T0000-20160902T2330.mp4 in 38 seconds\n"
     ]
    },
    {
     "name": "stderr",
     "output_type": "stream",
     "text": [
      "Recieved termination signal: exiting"
     ]
    },
    {
     "name": "stderr",
     "output_type": "stream",
     "text": [
      "\n"
     ]
    },
    {
     "data": {
      "text/plain": [
       "(0, '')"
      ]
     },
     "execution_count": 4,
     "metadata": {},
     "output_type": "execute_result"
    }
   ],
   "source": [
    "freva.run_plugin(\"animator\", variable=\"pr\", project=\"obs*\")"
   ]
  },
  {
   "cell_type": "markdown",
   "id": "d86dcfbf",
   "metadata": {},
   "source": [
    "# Search the history of previously applied plugins\n",
    "To access the configurations of previously applied freva plugins freva offers the `history` method which displays plugin entries with a one-line compact description. The first number you see is the entry id, which you might use to select single entries for further details. Again, let's inspect the help first:"
   ]
  },
  {
   "cell_type": "code",
   "execution_count": 5,
   "id": "47d1885b",
   "metadata": {
    "execution": {
     "iopub.execute_input": "2023-06-12T05:25:31.742955Z",
     "iopub.status.busy": "2023-06-12T05:25:31.742503Z",
     "iopub.status.idle": "2023-06-12T05:25:31.747105Z",
     "shell.execute_reply": "2023-06-12T05:25:31.746443Z"
    },
    "scrolled": false
   },
   "outputs": [
    {
     "name": "stdout",
     "output_type": "stream",
     "text": [
      "Help on function history in module freva._history:\n",
      "\n",
      "history(*args: 'str', limit: 'int' = 10, plugin: 'Optional[str]' = None, since: 'Optional[str]' = None, until: 'Optional[str]' = None, entry_ids: 'Union[int, list[int], None]' = None, full_text: 'bool' = False, return_command: 'bool' = False, _return_dict: 'bool' = True) -> 'Union[list[Any], dict[str, Any]]'\n",
      "    Get access to the configurations of previously applied freva plugins.\n",
      "    \n",
      "    The `.history` method displays the entries with a one-line compact description.\n",
      "    The first number you see is the entry id, which you might use to select\n",
      "    single entries.\n",
      "    \n",
      "    Parameters\n",
      "    ----------\n",
      "    full_text: bool, default: False\n",
      "      Get the full configuration.\n",
      "    return_command: bool, default: False\n",
      "      Show Freva commands belonging to the history entries instead\n",
      "      of the entries themself.\n",
      "    limit: int, default: 10\n",
      "      Limit the number of entires to be displayed.\n",
      "    plugin: str, default: None\n",
      "      Display only entries from a given plugin name.\n",
      "    since: str, datetime.datetime, default: None\n",
      "      Retrieve entries older than date, see hint on date format below.\n",
      "    until: str, datetime.datetime, default: None\n",
      "      Retrieve entries younger than date, see hint on date format below.\n",
      "    entry_ids: list, default: None\n",
      "       Select entries whose ids are in \"ids\",\n",
      "    full_text: bool, default: False\n",
      "      Show the complete configuration.\n",
      "    return_command: bool, default: False\n",
      "      Return the commands instead of history objects\n",
      "    _return_dict: bool, default: True\n",
      "      Return a dictionary representation, this is only for internal use\n",
      "    \n",
      "    Returns\n",
      "    -------\n",
      "      list:\n",
      "        freva plugin history\n",
      "    \n",
      "    Example\n",
      "    -------\n",
      "    \n",
      "    Get the last three history entries\n",
      "    \n",
      "    .. execute_code::\n",
      "    \n",
      "        import freva\n",
      "        hist = freva.history(limit=3)\n",
      "        print(type(hist), len(hist))\n",
      "        print(hist[-1].keys())\n",
      "        config = hist[-1]['configuration']\n",
      "        print(config)\n",
      "    \n",
      "    \n",
      "    .. hint:: Date Format\n",
      "        Dates are given in the ISO-8601 fromat and can be \"YYYY-MM-DDTHH:mm:ss.n\"\n",
      "        or any less accurate subset. These are all valid: \"2012-02-01T10:08:32.1233431\",\n",
      "        \"2012-02-01T10:08:32\", \"2012-02-01T10:08\", \"2012-02-01T10\", \"2012-02-01\",\n",
      "        \"2012-02\", \"2012\". Missing values are assumed to be the minimal allowed value.\n",
      "        For example: \"2012\" = \"2012-01-01T00:00:00.0\"\n",
      "\n"
     ]
    }
   ],
   "source": [
    "help(freva.history)"
   ]
  },
  {
   "cell_type": "markdown",
   "id": "bd095452",
   "metadata": {},
   "source": [
    "The configuration of last entry of the `animator` plugin history can be accessed by:"
   ]
  },
  {
   "cell_type": "code",
   "execution_count": 6,
   "id": "b7cc8730",
   "metadata": {
    "execution": {
     "iopub.execute_input": "2023-06-12T05:25:31.750246Z",
     "iopub.status.busy": "2023-06-12T05:25:31.749722Z",
     "iopub.status.idle": "2023-06-12T05:25:31.762688Z",
     "shell.execute_reply": "2023-06-12T05:25:31.761982Z"
    }
   },
   "outputs": [
    {
     "name": "stderr",
     "output_type": "stream",
     "text": [
      "INFO:freva:history, limit=10, since=None, until=None, entry_ids=None\n"
     ]
    },
    {
     "data": {
      "text/plain": [
       "{'status_dict': {2: 'broken',\n",
       "  0: 'finished',\n",
       "  1: 'finished_no_output',\n",
       "  5: 'not_scheduled',\n",
       "  3: 'running',\n",
       "  4: 'scheduled'},\n",
       " '_state': <django.db.models.base.ModelState at 0x7f0514c32810>,\n",
       " 'id': 2112,\n",
       " 'timestamp': datetime.datetime(2023, 6, 12, 5, 22, 2),\n",
       " 'tool': 'dummyplugin',\n",
       " 'version': '(0, 0, 0)',\n",
       " 'version_details_id': 123,\n",
       " 'configuration': {'number': None,\n",
       "  'the_number': 2,\n",
       "  'something': 'test',\n",
       "  'other': 1.4,\n",
       "  'input': None,\n",
       "  'variable': 'tas'},\n",
       " 'slurm_output': '/tmp/share/slurm/dummyplugin/DummyPlugin-5370.local',\n",
       " 'host': 'fv-az354-27',\n",
       " 'uid_id': 'runner',\n",
       " 'status': 0,\n",
       " 'flag': 0,\n",
       " 'caption': ''}"
      ]
     },
     "execution_count": 6,
     "metadata": {},
     "output_type": "execute_result"
    }
   ],
   "source": [
    "animator_history = freva.history(\"animator\")[-1]\n",
    "animator_history"
   ]
  },
  {
   "cell_type": "code",
   "execution_count": 7,
   "id": "5674287d",
   "metadata": {
    "execution": {
     "iopub.execute_input": "2023-06-12T05:25:31.765233Z",
     "iopub.status.busy": "2023-06-12T05:25:31.764893Z",
     "iopub.status.idle": "2023-06-12T05:25:31.770788Z",
     "shell.execute_reply": "2023-06-12T05:25:31.770280Z"
    }
   },
   "outputs": [
    {
     "data": {
      "text/plain": [
       "{'number': None,\n",
       " 'the_number': 2,\n",
       " 'something': 'test',\n",
       " 'other': 1.4,\n",
       " 'input': None,\n",
       " 'variable': 'tas'}"
      ]
     },
     "execution_count": 7,
     "metadata": {},
     "output_type": "execute_result"
    }
   ],
   "source": [
    "animator_history[\"configuration\"]"
   ]
  },
  {
   "cell_type": "markdown",
   "id": "58048077",
   "metadata": {},
   "source": [
    "The same goes for the status of the tool"
   ]
  },
  {
   "cell_type": "code",
   "execution_count": 8,
   "id": "a3bff847",
   "metadata": {
    "execution": {
     "iopub.execute_input": "2023-06-12T05:25:31.773473Z",
     "iopub.status.busy": "2023-06-12T05:25:31.773129Z",
     "iopub.status.idle": "2023-06-12T05:25:31.778728Z",
     "shell.execute_reply": "2023-06-12T05:25:31.778188Z"
    }
   },
   "outputs": [
    {
     "data": {
      "text/plain": [
       "'finished'"
      ]
     },
     "execution_count": 8,
     "metadata": {},
     "output_type": "execute_result"
    }
   ],
   "source": [
    "animator_history[\"status_dict\"][animator_history[\"status\"]]"
   ]
  }
 ],
 "metadata": {
  "kernelspec": {
   "display_name": "freva",
   "language": "python",
   "name": "freva"
  },
  "language_info": {
   "codemirror_mode": {
    "name": "ipython",
    "version": 3
   },
   "file_extension": ".py",
   "mimetype": "text/x-python",
   "name": "python",
   "nbconvert_exporter": "python",
   "pygments_lexer": "ipython3",
   "version": "3.11.4"
  }
 },
 "nbformat": 4,
 "nbformat_minor": 5
}
