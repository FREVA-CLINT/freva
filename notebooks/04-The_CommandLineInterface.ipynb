{
 "cells": [
  {
   "cell_type": "markdown",
   "id": "18d053a3",
   "metadata": {},
   "source": [
    "# The Freva command line interface\n",
    "\n",
    "This notebook introduces the usage of the Freva command line interface - cli. The tutorial assumes that you have already access to Freva either because you’ve setup an instance yourself or one has been setup by the Freva admin team. Hence it is assumed that you know how to access Freva. If this is not the case please contact one of your Freva admins for help.\n",
    "\n",
    "A general usage overview of the available Freva sub-commands is available via the --help option:"
   ]
  },
  {
   "cell_type": "code",
   "execution_count": 1,
   "id": "93f67623",
   "metadata": {
    "execution": {
     "iopub.execute_input": "2022-10-17T08:07:33.623770Z",
     "iopub.status.busy": "2022-10-17T08:07:33.623409Z",
     "iopub.status.idle": "2022-10-17T08:07:33.886713Z",
     "shell.execute_reply": "2022-10-17T08:07:33.886136Z"
    }
   },
   "outputs": [
    {
     "name": "stdout",
     "output_type": "stream",
     "text": [
      "usage: freva [-h] [-V] {databrowser,plugin,history,user-data,esgf} ...\n"
     ]
    },
    {
     "name": "stdout",
     "output_type": "stream",
     "text": [
      "\n"
     ]
    },
    {
     "name": "stdout",
     "output_type": "stream",
     "text": [
      "Free EVAluation system framework (freva)\n"
     ]
    },
    {
     "name": "stdout",
     "output_type": "stream",
     "text": [
      "\n"
     ]
    },
    {
     "name": "stdout",
     "output_type": "stream",
     "text": [
      "positional arguments:\n"
     ]
    },
    {
     "name": "stdout",
     "output_type": "stream",
     "text": [
      "  {databrowser,plugin,history,user-data,esgf}\n"
     ]
    },
    {
     "name": "stdout",
     "output_type": "stream",
     "text": [
      "                        Available sub-commands:\n"
     ]
    },
    {
     "name": "stdout",
     "output_type": "stream",
     "text": [
      "    databrowser         Find data in the system.\n"
     ]
    },
    {
     "name": "stdout",
     "output_type": "stream",
     "text": [
      "    plugin              Apply data analysis plugin.\n"
     ]
    },
    {
     "name": "stdout",
     "output_type": "stream",
     "text": [
      "    history             Read the plugin application history.\n"
     ]
    },
    {
     "name": "stdout",
     "output_type": "stream",
     "text": [
      "    user-data           Update users project data\n"
     ]
    },
    {
     "name": "stdout",
     "output_type": "stream",
     "text": [
      "    esgf                Search/Download ESGF the data catalogue.\n"
     ]
    },
    {
     "name": "stdout",
     "output_type": "stream",
     "text": [
      "\n"
     ]
    },
    {
     "name": "stdout",
     "output_type": "stream",
     "text": [
      "options:\n"
     ]
    },
    {
     "name": "stdout",
     "output_type": "stream",
     "text": [
      "  -h, --help            show this help message and exit\n"
     ]
    },
    {
     "name": "stdout",
     "output_type": "stream",
     "text": [
      "  -V, --version         show program's version number and exit\n"
     ]
    },
    {
     "name": "stdout",
     "output_type": "stream",
     "text": [
      "\n"
     ]
    },
    {
     "name": "stdout",
     "output_type": "stream",
     "text": [
      "To get help for the individual sub-commands use: freva <sub-command> --help\n"
     ]
    }
   ],
   "source": [
    "freva --help"
   ]
  },
  {
   "cell_type": "markdown",
   "id": "076cd682",
   "metadata": {},
   "source": [
    "The most common sub-commands are `databrowser` and `plugin`. You can get more help on the actual commands using the sub-commands `--help` option, for example getting help on the databrowser usage:"
   ]
  },
  {
   "cell_type": "code",
   "execution_count": 2,
   "id": "2350ed67",
   "metadata": {
    "execution": {
     "iopub.execute_input": "2022-10-17T08:07:33.890277Z",
     "iopub.status.busy": "2022-10-17T08:07:33.889860Z",
     "iopub.status.idle": "2022-10-17T08:07:34.154007Z",
     "shell.execute_reply": "2022-10-17T08:07:34.153377Z"
    }
   },
   "outputs": [
    {
     "name": "stdout",
     "output_type": "stream",
     "text": [
      "usage: freva databrowser [-h] [--multiversion] [--relevant-only]\n"
     ]
    },
    {
     "name": "stdout",
     "output_type": "stream",
     "text": [
      "                         [--batch-size BATCH_SIZE] [--count] [--attributes]\n"
     ]
    },
    {
     "name": "stdout",
     "output_type": "stream",
     "text": [
      "                         [--all-facets] [--facet FACET]\n"
     ]
    },
    {
     "name": "stdout",
     "output_type": "stream",
     "text": [
      "                         [--facet-limit FACET_LIMIT]\n"
     ]
    },
    {
     "name": "stdout",
     "output_type": "stream",
     "text": [
      "                         [--time-select {flexible,strict,file}] [--debug]\n"
     ]
    },
    {
     "name": "stdout",
     "output_type": "stream",
     "text": [
      "                         [facets ...]\n"
     ]
    },
    {
     "name": "stdout",
     "output_type": "stream",
     "text": [
      "\n"
     ]
    },
    {
     "name": "stdout",
     "output_type": "stream",
     "text": [
      "Find data in the system.\n"
     ]
    },
    {
     "name": "stdout",
     "output_type": "stream",
     "text": [
      "\n"
     ]
    },
    {
     "name": "stdout",
     "output_type": "stream",
     "text": [
      "positional arguments:\n"
     ]
    },
    {
     "name": "stdout",
     "output_type": "stream",
     "text": [
      "  facets                Search facet(s) (default: None)\n"
     ]
    },
    {
     "name": "stdout",
     "output_type": "stream",
     "text": [
      "\n"
     ]
    },
    {
     "name": "stdout",
     "output_type": "stream",
     "text": [
      "options:\n"
     ]
    },
    {
     "name": "stdout",
     "output_type": "stream",
     "text": [
      "  -h, --help            show this help message and exit\n"
     ]
    },
    {
     "name": "stdout",
     "output_type": "stream",
     "text": [
      "  --multiversion        Select not only the latest version. (default: False)\n"
     ]
    },
    {
     "name": "stdout",
     "output_type": "stream",
     "text": [
      "  --relevant-only       Show only search with results >1 possible values\n"
     ]
    },
    {
     "name": "stdout",
     "output_type": "stream",
     "text": [
      "                        (default: False)\n"
     ]
    },
    {
     "name": "stdout",
     "output_type": "stream",
     "text": [
      "  --batch-size BATCH_SIZE\n"
     ]
    },
    {
     "name": "stdout",
     "output_type": "stream",
     "text": [
      "                        Number of files to retrieve (default: 5000)\n"
     ]
    },
    {
     "name": "stdout",
     "output_type": "stream",
     "text": [
      "  --count               Show the number of files for each search result\n"
     ]
    },
    {
     "name": "stdout",
     "output_type": "stream",
     "text": [
      "                        (default: False)\n"
     ]
    },
    {
     "name": "stdout",
     "output_type": "stream",
     "text": [
      "  --attributes          Retrieve all possible attributes for the current\n"
     ]
    },
    {
     "name": "stdout",
     "output_type": "stream",
     "text": [
      "                        search instead of the files. (default: False)\n"
     ]
    },
    {
     "name": "stdout",
     "output_type": "stream",
     "text": [
      "  --all-facets          retrieve all facets (attributes & values) instead of\n"
     ]
    },
    {
     "name": "stdout",
     "output_type": "stream",
     "text": [
      "                        the files (default: False)\n"
     ]
    },
    {
     "name": "stdout",
     "output_type": "stream",
     "text": [
      "  --facet FACET         Retrieve values of given facet instead of files\n"
     ]
    },
    {
     "name": "stdout",
     "output_type": "stream",
     "text": [
      "                        (default: None)\n"
     ]
    },
    {
     "name": "stdout",
     "output_type": "stream",
     "text": [
      "  --facet-limit FACET_LIMIT\n"
     ]
    },
    {
     "name": "stdout",
     "output_type": "stream",
     "text": [
      "                        Limit the number of output facets. (default:\n"
     ]
    },
    {
     "name": "stdout",
     "output_type": "stream",
     "text": [
      "                        9223372036854775807)\n"
     ]
    },
    {
     "name": "stdout",
     "output_type": "stream",
     "text": [
      "  --time-select {flexible,strict,file}\n"
     ]
    },
    {
     "name": "stdout",
     "output_type": "stream",
     "text": [
      "                        Operator that specifies how the time period is\n"
     ]
    },
    {
     "name": "stdout",
     "output_type": "stream",
     "text": [
      "                        selected. (default: flexible)\n"
     ]
    },
    {
     "name": "stdout",
     "output_type": "stream",
     "text": [
      "  --debug, -v, -d, --verbose\n"
     ]
    },
    {
     "name": "stdout",
     "output_type": "stream",
     "text": [
      "                        Use verbose output. (default: False)\n"
     ]
    }
   ],
   "source": [
    "freva databrowser --help"
   ]
  },
  {
   "cell_type": "markdown",
   "id": "6e083bea",
   "metadata": {},
   "source": [
    "__Note__: Instead of using sub-commands you have also the option to use commands. For example the command `freva-databrowser` is equivalent to `freva databrowser`, `freva-user-data` to `freva user-data` etc.\n",
    "\n",
    "## Searching for data: the freva-databrowser command\n",
    "\n",
    "All files available on in the project are scanned and indexed via a data search server. This allows you to query the server which responds almost immediately. To search for data you can either use the `freva-databrowser` command or the `freva databrowser` sub-command. Let’s inspect the help menu of the databrowser sub-command:"
   ]
  },
  {
   "cell_type": "code",
   "execution_count": 3,
   "id": "f933b3d8",
   "metadata": {
    "execution": {
     "iopub.execute_input": "2022-10-17T08:07:34.157172Z",
     "iopub.status.busy": "2022-10-17T08:07:34.156946Z",
     "iopub.status.idle": "2022-10-17T08:07:34.350006Z",
     "shell.execute_reply": "2022-10-17T08:07:34.349388Z"
    }
   },
   "outputs": [
    {
     "name": "stdout",
     "output_type": "stream",
     "text": [
      "usage: freva-databrowser [-h] [--multiversion] [--relevant-only]\n"
     ]
    },
    {
     "name": "stdout",
     "output_type": "stream",
     "text": [
      "                         [--batch-size BATCH_SIZE] [--count] [--attributes]\n"
     ]
    },
    {
     "name": "stdout",
     "output_type": "stream",
     "text": [
      "                         [--all-facets] [--facet FACET]\n"
     ]
    },
    {
     "name": "stdout",
     "output_type": "stream",
     "text": [
      "                         [--facet-limit FACET_LIMIT]\n"
     ]
    },
    {
     "name": "stdout",
     "output_type": "stream",
     "text": [
      "                         [--time-select {flexible,strict,file}] [--debug] [-V]\n"
     ]
    },
    {
     "name": "stdout",
     "output_type": "stream",
     "text": [
      "                         [facets ...]\n"
     ]
    },
    {
     "name": "stdout",
     "output_type": "stream",
     "text": [
      "\n"
     ]
    },
    {
     "name": "stdout",
     "output_type": "stream",
     "text": [
      "Find data in the system.\n"
     ]
    },
    {
     "name": "stdout",
     "output_type": "stream",
     "text": [
      "\n"
     ]
    },
    {
     "name": "stdout",
     "output_type": "stream",
     "text": [
      "positional arguments:\n"
     ]
    },
    {
     "name": "stdout",
     "output_type": "stream",
     "text": [
      "  facets                Search facet(s) (default: None)\n"
     ]
    },
    {
     "name": "stdout",
     "output_type": "stream",
     "text": [
      "\n"
     ]
    },
    {
     "name": "stdout",
     "output_type": "stream",
     "text": [
      "options:\n"
     ]
    },
    {
     "name": "stdout",
     "output_type": "stream",
     "text": [
      "  -h, --help            show this help message and exit\n"
     ]
    },
    {
     "name": "stdout",
     "output_type": "stream",
     "text": [
      "  --multiversion        Select not only the latest version. (default: False)\n"
     ]
    },
    {
     "name": "stdout",
     "output_type": "stream",
     "text": [
      "  --relevant-only       Show only search with results >1 possible values\n"
     ]
    },
    {
     "name": "stdout",
     "output_type": "stream",
     "text": [
      "                        (default: False)\n"
     ]
    },
    {
     "name": "stdout",
     "output_type": "stream",
     "text": [
      "  --batch-size BATCH_SIZE\n"
     ]
    },
    {
     "name": "stdout",
     "output_type": "stream",
     "text": [
      "                        Number of files to retrieve (default: 5000)\n"
     ]
    },
    {
     "name": "stdout",
     "output_type": "stream",
     "text": [
      "  --count               Show the number of files for each search result\n"
     ]
    },
    {
     "name": "stdout",
     "output_type": "stream",
     "text": [
      "                        (default: False)\n"
     ]
    },
    {
     "name": "stdout",
     "output_type": "stream",
     "text": [
      "  --attributes          Retrieve all possible attributes for the current\n"
     ]
    },
    {
     "name": "stdout",
     "output_type": "stream",
     "text": [
      "                        search instead of the files. (default: False)\n"
     ]
    },
    {
     "name": "stdout",
     "output_type": "stream",
     "text": [
      "  --all-facets          retrieve all facets (attributes & values) instead of\n"
     ]
    },
    {
     "name": "stdout",
     "output_type": "stream",
     "text": [
      "                        the files (default: False)\n"
     ]
    },
    {
     "name": "stdout",
     "output_type": "stream",
     "text": [
      "  --facet FACET         Retrieve values of given facet instead of files\n"
     ]
    },
    {
     "name": "stdout",
     "output_type": "stream",
     "text": [
      "                        (default: None)\n"
     ]
    },
    {
     "name": "stdout",
     "output_type": "stream",
     "text": [
      "  --facet-limit FACET_LIMIT\n"
     ]
    },
    {
     "name": "stdout",
     "output_type": "stream",
     "text": [
      "                        Limit the number of output facets. (default:\n"
     ]
    },
    {
     "name": "stdout",
     "output_type": "stream",
     "text": [
      "                        9223372036854775807)\n"
     ]
    },
    {
     "name": "stdout",
     "output_type": "stream",
     "text": [
      "  --time-select {flexible,strict,file}\n"
     ]
    },
    {
     "name": "stdout",
     "output_type": "stream",
     "text": [
      "                        Operator that specifies how the time period is\n"
     ]
    },
    {
     "name": "stdout",
     "output_type": "stream",
     "text": [
      "                        selected. (default: flexible)\n"
     ]
    },
    {
     "name": "stdout",
     "output_type": "stream",
     "text": [
      "  --debug, -v, -d, --verbose\n"
     ]
    },
    {
     "name": "stdout",
     "output_type": "stream",
     "text": [
      "                        Use verbose output. (default: False)\n"
     ]
    },
    {
     "name": "stdout",
     "output_type": "stream",
     "text": [
      "  -V, --version         show program's version number and exit\n"
     ]
    }
   ],
   "source": [
    "freva-databrowser --help"
   ]
  },
  {
   "cell_type": "markdown",
   "id": "98583861",
   "metadata": {},
   "source": [
    "The databrowser expects a list of `key=value` pairs. The order of the pairs doesn’t really matter. Most important is that you don’t need to split the search according to the type of data you are searching for. You can search for any files, for example observations, reanalysis and model data at the same time. Also important is that all queries are case insensitive. You can also search for attributes themselves instead of file paths. For example you can search for the list of variables available that satisfies a certain constraint (e.g. sampled 6hr, from a certain model, etc)."
   ]
  },
  {
   "cell_type": "code",
   "execution_count": 4,
   "id": "2807f8ce",
   "metadata": {
    "execution": {
     "iopub.execute_input": "2022-10-17T08:07:34.353335Z",
     "iopub.status.busy": "2022-10-17T08:07:34.353084Z",
     "iopub.status.idle": "2022-10-17T08:07:34.826405Z",
     "shell.execute_reply": "2022-10-17T08:07:34.825795Z"
    }
   },
   "outputs": [
    {
     "name": "stdout",
     "output_type": "stream",
     "text": [
      "/home/runner/work/freva/freva/.docker/data/observations/grid/CPC/CPC/cmorph/30min/atmos/30min/r1i1p1/v20210618/pr/pr_30min_CPC_cmorph_r1i1p1_201609022300-201609022330.nc\n"
     ]
    },
    {
     "name": "stdout",
     "output_type": "stream",
     "text": [
      "/home/runner/work/freva/freva/.docker/data/observations/grid/CPC/CPC/cmorph/30min/atmos/30min/r1i1p1/v20210618/pr/pr_30min_CPC_cmorph_r1i1p1_201609022200-201609022230.nc\n"
     ]
    },
    {
     "name": "stdout",
     "output_type": "stream",
     "text": [
      "/home/runner/work/freva/freva/.docker/data/observations/grid/CPC/CPC/cmorph/30min/atmos/30min/r1i1p1/v20210618/pr/pr_30min_CPC_cmorph_r1i1p1_201609022100-201609022130.nc\n"
     ]
    },
    {
     "name": "stdout",
     "output_type": "stream",
     "text": [
      "/home/runner/work/freva/freva/.docker/data/observations/grid/CPC/CPC/cmorph/30min/atmos/30min/r1i1p1/v20210618/pr/pr_30min_CPC_cmorph_r1i1p1_201609022000-201609022030.nc\n"
     ]
    },
    {
     "name": "stdout",
     "output_type": "stream",
     "text": [
      "/home/runner/work/freva/freva/.docker/data/observations/grid/CPC/CPC/cmorph/30min/atmos/30min/r1i1p1/v20210618/pr/pr_30min_CPC_cmorph_r1i1p1_201609021900-201609021930.nc\n"
     ]
    },
    {
     "name": "stdout",
     "output_type": "stream",
     "text": [
      "/home/runner/work/freva/freva/.docker/data/observations/grid/CPC/CPC/cmorph/30min/atmos/30min/r1i1p1/v20210618/pr/pr_30min_CPC_cmorph_r1i1p1_201609021800-201609021830.nc\n"
     ]
    },
    {
     "name": "stdout",
     "output_type": "stream",
     "text": [
      "/home/runner/work/freva/freva/.docker/data/observations/grid/CPC/CPC/cmorph/30min/atmos/30min/r1i1p1/v20210618/pr/pr_30min_CPC_cmorph_r1i1p1_201609021700-201609021730.nc\n"
     ]
    },
    {
     "name": "stdout",
     "output_type": "stream",
     "text": [
      "/home/runner/work/freva/freva/.docker/data/observations/grid/CPC/CPC/cmorph/30min/atmos/30min/r1i1p1/v20210618/pr/pr_30min_CPC_cmorph_r1i1p1_201609021600-201609021630.nc\n"
     ]
    },
    {
     "name": "stdout",
     "output_type": "stream",
     "text": [
      "/home/runner/work/freva/freva/.docker/data/observations/grid/CPC/CPC/cmorph/30min/atmos/30min/r1i1p1/v20210618/pr/pr_30min_CPC_cmorph_r1i1p1_201609021500-201609021530.nc\n"
     ]
    },
    {
     "name": "stdout",
     "output_type": "stream",
     "text": [
      "/home/runner/work/freva/freva/.docker/data/observations/grid/CPC/CPC/cmorph/30min/atmos/30min/r1i1p1/v20210618/pr/pr_30min_CPC_cmorph_r1i1p1_201609021400-201609021430.nc\n"
     ]
    },
    {
     "name": "stdout",
     "output_type": "stream",
     "text": [
      "/home/runner/work/freva/freva/.docker/data/observations/grid/CPC/CPC/cmorph/30min/atmos/30min/r1i1p1/v20210618/pr/pr_30min_CPC_cmorph_r1i1p1_201609021300-201609021330.nc\n"
     ]
    },
    {
     "name": "stdout",
     "output_type": "stream",
     "text": [
      "/home/runner/work/freva/freva/.docker/data/observations/grid/CPC/CPC/cmorph/30min/atmos/30min/r1i1p1/v20210618/pr/pr_30min_CPC_cmorph_r1i1p1_201609021200-201609021230.nc\n"
     ]
    },
    {
     "name": "stdout",
     "output_type": "stream",
     "text": [
      "/home/runner/work/freva/freva/.docker/data/observations/grid/CPC/CPC/cmorph/30min/atmos/30min/r1i1p1/v20210618/pr/pr_30min_CPC_cmorph_r1i1p1_201609021100-201609021130.nc\n"
     ]
    },
    {
     "name": "stdout",
     "output_type": "stream",
     "text": [
      "/home/runner/work/freva/freva/.docker/data/observations/grid/CPC/CPC/cmorph/30min/atmos/30min/r1i1p1/v20210618/pr/pr_30min_CPC_cmorph_r1i1p1_201609021000-201609021030.nc\n"
     ]
    },
    {
     "name": "stdout",
     "output_type": "stream",
     "text": [
      "/home/runner/work/freva/freva/.docker/data/observations/grid/CPC/CPC/cmorph/30min/atmos/30min/r1i1p1/v20210618/pr/pr_30min_CPC_cmorph_r1i1p1_201609020900-201609020930.nc\n"
     ]
    },
    {
     "name": "stdout",
     "output_type": "stream",
     "text": [
      "/home/runner/work/freva/freva/.docker/data/observations/grid/CPC/CPC/cmorph/30min/atmos/30min/r1i1p1/v20210618/pr/pr_30min_CPC_cmorph_r1i1p1_201609020800-201609020830.nc\n"
     ]
    },
    {
     "name": "stdout",
     "output_type": "stream",
     "text": [
      "/home/runner/work/freva/freva/.docker/data/observations/grid/CPC/CPC/cmorph/30min/atmos/30min/r1i1p1/v20210618/pr/pr_30min_CPC_cmorph_r1i1p1_201609020700-201609020730.nc\n"
     ]
    },
    {
     "name": "stdout",
     "output_type": "stream",
     "text": [
      "/home/runner/work/freva/freva/.docker/data/observations/grid/CPC/CPC/cmorph/30min/atmos/30min/r1i1p1/v20210618/pr/pr_30min_CPC_cmorph_r1i1p1_201609020600-201609020630.nc\n"
     ]
    },
    {
     "name": "stdout",
     "output_type": "stream",
     "text": [
      "/home/runner/work/freva/freva/.docker/data/observations/grid/CPC/CPC/cmorph/30min/atmos/30min/r1i1p1/v20210618/pr/pr_30min_CPC_cmorph_r1i1p1_201609020500-201609020530.nc\n"
     ]
    },
    {
     "name": "stdout",
     "output_type": "stream",
     "text": [
      "/home/runner/work/freva/freva/.docker/data/observations/grid/CPC/CPC/cmorph/30min/atmos/30min/r1i1p1/v20210618/pr/pr_30min_CPC_cmorph_r1i1p1_201609020400-201609020430.nc\n"
     ]
    },
    {
     "name": "stdout",
     "output_type": "stream",
     "text": [
      "/home/runner/work/freva/freva/.docker/data/observations/grid/CPC/CPC/cmorph/30min/atmos/30min/r1i1p1/v20210618/pr/pr_30min_CPC_cmorph_r1i1p1_201609020300-201609020330.nc\n"
     ]
    },
    {
     "name": "stdout",
     "output_type": "stream",
     "text": [
      "/home/runner/work/freva/freva/.docker/data/observations/grid/CPC/CPC/cmorph/30min/atmos/30min/r1i1p1/v20210618/pr/pr_30min_CPC_cmorph_r1i1p1_201609020200-201609020230.nc\n"
     ]
    },
    {
     "name": "stdout",
     "output_type": "stream",
     "text": [
      "/home/runner/work/freva/freva/.docker/data/observations/grid/CPC/CPC/cmorph/30min/atmos/30min/r1i1p1/v20210618/pr/pr_30min_CPC_cmorph_r1i1p1_201609020100-201609020130.nc\n"
     ]
    },
    {
     "name": "stdout",
     "output_type": "stream",
     "text": [
      "/home/runner/work/freva/freva/.docker/data/observations/grid/CPC/CPC/cmorph/30min/atmos/30min/r1i1p1/v20210618/pr/pr_30min_CPC_cmorph_r1i1p1_201609020000-201609020030.nc\n"
     ]
    }
   ],
   "source": [
    "freva-databrowser project=observations variable=pr model=cp*"
   ]
  },
  {
   "cell_type": "markdown",
   "id": "c2044943",
   "metadata": {},
   "source": [
    "In some cases it might be useful to know how many files are found in the `databrowser` for certain search constraints. In such cases you can use the `count` flag to count the number of found files instead of getting the files themselves."
   ]
  },
  {
   "cell_type": "code",
   "execution_count": 5,
   "id": "926133a6",
   "metadata": {
    "execution": {
     "iopub.execute_input": "2022-10-17T08:07:34.829420Z",
     "iopub.status.busy": "2022-10-17T08:07:34.829205Z",
     "iopub.status.idle": "2022-10-17T08:07:35.272465Z",
     "shell.execute_reply": "2022-10-17T08:07:35.271877Z"
    }
   },
   "outputs": [
    {
     "name": "stdout",
     "output_type": "stream",
     "text": [
      "24\n"
     ]
    }
   ],
   "source": [
    "freva-databrowser project=observations --count"
   ]
  },
  {
   "cell_type": "markdown",
   "id": "9229ee9f",
   "metadata": {},
   "source": [
    "Sometimes it might be useful to subset the data you’re interested in by time. To do so you can use the time search key to subset time steps and whole time ranges. For example let’s get the for certain time range:"
   ]
  },
  {
   "cell_type": "code",
   "execution_count": 6,
   "id": "ff276ec7",
   "metadata": {
    "execution": {
     "iopub.execute_input": "2022-10-17T08:07:35.276030Z",
     "iopub.status.busy": "2022-10-17T08:07:35.275450Z",
     "iopub.status.idle": "2022-10-17T08:07:35.726789Z",
     "shell.execute_reply": "2022-10-17T08:07:35.726226Z"
    }
   },
   "outputs": [
    {
     "name": "stdout",
     "output_type": "stream",
     "text": [
      "/home/runner/work/freva/freva/.docker/data/observations/grid/CPC/CPC/cmorph/30min/atmos/30min/r1i1p1/v20210618/pr/pr_30min_CPC_cmorph_r1i1p1_201609022300-201609022330.nc\n"
     ]
    },
    {
     "name": "stdout",
     "output_type": "stream",
     "text": [
      "/home/runner/work/freva/freva/.docker/data/observations/grid/CPC/CPC/cmorph/30min/atmos/30min/r1i1p1/v20210618/pr/pr_30min_CPC_cmorph_r1i1p1_201609022200-201609022230.nc\n"
     ]
    }
   ],
   "source": [
    "freva-databrowser project=observations time='2016-09-02T22:15 to 2016-10'"
   ]
  },
  {
   "cell_type": "markdown",
   "id": "bb6f962e",
   "metadata": {},
   "source": [
    "The default method for selecting time periods is `flexible`, which means all files are selected that cover at least start or end date. The `strict` method implies that the entire search time period has to be covered by the files. Using the `strict` method in the example above would only yield on file because the first file contains time steps prior to the start of the time period:"
   ]
  },
  {
   "cell_type": "code",
   "execution_count": 7,
   "id": "66569d44",
   "metadata": {
    "execution": {
     "iopub.execute_input": "2022-10-17T08:07:35.730288Z",
     "iopub.status.busy": "2022-10-17T08:07:35.729912Z",
     "iopub.status.idle": "2022-10-17T08:07:36.186868Z",
     "shell.execute_reply": "2022-10-17T08:07:36.186200Z"
    }
   },
   "outputs": [
    {
     "name": "stdout",
     "output_type": "stream",
     "text": [
      "/home/runner/work/freva/freva/.docker/data/observations/grid/CPC/CPC/cmorph/30min/atmos/30min/r1i1p1/v20210618/pr/pr_30min_CPC_cmorph_r1i1p1_201609022300-201609022330.nc\n"
     ]
    }
   ],
   "source": [
    "freva-databrowser project=observations time='2016-09-02T22:15 to 2016-10' --time-select strict"
   ]
  },
  {
   "cell_type": "markdown",
   "id": "d025caea",
   "metadata": {},
   "source": [
    "You might as well want to know about possible values that an attribute can take after a certain search is done. For this you use the `--facet` flag (facets are the attributes used to search for and sub set the data). For example to see all `facets` that are available in the observations project:"
   ]
  },
  {
   "cell_type": "code",
   "execution_count": 8,
   "id": "241249be",
   "metadata": {
    "execution": {
     "iopub.execute_input": "2022-10-17T08:07:36.190498Z",
     "iopub.status.busy": "2022-10-17T08:07:36.190277Z",
     "iopub.status.idle": "2022-10-17T08:07:36.647628Z",
     "shell.execute_reply": "2022-10-17T08:07:36.646954Z"
    }
   },
   "outputs": [
    {
     "name": "stdout",
     "output_type": "stream",
     "text": [
      "model: cpc\n"
     ]
    },
    {
     "name": "stdout",
     "output_type": "stream",
     "text": [
      "ensemble: r1i1p1\n"
     ]
    },
    {
     "name": "stdout",
     "output_type": "stream",
     "text": [
      "realm: atmos\n"
     ]
    },
    {
     "name": "stdout",
     "output_type": "stream",
     "text": [
      "project: observations\n"
     ]
    },
    {
     "name": "stdout",
     "output_type": "stream",
     "text": [
      "experiment: cmorph\n"
     ]
    },
    {
     "name": "stdout",
     "output_type": "stream",
     "text": [
      "product: grid\n"
     ]
    },
    {
     "name": "stdout",
     "output_type": "stream",
     "text": [
      "dataset: testdata\n"
     ]
    },
    {
     "name": "stdout",
     "output_type": "stream",
     "text": [
      "time_frequency: 30min\n"
     ]
    },
    {
     "name": "stdout",
     "output_type": "stream",
     "text": [
      "institute: cpc\n"
     ]
    },
    {
     "name": "stdout",
     "output_type": "stream",
     "text": [
      "variable: pr\n"
     ]
    },
    {
     "name": "stdout",
     "output_type": "stream",
     "text": [
      "cmor_table: 30min\n"
     ]
    }
   ],
   "source": [
    "freva-databrowser project=observations --all-facets"
   ]
  },
  {
   "cell_type": "code",
   "execution_count": 9,
   "id": "5fcc1243",
   "metadata": {
    "execution": {
     "iopub.execute_input": "2022-10-17T08:07:36.650756Z",
     "iopub.status.busy": "2022-10-17T08:07:36.650349Z",
     "iopub.status.idle": "2022-10-17T08:07:37.088209Z",
     "shell.execute_reply": "2022-10-17T08:07:37.087641Z"
    }
   },
   "outputs": [
    {
     "name": "stdout",
     "output_type": "stream",
     "text": [
      "time_frequency: 30min\n"
     ]
    },
    {
     "name": "stdout",
     "output_type": "stream",
     "text": [
      "variable: pr\n"
     ]
    }
   ],
   "source": [
    "freva-databrowser --facet time_frequency --facet variable project=observations"
   ]
  },
  {
   "cell_type": "markdown",
   "id": "91576c4b",
   "metadata": {},
   "source": [
    "You can also retrieve information on how many facets are found by the databrowser by giving the `count` flag"
   ]
  },
  {
   "cell_type": "code",
   "execution_count": 10,
   "id": "f8d810a7",
   "metadata": {
    "execution": {
     "iopub.execute_input": "2022-10-17T08:07:37.091776Z",
     "iopub.status.busy": "2022-10-17T08:07:37.091234Z",
     "iopub.status.idle": "2022-10-17T08:07:37.535479Z",
     "shell.execute_reply": "2022-10-17T08:07:37.534904Z"
    }
   },
   "outputs": [
    {
     "name": "stdout",
     "output_type": "stream",
     "text": [
      "time_frequency: 30min (24)\n"
     ]
    },
    {
     "name": "stdout",
     "output_type": "stream",
     "text": [
      "variable: pr (24)\n"
     ]
    }
   ],
   "source": [
    "freva-databrowser --facet time_frequency --facet variable project=observations --count"
   ]
  },
  {
   "cell_type": "markdown",
   "id": "321a9193",
   "metadata": {},
   "source": [
    "# Running data analysis plugins: the freva-plugin command\n",
    "\n",
    "Already defined data analysis tools can be started with the `freva-plugin` command or the `freva plugin` sub-command. Let’s inspect the help menu of the plugin command:"
   ]
  },
  {
   "cell_type": "code",
   "execution_count": 11,
   "id": "a38018e7",
   "metadata": {
    "execution": {
     "iopub.execute_input": "2022-10-17T08:07:37.538682Z",
     "iopub.status.busy": "2022-10-17T08:07:37.538356Z",
     "iopub.status.idle": "2022-10-17T08:07:37.731481Z",
     "shell.execute_reply": "2022-10-17T08:07:37.730897Z"
    }
   },
   "outputs": [
    {
     "name": "stdout",
     "output_type": "stream",
     "text": [
      "usage: freva-plugin [-h] [--repo-version] [--caption CAPTION] [--save]\n"
     ]
    },
    {
     "name": "stdout",
     "output_type": "stream",
     "text": [
      "                    [--save-config SAVE_CONFIG] [--show-config] [--dry-run]\n"
     ]
    },
    {
     "name": "stdout",
     "output_type": "stream",
     "text": [
      "                    [--batchmode] [--unique_output UNIQUE_OUTPUT]\n"
     ]
    },
    {
     "name": "stdout",
     "output_type": "stream",
     "text": [
      "                    [--pull-request] [--tag TAG] [--debug] [--list-tools]\n"
     ]
    },
    {
     "name": "stdout",
     "output_type": "stream",
     "text": [
      "                    [--doc] [-V]\n"
     ]
    },
    {
     "name": "stdout",
     "output_type": "stream",
     "text": [
      "                    [plugin_name]\n"
     ]
    },
    {
     "name": "stdout",
     "output_type": "stream",
     "text": [
      "\n"
     ]
    },
    {
     "name": "stdout",
     "output_type": "stream",
     "text": [
      "Apply data analysis plugin.\n"
     ]
    },
    {
     "name": "stdout",
     "output_type": "stream",
     "text": [
      "\n"
     ]
    },
    {
     "name": "stdout",
     "output_type": "stream",
     "text": [
      "positional arguments:\n"
     ]
    },
    {
     "name": "stdout",
     "output_type": "stream",
     "text": [
      "  plugin_name           Plugin name (default: None)\n"
     ]
    },
    {
     "name": "stdout",
     "output_type": "stream",
     "text": [
      "\n"
     ]
    },
    {
     "name": "stdout",
     "output_type": "stream",
     "text": [
      "options:\n"
     ]
    },
    {
     "name": "stdout",
     "output_type": "stream",
     "text": [
      "  -h, --help            show this help message and exit\n"
     ]
    },
    {
     "name": "stdout",
     "output_type": "stream",
     "text": [
      "  --repo-version        Show the version number from the repository (default:\n"
     ]
    },
    {
     "name": "stdout",
     "output_type": "stream",
     "text": [
      "                        False)\n"
     ]
    },
    {
     "name": "stdout",
     "output_type": "stream",
     "text": [
      "  --caption CAPTION     Set a caption for the results (default: )\n"
     ]
    },
    {
     "name": "stdout",
     "output_type": "stream",
     "text": [
      "  --save                Save the plugin configuration to default destination.\n"
     ]
    },
    {
     "name": "stdout",
     "output_type": "stream",
     "text": [
      "                        (default: False)\n"
     ]
    },
    {
     "name": "stdout",
     "output_type": "stream",
     "text": [
      "  --save-config SAVE_CONFIG\n"
     ]
    },
    {
     "name": "stdout",
     "output_type": "stream",
     "text": [
      "                        Save the plugin configuration. (default: None)\n"
     ]
    },
    {
     "name": "stdout",
     "output_type": "stream",
     "text": [
      "  --show-config         Show the resulting configuration (implies dry-run).\n"
     ]
    },
    {
     "name": "stdout",
     "output_type": "stream",
     "text": [
      "                        (default: False)\n"
     ]
    },
    {
     "name": "stdout",
     "output_type": "stream",
     "text": [
      "  --dry-run             Perform no computation. Useful for development.\n"
     ]
    },
    {
     "name": "stdout",
     "output_type": "stream",
     "text": [
      "                        (default: False)\n"
     ]
    },
    {
     "name": "stdout",
     "output_type": "stream",
     "text": [
      "  --batchmode           Create a Batch job and submit it to the scheduling\n"
     ]
    },
    {
     "name": "stdout",
     "output_type": "stream",
     "text": [
      "                        system. (default: False)\n"
     ]
    },
    {
     "name": "stdout",
     "output_type": "stream",
     "text": [
      "  --unique_output UNIQUE_OUTPUT\n"
     ]
    },
    {
     "name": "stdout",
     "output_type": "stream",
     "text": [
      "                        Append a freva run id to every output folder (default:\n"
     ]
    },
    {
     "name": "stdout",
     "output_type": "stream",
     "text": [
      "                        True)\n"
     ]
    },
    {
     "name": "stdout",
     "output_type": "stream",
     "text": [
      "  --pull-request        Issue a new pull request for the tool (default: False)\n"
     ]
    },
    {
     "name": "stdout",
     "output_type": "stream",
     "text": [
      "  --tag TAG             Use git commit hash (default: None)\n"
     ]
    },
    {
     "name": "stdout",
     "output_type": "stream",
     "text": [
      "  --debug, -v, -d, --verbose\n"
     ]
    },
    {
     "name": "stdout",
     "output_type": "stream",
     "text": [
      "                        Use verbose output. (default: False)\n"
     ]
    },
    {
     "name": "stdout",
     "output_type": "stream",
     "text": [
      "  --list-tools, --list, -l\n"
     ]
    },
    {
     "name": "stdout",
     "output_type": "stream",
     "text": [
      "                        Only list the available tools. (default: False)\n"
     ]
    },
    {
     "name": "stdout",
     "output_type": "stream",
     "text": [
      "  --doc, --plugin-doc   Display plugin documentation (default: False)\n"
     ]
    },
    {
     "name": "stdout",
     "output_type": "stream",
     "text": [
      "  -V, --version         show program's version number and exit\n"
     ]
    }
   ],
   "source": [
    "freva-plugin --help"
   ]
  },
  {
   "cell_type": "markdown",
   "id": "cbcf421b",
   "metadata": {},
   "source": [
    "As the help menu suggests you can list all available tools using the `-l` option (or `--list`, `--list-tools`):"
   ]
  },
  {
   "cell_type": "code",
   "execution_count": 12,
   "id": "761fe8e8",
   "metadata": {
    "execution": {
     "iopub.execute_input": "2022-10-17T08:07:37.734644Z",
     "iopub.status.busy": "2022-10-17T08:07:37.734435Z",
     "iopub.status.idle": "2022-10-17T08:07:38.926928Z",
     "shell.execute_reply": "2022-10-17T08:07:38.926328Z"
    }
   },
   "outputs": [
    {
     "name": "stdout",
     "output_type": "stream",
     "text": [
      "Animator: Animate data on lon/lat grids\n"
     ]
    },
    {
     "name": "stdout",
     "output_type": "stream",
     "text": [
      "DummyPlugin: A dummy plugin\n"
     ]
    }
   ],
   "source": [
    "freva-plugin -l"
   ]
  },
  {
   "cell_type": "markdown",
   "id": "3f0e9883",
   "metadata": {},
   "source": [
    "This means currently we have two plugins available (animator and dummyplugin). The general syntax is freva-plugin `<plugin-name> [options]` for example to inspect the documentation of a certain plugin you can use the `--doc` option. Here we concentrate on the Animator plugin. A simple plugin that creates animations of geospatial data. The basic usage of that command can be retrieved by:"
   ]
  },
  {
   "cell_type": "code",
   "execution_count": 13,
   "id": "86bc4136",
   "metadata": {
    "execution": {
     "iopub.execute_input": "2022-10-17T08:07:38.930674Z",
     "iopub.status.busy": "2022-10-17T08:07:38.930171Z",
     "iopub.status.idle": "2022-10-17T08:07:40.126622Z",
     "shell.execute_reply": "2022-10-17T08:07:40.126019Z"
    }
   },
   "outputs": [
    {
     "name": "stdout",
     "output_type": "stream",
     "text": [
      "Animator (v2022.7.15): Create animations (in gif or mp4 format) This tool creates plots of solr facets and an animation.\n"
     ]
    },
    {
     "name": "stdout",
     "output_type": "stream",
     "text": [
      "Options:\n"
     ]
    },
    {
     "name": "stdout",
     "output_type": "stream",
     "text": [
      "input_file              (default: <undefined>)\n"
     ]
    },
    {
     "name": "stdout",
     "output_type": "stream",
     "text": [
      "                        NetCDF input file(s), you can choose multiple files\n"
     ]
    },
    {
     "name": "stdout",
     "output_type": "stream",
     "text": [
      "                        separated by a , or use a global pattern for multiple\n"
     ]
    },
    {
     "name": "stdout",
     "output_type": "stream",
     "text": [
      "                        files chose this option only if you don't want Freva to\n"
     ]
    },
    {
     "name": "stdout",
     "output_type": "stream",
     "text": [
      "                        find files by seach facets\n"
     ]
    },
    {
     "name": "stdout",
     "output_type": "stream",
     "text": [
      "variable                (default: <undefined>) [mandatory]\n"
     ]
    },
    {
     "name": "stdout",
     "output_type": "stream",
     "text": [
      "                        Variable name (only applicable if you didn't choose an\n"
     ]
    },
    {
     "name": "stdout",
     "output_type": "stream",
     "text": [
      "                        input file)\n"
     ]
    },
    {
     "name": "stdout",
     "output_type": "stream",
     "text": [
      "project                 (default: <undefined>)\n"
     ]
    },
    {
     "name": "stdout",
     "output_type": "stream",
     "text": [
      "                        Project name (only applicable if you didn't choose an\n"
     ]
    },
    {
     "name": "stdout",
     "output_type": "stream",
     "text": [
      "                        input file)\n"
     ]
    },
    {
     "name": "stdout",
     "output_type": "stream",
     "text": [
      "product                 (default: <undefined>)\n"
     ]
    },
    {
     "name": "stdout",
     "output_type": "stream",
     "text": [
      "                        Product name (only applicable if you didn't choose an\n"
     ]
    },
    {
     "name": "stdout",
     "output_type": "stream",
     "text": [
      "                        input file)\n"
     ]
    },
    {
     "name": "stdout",
     "output_type": "stream",
     "text": [
      "experiment              (default: <undefined>)\n"
     ]
    },
    {
     "name": "stdout",
     "output_type": "stream",
     "text": [
      "                        Experiment name (only applicable if you didn't choose an\n"
     ]
    },
    {
     "name": "stdout",
     "output_type": "stream",
     "text": [
      "                        input file)\n"
     ]
    },
    {
     "name": "stdout",
     "output_type": "stream",
     "text": [
      "institute               (default: <undefined>)\n"
     ]
    },
    {
     "name": "stdout",
     "output_type": "stream",
     "text": [
      "                        Institute name (only applicable if you didn't choose an\n"
     ]
    },
    {
     "name": "stdout",
     "output_type": "stream",
     "text": [
      "                        input file)\n"
     ]
    },
    {
     "name": "stdout",
     "output_type": "stream",
     "text": [
      "model                   (default: <undefined>)\n"
     ]
    },
    {
     "name": "stdout",
     "output_type": "stream",
     "text": [
      "                        Model name (only applicable if you didn't choose an\n"
     ]
    },
    {
     "name": "stdout",
     "output_type": "stream",
     "text": [
      "                        input file)\n"
     ]
    },
    {
     "name": "stdout",
     "output_type": "stream",
     "text": [
      "time_frequency          (default: <undefined>)\n"
     ]
    },
    {
     "name": "stdout",
     "output_type": "stream",
     "text": [
      "                        Time frequency name (only applicable if you didn't\n"
     ]
    },
    {
     "name": "stdout",
     "output_type": "stream",
     "text": [
      "                        choose an input file)\n"
     ]
    },
    {
     "name": "stdout",
     "output_type": "stream",
     "text": [
      "ensemble                (default: <undefined>)\n"
     ]
    },
    {
     "name": "stdout",
     "output_type": "stream",
     "text": [
      "                        Ensemble name (only applicable if you didn't choose an\n"
     ]
    },
    {
     "name": "stdout",
     "output_type": "stream",
     "text": [
      "                        input file)\n"
     ]
    },
    {
     "name": "stdout",
     "output_type": "stream",
     "text": [
      "start                   (default: <undefined>)\n"
     ]
    },
    {
     "name": "stdout",
     "output_type": "stream",
     "text": [
      "                        Define the first time step to be plotted, leave blank if\n"
     ]
    },
    {
     "name": "stdout",
     "output_type": "stream",
     "text": [
      "                        taken from data\n"
     ]
    },
    {
     "name": "stdout",
     "output_type": "stream",
     "text": [
      "end                     (default: <undefined>)\n"
     ]
    },
    {
     "name": "stdout",
     "output_type": "stream",
     "text": [
      "                        Define the last time step to be plotted, leave blank if\n"
     ]
    },
    {
     "name": "stdout",
     "output_type": "stream",
     "text": [
      "                        taken from data\n"
     ]
    },
    {
     "name": "stdout",
     "output_type": "stream",
     "text": [
      "time_mean               (default: <undefined>)\n"
     ]
    },
    {
     "name": "stdout",
     "output_type": "stream",
     "text": [
      "                        Select a time interval if time averaging/min/max/sum\n"
     ]
    },
    {
     "name": "stdout",
     "output_type": "stream",
     "text": [
      "                        should be applied along the time axis. This can be D for\n"
     ]
    },
    {
     "name": "stdout",
     "output_type": "stream",
     "text": [
      "                        daily, M for monthly 6H for 6 hours etc. Leave blank if\n"
     ]
    },
    {
     "name": "stdout",
     "output_type": "stream",
     "text": [
      "                        the time axis should not be resampled (default) or set\n"
     ]
    },
    {
     "name": "stdout",
     "output_type": "stream",
     "text": [
      "                        to <em>all</em> if you want to collapse the time axis.\n"
     ]
    },
    {
     "name": "stdout",
     "output_type": "stream",
     "text": [
      "time_method             (default: mean)\n"
     ]
    },
    {
     "name": "stdout",
     "output_type": "stream",
     "text": [
      "                        If resampling of the time axis is chosen (default: no)\n"
     ]
    },
    {
     "name": "stdout",
     "output_type": "stream",
     "text": [
      "                        set the method: mean, max or min. <b>Note:</b> This has\n"
     ]
    },
    {
     "name": "stdout",
     "output_type": "stream",
     "text": [
      "                        only an effect if the above parameter for\n"
     ]
    },
    {
     "name": "stdout",
     "output_type": "stream",
     "text": [
      "                        <em>time_mean</em> is set.\n"
     ]
    },
    {
     "name": "stdout",
     "output_type": "stream",
     "text": [
      "lonlatbox               (default: <undefined>)\n"
     ]
    },
    {
     "name": "stdout",
     "output_type": "stream",
     "text": [
      "                        Set the extend of a rectangular lonlatbox (left_lon,\n"
     ]
    },
    {
     "name": "stdout",
     "output_type": "stream",
     "text": [
      "                        right_lat, lower_lat, upper_lat)\n"
     ]
    },
    {
     "name": "stdout",
     "output_type": "stream",
     "text": [
      "output_unit             (default: <undefined>)\n"
     ]
    },
    {
     "name": "stdout",
     "output_type": "stream",
     "text": [
      "                        Set the output unit of the variable - leave blank for no\n"
     ]
    },
    {
     "name": "stdout",
     "output_type": "stream",
     "text": [
      "                        conversion. This can be useful if the unit of the input\n"
     ]
    },
    {
     "name": "stdout",
     "output_type": "stream",
     "text": [
      "                        files should be converted, for example for\n"
     ]
    },
    {
     "name": "stdout",
     "output_type": "stream",
     "text": [
      "                        precipitation. Note: Although many conversions are\n"
     ]
    },
    {
     "name": "stdout",
     "output_type": "stream",
     "text": [
      "                        supported, by using the `pint` conversion library.\n"
     ]
    },
    {
     "name": "stdout",
     "output_type": "stream",
     "text": [
      "vmin                    (default: <undefined>)\n"
     ]
    },
    {
     "name": "stdout",
     "output_type": "stream",
     "text": [
      "                        Set the minimum plotting range (leave blank to calculate\n"
     ]
    },
    {
     "name": "stdout",
     "output_type": "stream",
     "text": [
      "                        from data 1st decile)\n"
     ]
    },
    {
     "name": "stdout",
     "output_type": "stream",
     "text": [
      "vmax                    (default: <undefined>)\n"
     ]
    },
    {
     "name": "stdout",
     "output_type": "stream",
     "text": [
      "                        Set the maximum plotting range (leave blank to calculate\n"
     ]
    },
    {
     "name": "stdout",
     "output_type": "stream",
     "text": [
      "                        the 9th decile)\n"
     ]
    },
    {
     "name": "stdout",
     "output_type": "stream",
     "text": [
      "cmap                    (default: RdYlBu_r)\n"
     ]
    },
    {
     "name": "stdout",
     "output_type": "stream",
     "text": [
      "                        Set the colormap, more information on colormaps is\n"
     ]
    },
    {
     "name": "stdout",
     "output_type": "stream",
     "text": [
      "                        available on the <a href=\"https://matplotlib.org/stable/\n"
     ]
    },
    {
     "name": "stdout",
     "output_type": "stream",
     "text": [
      "                        tutorials/colors/colormaps.html\"\n"
     ]
    },
    {
     "name": "stdout",
     "output_type": "stream",
     "text": [
      "                        target=_blank>matplotlib website</a>.\n"
     ]
    },
    {
     "name": "stdout",
     "output_type": "stream",
     "text": [
      "linecolor               (default: k)\n"
     ]
    },
    {
     "name": "stdout",
     "output_type": "stream",
     "text": [
      "                        Color of the coast lines in the map\n"
     ]
    },
    {
     "name": "stdout",
     "output_type": "stream",
     "text": [
      "projection              (default: PlateCarree)\n"
     ]
    },
    {
     "name": "stdout",
     "output_type": "stream",
     "text": [
      "                        Set the global map projection. Note: this should the\n"
     ]
    },
    {
     "name": "stdout",
     "output_type": "stream",
     "text": [
      "                        name of the cartopy projection method (e.g PlatteCarree\n"
     ]
    },
    {
     "name": "stdout",
     "output_type": "stream",
     "text": [
      "                        for Cylindrical Projection). Pleas refer to <a href=\"htt\n"
     ]
    },
    {
     "name": "stdout",
     "output_type": "stream",
     "text": [
      "                        ps://scitools.org.uk/cartopy/docs/latest/crs/projections\n"
     ]
    },
    {
     "name": "stdout",
     "output_type": "stream",
     "text": [
      "                        .html\"target=_blank>cartopy website</a> for details.\n"
     ]
    },
    {
     "name": "stdout",
     "output_type": "stream",
     "text": [
      "proj_centre             (default: 50)\n"
     ]
    },
    {
     "name": "stdout",
     "output_type": "stream",
     "text": [
      "                        Set center longitude of the global map projection.\n"
     ]
    },
    {
     "name": "stdout",
     "output_type": "stream",
     "text": [
      "pic_size                (default: 1360,900)\n"
     ]
    },
    {
     "name": "stdout",
     "output_type": "stream",
     "text": [
      "                        Set the size of the picture (in pixel)\n"
     ]
    },
    {
     "name": "stdout",
     "output_type": "stream",
     "text": [
      "plot_title              (default: )\n"
     ]
    },
    {
     "name": "stdout",
     "output_type": "stream",
     "text": [
      "                        Set plot title\n"
     ]
    },
    {
     "name": "stdout",
     "output_type": "stream",
     "text": [
      "cbar_label              (default: )\n"
     ]
    },
    {
     "name": "stdout",
     "output_type": "stream",
     "text": [
      "                        Overwrite default colorbar label by this value\n"
     ]
    },
    {
     "name": "stdout",
     "output_type": "stream",
     "text": [
      "suffix                  (default: mp4)\n"
     ]
    },
    {
     "name": "stdout",
     "output_type": "stream",
     "text": [
      "                        Filetype of the animation\n"
     ]
    },
    {
     "name": "stdout",
     "output_type": "stream",
     "text": [
      "fps                     (default: 5)\n"
     ]
    },
    {
     "name": "stdout",
     "output_type": "stream",
     "text": [
      "                        Set the frames per seceonds of the output animation.\n"
     ]
    },
    {
     "name": "stdout",
     "output_type": "stream",
     "text": [
      "extra_scheduler_options (default: --qos=test, --array=20)\n"
     ]
    },
    {
     "name": "stdout",
     "output_type": "stream",
     "text": [
      "                        Set additional options for the job submission to the\n"
     ]
    },
    {
     "name": "stdout",
     "output_type": "stream",
     "text": [
      "                        workload manager (, seperated). Note: batchmode and web\n"
     ]
    },
    {
     "name": "stdout",
     "output_type": "stream",
     "text": [
      "                        only.\n"
     ]
    }
   ],
   "source": [
    "freva-plugin --doc animator"
   ]
  },
  {
   "cell_type": "markdown",
   "id": "a0d76f1e",
   "metadata": {},
   "source": [
    "The parameters are also given as `key=values` pairs. But not all of the above parameters are mandatory. Let’s use one project search key and animate its content."
   ]
  },
  {
   "cell_type": "code",
   "execution_count": 14,
   "id": "ff9c6cec",
   "metadata": {
    "execution": {
     "iopub.execute_input": "2022-10-17T08:07:40.130010Z",
     "iopub.status.busy": "2022-10-17T08:07:40.129653Z",
     "iopub.status.idle": "2022-10-17T08:08:26.136212Z",
     "shell.execute_reply": "2022-10-17T08:08:26.135642Z"
    }
   },
   "outputs": [
    {
     "name": "stdout",
     "output_type": "stream",
     "text": [
      "Setp 1: Collecting all files\n"
     ]
    },
    {
     "name": "stdout",
     "output_type": "stream",
     "text": [
      "Step 2: Opening the netcdf-files, collecting metadata\n"
     ]
    },
    {
     "name": "stdout",
     "output_type": "stream",
     "text": [
      "Step 3: Converting Units\n"
     ]
    },
    {
     "name": "stdout",
     "output_type": "stream",
     "text": [
      "Step 4: Loading the dataset, getting min/max values\n"
     ]
    },
    {
     "name": "stdout",
     "output_type": "stream",
     "text": [
      "Step 5: Creating the animation\n"
     ]
    },
    {
     "name": "stdout",
     "output_type": "stream",
     "text": [
      "Created animation /tmp/eval_conf/work/runner/freva-ces/output/animator/2120/pr_20160902T0000-20160902T2330.gif in 42 seconds\n"
     ]
    }
   ],
   "source": [
    "freva plugin animator project=observations variable=pr cmap=Blues fps=5 output_unit=mm/h vmin=0 vmax=5 suffix=gif"
   ]
  },
  {
   "cell_type": "markdown",
   "id": "e53b8d72",
   "metadata": {},
   "source": [
    "This plugin will run in so called interactive mode. That means that it will run on the login node and block your shell until the command is completed. This can be problematic if you have jobs that might take time to finish. An alternative is setting the `-–batchmode` flag. This flag tells the plugin to submit a job to the computing queue. The computing nodes are the core of any high performance computing system. Let’s submit the previous plugin job to the computing queue:"
   ]
  },
  {
   "cell_type": "code",
   "execution_count": 15,
   "id": "e2ccc53b",
   "metadata": {
    "execution": {
     "iopub.execute_input": "2022-10-17T08:08:26.139814Z",
     "iopub.status.busy": "2022-10-17T08:08:26.139272Z",
     "iopub.status.idle": "2022-10-17T08:08:27.469833Z",
     "shell.execute_reply": "2022-10-17T08:08:27.469188Z"
    }
   },
   "outputs": [
    {
     "name": "stdout",
     "output_type": "stream",
     "text": [
      "Scheduled job with history id: 2121\n"
     ]
    },
    {
     "name": "stdout",
     "output_type": "stream",
     "text": [
      "You can view the job's status with the command squeue\n"
     ]
    },
    {
     "name": "stdout",
     "output_type": "stream",
     "text": [
      "Your job's progress will be shown with the command\n"
     ]
    },
    {
     "name": "stdout",
     "output_type": "stream",
     "text": [
      "tail -f /tmp/share/slurm/animator/Animator-20123.out\n"
     ]
    }
   ],
   "source": [
    "freva plugin animator project=observations variable=pr cmap=Blues fps=5 output_unit=mm/h vmin=0 vmax=5 suffix=gif --batchmode"
   ]
  },
  {
   "cell_type": "markdown",
   "id": "3f56b3c2",
   "metadata": {},
   "source": [
    "# Inspecting previous analysis jobs: the freva-history command\n",
    "\n",
    "Sometimes it can be useful to access the status of past plugin applications. The `freva-history` command or `freva history` sub-command can do that:"
   ]
  },
  {
   "cell_type": "code",
   "execution_count": 16,
   "id": "cf5938d6",
   "metadata": {
    "execution": {
     "iopub.execute_input": "2022-10-17T08:08:27.472878Z",
     "iopub.status.busy": "2022-10-17T08:08:27.472671Z",
     "iopub.status.idle": "2022-10-17T08:08:28.669497Z",
     "shell.execute_reply": "2022-10-17T08:08:28.668881Z"
    }
   },
   "outputs": [
    {
     "name": "stdout",
     "output_type": "stream",
     "text": [
      "INFO:freva:history of {plugin}, limit=1, since=None, until=None, entry_ids=None\n"
     ]
    },
    {
     "name": "stdout",
     "output_type": "stream",
     "text": [
      "2115) dummyplugin [2022-10-17 08:04:49] finished {\"number\": null, \"the_number\": 5, \"something\": \"test\", \"other\": 1.4...\n"
     ]
    }
   ],
   "source": [
    "freva-history --limit 1 --plugin dummyplugin"
   ]
  },
  {
   "cell_type": "code",
   "execution_count": 17,
   "id": "b2c1b3cf",
   "metadata": {
    "execution": {
     "iopub.execute_input": "2022-10-17T08:08:28.672564Z",
     "iopub.status.busy": "2022-10-17T08:08:28.672342Z",
     "iopub.status.idle": "2022-10-17T08:08:29.880189Z",
     "shell.execute_reply": "2022-10-17T08:08:29.879609Z"
    }
   },
   "outputs": [
    {
     "name": "stdout",
     "output_type": "stream",
     "text": [
      "INFO:freva:history, limit=10, since=None, until=None, entry_ids=['1']\n"
     ]
    }
   ],
   "source": [
    "freva-history --entry-ids 1 --full-text"
   ]
  },
  {
   "cell_type": "markdown",
   "id": "78d07784",
   "metadata": {},
   "source": [
    "To re-run a command of a past configuration you can use the --return-command option to get the command that was used:"
   ]
  },
  {
   "cell_type": "code",
   "execution_count": 18,
   "id": "ed7b4ba7",
   "metadata": {
    "execution": {
     "iopub.execute_input": "2022-10-17T08:08:29.883846Z",
     "iopub.status.busy": "2022-10-17T08:08:29.883293Z",
     "iopub.status.idle": "2022-10-17T08:08:31.065153Z",
     "shell.execute_reply": "2022-10-17T08:08:31.064546Z"
    }
   },
   "outputs": [],
   "source": [
    "freva-history  --entry-ids 136 --return-command"
   ]
  },
  {
   "cell_type": "markdown",
   "id": "0f66c049",
   "metadata": {},
   "source": [
    "# Managing your own datasets: the freva-user-data command\n",
    "\n",
    "Freva offers the possibility to share custom datasets with other users by making it searchable via `freva-databrowser`. With help of the `freva-user-data` command users can add their own data to the central data location, (re)-index or delete data in the databrowser.\n",
    "\n",
    "__Note__: Any data that has been added by users will be assigned a special project name: `project=user-$USER`.\n",
    "Let’s inspect the help menu of the freva-user-data or freva user-data command:"
   ]
  },
  {
   "cell_type": "code",
   "execution_count": 19,
   "id": "655895ff",
   "metadata": {
    "execution": {
     "iopub.execute_input": "2022-10-17T08:08:31.068756Z",
     "iopub.status.busy": "2022-10-17T08:08:31.068398Z",
     "iopub.status.idle": "2022-10-17T08:08:31.326611Z",
     "shell.execute_reply": "2022-10-17T08:08:31.326032Z"
    }
   },
   "outputs": [
    {
     "name": "stdout",
     "output_type": "stream",
     "text": [
      "usage: freva-user-data [-h] [-V] {index,add,delete} ...\n"
     ]
    },
    {
     "name": "stdout",
     "output_type": "stream",
     "text": [
      "\n"
     ]
    },
    {
     "name": "stdout",
     "output_type": "stream",
     "text": [
      "Update users project data\n"
     ]
    },
    {
     "name": "stdout",
     "output_type": "stream",
     "text": [
      "\n"
     ]
    },
    {
     "name": "stdout",
     "output_type": "stream",
     "text": [
      "positional arguments:\n"
     ]
    },
    {
     "name": "stdout",
     "output_type": "stream",
     "text": [
      "  {index,add,delete}  Available sub-commands:\n"
     ]
    },
    {
     "name": "stdout",
     "output_type": "stream",
     "text": [
      "    index             Index existing user project data to the databrowser\n"
     ]
    },
    {
     "name": "stdout",
     "output_type": "stream",
     "text": [
      "    add               Add new user project data to the databrowser\n"
     ]
    },
    {
     "name": "stdout",
     "output_type": "stream",
     "text": [
      "    delete            Delete existing user project data from the databrowser\n"
     ]
    },
    {
     "name": "stdout",
     "output_type": "stream",
     "text": [
      "\n"
     ]
    },
    {
     "name": "stdout",
     "output_type": "stream",
     "text": [
      "options:\n"
     ]
    },
    {
     "name": "stdout",
     "output_type": "stream",
     "text": [
      "  -h, --help          show this help message and exit\n"
     ]
    },
    {
     "name": "stdout",
     "output_type": "stream",
     "text": [
      "  -V, --version       show program's version number and exit\n"
     ]
    }
   ],
   "source": [
    "freva-user-data --help"
   ]
  },
  {
   "cell_type": "markdown",
   "id": "78cac543",
   "metadata": {},
   "source": [
    "## Add new data to the databrowser\n",
    "\n",
    "To be able to add data to the databrowser the file names must follow a strict standard and the files must reside in a specific location. The add sub command takes care about the correct file naming and location. No pre requirements other than the file has to be a valid netCDF or grib file are assumed. In other words this sub command places the user data with the correct naming structure to the correct location."
   ]
  },
  {
   "cell_type": "code",
   "execution_count": 20,
   "id": "5d9fd7ee",
   "metadata": {
    "execution": {
     "iopub.execute_input": "2022-10-17T08:08:31.330103Z",
     "iopub.status.busy": "2022-10-17T08:08:31.329553Z",
     "iopub.status.idle": "2022-10-17T08:08:31.587313Z",
     "shell.execute_reply": "2022-10-17T08:08:31.586707Z"
    }
   },
   "outputs": [
    {
     "name": "stdout",
     "output_type": "stream",
     "text": [
      "usage: freva-user-data add [-h] [--how {copy,move,symlink,link}] [--override]\n"
     ]
    },
    {
     "name": "stdout",
     "output_type": "stream",
     "text": [
      "                           [--experiment EXPERIMENT] [--institute INSTITUTE]\n"
     ]
    },
    {
     "name": "stdout",
     "output_type": "stream",
     "text": [
      "                           [--model MODEL] [--variable VARIABLE]\n"
     ]
    },
    {
     "name": "stdout",
     "output_type": "stream",
     "text": [
      "                           [--time_frequency TIME_FREQUENCY]\n"
     ]
    },
    {
     "name": "stdout",
     "output_type": "stream",
     "text": [
      "                           [--ensemble ENSEMBLE] [--debug]\n"
     ]
    },
    {
     "name": "stdout",
     "output_type": "stream",
     "text": [
      "                           product paths [paths ...]\n"
     ]
    },
    {
     "name": "stdout",
     "output_type": "stream",
     "text": [
      "\n"
     ]
    },
    {
     "name": "stdout",
     "output_type": "stream",
     "text": [
      "Add new user project data to the databrowser\n"
     ]
    },
    {
     "name": "stdout",
     "output_type": "stream",
     "text": [
      "\n"
     ]
    },
    {
     "name": "stdout",
     "output_type": "stream",
     "text": [
      "positional arguments:\n"
     ]
    },
    {
     "name": "stdout",
     "output_type": "stream",
     "text": [
      "  product               Product search key the newly added data can be found.\n"
     ]
    },
    {
     "name": "stdout",
     "output_type": "stream",
     "text": [
      "  paths                 Filename(s) or Directories that are going to be added\n"
     ]
    },
    {
     "name": "stdout",
     "output_type": "stream",
     "text": [
      "                        to thedatabrowser\n"
     ]
    },
    {
     "name": "stdout",
     "output_type": "stream",
     "text": [
      "\n"
     ]
    },
    {
     "name": "stdout",
     "output_type": "stream",
     "text": [
      "options:\n"
     ]
    },
    {
     "name": "stdout",
     "output_type": "stream",
     "text": [
      "  -h, --help            show this help message and exit\n"
     ]
    },
    {
     "name": "stdout",
     "output_type": "stream",
     "text": [
      "  --how {copy,move,symlink,link}\n"
     ]
    },
    {
     "name": "stdout",
     "output_type": "stream",
     "text": [
      "                        Method of how the data is added into the central freva\n"
     ]
    },
    {
     "name": "stdout",
     "output_type": "stream",
     "text": [
      "                        user directory. (default: copy)\n"
     ]
    },
    {
     "name": "stdout",
     "output_type": "stream",
     "text": [
      "  --override, --overwrite\n"
     ]
    },
    {
     "name": "stdout",
     "output_type": "stream",
     "text": [
      "                        Replace existing files in the user data structre\n"
     ]
    },
    {
     "name": "stdout",
     "output_type": "stream",
     "text": [
      "                        (default: False)\n"
     ]
    },
    {
     "name": "stdout",
     "output_type": "stream",
     "text": [
      "  --experiment EXPERIMENT\n"
     ]
    },
    {
     "name": "stdout",
     "output_type": "stream",
     "text": [
      "                        Set the <experiment> information if they can't be\n"
     ]
    },
    {
     "name": "stdout",
     "output_type": "stream",
     "text": [
      "                        found in the meta data (default: None)\n"
     ]
    },
    {
     "name": "stdout",
     "output_type": "stream",
     "text": [
      "  --institute INSTITUTE\n"
     ]
    },
    {
     "name": "stdout",
     "output_type": "stream",
     "text": [
      "                        Set the <institute> information if they can't be found\n"
     ]
    },
    {
     "name": "stdout",
     "output_type": "stream",
     "text": [
      "                        in the meta data (default: None)\n"
     ]
    },
    {
     "name": "stdout",
     "output_type": "stream",
     "text": [
      "  --model MODEL         Set the <model> information if they can't be found in\n"
     ]
    },
    {
     "name": "stdout",
     "output_type": "stream",
     "text": [
      "                        the meta data (default: None)\n"
     ]
    },
    {
     "name": "stdout",
     "output_type": "stream",
     "text": [
      "  --variable VARIABLE   Set the <variable> information if they can't be found\n"
     ]
    },
    {
     "name": "stdout",
     "output_type": "stream",
     "text": [
      "                        in the meta data (default: None)\n"
     ]
    },
    {
     "name": "stdout",
     "output_type": "stream",
     "text": [
      "  --time_frequency TIME_FREQUENCY\n"
     ]
    },
    {
     "name": "stdout",
     "output_type": "stream",
     "text": [
      "                        Set the <time_frequency> information if they can't be\n"
     ]
    },
    {
     "name": "stdout",
     "output_type": "stream",
     "text": [
      "                        found in the meta data (default: None)\n"
     ]
    },
    {
     "name": "stdout",
     "output_type": "stream",
     "text": [
      "  --ensemble ENSEMBLE   Set the <ensemble> information if they can't be found\n"
     ]
    },
    {
     "name": "stdout",
     "output_type": "stream",
     "text": [
      "                        in the meta data (default: None)\n"
     ]
    },
    {
     "name": "stdout",
     "output_type": "stream",
     "text": [
      "  --debug, -v, -d, --verbose\n"
     ]
    },
    {
     "name": "stdout",
     "output_type": "stream",
     "text": [
      "                        Use verbose output. (default: False)\n"
     ]
    }
   ],
   "source": [
    "freva-user-data add --help"
   ]
  },
  {
   "cell_type": "markdown",
   "id": "632ecb13",
   "metadata": {},
   "source": [
    "Suppose you’ve gotten data from somewhere and want to add this data into the databrowser to make it accessible to others. In this specific example we assume that you have stored your original data in the `/tmp/my_awesome_data` folder. E.g `/tmp/my_awesome_data/outfile_0.nc...tmp/my_awesome_data/outfile_9.nc` The routine will try to gather all necessary metadata from the files. You’ll have to provide additional metadata if mandatory keywords are missing. To make the routine work in this example we have to provide the institute, model and experiment keywords:\n",
    "\n"
   ]
  },
  {
   "cell_type": "code",
   "execution_count": 21,
   "id": "3b16a07f",
   "metadata": {
    "execution": {
     "iopub.execute_input": "2022-10-17T08:08:31.590650Z",
     "iopub.status.busy": "2022-10-17T08:08:31.590210Z",
     "iopub.status.idle": "2022-10-17T08:08:33.824222Z",
     "shell.execute_reply": "2022-10-17T08:08:33.823636Z"
    }
   },
   "outputs": [
    {
     "name": "stdout",
     "output_type": "stream",
     "text": [
      "Status: crawling ...ok\n"
     ]
    },
    {
     "name": "stdout",
     "output_type": "stream",
     "text": [
      "/tmp/user_data/user-runner/eur-11b/clex/UM-RA2T/Bias-correct/hr/user_data/hr/r0i0p0/v20221017/tas/tas_hr_UM-RA2T_Bias-correct_r0i0p0_197001041800-197001050300.nc\n"
     ]
    },
    {
     "name": "stdout",
     "output_type": "stream",
     "text": [
      "/tmp/user_data/user-runner/eur-11b/clex/UM-RA2T/Bias-correct/hr/user_data/hr/r0i0p0/v20221017/tas/tas_hr_UM-RA2T_Bias-correct_r0i0p0_197001040800-197001041700.nc\n"
     ]
    },
    {
     "name": "stdout",
     "output_type": "stream",
     "text": [
      "/tmp/user_data/user-runner/eur-11b/clex/UM-RA2T/Bias-correct/hr/user_data/hr/r0i0p0/v20221017/tas/tas_hr_UM-RA2T_Bias-correct_r0i0p0_197001032200-197001040700.nc\n"
     ]
    },
    {
     "name": "stdout",
     "output_type": "stream",
     "text": [
      "/tmp/user_data/user-runner/eur-11b/clex/UM-RA2T/Bias-correct/hr/user_data/hr/r0i0p0/v20221017/tas/tas_hr_UM-RA2T_Bias-correct_r0i0p0_197001031200-197001032100.nc\n"
     ]
    },
    {
     "name": "stdout",
     "output_type": "stream",
     "text": [
      "/tmp/user_data/user-runner/eur-11b/clex/UM-RA2T/Bias-correct/hr/user_data/hr/r0i0p0/v20221017/tas/tas_hr_UM-RA2T_Bias-correct_r0i0p0_197001030200-197001031100.nc\n"
     ]
    },
    {
     "name": "stdout",
     "output_type": "stream",
     "text": [
      "/tmp/user_data/user-runner/eur-11b/clex/UM-RA2T/Bias-correct/hr/user_data/hr/r0i0p0/v20221017/tas/tas_hr_UM-RA2T_Bias-correct_r0i0p0_197001021600-197001030100.nc\n"
     ]
    },
    {
     "name": "stdout",
     "output_type": "stream",
     "text": [
      "/tmp/user_data/user-runner/eur-11b/clex/UM-RA2T/Bias-correct/hr/user_data/hr/r0i0p0/v20221017/tas/tas_hr_UM-RA2T_Bias-correct_r0i0p0_197001020600-197001021500.nc\n"
     ]
    },
    {
     "name": "stdout",
     "output_type": "stream",
     "text": [
      "/tmp/user_data/user-runner/eur-11b/clex/UM-RA2T/Bias-correct/hr/user_data/hr/r0i0p0/v20221017/tas/tas_hr_UM-RA2T_Bias-correct_r0i0p0_197001012000-197001020500.nc\n"
     ]
    },
    {
     "name": "stdout",
     "output_type": "stream",
     "text": [
      "/tmp/user_data/user-runner/eur-11b/clex/UM-RA2T/Bias-correct/hr/user_data/hr/r0i0p0/v20221017/tas/tas_hr_UM-RA2T_Bias-correct_r0i0p0_197001011000-197001011900.nc\n"
     ]
    },
    {
     "name": "stdout",
     "output_type": "stream",
     "text": [
      "/tmp/user_data/user-runner/eur-11b/clex/UM-RA2T/Bias-correct/hr/user_data/hr/r0i0p0/v20221017/tas/tas_hr_UM-RA2T_Bias-correct_r0i0p0_197001010000-197001010900.nc\n"
     ]
    }
   ],
   "source": [
    "freva-user-data add eur-11b /tmp/my_awesome_data/outfile_?.nc \\\n",
    "--institute clex --model UM-RA2T --experiment Bias-correct\n",
    "freva-databrowser experiment=bias-correct"
   ]
  },
  {
   "cell_type": "markdown",
   "id": "ff481a21",
   "metadata": {},
   "source": [
    "## Remove your data from the databrowser\n",
    "\n",
    "The delete sub command removes entries from the databrowser and if necessary existing files from the central user data location."
   ]
  },
  {
   "cell_type": "code",
   "execution_count": 22,
   "id": "dc481dc3",
   "metadata": {
    "execution": {
     "iopub.execute_input": "2022-10-17T08:08:33.827248Z",
     "iopub.status.busy": "2022-10-17T08:08:33.827047Z",
     "iopub.status.idle": "2022-10-17T08:08:34.087491Z",
     "shell.execute_reply": "2022-10-17T08:08:34.086921Z"
    }
   },
   "outputs": [
    {
     "name": "stdout",
     "output_type": "stream",
     "text": [
      "usage: freva-user-data delete [-h] [--delete-from-fs] [--debug]\n"
     ]
    },
    {
     "name": "stdout",
     "output_type": "stream",
     "text": [
      "                              paths [paths ...]\n"
     ]
    },
    {
     "name": "stdout",
     "output_type": "stream",
     "text": [
      "\n"
     ]
    },
    {
     "name": "stdout",
     "output_type": "stream",
     "text": [
      "Delete existing user project data from the databrowser\n"
     ]
    },
    {
     "name": "stdout",
     "output_type": "stream",
     "text": [
      "\n"
     ]
    },
    {
     "name": "stdout",
     "output_type": "stream",
     "text": [
      "positional arguments:\n"
     ]
    },
    {
     "name": "stdout",
     "output_type": "stream",
     "text": [
      "  paths                 The user directory(s) that needs to be crawled\n"
     ]
    },
    {
     "name": "stdout",
     "output_type": "stream",
     "text": [
      "\n"
     ]
    },
    {
     "name": "stdout",
     "output_type": "stream",
     "text": [
      "options:\n"
     ]
    },
    {
     "name": "stdout",
     "output_type": "stream",
     "text": [
      "  -h, --help            show this help message and exit\n"
     ]
    },
    {
     "name": "stdout",
     "output_type": "stream",
     "text": [
      "  --delete-from-fs, --delete_from_fs, --delete\n"
     ]
    },
    {
     "name": "stdout",
     "output_type": "stream",
     "text": [
      "                        Do not only delete the files from the databrowser but\n"
     ]
    },
    {
     "name": "stdout",
     "output_type": "stream",
     "text": [
      "                        also from file system. (default: False)\n"
     ]
    },
    {
     "name": "stdout",
     "output_type": "stream",
     "text": [
      "  --debug, -v, -d, --verbose\n"
     ]
    },
    {
     "name": "stdout",
     "output_type": "stream",
     "text": [
      "                        Use verbose output. (default: False)\n"
     ]
    }
   ],
   "source": [
    "freva-user-data delete --help"
   ]
  },
  {
   "cell_type": "markdown",
   "id": "2b67464e",
   "metadata": {},
   "source": [
    "Any data in the central user directory that belongs to the user can be deleted from the databrowser and also from the central data location:"
   ]
  },
  {
   "cell_type": "code",
   "execution_count": 23,
   "id": "b2da0fdd",
   "metadata": {
    "execution": {
     "iopub.execute_input": "2022-10-17T08:08:34.090437Z",
     "iopub.status.busy": "2022-10-17T08:08:34.090205Z",
     "iopub.status.idle": "2022-10-17T08:08:35.710386Z",
     "shell.execute_reply": "2022-10-17T08:08:35.709805Z"
    }
   },
   "outputs": [],
   "source": [
    "freva-user-data delete /tmp/user_data/user-$USER\n",
    "freva-databrowser experiment=bias-correct"
   ]
  },
  {
   "cell_type": "markdown",
   "id": "344b013c",
   "metadata": {},
   "source": [
    "## (Re)-Index existing data to the databrowser\n",
    "\n",
    "The index subcommand can be used to update the databrowser for existing user data. For example, if data has been removed from the databrowser it can be re-added:"
   ]
  },
  {
   "cell_type": "code",
   "execution_count": 24,
   "id": "2ad41583",
   "metadata": {
    "execution": {
     "iopub.execute_input": "2022-10-17T08:08:35.714009Z",
     "iopub.status.busy": "2022-10-17T08:08:35.713524Z",
     "iopub.status.idle": "2022-10-17T08:08:35.969093Z",
     "shell.execute_reply": "2022-10-17T08:08:35.968526Z"
    }
   },
   "outputs": [
    {
     "name": "stdout",
     "output_type": "stream",
     "text": [
      "usage: freva-user-data index [-h] [--data-type {fs}] [--debug] [crawl_dir ...]\n"
     ]
    },
    {
     "name": "stdout",
     "output_type": "stream",
     "text": [
      "\n"
     ]
    },
    {
     "name": "stdout",
     "output_type": "stream",
     "text": [
      "Index existing user project data to the databrowser\n"
     ]
    },
    {
     "name": "stdout",
     "output_type": "stream",
     "text": [
      "\n"
     ]
    },
    {
     "name": "stdout",
     "output_type": "stream",
     "text": [
      "positional arguments:\n"
     ]
    },
    {
     "name": "stdout",
     "output_type": "stream",
     "text": [
      "  crawl_dir             The user directory(s) that needs to be crawled\n"
     ]
    },
    {
     "name": "stdout",
     "output_type": "stream",
     "text": [
      "                        (default: None)\n"
     ]
    },
    {
     "name": "stdout",
     "output_type": "stream",
     "text": [
      "\n"
     ]
    },
    {
     "name": "stdout",
     "output_type": "stream",
     "text": [
      "options:\n"
     ]
    },
    {
     "name": "stdout",
     "output_type": "stream",
     "text": [
      "  -h, --help            show this help message and exit\n"
     ]
    },
    {
     "name": "stdout",
     "output_type": "stream",
     "text": [
      "  --data-type {fs}, --dtype {fs}\n"
     ]
    },
    {
     "name": "stdout",
     "output_type": "stream",
     "text": [
      "                        The data type of the data. (default: fs)\n"
     ]
    },
    {
     "name": "stdout",
     "output_type": "stream",
     "text": [
      "  --debug, -v, -d, --verbose\n"
     ]
    },
    {
     "name": "stdout",
     "output_type": "stream",
     "text": [
      "                        Use verbose output. (default: False)\n"
     ]
    }
   ],
   "source": [
    "freva-user-data index --help"
   ]
  },
  {
   "cell_type": "code",
   "execution_count": 25,
   "id": "a38bab6f",
   "metadata": {
    "execution": {
     "iopub.execute_input": "2022-10-17T08:08:35.972205Z",
     "iopub.status.busy": "2022-10-17T08:08:35.971874Z",
     "iopub.status.idle": "2022-10-17T08:08:37.403633Z",
     "shell.execute_reply": "2022-10-17T08:08:37.403032Z"
    }
   },
   "outputs": [],
   "source": [
    "freva-user-data delete /tmp/user_data/user-$USER\n",
    "freva-databrowser experiment=bias-correct\n"
   ]
  }
 ],
 "metadata": {
  "kernelspec": {
   "display_name": "Bash",
   "language": "bash",
   "name": "bash"
  },
  "language_info": {
   "codemirror_mode": "shell",
   "file_extension": ".sh",
   "mimetype": "text/x-sh",
   "name": "bash"
  }
 },
 "nbformat": 4,
 "nbformat_minor": 5
}
