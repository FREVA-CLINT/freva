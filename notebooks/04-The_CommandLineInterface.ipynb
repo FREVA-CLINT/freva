{
 "cells": [
  {
   "cell_type": "markdown",
   "id": "18d053a3",
   "metadata": {},
   "source": [
    "# The Freva command line interface\n",
    "\n",
    "This notebook introduces the usage of the Freva command line interface - cli. The tutorial assumes that you have already access to Freva either because you’ve setup an instance yourself or one has been setup by the Freva admin team. Hence it is assumed that you know how to access Freva. If this is not the case please contact one of your Freva admins for help.\n",
    "\n",
    "A general usage overview of the available Freva sub-commands is available via the --help option:"
   ]
  },
  {
   "cell_type": "code",
   "execution_count": 1,
   "id": "93f67623",
   "metadata": {
    "execution": {
     "iopub.execute_input": "2024-09-30T05:08:41.531667Z",
     "iopub.status.busy": "2024-09-30T05:08:41.531329Z",
     "iopub.status.idle": "2024-09-30T05:08:42.586041Z",
     "shell.execute_reply": "2024-09-30T05:08:42.585495Z"
    }
   },
   "outputs": [
    {
     "name": "stdout",
     "output_type": "stream",
     "text": [
      "usage: freva [-h] [-V] {plugin,user-data,history,esgf,databrowser} ...\n"
     ]
    },
    {
     "name": "stdout",
     "output_type": "stream",
     "text": [
      "\n"
     ]
    },
    {
     "name": "stdout",
     "output_type": "stream",
     "text": [
      "Free EVAluation system framework (freva)\n"
     ]
    },
    {
     "name": "stdout",
     "output_type": "stream",
     "text": [
      "\n"
     ]
    },
    {
     "name": "stdout",
     "output_type": "stream",
     "text": [
      "positional arguments:\n"
     ]
    },
    {
     "name": "stdout",
     "output_type": "stream",
     "text": [
      "  {plugin,user-data,history,esgf,databrowser}\n"
     ]
    },
    {
     "name": "stdout",
     "output_type": "stream",
     "text": [
      "                        Available sub-commands:\n"
     ]
    },
    {
     "name": "stdout",
     "output_type": "stream",
     "text": [
      "    plugin              Apply data analysis plugin.\n"
     ]
    },
    {
     "name": "stdout",
     "output_type": "stream",
     "text": [
      "    user-data           Update users project data.\n"
     ]
    },
    {
     "name": "stdout",
     "output_type": "stream",
     "text": [
      "    history             Read the plugin application history.\n"
     ]
    },
    {
     "name": "stdout",
     "output_type": "stream",
     "text": [
      "    esgf                Search/Download ESGF the data catalogue.\n"
     ]
    },
    {
     "name": "stdout",
     "output_type": "stream",
     "text": [
      "    databrowser         Find data in the system.\n"
     ]
    },
    {
     "name": "stdout",
     "output_type": "stream",
     "text": [
      "\n"
     ]
    },
    {
     "name": "stdout",
     "output_type": "stream",
     "text": [
      "options:\n"
     ]
    },
    {
     "name": "stdout",
     "output_type": "stream",
     "text": [
      "  -h, --help            show this help message and exit\n"
     ]
    },
    {
     "name": "stdout",
     "output_type": "stream",
     "text": [
      "  -V, --version         show program's version number and exit\n"
     ]
    },
    {
     "name": "stdout",
     "output_type": "stream",
     "text": [
      "\n"
     ]
    },
    {
     "name": "stdout",
     "output_type": "stream",
     "text": [
      "To get help for the individual sub-commands use: freva <sub-command> --help\n"
     ]
    }
   ],
   "source": [
    "freva --help"
   ]
  },
  {
   "cell_type": "markdown",
   "id": "076cd682",
   "metadata": {},
   "source": [
    "The most common sub-commands are `databrowser` and `plugin`. You can get more help on the actual commands using the sub-commands `--help` option, for example getting help on the databrowser usage:"
   ]
  },
  {
   "cell_type": "code",
   "execution_count": 2,
   "id": "2350ed67",
   "metadata": {
    "execution": {
     "iopub.execute_input": "2024-09-30T05:08:42.588037Z",
     "iopub.status.busy": "2024-09-30T05:08:42.587724Z",
     "iopub.status.idle": "2024-09-30T05:08:43.633254Z",
     "shell.execute_reply": "2024-09-30T05:08:43.632825Z"
    }
   },
   "outputs": [
    {
     "name": "stdout",
     "output_type": "stream",
     "text": [
      "usage: freva databrowser [-h] [--multiversion] [--batch-size BATCH_SIZE]\n"
     ]
    },
    {
     "name": "stdout",
     "output_type": "stream",
     "text": [
      "                         [--count] [--facet FACET] [--facet-limit FACET_LIMIT]\n"
     ]
    },
    {
     "name": "stdout",
     "output_type": "stream",
     "text": [
      "                         [--time-select {flexible,strict,file}] [--debug]\n"
     ]
    },
    {
     "name": "stdout",
     "output_type": "stream",
     "text": [
      "                         [facets ...]\n"
     ]
    },
    {
     "name": "stdout",
     "output_type": "stream",
     "text": [
      "\n"
     ]
    },
    {
     "name": "stdout",
     "output_type": "stream",
     "text": [
      "Find data in the system.\n"
     ]
    },
    {
     "name": "stdout",
     "output_type": "stream",
     "text": [
      "\n"
     ]
    },
    {
     "name": "stdout",
     "output_type": "stream",
     "text": [
      "positional arguments:\n"
     ]
    },
    {
     "name": "stdout",
     "output_type": "stream",
     "text": [
      "  facets                Search facet(s). (default: None)\n"
     ]
    },
    {
     "name": "stdout",
     "output_type": "stream",
     "text": [
      "\n"
     ]
    },
    {
     "name": "stdout",
     "output_type": "stream",
     "text": [
      "options:\n"
     ]
    },
    {
     "name": "stdout",
     "output_type": "stream",
     "text": [
      "  -h, --help            show this help message and exit\n"
     ]
    },
    {
     "name": "stdout",
     "output_type": "stream",
     "text": [
      "  --multiversion        Select not only the latest version. (default: False)\n"
     ]
    },
    {
     "name": "stdout",
     "output_type": "stream",
     "text": [
      "  --batch-size BATCH_SIZE\n"
     ]
    },
    {
     "name": "stdout",
     "output_type": "stream",
     "text": [
      "                        Number of files to retrieve. (default: 5000)\n"
     ]
    },
    {
     "name": "stdout",
     "output_type": "stream",
     "text": [
      "  --count               Show the number of files for each search result.\n"
     ]
    },
    {
     "name": "stdout",
     "output_type": "stream",
     "text": [
      "                        (default: False)\n"
     ]
    },
    {
     "name": "stdout",
     "output_type": "stream",
     "text": [
      "  --facet FACET         Retrieve values of given facet instead of files.\n"
     ]
    },
    {
     "name": "stdout",
     "output_type": "stream",
     "text": [
      "                        (default: None)\n"
     ]
    },
    {
     "name": "stdout",
     "output_type": "stream",
     "text": [
      "  --facet-limit FACET_LIMIT\n"
     ]
    },
    {
     "name": "stdout",
     "output_type": "stream",
     "text": [
      "                        Limit the number of output facets. (default:\n"
     ]
    },
    {
     "name": "stdout",
     "output_type": "stream",
     "text": [
      "                        9223372036854775807)\n"
     ]
    },
    {
     "name": "stdout",
     "output_type": "stream",
     "text": [
      "  --time-select {flexible,strict,file}\n"
     ]
    },
    {
     "name": "stdout",
     "output_type": "stream",
     "text": [
      "                        Operator that specifies how the time period is\n"
     ]
    },
    {
     "name": "stdout",
     "output_type": "stream",
     "text": [
      "                        selected. (default: flexible)\n"
     ]
    },
    {
     "name": "stdout",
     "output_type": "stream",
     "text": [
      "  --debug, -v, -d, --verbose\n"
     ]
    },
    {
     "name": "stdout",
     "output_type": "stream",
     "text": [
      "                        Use verbose output. (default: False)\n"
     ]
    }
   ],
   "source": [
    "freva databrowser --help"
   ]
  },
  {
   "cell_type": "markdown",
   "id": "6e083bea",
   "metadata": {},
   "source": [
    "__Note__: Instead of using sub-commands you have also the option to use commands. For example the command `freva-databrowser` is equivalent to `freva databrowser`, `freva-user-data` to `freva user-data` etc.\n",
    "\n",
    "## Searching for data: the freva-databrowser command\n",
    "\n",
    "All files available on in the project are scanned and indexed via a data search server. This allows you to query the server which responds almost immediately. To search for data you can either use the `freva-databrowser` command or the `freva databrowser` sub-command. Let’s inspect the help menu of the databrowser sub-command:"
   ]
  },
  {
   "cell_type": "code",
   "execution_count": 3,
   "id": "f933b3d8",
   "metadata": {
    "execution": {
     "iopub.execute_input": "2024-09-30T05:08:43.635138Z",
     "iopub.status.busy": "2024-09-30T05:08:43.634836Z",
     "iopub.status.idle": "2024-09-30T05:08:44.660511Z",
     "shell.execute_reply": "2024-09-30T05:08:44.660078Z"
    }
   },
   "outputs": [
    {
     "name": "stdout",
     "output_type": "stream",
     "text": [
      "usage: freva-databrowser [-h] [--multiversion] [--batch-size BATCH_SIZE]\n"
     ]
    },
    {
     "name": "stdout",
     "output_type": "stream",
     "text": [
      "                         [--count] [--facet FACET] [--facet-limit FACET_LIMIT]\n"
     ]
    },
    {
     "name": "stdout",
     "output_type": "stream",
     "text": [
      "                         [--time-select {flexible,strict,file}] [--debug] [-V]\n"
     ]
    },
    {
     "name": "stdout",
     "output_type": "stream",
     "text": [
      "                         [facets ...]\n"
     ]
    },
    {
     "name": "stdout",
     "output_type": "stream",
     "text": [
      "\n"
     ]
    },
    {
     "name": "stdout",
     "output_type": "stream",
     "text": [
      "Find data in the system.\n"
     ]
    },
    {
     "name": "stdout",
     "output_type": "stream",
     "text": [
      "\n"
     ]
    },
    {
     "name": "stdout",
     "output_type": "stream",
     "text": [
      "positional arguments:\n"
     ]
    },
    {
     "name": "stdout",
     "output_type": "stream",
     "text": [
      "  facets                Search facet(s). (default: None)\n"
     ]
    },
    {
     "name": "stdout",
     "output_type": "stream",
     "text": [
      "\n"
     ]
    },
    {
     "name": "stdout",
     "output_type": "stream",
     "text": [
      "options:\n"
     ]
    },
    {
     "name": "stdout",
     "output_type": "stream",
     "text": [
      "  -h, --help            show this help message and exit\n"
     ]
    },
    {
     "name": "stdout",
     "output_type": "stream",
     "text": [
      "  --multiversion        Select not only the latest version. (default: False)\n"
     ]
    },
    {
     "name": "stdout",
     "output_type": "stream",
     "text": [
      "  --batch-size BATCH_SIZE\n"
     ]
    },
    {
     "name": "stdout",
     "output_type": "stream",
     "text": [
      "                        Number of files to retrieve. (default: 5000)\n"
     ]
    },
    {
     "name": "stdout",
     "output_type": "stream",
     "text": [
      "  --count               Show the number of files for each search result.\n"
     ]
    },
    {
     "name": "stdout",
     "output_type": "stream",
     "text": [
      "                        (default: False)\n"
     ]
    },
    {
     "name": "stdout",
     "output_type": "stream",
     "text": [
      "  --facet FACET         Retrieve values of given facet instead of files.\n"
     ]
    },
    {
     "name": "stdout",
     "output_type": "stream",
     "text": [
      "                        (default: None)\n"
     ]
    },
    {
     "name": "stdout",
     "output_type": "stream",
     "text": [
      "  --facet-limit FACET_LIMIT\n"
     ]
    },
    {
     "name": "stdout",
     "output_type": "stream",
     "text": [
      "                        Limit the number of output facets. (default:\n"
     ]
    },
    {
     "name": "stdout",
     "output_type": "stream",
     "text": [
      "                        9223372036854775807)\n"
     ]
    },
    {
     "name": "stdout",
     "output_type": "stream",
     "text": [
      "  --time-select {flexible,strict,file}\n"
     ]
    },
    {
     "name": "stdout",
     "output_type": "stream",
     "text": [
      "                        Operator that specifies how the time period is\n"
     ]
    },
    {
     "name": "stdout",
     "output_type": "stream",
     "text": [
      "                        selected. (default: flexible)\n"
     ]
    },
    {
     "name": "stdout",
     "output_type": "stream",
     "text": [
      "  --debug, -v, -d, --verbose\n"
     ]
    },
    {
     "name": "stdout",
     "output_type": "stream",
     "text": [
      "                        Use verbose output. (default: False)\n"
     ]
    },
    {
     "name": "stdout",
     "output_type": "stream",
     "text": [
      "  -V, --version         show program's version number and exit\n"
     ]
    }
   ],
   "source": [
    "freva-databrowser --help"
   ]
  },
  {
   "cell_type": "markdown",
   "id": "98583861",
   "metadata": {},
   "source": [
    "The databrowser expects a list of `key=value` pairs. The order of the pairs doesn’t really matter. Most important is that you don’t need to split the search according to the type of data you are searching for. You can search for any files, for example observations, reanalysis and model data at the same time. Also important is that all queries are case insensitive. You can also search for attributes themselves instead of file paths. For example you can search for the list of variables available that satisfies a certain constraint (e.g. sampled 6hr, from a certain model, etc)."
   ]
  },
  {
   "cell_type": "code",
   "execution_count": 4,
   "id": "2807f8ce",
   "metadata": {
    "execution": {
     "iopub.execute_input": "2024-09-30T05:08:44.662419Z",
     "iopub.status.busy": "2024-09-30T05:08:44.662029Z",
     "iopub.status.idle": "2024-09-30T05:08:45.764073Z",
     "shell.execute_reply": "2024-09-30T05:08:45.763656Z"
    }
   },
   "outputs": [
    {
     "name": "stdout",
     "output_type": "stream",
     "text": [
      "/home/runner/work/freva/freva/.docker/data/observations/grid/CPC/CPC/cmorph/30min/atmos/30min/r1i1p1/v20210618/pr/pr_30min_CPC_cmorph_r1i1p1_201609022300-201609022330.nc\n"
     ]
    },
    {
     "name": "stdout",
     "output_type": "stream",
     "text": [
      "/home/runner/work/freva/freva/.docker/data/observations/grid/CPC/CPC/cmorph/30min/atmos/30min/r1i1p1/v20210618/pr/pr_30min_CPC_cmorph_r1i1p1_201609022200-201609022230.nc\n"
     ]
    },
    {
     "name": "stdout",
     "output_type": "stream",
     "text": [
      "/home/runner/work/freva/freva/.docker/data/observations/grid/CPC/CPC/cmorph/30min/atmos/30min/r1i1p1/v20210618/pr/pr_30min_CPC_cmorph_r1i1p1_201609022100-201609022130.nc\n"
     ]
    },
    {
     "name": "stdout",
     "output_type": "stream",
     "text": [
      "/home/runner/work/freva/freva/.docker/data/observations/grid/CPC/CPC/cmorph/30min/atmos/30min/r1i1p1/v20210618/pr/pr_30min_CPC_cmorph_r1i1p1_201609022000-201609022030.nc\n"
     ]
    },
    {
     "name": "stdout",
     "output_type": "stream",
     "text": [
      "/home/runner/work/freva/freva/.docker/data/observations/grid/CPC/CPC/cmorph/30min/atmos/30min/r1i1p1/v20210618/pr/pr_30min_CPC_cmorph_r1i1p1_201609021900-201609021930.nc\n"
     ]
    },
    {
     "name": "stdout",
     "output_type": "stream",
     "text": [
      "/home/runner/work/freva/freva/.docker/data/observations/grid/CPC/CPC/cmorph/30min/atmos/30min/r1i1p1/v20210618/pr/pr_30min_CPC_cmorph_r1i1p1_201609021800-201609021830.nc\n"
     ]
    },
    {
     "name": "stdout",
     "output_type": "stream",
     "text": [
      "/home/runner/work/freva/freva/.docker/data/observations/grid/CPC/CPC/cmorph/30min/atmos/30min/r1i1p1/v20210618/pr/pr_30min_CPC_cmorph_r1i1p1_201609021700-201609021730.nc\n"
     ]
    },
    {
     "name": "stdout",
     "output_type": "stream",
     "text": [
      "/home/runner/work/freva/freva/.docker/data/observations/grid/CPC/CPC/cmorph/30min/atmos/30min/r1i1p1/v20210618/pr/pr_30min_CPC_cmorph_r1i1p1_201609021600-201609021630.nc\n"
     ]
    },
    {
     "name": "stdout",
     "output_type": "stream",
     "text": [
      "/home/runner/work/freva/freva/.docker/data/observations/grid/CPC/CPC/cmorph/30min/atmos/30min/r1i1p1/v20210618/pr/pr_30min_CPC_cmorph_r1i1p1_201609021500-201609021530.nc\n"
     ]
    },
    {
     "name": "stdout",
     "output_type": "stream",
     "text": [
      "/home/runner/work/freva/freva/.docker/data/observations/grid/CPC/CPC/cmorph/30min/atmos/30min/r1i1p1/v20210618/pr/pr_30min_CPC_cmorph_r1i1p1_201609021400-201609021430.nc\n"
     ]
    },
    {
     "name": "stdout",
     "output_type": "stream",
     "text": [
      "/home/runner/work/freva/freva/.docker/data/observations/grid/CPC/CPC/cmorph/30min/atmos/30min/r1i1p1/v20210618/pr/pr_30min_CPC_cmorph_r1i1p1_201609021300-201609021330.nc\n"
     ]
    },
    {
     "name": "stdout",
     "output_type": "stream",
     "text": [
      "/home/runner/work/freva/freva/.docker/data/observations/grid/CPC/CPC/cmorph/30min/atmos/30min/r1i1p1/v20210618/pr/pr_30min_CPC_cmorph_r1i1p1_201609021200-201609021230.nc\n"
     ]
    },
    {
     "name": "stdout",
     "output_type": "stream",
     "text": [
      "/home/runner/work/freva/freva/.docker/data/observations/grid/CPC/CPC/cmorph/30min/atmos/30min/r1i1p1/v20210618/pr/pr_30min_CPC_cmorph_r1i1p1_201609021100-201609021130.nc\n"
     ]
    },
    {
     "name": "stdout",
     "output_type": "stream",
     "text": [
      "/home/runner/work/freva/freva/.docker/data/observations/grid/CPC/CPC/cmorph/30min/atmos/30min/r1i1p1/v20210618/pr/pr_30min_CPC_cmorph_r1i1p1_201609021000-201609021030.nc\n"
     ]
    },
    {
     "name": "stdout",
     "output_type": "stream",
     "text": [
      "/home/runner/work/freva/freva/.docker/data/observations/grid/CPC/CPC/cmorph/30min/atmos/30min/r1i1p1/v20210618/pr/pr_30min_CPC_cmorph_r1i1p1_201609020900-201609020930.nc\n"
     ]
    },
    {
     "name": "stdout",
     "output_type": "stream",
     "text": [
      "/home/runner/work/freva/freva/.docker/data/observations/grid/CPC/CPC/cmorph/30min/atmos/30min/r1i1p1/v20210618/pr/pr_30min_CPC_cmorph_r1i1p1_201609020800-201609020830.nc\n"
     ]
    },
    {
     "name": "stdout",
     "output_type": "stream",
     "text": [
      "/home/runner/work/freva/freva/.docker/data/observations/grid/CPC/CPC/cmorph/30min/atmos/30min/r1i1p1/v20210618/pr/pr_30min_CPC_cmorph_r1i1p1_201609020700-201609020730.nc\n"
     ]
    },
    {
     "name": "stdout",
     "output_type": "stream",
     "text": [
      "/home/runner/work/freva/freva/.docker/data/observations/grid/CPC/CPC/cmorph/30min/atmos/30min/r1i1p1/v20210618/pr/pr_30min_CPC_cmorph_r1i1p1_201609020600-201609020630.nc\n"
     ]
    },
    {
     "name": "stdout",
     "output_type": "stream",
     "text": [
      "/home/runner/work/freva/freva/.docker/data/observations/grid/CPC/CPC/cmorph/30min/atmos/30min/r1i1p1/v20210618/pr/pr_30min_CPC_cmorph_r1i1p1_201609020500-201609020530.nc\n"
     ]
    },
    {
     "name": "stdout",
     "output_type": "stream",
     "text": [
      "/home/runner/work/freva/freva/.docker/data/observations/grid/CPC/CPC/cmorph/30min/atmos/30min/r1i1p1/v20210618/pr/pr_30min_CPC_cmorph_r1i1p1_201609020400-201609020430.nc\n"
     ]
    },
    {
     "name": "stdout",
     "output_type": "stream",
     "text": [
      "/home/runner/work/freva/freva/.docker/data/observations/grid/CPC/CPC/cmorph/30min/atmos/30min/r1i1p1/v20210618/pr/pr_30min_CPC_cmorph_r1i1p1_201609020300-201609020330.nc\n"
     ]
    },
    {
     "name": "stdout",
     "output_type": "stream",
     "text": [
      "/home/runner/work/freva/freva/.docker/data/observations/grid/CPC/CPC/cmorph/30min/atmos/30min/r1i1p1/v20210618/pr/pr_30min_CPC_cmorph_r1i1p1_201609020200-201609020230.nc\n"
     ]
    },
    {
     "name": "stdout",
     "output_type": "stream",
     "text": [
      "/home/runner/work/freva/freva/.docker/data/observations/grid/CPC/CPC/cmorph/30min/atmos/30min/r1i1p1/v20210618/pr/pr_30min_CPC_cmorph_r1i1p1_201609020100-201609020130.nc\n"
     ]
    },
    {
     "name": "stdout",
     "output_type": "stream",
     "text": [
      "/home/runner/work/freva/freva/.docker/data/observations/grid/CPC/CPC/cmorph/30min/atmos/30min/r1i1p1/v20210618/pr/pr_30min_CPC_cmorph_r1i1p1_201609020000-201609020030.nc\n"
     ]
    }
   ],
   "source": [
    "freva-databrowser project=observations variable=pr model='cp*'"
   ]
  },
  {
   "cell_type": "markdown",
   "id": "c2044943",
   "metadata": {},
   "source": [
    "In some cases it might be useful to know how many files are found in the `databrowser` for certain search constraints. In such cases you can use the `count` flag to count the number of found files instead of getting the files themselves."
   ]
  },
  {
   "cell_type": "code",
   "execution_count": 5,
   "id": "926133a6",
   "metadata": {
    "execution": {
     "iopub.execute_input": "2024-09-30T05:08:45.766072Z",
     "iopub.status.busy": "2024-09-30T05:08:45.765691Z",
     "iopub.status.idle": "2024-09-30T05:08:46.835099Z",
     "shell.execute_reply": "2024-09-30T05:08:46.834672Z"
    }
   },
   "outputs": [
    {
     "name": "stdout",
     "output_type": "stream",
     "text": [
      "24\n"
     ]
    }
   ],
   "source": [
    "freva-databrowser project=observations --count"
   ]
  },
  {
   "cell_type": "markdown",
   "id": "9229ee9f",
   "metadata": {},
   "source": [
    "Sometimes it might be useful to subset the data you’re interested in by time. To do so you can use the time search key to subset time steps and whole time ranges. For example let’s get the for certain time range:"
   ]
  },
  {
   "cell_type": "code",
   "execution_count": 6,
   "id": "ff276ec7",
   "metadata": {
    "execution": {
     "iopub.execute_input": "2024-09-30T05:08:46.836953Z",
     "iopub.status.busy": "2024-09-30T05:08:46.836799Z",
     "iopub.status.idle": "2024-09-30T05:08:47.914067Z",
     "shell.execute_reply": "2024-09-30T05:08:47.913641Z"
    }
   },
   "outputs": [
    {
     "name": "stdout",
     "output_type": "stream",
     "text": [
      "/home/runner/work/freva/freva/.docker/data/observations/grid/CPC/CPC/cmorph/30min/atmos/30min/r1i1p1/v20210618/pr/pr_30min_CPC_cmorph_r1i1p1_201609022300-201609022330.nc\n"
     ]
    },
    {
     "name": "stdout",
     "output_type": "stream",
     "text": [
      "/home/runner/work/freva/freva/.docker/data/observations/grid/CPC/CPC/cmorph/30min/atmos/30min/r1i1p1/v20210618/pr/pr_30min_CPC_cmorph_r1i1p1_201609022200-201609022230.nc\n"
     ]
    }
   ],
   "source": [
    "freva-databrowser project=observations time='2016-09-02T22:15 to 2016-10'"
   ]
  },
  {
   "cell_type": "markdown",
   "id": "bb6f962e",
   "metadata": {},
   "source": [
    "The default method for selecting time periods is `flexible`, which means all files are selected that cover at least start or end date. The `strict` method implies that the entire search time period has to be covered by the files. Using the `strict` method in the example above would only yield on file because the first file contains time steps prior to the start of the time period:"
   ]
  },
  {
   "cell_type": "code",
   "execution_count": 7,
   "id": "66569d44",
   "metadata": {
    "execution": {
     "iopub.execute_input": "2024-09-30T05:08:47.915832Z",
     "iopub.status.busy": "2024-09-30T05:08:47.915676Z",
     "iopub.status.idle": "2024-09-30T05:08:48.986128Z",
     "shell.execute_reply": "2024-09-30T05:08:48.985687Z"
    }
   },
   "outputs": [
    {
     "name": "stdout",
     "output_type": "stream",
     "text": [
      "/home/runner/work/freva/freva/.docker/data/observations/grid/CPC/CPC/cmorph/30min/atmos/30min/r1i1p1/v20210618/pr/pr_30min_CPC_cmorph_r1i1p1_201609022300-201609022330.nc\n"
     ]
    }
   ],
   "source": [
    "freva-databrowser project=observations time='2016-09-02T22:15 to 2016-10' --time-select strict"
   ]
  },
  {
   "cell_type": "markdown",
   "id": "d025caea",
   "metadata": {},
   "source": [
    "You might as well want to know about possible values that an attribute can take after a certain search is done. For this you use the `--facet` flag (facets are the attributes used to search for and sub set the data). For example to see all `facets` that are available in the observations project:"
   ]
  },
  {
   "cell_type": "code",
   "execution_count": 8,
   "id": "241249be",
   "metadata": {
    "execution": {
     "iopub.execute_input": "2024-09-30T05:08:48.988006Z",
     "iopub.status.busy": "2024-09-30T05:08:48.987837Z",
     "iopub.status.idle": "2024-09-30T05:08:50.023835Z",
     "shell.execute_reply": "2024-09-30T05:08:50.023426Z"
    }
   },
   "outputs": [
    {
     "name": "stdout",
     "output_type": "stream",
     "text": [
      "usage: freva-databrowser [-h] [--multiversion] [--batch-size BATCH_SIZE]\n"
     ]
    },
    {
     "name": "stdout",
     "output_type": "stream",
     "text": [
      "                         [--count] [--facet FACET] [--facet-limit FACET_LIMIT]\n"
     ]
    },
    {
     "name": "stdout",
     "output_type": "stream",
     "text": [
      "                         [--time-select {flexible,strict,file}] [--debug] [-V]\n"
     ]
    },
    {
     "name": "stdout",
     "output_type": "stream",
     "text": [
      "                         [facets ...]\n"
     ]
    },
    {
     "name": "stdout",
     "output_type": "stream",
     "text": [
      "freva-databrowser: error: Unknown option: --all-facets\n"
     ]
    },
    {
     "ename": "",
     "evalue": "2",
     "output_type": "error",
     "traceback": []
    }
   ],
   "source": [
    "freva-databrowser project=observations --all-facets"
   ]
  },
  {
   "cell_type": "code",
   "execution_count": 9,
   "id": "5fcc1243",
   "metadata": {
    "execution": {
     "iopub.execute_input": "2024-09-30T05:08:50.025508Z",
     "iopub.status.busy": "2024-09-30T05:08:50.025351Z",
     "iopub.status.idle": "2024-09-30T05:08:51.070041Z",
     "shell.execute_reply": "2024-09-30T05:08:51.069625Z"
    }
   },
   "outputs": [
    {
     "name": "stdout",
     "output_type": "stream",
     "text": [
      "time_frequency: 30min\n"
     ]
    },
    {
     "name": "stdout",
     "output_type": "stream",
     "text": [
      "variable: pr\n"
     ]
    }
   ],
   "source": [
    "freva-databrowser --facet time_frequency --facet variable project=observations"
   ]
  },
  {
   "cell_type": "markdown",
   "id": "91576c4b",
   "metadata": {},
   "source": [
    "You can also retrieve information on how many facets are found by the databrowser by giving the `count` flag"
   ]
  },
  {
   "cell_type": "code",
   "execution_count": 10,
   "id": "f8d810a7",
   "metadata": {
    "execution": {
     "iopub.execute_input": "2024-09-30T05:08:51.072079Z",
     "iopub.status.busy": "2024-09-30T05:08:51.071682Z",
     "iopub.status.idle": "2024-09-30T05:08:52.162043Z",
     "shell.execute_reply": "2024-09-30T05:08:52.161503Z"
    }
   },
   "outputs": [
    {
     "name": "stdout",
     "output_type": "stream",
     "text": [
      "time_frequency: 30min (24)\n"
     ]
    },
    {
     "name": "stdout",
     "output_type": "stream",
     "text": [
      "variable: pr (24)\n"
     ]
    }
   ],
   "source": [
    "freva-databrowser --facet time_frequency --facet variable project=observations --count"
   ]
  },
  {
   "cell_type": "markdown",
   "id": "321a9193",
   "metadata": {},
   "source": [
    "# Running data analysis plugins: the freva-plugin command\n",
    "\n",
    "Already defined data analysis tools can be started with the `freva-plugin` command or the `freva plugin` sub-command. Let’s inspect the help menu of the plugin command:"
   ]
  },
  {
   "cell_type": "code",
   "execution_count": 11,
   "id": "a38018e7",
   "metadata": {
    "execution": {
     "iopub.execute_input": "2024-09-30T05:08:52.163979Z",
     "iopub.status.busy": "2024-09-30T05:08:52.163681Z",
     "iopub.status.idle": "2024-09-30T05:08:53.212146Z",
     "shell.execute_reply": "2024-09-30T05:08:53.211721Z"
    }
   },
   "outputs": [
    {
     "name": "stdout",
     "output_type": "stream",
     "text": [
      "usage: freva-plugin [-h] [--repo-version] [--caption CAPTION] [--save]\n"
     ]
    },
    {
     "name": "stdout",
     "output_type": "stream",
     "text": [
      "                    [--save-config SAVE_CONFIG] [--show-config] [--batchmode]\n"
     ]
    },
    {
     "name": "stdout",
     "output_type": "stream",
     "text": [
      "                    [--unique-output {true,false,True,False}] [--debug]\n"
     ]
    },
    {
     "name": "stdout",
     "output_type": "stream",
     "text": [
      "                    [--list-tools] [--doc] [--json] [--wait] [-V]\n"
     ]
    },
    {
     "name": "stdout",
     "output_type": "stream",
     "text": [
      "                    [plugin_name] [tool-options ...]\n"
     ]
    },
    {
     "name": "stdout",
     "output_type": "stream",
     "text": [
      "\n"
     ]
    },
    {
     "name": "stdout",
     "output_type": "stream",
     "text": [
      "Apply data analysis plugin.\n"
     ]
    },
    {
     "name": "stdout",
     "output_type": "stream",
     "text": [
      "\n"
     ]
    },
    {
     "name": "stdout",
     "output_type": "stream",
     "text": [
      "positional arguments:\n"
     ]
    },
    {
     "name": "stdout",
     "output_type": "stream",
     "text": [
      "  plugin_name           Plugin name. (default: None)\n"
     ]
    },
    {
     "name": "stdout",
     "output_type": "stream",
     "text": [
      "  tool-options          Tool options (default: None)\n"
     ]
    },
    {
     "name": "stdout",
     "output_type": "stream",
     "text": [
      "\n"
     ]
    },
    {
     "name": "stdout",
     "output_type": "stream",
     "text": [
      "options:\n"
     ]
    },
    {
     "name": "stdout",
     "output_type": "stream",
     "text": [
      "  -h, --help            show this help message and exit\n"
     ]
    },
    {
     "name": "stdout",
     "output_type": "stream",
     "text": [
      "  --repo-version        Show the version number from the repository. (default:\n"
     ]
    },
    {
     "name": "stdout",
     "output_type": "stream",
     "text": [
      "                        False)\n"
     ]
    },
    {
     "name": "stdout",
     "output_type": "stream",
     "text": [
      "  --caption CAPTION     Set a caption for the results (default: )\n"
     ]
    },
    {
     "name": "stdout",
     "output_type": "stream",
     "text": [
      "  --save                Save the plugin configuration to default destination.\n"
     ]
    },
    {
     "name": "stdout",
     "output_type": "stream",
     "text": [
      "                        (default: False)\n"
     ]
    },
    {
     "name": "stdout",
     "output_type": "stream",
     "text": [
      "  --save-config SAVE_CONFIG\n"
     ]
    },
    {
     "name": "stdout",
     "output_type": "stream",
     "text": [
      "                        Save the plugin configuration. (default: None)\n"
     ]
    },
    {
     "name": "stdout",
     "output_type": "stream",
     "text": [
      "  --show-config         Show the resulting configuration. (default: False)\n"
     ]
    },
    {
     "name": "stdout",
     "output_type": "stream",
     "text": [
      "  --batchmode           Create a Batch job and submit it to the scheduling\n"
     ]
    },
    {
     "name": "stdout",
     "output_type": "stream",
     "text": [
      "                        system. (default: False)\n"
     ]
    },
    {
     "name": "stdout",
     "output_type": "stream",
     "text": [
      "  --unique-output {true,false,True,False}, --unique_output {true,false,True,False}\n"
     ]
    },
    {
     "name": "stdout",
     "output_type": "stream",
     "text": [
      "                        Append a Freva run id to the output/cache folder(s).\n"
     ]
    },
    {
     "name": "stdout",
     "output_type": "stream",
     "text": [
      "                        (default: true)\n"
     ]
    },
    {
     "name": "stdout",
     "output_type": "stream",
     "text": [
      "  --debug, -v, -d, --verbose\n"
     ]
    },
    {
     "name": "stdout",
     "output_type": "stream",
     "text": [
      "                        Use verbose output. (default: False)\n"
     ]
    },
    {
     "name": "stdout",
     "output_type": "stream",
     "text": [
      "  --list-tools, --list, -l\n"
     ]
    },
    {
     "name": "stdout",
     "output_type": "stream",
     "text": [
      "                        Only list the available tools. (default: False)\n"
     ]
    },
    {
     "name": "stdout",
     "output_type": "stream",
     "text": [
      "  --doc, --plugin-doc   Display plugin documentation (default: False)\n"
     ]
    },
    {
     "name": "stdout",
     "output_type": "stream",
     "text": [
      "  --json, -j            Display a json representation of the result, this can\n"
     ]
    },
    {
     "name": "stdout",
     "output_type": "stream",
     "text": [
      "                        beuseful if you want to build shell based pipelines\n"
     ]
    },
    {
     "name": "stdout",
     "output_type": "stream",
     "text": [
      "                        and wantparse the output with help of `jq`. (default:\n"
     ]
    },
    {
     "name": "stdout",
     "output_type": "stream",
     "text": [
      "                        False)\n"
     ]
    },
    {
     "name": "stdout",
     "output_type": "stream",
     "text": [
      "  --wait, -w            Wait for the plugin to finish, this has only an effect\n"
     ]
    },
    {
     "name": "stdout",
     "output_type": "stream",
     "text": [
      "                        for batch mode execution. (default: False)\n"
     ]
    },
    {
     "name": "stdout",
     "output_type": "stream",
     "text": [
      "  -V, --version         show program's version number and exit\n"
     ]
    }
   ],
   "source": [
    "freva-plugin --help"
   ]
  },
  {
   "cell_type": "markdown",
   "id": "cbcf421b",
   "metadata": {},
   "source": [
    "As the help menu suggests you can list all available tools using the `-l` option (or `--list`, `--list-tools`):"
   ]
  },
  {
   "cell_type": "code",
   "execution_count": 12,
   "id": "761fe8e8",
   "metadata": {
    "execution": {
     "iopub.execute_input": "2024-09-30T05:08:53.214172Z",
     "iopub.status.busy": "2024-09-30T05:08:53.213769Z",
     "iopub.status.idle": "2024-09-30T05:08:54.443692Z",
     "shell.execute_reply": "2024-09-30T05:08:54.443252Z"
    }
   },
   "outputs": [
    {
     "name": "stdout",
     "output_type": "stream",
     "text": [
      "┏━━━━━━━━━━━━━━━━━━━━┳━━━━━━━━━━━━━━━━━━━━━━━━━━━━━━━━━━━━━━┓\n"
     ]
    },
    {
     "name": "stdout",
     "output_type": "stream",
     "text": [
      "┃\u001b[1m \u001b[0m\u001b[1mTool              \u001b[0m\u001b[1m \u001b[0m┃\u001b[1m \u001b[0m\u001b[1mDescription                         \u001b[0m\u001b[1m \u001b[0m┃\n"
     ]
    },
    {
     "name": "stdout",
     "output_type": "stream",
     "text": [
      "┡━━━━━━━━━━━━━━━━━━━━╇━━━━━━━━━━━━━━━━━━━━━━━━━━━━━━━━━━━━━━┩\n"
     ]
    },
    {
     "name": "stdout",
     "output_type": "stream",
     "text": [
      "│ Animator           │ Animate data on lon/lat grids        │\n"
     ]
    },
    {
     "name": "stdout",
     "output_type": "stream",
     "text": [
      "│ DummyPlugin        │ A dummy plugin                       │\n"
     ]
    },
    {
     "name": "stdout",
     "output_type": "stream",
     "text": [
      "│ DummyPluginFolders │ A dummy plugin with outputdir folder │\n"
     ]
    },
    {
     "name": "stdout",
     "output_type": "stream",
     "text": [
      "└────────────────────┴──────────────────────────────────────┘\n"
     ]
    }
   ],
   "source": [
    "freva-plugin -l"
   ]
  },
  {
   "cell_type": "markdown",
   "id": "3f0e9883",
   "metadata": {},
   "source": [
    "This means currently we have two plugins available (animator and dummyplugin). The general syntax is freva-plugin `<plugin-name> [options]` for example to inspect the documentation of a certain plugin you can use the `--doc` option. Here we concentrate on the Animator plugin. A simple plugin that creates animations of geospatial data. The basic usage of that command can be retrieved by:"
   ]
  },
  {
   "cell_type": "code",
   "execution_count": 13,
   "id": "86bc4136",
   "metadata": {
    "execution": {
     "iopub.execute_input": "2024-09-30T05:08:54.445602Z",
     "iopub.status.busy": "2024-09-30T05:08:54.445272Z",
     "iopub.status.idle": "2024-09-30T05:08:55.653161Z",
     "shell.execute_reply": "2024-09-30T05:08:55.652735Z"
    }
   },
   "outputs": [
    {
     "name": "stdout",
     "output_type": "stream",
     "text": [
      "\u001b[1mAnimator\u001b[0m (\u001b[3mv2022.7.15\u001b[0m): Create animations (in gif or mp4 format) This tool       \n"
     ]
    },
    {
     "name": "stdout",
     "output_type": "stream",
     "text": [
      "creates plots of solr facets and an animation.                                  \n"
     ]
    },
    {
     "name": "stdout",
     "output_type": "stream",
     "text": [
      "┏━━━━━━━━━━━━━━━━━━━━━━━━━┳━━━━━━━━━━━━━━━━━━━━━━━━━━━━━━━━━━━━━━━━━━━━━━━━━━━━┓\n"
     ]
    },
    {
     "name": "stdout",
     "output_type": "stream",
     "text": [
      "┃\u001b[1m \u001b[0m\u001b[1mOption                 \u001b[0m\u001b[1m \u001b[0m┃\u001b[1m \u001b[0m\u001b[1mDescription                                       \u001b[0m\u001b[1m \u001b[0m┃\n"
     ]
    },
    {
     "name": "stdout",
     "output_type": "stream",
     "text": [
      "┡━━━━━━━━━━━━━━━━━━━━━━━━━╇━━━━━━━━━━━━━━━━━━━━━━━━━━━━━━━━━━━━━━━━━━━━━━━━━━━━┩\n"
     ]
    },
    {
     "name": "stdout",
     "output_type": "stream",
     "text": [
      "│ input_file              │ NetCDF input file(s), you can choose multiple      │\n"
     ]
    },
    {
     "name": "stdout",
     "output_type": "stream",
     "text": [
      "│                         │ files separated by a , or use a global pattern for │\n"
     ]
    },
    {
     "name": "stdout",
     "output_type": "stream",
     "text": [
      "│                         │ multiple files chose this option only if you don't │\n"
     ]
    },
    {
     "name": "stdout",
     "output_type": "stream",
     "text": [
      "│                         │ want Freva to find files by seach facets (default: │\n"
     ]
    },
    {
     "name": "stdout",
     "output_type": "stream",
     "text": [
      "│                         │ <null>)                                            │\n"
     ]
    },
    {
     "name": "stdout",
     "output_type": "stream",
     "text": [
      "│ \u001b[1;31mvariable\u001b[0m                │ Variable name (only applicable if you didn't       │\n"
     ]
    },
    {
     "name": "stdout",
     "output_type": "stream",
     "text": [
      "│                         │ choose an input file) (default: <null>)            │\n"
     ]
    },
    {
     "name": "stdout",
     "output_type": "stream",
     "text": [
      "│ project                 │ Project name (only applicable if you didn't choose │\n"
     ]
    },
    {
     "name": "stdout",
     "output_type": "stream",
     "text": [
      "│                         │ an input file) (default: <null>)                   │\n"
     ]
    },
    {
     "name": "stdout",
     "output_type": "stream",
     "text": [
      "│ product                 │ Product name (only applicable if you didn't choose │\n"
     ]
    },
    {
     "name": "stdout",
     "output_type": "stream",
     "text": [
      "│                         │ an input file) (default: <null>)                   │\n"
     ]
    },
    {
     "name": "stdout",
     "output_type": "stream",
     "text": [
      "│ experiment              │ Experiment name (only applicable if you didn't     │\n"
     ]
    },
    {
     "name": "stdout",
     "output_type": "stream",
     "text": [
      "│                         │ choose an input file) (default: <null>)            │\n"
     ]
    },
    {
     "name": "stdout",
     "output_type": "stream",
     "text": [
      "│ institute               │ Institute name (only applicable if you didn't      │\n"
     ]
    },
    {
     "name": "stdout",
     "output_type": "stream",
     "text": [
      "│                         │ choose an input file) (default: <null>)            │\n"
     ]
    },
    {
     "name": "stdout",
     "output_type": "stream",
     "text": [
      "│ model                   │ Model name (only applicable if you didn't choose   │\n"
     ]
    },
    {
     "name": "stdout",
     "output_type": "stream",
     "text": [
      "│                         │ an input file) (default: <null>)                   │\n"
     ]
    },
    {
     "name": "stdout",
     "output_type": "stream",
     "text": [
      "│ time_frequency          │ Time frequency name (only applicable if you didn't │\n"
     ]
    },
    {
     "name": "stdout",
     "output_type": "stream",
     "text": [
      "│                         │ choose an input file) (default: <null>)            │\n"
     ]
    },
    {
     "name": "stdout",
     "output_type": "stream",
     "text": [
      "│ ensemble                │ Ensemble name (only applicable if you didn't       │\n"
     ]
    },
    {
     "name": "stdout",
     "output_type": "stream",
     "text": [
      "│                         │ choose an input file) (default: <null>)            │\n"
     ]
    },
    {
     "name": "stdout",
     "output_type": "stream",
     "text": [
      "│ start                   │ Define the first time step to be plotted, leave    │\n"
     ]
    },
    {
     "name": "stdout",
     "output_type": "stream",
     "text": [
      "│                         │ blank if taken from data (default: <null>)         │\n"
     ]
    },
    {
     "name": "stdout",
     "output_type": "stream",
     "text": [
      "│ end                     │ Define the last time step to be plotted, leave     │\n"
     ]
    },
    {
     "name": "stdout",
     "output_type": "stream",
     "text": [
      "│                         │ blank if taken from data (default: <null>)         │\n"
     ]
    },
    {
     "name": "stdout",
     "output_type": "stream",
     "text": [
      "│ time_mean               │ Select a time interval if time                     │\n"
     ]
    },
    {
     "name": "stdout",
     "output_type": "stream",
     "text": [
      "│                         │ averaging/min/max/sum should be applied along the  │\n"
     ]
    },
    {
     "name": "stdout",
     "output_type": "stream",
     "text": [
      "│                         │ time axis. This can be D for daily, M for monthly  │\n"
     ]
    },
    {
     "name": "stdout",
     "output_type": "stream",
     "text": [
      "│                         │ 6H for 6 hours etc. Leave blank if the time axis   │\n"
     ]
    },
    {
     "name": "stdout",
     "output_type": "stream",
     "text": [
      "│                         │ should not be resampled (default) or set to        │\n"
     ]
    },
    {
     "name": "stdout",
     "output_type": "stream",
     "text": [
      "│                         │ <em>all</em> if you want to collapse the time      │\n"
     ]
    },
    {
     "name": "stdout",
     "output_type": "stream",
     "text": [
      "│                         │ axis. (default: <null>)                            │\n"
     ]
    },
    {
     "name": "stdout",
     "output_type": "stream",
     "text": [
      "│ time_method             │ If resampling of the time axis is chosen (default: │\n"
     ]
    },
    {
     "name": "stdout",
     "output_type": "stream",
     "text": [
      "│                         │ no) set the method: mean, max or min. <b>Note:</b> │\n"
     ]
    },
    {
     "name": "stdout",
     "output_type": "stream",
     "text": [
      "│                         │ This has only an effect if the above parameter for │\n"
     ]
    },
    {
     "name": "stdout",
     "output_type": "stream",
     "text": [
      "│                         │ <em>time_mean</em> is set. (default: mean)         │\n"
     ]
    },
    {
     "name": "stdout",
     "output_type": "stream",
     "text": [
      "│ lonlatbox               │ Set the extend of a rectangular lonlatbox          │\n"
     ]
    },
    {
     "name": "stdout",
     "output_type": "stream",
     "text": [
      "│                         │ (left_lon, right_lon, lower_lat, upper_lat)        │\n"
     ]
    },
    {
     "name": "stdout",
     "output_type": "stream",
     "text": [
      "│                         │ (default: <null>)                                  │\n"
     ]
    },
    {
     "name": "stdout",
     "output_type": "stream",
     "text": [
      "│ output_unit             │ Set the output unit of the variable - leave blank  │\n"
     ]
    },
    {
     "name": "stdout",
     "output_type": "stream",
     "text": [
      "│                         │ for no conversion. This can be useful if the unit  │\n"
     ]
    },
    {
     "name": "stdout",
     "output_type": "stream",
     "text": [
      "│                         │ of the input files should be converted, for        │\n"
     ]
    },
    {
     "name": "stdout",
     "output_type": "stream",
     "text": [
      "│                         │ example for precipitation. Note: Although many     │\n"
     ]
    },
    {
     "name": "stdout",
     "output_type": "stream",
     "text": [
      "│                         │ conversions are supported, by using the `pint`     │\n"
     ]
    },
    {
     "name": "stdout",
     "output_type": "stream",
     "text": [
      "│                         │ conversion library. (default: <null>)              │\n"
     ]
    },
    {
     "name": "stdout",
     "output_type": "stream",
     "text": [
      "│ vmin                    │ Set the minimum plotting range (leave blank to     │\n"
     ]
    },
    {
     "name": "stdout",
     "output_type": "stream",
     "text": [
      "│                         │ calculate from data 1st decile) (default: <null>)  │\n"
     ]
    },
    {
     "name": "stdout",
     "output_type": "stream",
     "text": [
      "│ vmax                    │ Set the maximum plotting range (leave blank to     │\n"
     ]
    },
    {
     "name": "stdout",
     "output_type": "stream",
     "text": [
      "│                         │ calculate the 9th decile) (default: <null>)        │\n"
     ]
    },
    {
     "name": "stdout",
     "output_type": "stream",
     "text": [
      "│ cmap                    │ Set the colormap, more information on colormaps is │\n"
     ]
    },
    {
     "name": "stdout",
     "output_type": "stream",
     "text": [
      "│                         │ available on the <a                                │\n"
     ]
    },
    {
     "name": "stdout",
     "output_type": "stream",
     "text": [
      "│                         │ href=\"https://matplotlib.org/stable/tutorials/colo │\n"
     ]
    },
    {
     "name": "stdout",
     "output_type": "stream",
     "text": [
      "│                         │ rs/colormaps.html\" target=_blank>matplotlib        │\n"
     ]
    },
    {
     "name": "stdout",
     "output_type": "stream",
     "text": [
      "│                         │ website</a>. (default: RdYlBu_r)                   │\n"
     ]
    },
    {
     "name": "stdout",
     "output_type": "stream",
     "text": [
      "│ linecolor               │ Color of the coast lines in the map (default: k)   │\n"
     ]
    },
    {
     "name": "stdout",
     "output_type": "stream",
     "text": [
      "│ projection              │ Set the global map projection. Note: this should   │\n"
     ]
    },
    {
     "name": "stdout",
     "output_type": "stream",
     "text": [
      "│                         │ the name of the cartopy projection method (e.g     │\n"
     ]
    },
    {
     "name": "stdout",
     "output_type": "stream",
     "text": [
      "│                         │ PlatteCarree for Cylindrical Projection). Pleas    │\n"
     ]
    },
    {
     "name": "stdout",
     "output_type": "stream",
     "text": [
      "│                         │ refer to <a                                        │\n"
     ]
    },
    {
     "name": "stdout",
     "output_type": "stream",
     "text": [
      "│                         │ href=\"https://scitools.org.uk/cartopy/docs/latest/ │\n"
     ]
    },
    {
     "name": "stdout",
     "output_type": "stream",
     "text": [
      "│                         │ crs/projections.html\"target=_blank>cartopy         │\n"
     ]
    },
    {
     "name": "stdout",
     "output_type": "stream",
     "text": [
      "│                         │ website</a> for details. (default: PlateCarree)    │\n"
     ]
    },
    {
     "name": "stdout",
     "output_type": "stream",
     "text": [
      "│ proj_centre             │ Set center longitude of the global map projection. │\n"
     ]
    },
    {
     "name": "stdout",
     "output_type": "stream",
     "text": [
      "│                         │ (default: 50)                                      │\n"
     ]
    },
    {
     "name": "stdout",
     "output_type": "stream",
     "text": [
      "│ pic_size                │ Set the size of the picture (in pixel) (default:   │\n"
     ]
    },
    {
     "name": "stdout",
     "output_type": "stream",
     "text": [
      "│                         │ 1360,900)                                          │\n"
     ]
    },
    {
     "name": "stdout",
     "output_type": "stream",
     "text": [
      "│ plot_title              │ Set plot title (default: )                         │\n"
     ]
    },
    {
     "name": "stdout",
     "output_type": "stream",
     "text": [
      "│ cbar_label              │ Overwrite default colorbar label by this value     │\n"
     ]
    },
    {
     "name": "stdout",
     "output_type": "stream",
     "text": [
      "│                         │ (default: )                                        │\n"
     ]
    },
    {
     "name": "stdout",
     "output_type": "stream",
     "text": [
      "│ suffix                  │ Filetype of the animation (default: mp4)           │\n"
     ]
    },
    {
     "name": "stdout",
     "output_type": "stream",
     "text": [
      "│ fps                     │ Set the frames per seceonds of the output          │\n"
     ]
    },
    {
     "name": "stdout",
     "output_type": "stream",
     "text": [
      "│                         │ animation. (default: 5)                            │\n"
     ]
    },
    {
     "name": "stdout",
     "output_type": "stream",
     "text": [
      "│ extra_scheduler_options │ Set additional options for the job submission to   │\n"
     ]
    },
    {
     "name": "stdout",
     "output_type": "stream",
     "text": [
      "│                         │ the workload manager (, separated). Note:          │\n"
     ]
    },
    {
     "name": "stdout",
     "output_type": "stream",
     "text": [
      "│                         │ batchmode and web only. (default: --qos=test,      │\n"
     ]
    },
    {
     "name": "stdout",
     "output_type": "stream",
     "text": [
      "│                         │ --array=20)                                        │\n"
     ]
    },
    {
     "name": "stdout",
     "output_type": "stream",
     "text": [
      "└─────────────────────────┴────────────────────────────────────────────────────┘\n"
     ]
    }
   ],
   "source": [
    "freva-plugin --doc animator"
   ]
  },
  {
   "cell_type": "markdown",
   "id": "a0d76f1e",
   "metadata": {},
   "source": [
    "The parameters are also given as `key=values` pairs. But not all of the above parameters are mandatory. Let’s use one project search key and animate its content."
   ]
  },
  {
   "cell_type": "code",
   "execution_count": 14,
   "id": "ff9c6cec",
   "metadata": {
    "execution": {
     "iopub.execute_input": "2024-09-30T05:08:55.655151Z",
     "iopub.status.busy": "2024-09-30T05:08:55.654824Z",
     "iopub.status.idle": "2024-09-30T05:09:49.125783Z",
     "shell.execute_reply": "2024-09-30T05:09:49.125339Z"
    }
   },
   "outputs": [
    {
     "name": "stdout",
     "output_type": "stream",
     "text": [
      "/tmp/animator/run.py:91: SyntaxWarning: invalid escape sequence '\\d'\n"
     ]
    },
    {
     "name": "stdout",
     "output_type": "stream",
     "text": [
      "  for i in re.findall(\"[-\\d]+\", unit[n]):\n"
     ]
    },
    {
     "name": "stdout",
     "output_type": "stream",
     "text": [
      "Setp 1: Collecting all files\n"
     ]
    },
    {
     "name": "stdout",
     "output_type": "stream",
     "text": [
      "Step 2: Opening the netcdf-files, collecting metadata\n"
     ]
    },
    {
     "name": "stdout",
     "output_type": "stream",
     "text": [
      "Step 3: Converting Units\n"
     ]
    },
    {
     "name": "stdout",
     "output_type": "stream",
     "text": [
      "Step 4: Loading the dataset, getting min/max values\n"
     ]
    },
    {
     "name": "stdout",
     "output_type": "stream",
     "text": [
      "Step 5: Creating the animation\n"
     ]
    },
    {
     "name": "stdout",
     "output_type": "stream",
     "text": [
      "/tmp/animator/run.py:91: SyntaxWarning: invalid escape sequence '\\d'\n"
     ]
    },
    {
     "name": "stdout",
     "output_type": "stream",
     "text": [
      "  for i in re.findall(\"[-\\d]+\", unit[n]):\n"
     ]
    },
    {
     "name": "stdout",
     "output_type": "stream",
     "text": [
      "Created animation /tmp/eval_conf/work/runner/freva-ces/output/animator/2129/pr_20160902T0000-20160902T2330.gif in 47 seconds\n"
     ]
    }
   ],
   "source": [
    "freva plugin animator project=observations variable=pr cmap=Blues fps=5 output_unit=mm/h vmin=0 vmax=5 suffix=gif"
   ]
  },
  {
   "cell_type": "markdown",
   "id": "e53b8d72",
   "metadata": {},
   "source": [
    "This plugin will run in so called interactive mode. That means that it will run on the login node and block your shell until the command is completed. This can be problematic if you have jobs that might take time to finish. An alternative is setting the `-–batchmode` flag. This flag tells the plugin to submit a job to the computing queue. The computing nodes are the core of any high performance computing system. Let’s submit the previous plugin job to the computing queue:"
   ]
  },
  {
   "cell_type": "code",
   "execution_count": 15,
   "id": "e2ccc53b",
   "metadata": {
    "execution": {
     "iopub.execute_input": "2024-09-30T05:09:49.127699Z",
     "iopub.status.busy": "2024-09-30T05:09:49.127383Z",
     "iopub.status.idle": "2024-09-30T05:09:50.438467Z",
     "shell.execute_reply": "2024-09-30T05:09:50.437939Z"
    }
   },
   "outputs": [
    {
     "name": "stdout",
     "output_type": "stream",
     "text": [
      "Scheduled job with history id: 2130\n"
     ]
    },
    {
     "name": "stdout",
     "output_type": "stream",
     "text": [
      "You can view the job's status with the command squeue\n"
     ]
    },
    {
     "name": "stdout",
     "output_type": "stream",
     "text": [
      "Your job's progress will be shown with the command\n"
     ]
    },
    {
     "name": "stdout",
     "output_type": "stream",
     "text": [
      "tail -f /tmp/share/slurm/animator/Animator-4860.out\n"
     ]
    }
   ],
   "source": [
    "freva plugin animator project=observations variable=pr cmap=Blues fps=5 output_unit=mm/h vmin=0 vmax=5 suffix=gif --batchmode"
   ]
  },
  {
   "cell_type": "markdown",
   "id": "3f56b3c2",
   "metadata": {},
   "source": [
    "# Inspecting previous analysis jobs: the freva-history command\n",
    "\n",
    "Sometimes it can be useful to access the status of past plugin applications. The `freva-history` command or `freva history` sub-command can do that:"
   ]
  },
  {
   "cell_type": "code",
   "execution_count": 16,
   "id": "cf5938d6",
   "metadata": {
    "execution": {
     "iopub.execute_input": "2024-09-30T05:09:50.440640Z",
     "iopub.status.busy": "2024-09-30T05:09:50.440230Z",
     "iopub.status.idle": "2024-09-30T05:09:51.769980Z",
     "shell.execute_reply": "2024-09-30T05:09:51.769377Z"
    }
   },
   "outputs": [
    {
     "name": "stdout",
     "output_type": "stream",
     "text": [
      "\u001b[2;36m[05:09:51]\u001b[0m\u001b[2;36m \u001b[0m\u001b[34mINFO    \u001b[0m freva - INFO - history of \u001b[1m{\u001b[0mplugin\u001b[1m}\u001b[0m, \u001b[33mlimit\u001b[0m=\u001b[1;36m1\u001b[0m, \u001b[33msince\u001b[0m=\u001b[3;35mNone\u001b[0m,    \n"
     ]
    },
    {
     "name": "stdout",
     "output_type": "stream",
     "text": [
      "\u001b[2;36m           \u001b[0m         \u001b[33muntil\u001b[0m=\u001b[3;35mNone\u001b[0m, \u001b[33mentry_ids\u001b[0m=\u001b[3;35mNone\u001b[0m                                  \n"
     ]
    },
    {
     "name": "stdout",
     "output_type": "stream",
     "text": [
      "2115) dummyplugin [2024-09-30 05:03:34] finished {\"number\": null, \"the_number\": 5, \"something\": \"test\", \"other\": 1.4...\n"
     ]
    }
   ],
   "source": [
    "freva-history --limit 1 --plugin dummyplugin"
   ]
  },
  {
   "cell_type": "code",
   "execution_count": 17,
   "id": "b2c1b3cf",
   "metadata": {
    "execution": {
     "iopub.execute_input": "2024-09-30T05:09:51.772103Z",
     "iopub.status.busy": "2024-09-30T05:09:51.771952Z",
     "iopub.status.idle": "2024-09-30T05:09:53.026357Z",
     "shell.execute_reply": "2024-09-30T05:09:53.025793Z"
    }
   },
   "outputs": [
    {
     "name": "stdout",
     "output_type": "stream",
     "text": [
      "\u001b[2;36m[05:09:52]\u001b[0m\u001b[2;36m \u001b[0m\u001b[34mINFO    \u001b[0m freva - INFO - history, \u001b[33mlimit\u001b[0m=\u001b[1;36m10\u001b[0m, \u001b[33msince\u001b[0m=\u001b[3;35mNone\u001b[0m, \u001b[33muntil\u001b[0m=\u001b[3;35mNone\u001b[0m,   \n"
     ]
    },
    {
     "name": "stdout",
     "output_type": "stream",
     "text": [
      "\u001b[2;36m           \u001b[0m         \u001b[33mentry_ids\u001b[0m=\u001b[1m[\u001b[0m\u001b[32m'1'\u001b[0m\u001b[1m]\u001b[0m                                             \n"
     ]
    }
   ],
   "source": [
    "freva-history --entry-ids 1 --full-text"
   ]
  },
  {
   "cell_type": "markdown",
   "id": "78d07784",
   "metadata": {},
   "source": [
    "To re-run a command of a past configuration you can use the --return-command option to get the command that was used:"
   ]
  },
  {
   "cell_type": "code",
   "execution_count": 18,
   "id": "ed7b4ba7",
   "metadata": {
    "execution": {
     "iopub.execute_input": "2024-09-30T05:09:53.028630Z",
     "iopub.status.busy": "2024-09-30T05:09:53.028224Z",
     "iopub.status.idle": "2024-09-30T05:09:54.351376Z",
     "shell.execute_reply": "2024-09-30T05:09:54.350876Z"
    }
   },
   "outputs": [],
   "source": [
    "freva-history  --entry-ids 136 --return-command"
   ]
  },
  {
   "cell_type": "markdown",
   "id": "0f66c049",
   "metadata": {},
   "source": [
    "# Managing your own datasets: the freva-user-data command\n",
    "\n",
    "Freva offers the possibility to share custom datasets with other users by making it searchable via `freva-databrowser`. With help of the `freva-user-data` command users can add their own data to the central data location, (re)-index or delete data in the databrowser.\n",
    "\n",
    "__Note__: Any data that has been added by users will be assigned a special project name: `project=user-$USER`.\n",
    "Let’s inspect the help menu of the freva-user-data or freva user-data command:"
   ]
  },
  {
   "cell_type": "code",
   "execution_count": 19,
   "id": "655895ff",
   "metadata": {
    "execution": {
     "iopub.execute_input": "2024-09-30T05:09:54.353267Z",
     "iopub.status.busy": "2024-09-30T05:09:54.353108Z",
     "iopub.status.idle": "2024-09-30T05:09:55.443440Z",
     "shell.execute_reply": "2024-09-30T05:09:55.442884Z"
    }
   },
   "outputs": [
    {
     "name": "stdout",
     "output_type": "stream",
     "text": [
      "usage: freva-user-data [-h] [-V] {index,add,delete} ...\n"
     ]
    },
    {
     "name": "stdout",
     "output_type": "stream",
     "text": [
      "\n"
     ]
    },
    {
     "name": "stdout",
     "output_type": "stream",
     "text": [
      "Update users project data.\n"
     ]
    },
    {
     "name": "stdout",
     "output_type": "stream",
     "text": [
      "\n"
     ]
    },
    {
     "name": "stdout",
     "output_type": "stream",
     "text": [
      "positional arguments:\n"
     ]
    },
    {
     "name": "stdout",
     "output_type": "stream",
     "text": [
      "  {index,add,delete}  Available sub-commands:\n"
     ]
    },
    {
     "name": "stdout",
     "output_type": "stream",
     "text": [
      "    index             Index existing user project data to the databrowser.\n"
     ]
    },
    {
     "name": "stdout",
     "output_type": "stream",
     "text": [
      "    add               Add new user project data to the databrowser.\n"
     ]
    },
    {
     "name": "stdout",
     "output_type": "stream",
     "text": [
      "    delete            Delete existing user project data from the databrowser.\n"
     ]
    },
    {
     "name": "stdout",
     "output_type": "stream",
     "text": [
      "\n"
     ]
    },
    {
     "name": "stdout",
     "output_type": "stream",
     "text": [
      "options:\n"
     ]
    },
    {
     "name": "stdout",
     "output_type": "stream",
     "text": [
      "  -h, --help          show this help message and exit\n"
     ]
    },
    {
     "name": "stdout",
     "output_type": "stream",
     "text": [
      "  -V, --version       show program's version number and exit\n"
     ]
    }
   ],
   "source": [
    "freva-user-data --help"
   ]
  },
  {
   "cell_type": "markdown",
   "id": "78cac543",
   "metadata": {},
   "source": [
    "## Add new data to the databrowser\n",
    "\n",
    "To be able to add data to the databrowser the file names must follow a strict standard and the files must reside in a specific location. The add sub command takes care about the correct file naming and location. No pre requirements other than the file has to be a valid netCDF or grib file are assumed. In other words this sub command places the user data with the correct naming structure to the correct location."
   ]
  },
  {
   "cell_type": "code",
   "execution_count": 20,
   "id": "5d9fd7ee",
   "metadata": {
    "execution": {
     "iopub.execute_input": "2024-09-30T05:09:55.445308Z",
     "iopub.status.busy": "2024-09-30T05:09:55.445152Z",
     "iopub.status.idle": "2024-09-30T05:09:56.518709Z",
     "shell.execute_reply": "2024-09-30T05:09:56.518131Z"
    }
   },
   "outputs": [
    {
     "name": "stdout",
     "output_type": "stream",
     "text": [
      "usage: freva-user-data add [-h] [--how {copy,move,symlink,link}] [--override]\n"
     ]
    },
    {
     "name": "stdout",
     "output_type": "stream",
     "text": [
      "                           [--experiment EXPERIMENT] [--institute INSTITUTE]\n"
     ]
    },
    {
     "name": "stdout",
     "output_type": "stream",
     "text": [
      "                           [--model MODEL] [--variable VARIABLE]\n"
     ]
    },
    {
     "name": "stdout",
     "output_type": "stream",
     "text": [
      "                           [--time-frequency TIME_FREQUENCY]\n"
     ]
    },
    {
     "name": "stdout",
     "output_type": "stream",
     "text": [
      "                           [--ensemble ENSEMBLE] [--cmor-table CMOR_TABLE]\n"
     ]
    },
    {
     "name": "stdout",
     "output_type": "stream",
     "text": [
      "                           [--realm REALM] [--debug]\n"
     ]
    },
    {
     "name": "stdout",
     "output_type": "stream",
     "text": [
      "                           product paths [paths ...]\n"
     ]
    },
    {
     "name": "stdout",
     "output_type": "stream",
     "text": [
      "\n"
     ]
    },
    {
     "name": "stdout",
     "output_type": "stream",
     "text": [
      "Add new user project data to the databrowser.\n"
     ]
    },
    {
     "name": "stdout",
     "output_type": "stream",
     "text": [
      "\n"
     ]
    },
    {
     "name": "stdout",
     "output_type": "stream",
     "text": [
      "positional arguments:\n"
     ]
    },
    {
     "name": "stdout",
     "output_type": "stream",
     "text": [
      "  product               Product search key the newly added data can be found.\n"
     ]
    },
    {
     "name": "stdout",
     "output_type": "stream",
     "text": [
      "  paths                 Filename(s) or Directories that are going to be added\n"
     ]
    },
    {
     "name": "stdout",
     "output_type": "stream",
     "text": [
      "                        to thedatabrowser.\n"
     ]
    },
    {
     "name": "stdout",
     "output_type": "stream",
     "text": [
      "\n"
     ]
    },
    {
     "name": "stdout",
     "output_type": "stream",
     "text": [
      "options:\n"
     ]
    },
    {
     "name": "stdout",
     "output_type": "stream",
     "text": [
      "  -h, --help            show this help message and exit\n"
     ]
    },
    {
     "name": "stdout",
     "output_type": "stream",
     "text": [
      "  --how {copy,move,symlink,link}\n"
     ]
    },
    {
     "name": "stdout",
     "output_type": "stream",
     "text": [
      "                        Method of how the data is added into the central freva\n"
     ]
    },
    {
     "name": "stdout",
     "output_type": "stream",
     "text": [
      "                        user directory. (default: copy)\n"
     ]
    },
    {
     "name": "stdout",
     "output_type": "stream",
     "text": [
      "  --override, --overwrite\n"
     ]
    },
    {
     "name": "stdout",
     "output_type": "stream",
     "text": [
      "                        Replace existing files in the user data structure.\n"
     ]
    },
    {
     "name": "stdout",
     "output_type": "stream",
     "text": [
      "                        (default: False)\n"
     ]
    },
    {
     "name": "stdout",
     "output_type": "stream",
     "text": [
      "  --experiment EXPERIMENT\n"
     ]
    },
    {
     "name": "stdout",
     "output_type": "stream",
     "text": [
      "                        Set the <experiment> information if they can't be\n"
     ]
    },
    {
     "name": "stdout",
     "output_type": "stream",
     "text": [
      "                        found in the meta data. (default: None)\n"
     ]
    },
    {
     "name": "stdout",
     "output_type": "stream",
     "text": [
      "  --institute INSTITUTE\n"
     ]
    },
    {
     "name": "stdout",
     "output_type": "stream",
     "text": [
      "                        Set the <institute> information if they can't be found\n"
     ]
    },
    {
     "name": "stdout",
     "output_type": "stream",
     "text": [
      "                        in the meta data. (default: None)\n"
     ]
    },
    {
     "name": "stdout",
     "output_type": "stream",
     "text": [
      "  --model MODEL         Set the <model> information if they can't be found in\n"
     ]
    },
    {
     "name": "stdout",
     "output_type": "stream",
     "text": [
      "                        the meta data. (default: None)\n"
     ]
    },
    {
     "name": "stdout",
     "output_type": "stream",
     "text": [
      "  --variable VARIABLE   Set the <variable> information if they can't be found\n"
     ]
    },
    {
     "name": "stdout",
     "output_type": "stream",
     "text": [
      "                        in the meta data. (default: None)\n"
     ]
    },
    {
     "name": "stdout",
     "output_type": "stream",
     "text": [
      "  --time-frequency TIME_FREQUENCY, --time_frequency TIME_FREQUENCY\n"
     ]
    },
    {
     "name": "stdout",
     "output_type": "stream",
     "text": [
      "                        Set the <time_frequency> information if they can't be\n"
     ]
    },
    {
     "name": "stdout",
     "output_type": "stream",
     "text": [
      "                        found in the meta data. (default: None)\n"
     ]
    },
    {
     "name": "stdout",
     "output_type": "stream",
     "text": [
      "  --ensemble ENSEMBLE   Set the <ensemble> information if they can't be found\n"
     ]
    },
    {
     "name": "stdout",
     "output_type": "stream",
     "text": [
      "                        in the meta data. (default: None)\n"
     ]
    },
    {
     "name": "stdout",
     "output_type": "stream",
     "text": [
      "  --cmor-table CMOR_TABLE, --cmor_table CMOR_TABLE\n"
     ]
    },
    {
     "name": "stdout",
     "output_type": "stream",
     "text": [
      "                        Set the <cmor-table> information if they can't be\n"
     ]
    },
    {
     "name": "stdout",
     "output_type": "stream",
     "text": [
      "                        found in the meta data. (default: None)\n"
     ]
    },
    {
     "name": "stdout",
     "output_type": "stream",
     "text": [
      "  --realm REALM         Set the <realm> information if they can't be found in\n"
     ]
    },
    {
     "name": "stdout",
     "output_type": "stream",
     "text": [
      "                        the metadata. (default: None)\n"
     ]
    },
    {
     "name": "stdout",
     "output_type": "stream",
     "text": [
      "  --debug, -v, -d, --verbose\n"
     ]
    },
    {
     "name": "stdout",
     "output_type": "stream",
     "text": [
      "                        Use verbose output. (default: False)\n"
     ]
    }
   ],
   "source": [
    "freva-user-data add --help"
   ]
  },
  {
   "cell_type": "markdown",
   "id": "632ecb13",
   "metadata": {},
   "source": [
    "Suppose you’ve gotten data from somewhere and want to add this data into the databrowser to make it accessible to others. In this specific example we assume that you have stored your original data in the `/tmp/my_awesome_data` folder. E.g `/tmp/my_awesome_data/outfile_0.nc...tmp/my_awesome_data/outfile_9.nc` The routine will try to gather all necessary metadata from the files. You’ll have to provide additional metadata if mandatory keywords are missing. To make the routine work in this example we have to provide the institute, model and experiment keywords:\n",
    "\n"
   ]
  },
  {
   "cell_type": "code",
   "execution_count": 21,
   "id": "3b16a07f",
   "metadata": {
    "execution": {
     "iopub.execute_input": "2024-09-30T05:09:56.520860Z",
     "iopub.status.busy": "2024-09-30T05:09:56.520467Z",
     "iopub.status.idle": "2024-09-30T05:09:59.666492Z",
     "shell.execute_reply": "2024-09-30T05:09:59.665959Z"
    }
   },
   "outputs": [
    {
     "name": "stdout",
     "output_type": "stream",
     "text": [
      "Status: crawling ...ok\n"
     ]
    },
    {
     "name": "stdout",
     "output_type": "stream",
     "text": [
      "/tmp/user_data/user-runner/eur-11b/clex/UM-RA2T/Bias-correct/hr/user_data/hr/r0i0p0/v20240930/tas/tas_hr_UM-RA2T_Bias-correct_r0i0p0_197001041800-197001050300.nc\n"
     ]
    },
    {
     "name": "stdout",
     "output_type": "stream",
     "text": [
      "/tmp/user_data/user-runner/eur-11b/clex/UM-RA2T/Bias-correct/hr/user_data/hr/r0i0p0/v20240930/tas/tas_hr_UM-RA2T_Bias-correct_r0i0p0_197001040800-197001041700.nc\n"
     ]
    },
    {
     "name": "stdout",
     "output_type": "stream",
     "text": [
      "/tmp/user_data/user-runner/eur-11b/clex/UM-RA2T/Bias-correct/hr/user_data/hr/r0i0p0/v20240930/tas/tas_hr_UM-RA2T_Bias-correct_r0i0p0_197001032200-197001040700.nc\n"
     ]
    },
    {
     "name": "stdout",
     "output_type": "stream",
     "text": [
      "/tmp/user_data/user-runner/eur-11b/clex/UM-RA2T/Bias-correct/hr/user_data/hr/r0i0p0/v20240930/tas/tas_hr_UM-RA2T_Bias-correct_r0i0p0_197001031200-197001032100.nc\n"
     ]
    },
    {
     "name": "stdout",
     "output_type": "stream",
     "text": [
      "/tmp/user_data/user-runner/eur-11b/clex/UM-RA2T/Bias-correct/hr/user_data/hr/r0i0p0/v20240930/tas/tas_hr_UM-RA2T_Bias-correct_r0i0p0_197001030200-197001031100.nc\n"
     ]
    },
    {
     "name": "stdout",
     "output_type": "stream",
     "text": [
      "/tmp/user_data/user-runner/eur-11b/clex/UM-RA2T/Bias-correct/hr/user_data/hr/r0i0p0/v20240930/tas/tas_hr_UM-RA2T_Bias-correct_r0i0p0_197001021600-197001030100.nc\n"
     ]
    },
    {
     "name": "stdout",
     "output_type": "stream",
     "text": [
      "/tmp/user_data/user-runner/eur-11b/clex/UM-RA2T/Bias-correct/hr/user_data/hr/r0i0p0/v20240930/tas/tas_hr_UM-RA2T_Bias-correct_r0i0p0_197001020600-197001021500.nc\n"
     ]
    },
    {
     "name": "stdout",
     "output_type": "stream",
     "text": [
      "/tmp/user_data/user-runner/eur-11b/clex/UM-RA2T/Bias-correct/hr/user_data/hr/r0i0p0/v20240930/tas/tas_hr_UM-RA2T_Bias-correct_r0i0p0_197001012000-197001020500.nc\n"
     ]
    },
    {
     "name": "stdout",
     "output_type": "stream",
     "text": [
      "/tmp/user_data/user-runner/eur-11b/clex/UM-RA2T/Bias-correct/hr/user_data/hr/r0i0p0/v20240930/tas/tas_hr_UM-RA2T_Bias-correct_r0i0p0_197001011000-197001011900.nc\n"
     ]
    },
    {
     "name": "stdout",
     "output_type": "stream",
     "text": [
      "/tmp/user_data/user-runner/eur-11b/clex/UM-RA2T/Bias-correct/hr/user_data/hr/r0i0p0/v20240930/tas/tas_hr_UM-RA2T_Bias-correct_r0i0p0_197001010000-197001010900.nc\n"
     ]
    }
   ],
   "source": [
    "freva-user-data add eur-11b /tmp/my_awesome_data/outfile_?.nc \\\n",
    "--institute clex --model UM-RA2T --experiment Bias-correct\n",
    "freva-databrowser experiment=bias-correct"
   ]
  },
  {
   "cell_type": "markdown",
   "id": "ff481a21",
   "metadata": {},
   "source": [
    "## Remove your data from the databrowser\n",
    "\n",
    "The delete sub command removes entries from the databrowser and if necessary existing files from the central user data location."
   ]
  },
  {
   "cell_type": "code",
   "execution_count": 22,
   "id": "dc481dc3",
   "metadata": {
    "execution": {
     "iopub.execute_input": "2024-09-30T05:09:59.668679Z",
     "iopub.status.busy": "2024-09-30T05:09:59.668457Z",
     "iopub.status.idle": "2024-09-30T05:10:00.871422Z",
     "shell.execute_reply": "2024-09-30T05:10:00.870931Z"
    }
   },
   "outputs": [
    {
     "name": "stdout",
     "output_type": "stream",
     "text": [
      "usage: freva-user-data delete [-h] [--delete-from-fs] [--debug]\n"
     ]
    },
    {
     "name": "stdout",
     "output_type": "stream",
     "text": [
      "                              paths [paths ...]\n"
     ]
    },
    {
     "name": "stdout",
     "output_type": "stream",
     "text": [
      "\n"
     ]
    },
    {
     "name": "stdout",
     "output_type": "stream",
     "text": [
      "Delete existing user project data from the databrowser.\n"
     ]
    },
    {
     "name": "stdout",
     "output_type": "stream",
     "text": [
      "\n"
     ]
    },
    {
     "name": "stdout",
     "output_type": "stream",
     "text": [
      "positional arguments:\n"
     ]
    },
    {
     "name": "stdout",
     "output_type": "stream",
     "text": [
      "  paths                 The user directory(s) that needs to be crawled.\n"
     ]
    },
    {
     "name": "stdout",
     "output_type": "stream",
     "text": [
      "\n"
     ]
    },
    {
     "name": "stdout",
     "output_type": "stream",
     "text": [
      "options:\n"
     ]
    },
    {
     "name": "stdout",
     "output_type": "stream",
     "text": [
      "  -h, --help            show this help message and exit\n"
     ]
    },
    {
     "name": "stdout",
     "output_type": "stream",
     "text": [
      "  --delete-from-fs, --delete_from_fs, --delete\n"
     ]
    },
    {
     "name": "stdout",
     "output_type": "stream",
     "text": [
      "                        Do not only delete the files from the databrowser but\n"
     ]
    },
    {
     "name": "stdout",
     "output_type": "stream",
     "text": [
      "                        also from file system. (default: False)\n"
     ]
    },
    {
     "name": "stdout",
     "output_type": "stream",
     "text": [
      "  --debug, -v, -d, --verbose\n"
     ]
    },
    {
     "name": "stdout",
     "output_type": "stream",
     "text": [
      "                        Use verbose output. (default: False)\n"
     ]
    }
   ],
   "source": [
    "freva-user-data delete --help"
   ]
  },
  {
   "cell_type": "markdown",
   "id": "2b67464e",
   "metadata": {},
   "source": [
    "Any data in the central user directory that belongs to the user can be deleted from the databrowser and also from the central data location:"
   ]
  },
  {
   "cell_type": "code",
   "execution_count": 23,
   "id": "b2da0fdd",
   "metadata": {
    "execution": {
     "iopub.execute_input": "2024-09-30T05:10:00.873523Z",
     "iopub.status.busy": "2024-09-30T05:10:00.873127Z",
     "iopub.status.idle": "2024-09-30T05:10:03.731747Z",
     "shell.execute_reply": "2024-09-30T05:10:03.731190Z"
    }
   },
   "outputs": [],
   "source": [
    "freva-user-data delete /tmp/user_data/user-$USER\n",
    "freva-databrowser experiment=bias-correct"
   ]
  },
  {
   "cell_type": "markdown",
   "id": "344b013c",
   "metadata": {},
   "source": [
    "## (Re)-Index existing data to the databrowser\n",
    "\n",
    "The index subcommand can be used to update the databrowser for existing user data. For example, if data has been removed from the databrowser it can be re-added:"
   ]
  },
  {
   "cell_type": "code",
   "execution_count": 24,
   "id": "2ad41583",
   "metadata": {
    "execution": {
     "iopub.execute_input": "2024-09-30T05:10:03.733927Z",
     "iopub.status.busy": "2024-09-30T05:10:03.733775Z",
     "iopub.status.idle": "2024-09-30T05:10:04.864827Z",
     "shell.execute_reply": "2024-09-30T05:10:04.864397Z"
    }
   },
   "outputs": [
    {
     "name": "stdout",
     "output_type": "stream",
     "text": [
      "usage: freva-user-data index [-h] [--data-type {fs}] [--continue-on-errors]\n"
     ]
    },
    {
     "name": "stdout",
     "output_type": "stream",
     "text": [
      "                             [--debug]\n"
     ]
    },
    {
     "name": "stdout",
     "output_type": "stream",
     "text": [
      "                             [crawl_dir ...]\n"
     ]
    },
    {
     "name": "stdout",
     "output_type": "stream",
     "text": [
      "\n"
     ]
    },
    {
     "name": "stdout",
     "output_type": "stream",
     "text": [
      "Index existing user project data to the databrowser.\n"
     ]
    },
    {
     "name": "stdout",
     "output_type": "stream",
     "text": [
      "\n"
     ]
    },
    {
     "name": "stdout",
     "output_type": "stream",
     "text": [
      "positional arguments:\n"
     ]
    },
    {
     "name": "stdout",
     "output_type": "stream",
     "text": [
      "  crawl_dir             The user directory(s) that needs to be crawled.\n"
     ]
    },
    {
     "name": "stdout",
     "output_type": "stream",
     "text": [
      "                        (default: None)\n"
     ]
    },
    {
     "name": "stdout",
     "output_type": "stream",
     "text": [
      "\n"
     ]
    },
    {
     "name": "stdout",
     "output_type": "stream",
     "text": [
      "options:\n"
     ]
    },
    {
     "name": "stdout",
     "output_type": "stream",
     "text": [
      "  -h, --help            show this help message and exit\n"
     ]
    },
    {
     "name": "stdout",
     "output_type": "stream",
     "text": [
      "  --data-type {fs}, --dtype {fs}\n"
     ]
    },
    {
     "name": "stdout",
     "output_type": "stream",
     "text": [
      "                        The data type of the data. (default: fs)\n"
     ]
    },
    {
     "name": "stdout",
     "output_type": "stream",
     "text": [
      "  --continue-on-errors, --continue, -c\n"
     ]
    },
    {
     "name": "stdout",
     "output_type": "stream",
     "text": [
      "                        Continue indexing on error. (default: False)\n"
     ]
    },
    {
     "name": "stdout",
     "output_type": "stream",
     "text": [
      "  --debug, -v, -d, --verbose\n"
     ]
    },
    {
     "name": "stdout",
     "output_type": "stream",
     "text": [
      "                        Use verbose output. (default: False)\n"
     ]
    }
   ],
   "source": [
    "freva-user-data index --help"
   ]
  },
  {
   "cell_type": "code",
   "execution_count": 25,
   "id": "a38bab6f",
   "metadata": {
    "execution": {
     "iopub.execute_input": "2024-09-30T05:10:04.866765Z",
     "iopub.status.busy": "2024-09-30T05:10:04.866584Z",
     "iopub.status.idle": "2024-09-30T05:10:07.470499Z",
     "shell.execute_reply": "2024-09-30T05:10:07.469984Z"
    }
   },
   "outputs": [],
   "source": [
    "freva-user-data delete /tmp/user_data/user-$USER\n",
    "freva-databrowser experiment=bias-correct\n"
   ]
  }
 ],
 "metadata": {
  "kernelspec": {
   "display_name": "Bash",
   "language": "bash",
   "name": "bash"
  },
  "language_info": {
   "codemirror_mode": "shell",
   "file_extension": ".sh",
   "mimetype": "text/x-sh",
   "name": "bash"
  }
 },
 "nbformat": 4,
 "nbformat_minor": 5
}
