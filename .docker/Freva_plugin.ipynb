{
 "cells": [
  {
   "cell_type": "markdown",
   "id": "6ec8f01c",
   "metadata": {},
   "source": [
    "# Freva Plugin Application Example\n",
    "\n",
    "Freva is a powerful tool when it comes to plugin applications. Users can run their own plugins written in any programming language. Freva offers a simple API to make those user written plugins integrate with freva.\n",
    "\n",
    "The notebook demonstrates the application of a freva plugin. Who user defined plugin can be integrated useing the freva plugin API is coverd in the next example notebook.\n",
    "\n",
    "Here we will create an animation of rainfall data over the Maritime Continent. First lets inspect the `freva --help` command. "
   ]
  },
  {
   "cell_type": "code",
   "execution_count": 1,
   "id": "6e58a381",
   "metadata": {},
   "outputs": [
    {
     "name": "stdout",
     "output_type": "stream",
     "text": [
      "Freva \n",
      "Available commands:\n",
      "  --plugin       : Applies some analysis to the given data.\n",
      "  --history      : provides access to the configuration history (use --help for\n",
      "                  more help)\n",
      "  --databrowser  : Find data in the system\n",
      "  --crawl_my_data: Use this command to update your projectdata.\n",
      "  --esgf         : Browse ESGF data and create wget script\n",
      "\n",
      "This is the main tool for the evaluation system.\n",
      "Usage: freva --COMMAND [OPTIONS]\n",
      "To get help for the individual commands use\n",
      "  freva --COMMAND --help\n"
     ]
    }
   ],
   "source": [
    "freva --help"
   ]
  },
  {
   "cell_type": "markdown",
   "id": "074bcead",
   "metadata": {},
   "source": [
    "Some satellite based data has been added to the freva data stack. This dataset is the CMORPH data more information on CMORPH is available in the [CPC](https://www.cpc.ncep.noaa.gov/products/janowiak/cmorph_description.html) web site. \n",
    "Let's remind ourself where the data is stored. For this we can use the `freva --databrowser` command"
   ]
  },
  {
   "cell_type": "code",
   "execution_count": 2,
   "id": "f7f7c0e6",
   "metadata": {},
   "outputs": [
    {
     "name": "stdout",
     "output_type": "stream",
     "text": [
      "/mnt/data4freva/observations/grid/CPC/CPC/cmorph/30min/atmos/30min/r1i1p1/v20201005/pr/pr_30min_CPC_cmorph_r1i1p1_202001252300-202001252330.nc\n",
      "/mnt/data4freva/observations/grid/CPC/CPC/cmorph/30min/atmos/30min/r1i1p1/v20201005/pr/pr_30min_CPC_cmorph_r1i1p1_202001252200-202001252230.nc\n",
      "/mnt/data4freva/observations/grid/CPC/CPC/cmorph/30min/atmos/30min/r1i1p1/v20201005/pr/pr_30min_CPC_cmorph_r1i1p1_202001252100-202001252130.nc\n",
      "/mnt/data4freva/observations/grid/CPC/CPC/cmorph/30min/atmos/30min/r1i1p1/v20201005/pr/pr_30min_CPC_cmorph_r1i1p1_202001252000-202001252030.nc\n",
      "/mnt/data4freva/observations/grid/CPC/CPC/cmorph/30min/atmos/30min/r1i1p1/v20201005/pr/pr_30min_CPC_cmorph_r1i1p1_202001251900-202001251930.nc\n",
      "/mnt/data4freva/observations/grid/CPC/CPC/cmorph/30min/atmos/30min/r1i1p1/v20201005/pr/pr_30min_CPC_cmorph_r1i1p1_202001251800-202001251830.nc\n",
      "/mnt/data4freva/observations/grid/CPC/CPC/cmorph/30min/atmos/30min/r1i1p1/v20201005/pr/pr_30min_CPC_cmorph_r1i1p1_202001251700-202001251730.nc\n",
      "/mnt/data4freva/observations/grid/CPC/CPC/cmorph/30min/atmos/30min/r1i1p1/v20201005/pr/pr_30min_CPC_cmorph_r1i1p1_202001251600-202001251630.nc\n",
      "/mnt/data4freva/observations/grid/CPC/CPC/cmorph/30min/atmos/30min/r1i1p1/v20201005/pr/pr_30min_CPC_cmorph_r1i1p1_202001251500-202001251530.nc\n",
      "/mnt/data4freva/observations/grid/CPC/CPC/cmorph/30min/atmos/30min/r1i1p1/v20201005/pr/pr_30min_CPC_cmorph_r1i1p1_202001251400-202001251430.nc\n",
      "/mnt/data4freva/observations/grid/CPC/CPC/cmorph/30min/atmos/30min/r1i1p1/v20201005/pr/pr_30min_CPC_cmorph_r1i1p1_202001251300-202001251330.nc\n",
      "/mnt/data4freva/observations/grid/CPC/CPC/cmorph/30min/atmos/30min/r1i1p1/v20201005/pr/pr_30min_CPC_cmorph_r1i1p1_202001251200-202001251230.nc\n",
      "/mnt/data4freva/observations/grid/CPC/CPC/cmorph/30min/atmos/30min/r1i1p1/v20201005/pr/pr_30min_CPC_cmorph_r1i1p1_202001251100-202001251130.nc\n",
      "/mnt/data4freva/observations/grid/CPC/CPC/cmorph/30min/atmos/30min/r1i1p1/v20201005/pr/pr_30min_CPC_cmorph_r1i1p1_202001251000-202001251030.nc\n",
      "/mnt/data4freva/observations/grid/CPC/CPC/cmorph/30min/atmos/30min/r1i1p1/v20201005/pr/pr_30min_CPC_cmorph_r1i1p1_202001250900-202001250930.nc\n",
      "/mnt/data4freva/observations/grid/CPC/CPC/cmorph/30min/atmos/30min/r1i1p1/v20201005/pr/pr_30min_CPC_cmorph_r1i1p1_202001250800-202001250830.nc\n",
      "/mnt/data4freva/observations/grid/CPC/CPC/cmorph/30min/atmos/30min/r1i1p1/v20201005/pr/pr_30min_CPC_cmorph_r1i1p1_202001250700-202001250730.nc\n",
      "/mnt/data4freva/observations/grid/CPC/CPC/cmorph/30min/atmos/30min/r1i1p1/v20201005/pr/pr_30min_CPC_cmorph_r1i1p1_202001250600-202001250630.nc\n",
      "/mnt/data4freva/observations/grid/CPC/CPC/cmorph/30min/atmos/30min/r1i1p1/v20201005/pr/pr_30min_CPC_cmorph_r1i1p1_202001250500-202001250530.nc\n",
      "/mnt/data4freva/observations/grid/CPC/CPC/cmorph/30min/atmos/30min/r1i1p1/v20201005/pr/pr_30min_CPC_cmorph_r1i1p1_202001250400-202001250430.nc\n",
      "/mnt/data4freva/observations/grid/CPC/CPC/cmorph/30min/atmos/30min/r1i1p1/v20201005/pr/pr_30min_CPC_cmorph_r1i1p1_202001250300-202001250330.nc\n",
      "/mnt/data4freva/observations/grid/CPC/CPC/cmorph/30min/atmos/30min/r1i1p1/v20201005/pr/pr_30min_CPC_cmorph_r1i1p1_202001250200-202001250230.nc\n",
      "/mnt/data4freva/observations/grid/CPC/CPC/cmorph/30min/atmos/30min/r1i1p1/v20201005/pr/pr_30min_CPC_cmorph_r1i1p1_202001250100-202001250130.nc\n",
      "/mnt/data4freva/observations/grid/CPC/CPC/cmorph/30min/atmos/30min/r1i1p1/v20201005/pr/pr_30min_CPC_cmorph_r1i1p1_202001250000-202001250030.nc\n"
     ]
    }
   ],
   "source": [
    "freva --databrowser project=observations institute=cpc"
   ]
  },
  {
   "cell_type": "markdown",
   "id": "25a58aee",
   "metadata": {},
   "source": [
    "Let's check what plugins we have already on board"
   ]
  },
  {
   "cell_type": "code",
   "execution_count": 3,
   "id": "72bf3003",
   "metadata": {},
   "outputs": [
    {
     "name": "stdout",
     "output_type": "stream",
     "text": [
      "Animator: Animate data on lon/lat grids\n"
     ]
    }
   ],
   "source": [
    "freva --plugin"
   ]
  },
  {
   "cell_type": "markdown",
   "id": "c56e51d0",
   "metadata": {},
   "source": [
    "We can also inspect the help of this plugin:"
   ]
  },
  {
   "cell_type": "code",
   "execution_count": 4,
   "id": "e6e8f823",
   "metadata": {
    "scrolled": false
   },
   "outputs": [
    {
     "name": "stdout",
     "output_type": "stream",
     "text": [
      "Animator (v0.0.1): Create animations (in gif or mp4 format)\n",
      "                              This tool creats plots of solr facets and creates an animation.\n",
      "Options:\n",
      "input_file       (default: <undefined>)\n",
      "                 NetCDF input file(s), you can choose multiple files seperated\n",
      "                 by a , or use a glob pattern for multiple file chose this\n",
      "                 option only if you don't want freva to find files by seach\n",
      "                 facets\n",
      "variable         (default: <undefined>) [mandatory]\n",
      "                 Variable name (only applicable if you didn't choose an input\n",
      "                 file\n",
      "output_directory (default: $USER_OUTPUT_DIR) [mandatory]\n",
      "                 The output directory where the animation will be save to\n",
      "project          (default: <undefined>)\n",
      "                 Project name (only applicable if you didn't choose an input\n",
      "                 file\n",
      "product          (default: <undefined>)\n",
      "                 Product name (only applicable if you didn't choose an input\n",
      "                 file\n",
      "experiment       (default: <undefined>)\n",
      "                 Experiment name (only applicable if you didn't choose an input\n",
      "                 file\n",
      "institute        (default: <undefined>)\n",
      "                 Institute name (only applicable if you didn't choose an input\n",
      "                 file\n",
      "realm            (default: <undefined>)\n",
      "                 Realm name (only applicable if you didn't choos an input file\n",
      "model            (default: <undefined>)\n",
      "                 Model name (only applicable if you didn't choose an input file\n",
      "time_frequency   (default: <undefined>)\n",
      "                 Model name (only applicable if you didn't choose an input file\n",
      "ensemble         (default: <undefined>)\n",
      "                 ensemble name (only applicable if you didn't choose an input\n",
      "                 file\n",
      "start            (default: <undefined>)\n",
      "                 Define the first time step to be plotted, leave blank if taken\n",
      "                 from data\n",
      "end              (default: <undefined>)\n",
      "                 Define the last time step to be plotted, leave blank if taken\n",
      "                 from data\n",
      "vmin             (default: <undefined>)\n",
      "                 Set the minimum plotting range (leave blank to calculate from\n",
      "                 data\n",
      "vmax             (default: <undefined>)\n",
      "                 Set the maximum plotting range (leave blank to calculate from\n",
      "                 data\n",
      "cmap             (default: RdYlBu_r)\n",
      "                 Set the colormap\n",
      "linecolor        (default: k)\n",
      "                 Color of the coast lines in the map\n",
      "projection       (default: Mollweide)\n",
      "                 Set the global map projection. Note: this should the name of\n",
      "                 the cartopy projection method (e.g PlatteCarree for Cylindrical\n",
      "                 Projection). Pleas refer to https://scitools.org.uk/cartopy/doc\n",
      "                 s/latest/crs/projections.html for details.\n",
      "proj_centre      (default: 50)\n",
      "                 Set center longitude of the global map projection.\n",
      "pic_size         (default: 1360, 900)\n",
      "                 Set the size of the picture (in pixel)\n",
      "plot_title       (default: )\n",
      "                 Set plot title\n",
      "cbar_label       (default: )\n",
      "                 Overwrite default colorbar label by this value\n",
      "time_mean        (default: <undefined>)\n",
      "                 Select a time interval if time averaging/min/max should be\n",
      "                 applied along the time axis. This can be 1d for daily, 1m for\n",
      "                 monthly 6h for 6 hours etc. Leav blank if the time axis should\n",
      "                 not be resampled (default)\n",
      "time_method      (default: mean)\n",
      "                 If resampling of the time axis is chosen (default: no) set the\n",
      "                 method: mean, max or min\n",
      "lonlatbox        (default: <undefined>)\n",
      "                 Set the extend of a rectangular lonlatbox (left_lon, right_lat,\n",
      "                 lower_lat, upper_lat)\n",
      "suffix           (default: gif)\n",
      "                 Filetype of the animation\n"
     ]
    }
   ],
   "source": [
    "freva --plugin animator --help"
   ]
  },
  {
   "cell_type": "markdown",
   "id": "cab8d30a",
   "metadata": {},
   "source": [
    "Now let's apply the plugin"
   ]
  },
  {
   "cell_type": "code",
   "execution_count": 6,
   "id": "37fb9754",
   "metadata": {
    "scrolled": false
   },
   "outputs": [
    {
     "name": "stdout",
     "output_type": "stream",
     "text": [
      "Could not read git version\n",
      "Could not read git version\n",
      "Setp 1: Collecting all files\n",
      "Step 2: Opening the netcdf-files, collecting metadata\n",
      "Step 3: Loading the dataset, getting min/max values\n",
      "Step 4: Creating the animation\n",
      "Created animation /opt/freva-work/freva/freva/output/animator/3/pr_20200125T0000-20200125T2330.gif in 12 seconds\n"
     ]
    }
   ],
   "source": [
    "freva --plugin animator cmap=Blues vmin=0 vmax=0.003 variable=pr project=observations institute=cpc"
   ]
  },
  {
   "cell_type": "code",
   "execution_count": 7,
   "id": "6a0cbc71",
   "metadata": {},
   "outputs": [],
   "source": [
    "cp  /opt/freva-work/freva/freva/output/animator/3/pr_20200125T0000-20200125T2330.gif pr.gif"
   ]
  },
  {
   "cell_type": "markdown",
   "id": "466c6307",
   "metadata": {},
   "source": [
    "![](pr.gif)"
   ]
  },
  {
   "cell_type": "code",
   "execution_count": null,
   "id": "acd7939c",
   "metadata": {},
   "outputs": [],
   "source": []
  }
 ],
 "metadata": {
  "kernelspec": {
   "display_name": "Bash",
   "language": "bash",
   "name": "bash"
  },
  "language_info": {
   "codemirror_mode": "shell",
   "file_extension": ".sh",
   "mimetype": "text/x-sh",
   "name": "bash"
  }
 },
 "nbformat": 4,
 "nbformat_minor": 5
}
