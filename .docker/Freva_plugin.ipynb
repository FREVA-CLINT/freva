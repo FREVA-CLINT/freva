{
 "cells": [
  {
   "cell_type": "markdown",
   "id": "6ec8f01c",
   "metadata": {},
   "source": [
    "# Freva Plugin Application Example\n",
    "\n",
    "Freva is a powerful tool when it comes to plugin applications. Users can run their own plugins written in any programming language. Freva offers a simple API to make those user written plugins integrate with freva.\n",
    "\n",
    "The notebook demonstrates the application of a freva plugin. Who user defined plugin can be integrated useing the freva plugin API is coverd in the next example notebook.\n",
    "\n",
    "Here we will create an animation of rainfall data over the Maritime Continent. First lets inspect the `freva --help` command. "
   ]
  },
  {
   "cell_type": "code",
   "execution_count": null,
   "id": "6e58a381",
   "metadata": {},
   "outputs": [],
   "source": [
    "freva --help"
   ]
  },
  {
   "cell_type": "markdown",
   "id": "074bcead",
   "metadata": {},
   "source": [
    "Some satellite based data has been added to the freva data stack. This dataset is the CMORPH data more information on CMORPH is available in the [CPC](https://www.cpc.ncep.noaa.gov/products/janowiak/cmorph_description.html) web site. \n",
    "Let's remind ourself where the data is stored. For this we can use the `freva databrowser` command"
   ]
  },
  {
   "cell_type": "code",
   "execution_count": null,
   "id": "f7f7c0e6",
   "metadata": {},
   "outputs": [],
   "source": [
    "freva databrowser --facet project --facet variable"
   ]
  },
  {
   "cell_type": "markdown",
   "id": "25a58aee",
   "metadata": {},
   "source": [
    "Let's check what plugins we have already on board"
   ]
  },
  {
   "cell_type": "code",
   "execution_count": null,
   "id": "72bf3003",
   "metadata": {},
   "outputs": [],
   "source": [
    "freva plugin --help"
   ]
  },
  {
   "cell_type": "markdown",
   "id": "c56e51d0",
   "metadata": {},
   "source": [
    "We can also inspect the help of this plugin:"
   ]
  },
  {
   "cell_type": "code",
   "execution_count": null,
   "id": "e6e8f823",
   "metadata": {
    "scrolled": false
   },
   "outputs": [],
   "source": [
    "freva plugin animator --docs"
   ]
  },
  {
   "cell_type": "markdown",
   "id": "cab8d30a",
   "metadata": {},
   "source": [
    "Now let's apply the plugin"
   ]
  },
  {
   "cell_type": "code",
   "execution_count": null,
   "id": "37fb9754",
   "metadata": {
    "scrolled": false
   },
   "outputs": [],
   "source": [
    "freva plugin animator cmap=Blues vmin=0 vmax=0.003 variable=pr project=observations institute=cpc"
   ]
  },
  {
   "cell_type": "code",
   "execution_count": null,
   "id": "6a0cbc71",
   "metadata": {},
   "outputs": [],
   "source": [
    "cp  /opt/freva-work/freva/freva/output/animator/3/pr_20200125T0000-20200125T2330.gif pr.gif"
   ]
  },
  {
   "cell_type": "markdown",
   "id": "466c6307",
   "metadata": {},
   "source": [
    "![](pr.gif)"
   ]
  },
  {
   "cell_type": "code",
   "execution_count": null,
   "id": "acd7939c",
   "metadata": {},
   "outputs": [],
   "source": []
  }
 ],
 "metadata": {
  "kernelspec": {
   "display_name": "Bash",
   "language": "bash",
   "name": "bash"
  },
  "language_info": {
   "codemirror_mode": "shell",
   "file_extension": ".sh",
   "mimetype": "text/x-sh",
   "name": "bash"
  }
 },
 "nbformat": 4,
 "nbformat_minor": 5
}
