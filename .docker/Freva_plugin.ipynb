{
 "cells": [
  {
   "cell_type": "markdown",
   "id": "6ec8f01c",
   "metadata": {},
   "source": [
    "# Freva Plugin Application Example\n",
    "\n",
    "Freva is a powerful tool when it comes to plugin applications. Users can run their own plugins written in any programming language. Freva offers a simple API to make those user written plugins integrate with freva.\n",
    "\n",
    "The notebook demonstrates the application of a freva plugin. Who user defined plugin can be integrated useing the freva plugin API is coverd in the next example notebook.\n",
    "\n",
    "Here we will create an animation of rainfall data over the Maritime Continent. First lets inspect the `freva --help` command. "
   ]
  },
  {
   "cell_type": "code",
   "execution_count": 1,
   "id": "6e58a381",
   "metadata": {},
   "outputs": [
    {
     "name": "stdout",
     "output_type": "stream",
     "text": [
      "Freva \n",
      "Available commands:\n",
      "  --plugin       : Applies some analysis to the given data.\n",
      "  --history      : provides access to the configuration history (use --help for\n",
      "                  more help)\n",
      "  --databrowser  : Find data in the system\n",
      "  --crawl_my_data: Use this command to update your projectdata.\n",
      "  --esgf         : Browse ESGF data and create wget script\n",
      "\n",
      "This is the main tool for the evaluation system.\n",
      "Usage: freva --COMMAND [OPTIONS]\n",
      "To get help for the individual commands use\n",
      "  freva --COMMAND --help\n"
     ]
    }
   ],
   "source": [
    "freva --help"
   ]
  },
  {
   "cell_type": "markdown",
   "id": "074bcead",
   "metadata": {},
   "source": [
    "Some satellite based data has been added to the freva data stack. This dataset is the CMORPH data more information on CMORPH is available in the [CPC](https://www.cpc.ncep.noaa.gov/products/janowiak/cmorph_description.html) web site. \n",
    "Let's remind ourself where the data is stored. For this we can use the `freva --databrowser` command"
   ]
  },
  {
   "cell_type": "code",
   "execution_count": 4,
   "id": "f7f7c0e6",
   "metadata": {},
   "outputs": [],
   "source": [
    "freva --databrowser"
   ]
  },
  {
   "cell_type": "code",
   "execution_count": null,
   "id": "7e6f8842",
   "metadata": {},
   "outputs": [],
   "source": []
  }
 ],
 "metadata": {
  "kernelspec": {
   "display_name": "Bash",
   "language": "bash",
   "name": "bash"
  },
  "language_info": {
   "codemirror_mode": "shell",
   "file_extension": ".sh",
   "mimetype": "text/x-sh",
   "name": "bash"
  }
 },
 "nbformat": 4,
 "nbformat_minor": 5
}
