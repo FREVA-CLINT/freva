{
 "cells": [
  {
   "cell_type": "markdown",
   "id": "8061b49e",
   "metadata": {},
   "source": [
    "<h1>Welcome to the Freva’s demonstration</h1>\n",
    "<h6  style=\"font-size: large;\"><center>\n",
    "You have made it to the Freva usage tutorial which consists of a collection of notebooks demonstrating the basic usage freva.\n",
    "\n",
    "</center>\n",
    "</h6>\n",
    "<p>\n",
    "Freva, the free evaluation system framework, is a data search and analysis platform developed by the atmospheric science community for the atmospheric science community. With help of Freva researchers can:\n",
    "<ul>\n",
    "    <li>quickly and intuitively search for data stored at typical data centers that host many datasets.\n",
    "    <li> create a common interface for user defined data analysis tools.\n",
    "    <li>apply data analysis tools in a reproducible manner.\n",
    "</ul>\n",
    "</p>\n",
    "<h3>Basic Tutorials:</h3>\n",
    "<h6>\n",
    "<center>Click one of the following links below for a basic usage example:</center><br>\n",
    "</h6>\n",
    "<p>\n",
    "<ul>\n",
    "Feel free to open a few notebooks, read the tutorial and play with the data and notebooks.\n",
    "<li><a href=\"01-Using_the_Databrowser.ipynb\" target=_blank>Example I</a> demonstrates how freva can be used to search for data</li>\n",
    "<li><a href=\"02-Add_own_datasets.ipynb\" target=_blank>Example II</a> Shows how users can add their own data to the system.</li>\n",
    "<li><a href=\"03-Applying_Plugins_and_Search_for_History.ipynb\" target=_blank>Example III</a> explains the application of data analysis plugins.</li>\n",
    "    <li><a href=\"04-The_CommandLineInterface.ipynb\" target=_blank>Example IV</a> Introduces the command line interface.</li>\n",
    "</ul>\n",
    "\n",
    "    \n",
    "\n",
    "</p>"
   ]
  }
 ],
 "metadata": {
  "kernelspec": {
   "display_name": "freva",
   "language": "python",
   "name": "freva"
  },
  "language_info": {
   "codemirror_mode": {
    "name": "ipython",
    "version": 3
   },
   "file_extension": ".py",
   "mimetype": "text/x-python",
   "name": "python",
   "nbconvert_exporter": "python",
   "pygments_lexer": "ipython3",
   "version": "3.10.6"
  }
 },
 "nbformat": 4,
 "nbformat_minor": 5
}
