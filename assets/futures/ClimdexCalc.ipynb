{
 "cells": [
  {
   "cell_type": "code",
   "execution_count": null,
   "id": "da58d5ea",
   "metadata": {
    "tags": [
     "solr-parameters"
    ]
   },
   "outputs": [],
   "source": [
    "# Define the solr parameter\n",
    "project=\"reanalysis\"\n",
    "product=\"reanalysis\"\n",
    "institute=\"ecmwf\"\n",
    "model=\"ifs\"\n",
    "experiment=\"era5\" \n",
    "ensemble=\"reanalysis\"\n",
    "time=\"200001010000-201012310000\"\n",
    "time_frequency=\"mon\"\n",
    "realm=\"atmos\"\n",
    "variable=[\"tx10p\", \"tx90p\", \"tn10p\", \"tn90p\"]"
   ]
  },
  {
   "cell_type": "code",
   "execution_count": null,
   "id": "ad6886ba",
   "metadata": {
    "tags": [
     "parameters"
    ]
   },
   "outputs": [],
   "source": [
    "ntasks=8"
   ]
  },
  {
   "cell_type": "code",
   "execution_count": null,
   "id": "0e174599",
   "metadata": {},
   "outputs": [],
   "source": [
    "from tempfile import TemporaryDirectory\n",
    "import freva\n",
    "_=freva.config(\"/home/wilfred/workspace/freva/compose/local-eval-system.conf\")"
   ]
  },
  {
   "cell_type": "code",
   "execution_count": null,
   "id": "dbbd8c5a",
   "metadata": {},
   "outputs": [],
   "source": [
    "outdir = TemporaryDirectory()"
   ]
  },
  {
   "cell_type": "code",
   "execution_count": null,
   "id": "2da586e1",
   "metadata": {
    "tags": [
     "code"
    ]
   },
   "outputs": [],
   "source": [
    "from dateutil import parser\n",
    "time_period=\",\".join((str(parser.parse(t).year) for t in time.split(\"-\")))\n",
    "res = freva.run_plugin(\n",
    "    \"climdexcalc\",\n",
    "    project=project,\n",
    "    product=product,\n",
    "    institute=institute,\n",
    "    model=model,\n",
    "    experiment=experiment,\n",
    "    ensemble=ensemble,\n",
    "    timeperiod=time_period,\n",
    "    indices=\",\".join(variable),\n",
    "    ntasks=ntasks,\n",
    "    outputdir=outdir.name,\n",
    "    batchmode=True,\n",
    ")\n",
    "res.wait()\n",
    "output = res.get_result_paths()"
   ]
  },
  {
   "cell_type": "code",
   "execution_count": null,
   "id": "4f256fd7",
   "metadata": {},
   "outputs": [],
   "source": [
    "user_data = freva.UserData()\n",
    "user_data.add(\n",
    "    product,\n",
    "    *output,\n",
    "    how=\"move\",\n",
    "    _project=project,\n",
    "    institute=institute,\n",
    "    model=model,\n",
    "    experiment=experiment,\n",
    "    ensemble=ensemble,\n",
    "    realm=realm,\n",
    ")\n",
    "outdir.cleanup()"
   ]
  },
  {
   "cell_type": "code",
   "execution_count": null,
   "id": "7daf2cac",
   "metadata": {},
   "outputs": [],
   "source": []
  }
 ],
 "metadata": {
  "celltoolbar": "Tags",
  "kernelspec": {
   "display_name": "Python 3 (ipykernel)",
   "language": "python",
   "name": "python3"
  },
  "language_info": {
   "codemirror_mode": {
    "name": "ipython",
    "version": 3
   },
   "file_extension": ".py",
   "mimetype": "text/x-python",
   "name": "python",
   "nbconvert_exporter": "python",
   "pygments_lexer": "ipython3",
   "version": "3.10.9"
  }
 },
 "nbformat": 4,
 "nbformat_minor": 5
}
