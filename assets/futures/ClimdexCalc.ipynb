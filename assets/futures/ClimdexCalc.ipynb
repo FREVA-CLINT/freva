{
 "cells": [
  {
   "cell_type": "code",
   "execution_count": null,
   "id": "f02f007a",
   "metadata": {
    "tags": [
     "solr-parameters"
    ]
   },
   "outputs": [],
   "source": [
    "# Define the solr parameter\n",
    "project=\"reanalysis\"\n",
    "product=\"reanalysis\"\n",
    "institute=\"ecmwf\"\n",
    "model=\"ifs\"\n",
    "experiment=\"era5\"\n",
    "time_frequency=\"mon\"\n",
    "ensemble=\"r1ip1\"\n",
    "time=\"200001010000-201012310000\"\n",
    "realm=\"atmos\""
   ]
  },
  {
   "cell_type": "code",
   "execution_count": null,
   "id": "514ce41b",
   "metadata": {},
   "outputs": [],
   "source": [
    "import freva\n",
    "_ = freva.config(\"/home/wilfred/workspace/freva/compose/local-eval-system.conf\")"
   ]
  },
  {
   "cell_type": "code",
   "execution_count": null,
   "id": "7fdbe4b2",
   "metadata": {
    "tags": [
     "code"
    ]
   },
   "outputs": [],
   "source": [
    "from dateutil import parser\n",
    "time_period=\",\".join((str(parser.parse(t).year) for t in time.split(\"-\")))\n",
    "res = freva.run_plugin(\n",
    "    \"climdexcalc\",\n",
    "    project=project,\n",
    "    product=product,\n",
    "    institute=institute,\n",
    "    model=model,\n",
    "    experiment=experiment,\n",
    "    ensemble=ensemble,\n",
    "    timeperiod=time_period,\n",
    "    batchmode=True,\n",
    ")\n",
    "res.wait()\n",
    "output = res.get_result_paths()"
   ]
  },
  {
   "cell_type": "code",
   "execution_count": null,
   "id": "e3b11794",
   "metadata": {},
   "outputs": [],
   "source": [
    "user_data = freva.UserData()\n",
    "user_data.add(\n",
    "    product,\n",
    "    *output,\n",
    "    how=\"move\",\n",
    "    _project=project,\n",
    "    institute=institute,\n",
    "    model=model,\n",
    "    experiment=experiment,\n",
    "    ensemble=ensemble,\n",
    "    realm=realm,\n",
    ")"
   ]
  }
 ],
 "metadata": {
  "celltoolbar": "Tags",
  "kernelspec": {
   "display_name": "Python 3 (ipykernel)",
   "language": "python",
   "name": "python3"
  },
  "language_info": {
   "codemirror_mode": {
    "name": "ipython",
    "version": 3
   },
   "file_extension": ".py",
   "mimetype": "text/x-python",
   "name": "python",
   "nbconvert_exporter": "python",
   "pygments_lexer": "ipython3",
   "version": "3.10.9"
  }
 },
 "nbformat": 4,
 "nbformat_minor": 5
}
