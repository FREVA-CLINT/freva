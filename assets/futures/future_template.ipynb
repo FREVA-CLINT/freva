{
 "cells": [
  {
   "cell_type": "code",
   "execution_count": null,
   "id": "71d43879",
   "metadata": {},
   "outputs": [],
   "source": [
    "from tempfile import TemporaryDirectory\n",
    "import freva"
   ]
  },
  {
   "cell_type": "code",
   "execution_count": null,
   "id": "cfbe5fdc",
   "metadata": {},
   "outputs": [],
   "source": [
    "outdir_tmp = TemporaryDirectory()"
   ]
  },
  {
   "cell_type": "code",
   "execution_count": null,
   "id": "da58d5ea",
   "metadata": {
    "tags": [
     "solr-parameters"
    ]
   },
   "outputs": [],
   "source": [
    "# Define the solr parameter\n"
   ]
  },
  {
   "cell_type": "code",
   "execution_count": null,
   "id": "ad6886ba",
   "metadata": {
    "tags": [
     "parameters"
    ]
   },
   "outputs": [],
   "source": [
    "# Define additional parameters to run the plugin\n",
    "future_id = \"\""
   ]
  },
  {
   "cell_type": "code",
   "execution_count": null,
   "id": "2da586e1",
   "metadata": {
    "tags": [
     "code"
    ]
   },
   "outputs": [],
   "source": [
    "# Run the plugin\n"
   ]
  },
  {
   "cell_type": "code",
   "execution_count": null,
   "id": "4f256fd7",
   "metadata": {},
   "outputs": [],
   "source": [
    "res.wait()\n",
    "output = res.get_result_paths()\n",
    "freva.add_user_data(\n",
    "    product,\n",
    "    *output,\n",
    "    how=\"move\",\n",
    "    _project=project,\n",
    "    institute=institute,\n",
    "    model=model,\n",
    "    experiment=experiment,\n",
    "    ensemble=ensemble,\n",
    "    realm=realm,\n",
    "    time_frequency=time_frequency,\n",
    "    cmor_table=cmor_table,\n",
    "    future=future_code,\n",
    "    override=True,\n",
    ")\n",
    "outdir_tmp.cleanup()"
   ]
  }
 ],
 "metadata": {
  "celltoolbar": "Tags",
  "kernelspec": {
   "display_name": "Python 3 (ipykernel)",
   "language": "python",
   "name": "python3"
  },
  "language_info": {
   "codemirror_mode": {
    "name": "ipython",
    "version": 3
   },
   "file_extension": ".py",
   "mimetype": "text/x-python",
   "name": "python",
   "nbconvert_exporter": "python",
   "pygments_lexer": "ipython3",
   "version": "3.10.9"
  }
 },
 "nbformat": 4,
 "nbformat_minor": 5
}
