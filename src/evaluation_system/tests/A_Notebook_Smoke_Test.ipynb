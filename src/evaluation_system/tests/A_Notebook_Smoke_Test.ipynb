{
 "cells": [
  {
   "cell_type": "code",
   "execution_count": 3,
   "id": "63a857b5",
   "metadata": {
    "scrolled": false
   },
   "outputs": [
    {
     "data": {
      "text/html": [
       "<table><tr><td style=\"text-align: left;\"><b>DummyPlugin</b></td><td style=\"text-align: left;\">A dummy plugin</td></tr><tr><td style=\"text-align: left;\"><b>DummyPluginFolders</b></td><td style=\"text-align: left;\">A dummy plugin with outputdir folder</td></tr></table>"
      ],
      "text/plain": [
       "DummyPlugin: A dummy plugin\n",
       "DummyPluginFolders: A dummy plugin with outputdir folder"
      ]
     },
     "execution_count": 3,
     "metadata": {},
     "output_type": "execute_result"
    }
   ],
   "source": [
    "import logging\n",
    "import os\n",
    "import freva\n",
    "\n",
    "freva.get_tools_list()"
   ]
  },
  {
   "cell_type": "code",
   "execution_count": 3,
   "id": "688d631e",
   "metadata": {},
   "outputs": [
    {
     "data": {
      "text/html": [
       "<b>DummyPlugin</b> (v0.0.0): A dummy plugin</p><table><tr><th style=\"text-align: left;\">Option</th><th style=\"text-align: left;\">Description</th></tr><tr><td style=\"text-align: left;\">number</td><td style=\"text-align: left;\">                        This is just a number, not really important (default: &lt;null&gt;)</td></tr><tr><td style=\"text-align: left;color: red;\">the_number</td><td style=\"text-align: left;\">                        This is *THE* number. Please provide it (default: &lt;null&gt;)</td></tr><tr><td style=\"text-align: left;\">something</td><td style=\"text-align: left;\">                        No help available. (default: test)</td></tr><tr><td style=\"text-align: left;\">other</td><td style=\"text-align: left;\">                        No help available. (default: 1.4)</td></tr><tr><td style=\"text-align: left;\">input</td><td style=\"text-align: left;\">                        An input file (default: &lt;null&gt;)</td></tr><tr><td style=\"text-align: left;\">variable</td><td style=\"text-align: left;\">                        An input variable (default: tas)</td></tr><tr><td style=\"text-align: left;\">extra_scheduler_options</td><td style=\"text-align: left;\">                        Set additional options for the job submission to the\n",
       "                        workload manager (, seperated). Note: batchmode and web\n",
       "                        only. (default: --qos=test, --array=20)</td></tr></table>"
      ],
      "text/plain": [
       "DummyPlugin (v0.0.0): A dummy plugin\n",
       "Options:\n",
       "number                  (default: <null>)\n",
       "                        This is just a number, not really important\n",
       "the_number              (default: <null> [mandatory])\n",
       "                        This is *THE* number. Please provide it\n",
       "something               (default: test)\n",
       "                        No help available.\n",
       "other                   (default: 1.4)\n",
       "                        No help available.\n",
       "input                   (default: <null>)\n",
       "                        An input file\n",
       "variable                (default: tas)\n",
       "                        An input variable\n",
       "extra_scheduler_options (default: --qos=test, --array=20)\n",
       "                        Set additional options for the job submission to the\n",
       "                        workload manager (, seperated). Note: batchmode and web\n",
       "                        only."
      ]
     },
     "execution_count": 3,
     "metadata": {},
     "output_type": "execute_result"
    }
   ],
   "source": [
    "freva.plugin_doc(\"dummyplugin\")"
   ]
  },
  {
   "cell_type": "code",
   "execution_count": null,
   "id": "23917d9c",
   "metadata": {},
   "outputs": [],
   "source": [
    "assert \"DJANGO_ALLOW_ASYNC_UNSAFE\" in os.environ\n",
    "assert freva.logger.level > logging.INFO"
   ]
  }
 ],
 "metadata": {
  "kernelspec": {
   "display_name": "Python 3 (ipykernel)",
   "language": "python",
   "name": "python3"
  },
  "language_info": {
   "codemirror_mode": {
    "name": "ipython",
    "version": 3
   },
   "file_extension": ".py",
   "mimetype": "text/x-python",
   "name": "python",
   "nbconvert_exporter": "python",
   "pygments_lexer": "ipython3",
   "version": "3.10.9"
  }
 },
 "nbformat": 4,
 "nbformat_minor": 5
}
